{
 "cells": [
  {
   "cell_type": "markdown",
   "metadata": {
    "application/vnd.databricks.v1+cell": {
     "cellMetadata": {},
     "inputWidgets": {},
     "nuid": "dc12031e-4d0a-4c5d-80a7-4f36a9f1375d",
     "showTitle": false,
     "tableResultSettingsMap": {},
     "title": ""
    }
   },
   "source": [
    "## Explore the Customer Data"
   ]
  },
  {
   "cell_type": "code",
   "execution_count": 0,
   "metadata": {
    "application/vnd.databricks.v1+cell": {
     "cellMetadata": {
      "byteLimit": 2048000,
      "rowLimit": 10000
     },
     "inputWidgets": {},
     "nuid": "98dffcc9-3aa5-4fda-aad6-790d1368a85d",
     "showTitle": false,
     "tableResultSettingsMap": {},
     "title": ""
    }
   },
   "outputs": [
    {
     "output_type": "display_data",
     "data": {
      "text/html": [
       "<style scoped>\n",
       "  .table-result-container {\n",
       "    max-height: 300px;\n",
       "    overflow: auto;\n",
       "  }\n",
       "  table, th, td {\n",
       "    border: 1px solid black;\n",
       "    border-collapse: collapse;\n",
       "  }\n",
       "  th, td {\n",
       "    padding: 5px;\n",
       "  }\n",
       "  th {\n",
       "    text-align: left;\n",
       "  }\n",
       "</style><div class='table-result-container'><table class='table-result'><thead style='background-color: white'><tr><th>CustomerID</th><th>FirstName</th><th>Gender</th><th>LastName</th><th>Region</th><th>SSN</th></tr></thead><tbody><tr><td>C0001</td><td>Gregory</td><td>M</td><td>Miller</td><td>Ohho</td><td>082573197</td></tr><tr><td>C0002</td><td>Marvin</td><td>male</td><td>null</td><td>california</td><td>309-6256-21</td></tr><tr><td>C0003</td><td>Gregory</td><td>Male</td><td>Smith</td><td>New Yorkk</td><td>407071725</td></tr><tr><td>C0004</td><td>Edward</td><td>male</td><td>Davis</td><td>Ohho</td><td>948.18.5740</td></tr><tr><td>C0005</td><td>Reginald</td><td>male</td><td>Dawson</td><td>Texas</td><td>975.72.3056</td></tr></tbody></table></div>"
      ]
     },
     "metadata": {
      "application/vnd.databricks.v1+output": {
       "addedWidgets": {},
       "aggData": [],
       "aggError": "",
       "aggOverflow": false,
       "aggSchema": [],
       "aggSeriesLimitReached": false,
       "aggType": "",
       "arguments": {},
       "columnCustomDisplayInfos": {},
       "data": [
        [
         "C0001",
         "Gregory",
         "M",
         "Miller",
         "Ohho",
         "082573197"
        ],
        [
         "C0002",
         "Marvin",
         "male",
         null,
         "california",
         "309-6256-21"
        ],
        [
         "C0003",
         "Gregory",
         "Male",
         "Smith",
         "New Yorkk",
         "407071725"
        ],
        [
         "C0004",
         "Edward",
         "male",
         "Davis",
         "Ohho",
         "948.18.5740"
        ],
        [
         "C0005",
         "Reginald",
         "male",
         "Dawson",
         "Texas",
         "975.72.3056"
        ]
       ],
       "datasetInfos": [],
       "dbfsResultPath": null,
       "isJsonSchema": true,
       "metadata": {},
       "overflow": false,
       "plotOptions": {
        "customPlotOptions": {},
        "displayType": "table",
        "pivotAggregation": null,
        "pivotColumns": null,
        "xColumns": null,
        "yColumns": null
       },
       "removedWidgets": [],
       "schema": [
        {
         "metadata": "{}",
         "name": "CustomerID",
         "type": "\"string\""
        },
        {
         "metadata": "{}",
         "name": "FirstName",
         "type": "\"string\""
        },
        {
         "metadata": "{}",
         "name": "Gender",
         "type": "\"string\""
        },
        {
         "metadata": "{}",
         "name": "LastName",
         "type": "\"string\""
        },
        {
         "metadata": "{}",
         "name": "Region",
         "type": "\"string\""
        },
        {
         "metadata": "{}",
         "name": "SSN",
         "type": "\"string\""
        }
       ],
       "type": "table"
      }
     },
     "output_type": "display_data"
    },
    {
     "output_type": "stream",
     "name": "stdout",
     "output_type": "stream",
     "text": [
      "Out[49]: 1100"
     ]
    }
   ],
   "source": [
    "df = spark.read.option('inferSchema', True).json(\"dbfs:/FileStore/online_retail/customers.json\", multiLine=True)\n",
    "display(df.limit(5))\n",
    "df.count()"
   ]
  },
  {
   "cell_type": "code",
   "execution_count": 0,
   "metadata": {
    "application/vnd.databricks.v1+cell": {
     "cellMetadata": {
      "byteLimit": 2048000,
      "rowLimit": 10000
     },
     "inputWidgets": {},
     "nuid": "a5fb704e-a9b6-4041-95a5-bb49783d15d7",
     "showTitle": false,
     "tableResultSettingsMap": {},
     "title": ""
    }
   },
   "outputs": [
    {
     "output_type": "stream",
     "name": "stdout",
     "output_type": "stream",
     "text": [
      "root\n |-- CustomerID: string (nullable = true)\n |-- FirstName: string (nullable = true)\n |-- Gender: string (nullable = true)\n |-- LastName: string (nullable = true)\n |-- Region: string (nullable = true)\n |-- SSN: string (nullable = true)\n\n"
     ]
    }
   ],
   "source": [
    "df.printSchema()"
   ]
  },
  {
   "cell_type": "code",
   "execution_count": 0,
   "metadata": {
    "application/vnd.databricks.v1+cell": {
     "cellMetadata": {
      "byteLimit": 2048000,
      "rowLimit": 10000
     },
     "inputWidgets": {},
     "nuid": "9a744327-f0ce-4f22-bae5-195adf69cc65",
     "showTitle": false,
     "tableResultSettingsMap": {},
     "title": ""
    }
   },
   "outputs": [
    {
     "output_type": "display_data",
     "data": {
      "text/html": [
       "<style scoped>\n",
       "  .table-result-container {\n",
       "    max-height: 300px;\n",
       "    overflow: auto;\n",
       "  }\n",
       "  table, th, td {\n",
       "    border: 1px solid black;\n",
       "    border-collapse: collapse;\n",
       "  }\n",
       "  th, td {\n",
       "    padding: 5px;\n",
       "  }\n",
       "  th {\n",
       "    text-align: left;\n",
       "  }\n",
       "</style><div class='table-result-container'><table class='table-result'><thead style='background-color: white'><tr><th>CustomerID</th><th>FirstName</th><th>Gender</th><th>LastName</th><th>Region</th><th>ssn</th></tr></thead><tbody><tr><td>C0001</td><td>Gregory</td><td>M</td><td>Miller</td><td>Ohho</td><td>082573197</td></tr><tr><td>C0002</td><td>Marvin</td><td>male</td><td>null</td><td>california</td><td>309625621</td></tr><tr><td>C0003</td><td>Gregory</td><td>Male</td><td>Smith</td><td>New Yorkk</td><td>407071725</td></tr><tr><td>C0004</td><td>Edward</td><td>male</td><td>Davis</td><td>Ohho</td><td>948185740</td></tr><tr><td>C0005</td><td>Reginald</td><td>male</td><td>Dawson</td><td>Texas</td><td>975723056</td></tr><tr><td>C0006</td><td>Virginia</td><td>Female</td><td>Bryant</td><td>Ohio</td><td>981727452</td></tr><tr><td>C0007</td><td>Benjamin</td><td>Male</td><td>Shepherd</td><td>Ohho</td><td>048008736</td></tr><tr><td>C0008</td><td>Robert</td><td>Male</td><td>Pierce</td><td>New York</td><td>009012352</td></tr><tr><td>C0009</td><td>Samuel</td><td>male</td><td>Mcconnell</td><td>Californiya</td><td>007348687</td></tr><tr><td>C0010</td><td>Jason</td><td>Male</td><td>null</td><td>NY</td><td>785769341</td></tr></tbody></table></div>"
      ]
     },
     "metadata": {
      "application/vnd.databricks.v1+output": {
       "addedWidgets": {},
       "aggData": [],
       "aggError": "",
       "aggOverflow": false,
       "aggSchema": [],
       "aggSeriesLimitReached": false,
       "aggType": "",
       "arguments": {},
       "columnCustomDisplayInfos": {},
       "data": [
        [
         "C0001",
         "Gregory",
         "M",
         "Miller",
         "Ohho",
         "082573197"
        ],
        [
         "C0002",
         "Marvin",
         "male",
         null,
         "california",
         "309625621"
        ],
        [
         "C0003",
         "Gregory",
         "Male",
         "Smith",
         "New Yorkk",
         "407071725"
        ],
        [
         "C0004",
         "Edward",
         "male",
         "Davis",
         "Ohho",
         "948185740"
        ],
        [
         "C0005",
         "Reginald",
         "male",
         "Dawson",
         "Texas",
         "975723056"
        ],
        [
         "C0006",
         "Virginia",
         "Female",
         "Bryant",
         "Ohio",
         "981727452"
        ],
        [
         "C0007",
         "Benjamin",
         "Male",
         "Shepherd",
         "Ohho",
         "048008736"
        ],
        [
         "C0008",
         "Robert",
         "Male",
         "Pierce",
         "New York",
         "009012352"
        ],
        [
         "C0009",
         "Samuel",
         "male",
         "Mcconnell",
         "Californiya",
         "007348687"
        ],
        [
         "C0010",
         "Jason",
         "Male",
         null,
         "NY",
         "785769341"
        ]
       ],
       "datasetInfos": [],
       "dbfsResultPath": null,
       "isJsonSchema": true,
       "metadata": {},
       "overflow": false,
       "plotOptions": {
        "customPlotOptions": {},
        "displayType": "table",
        "pivotAggregation": null,
        "pivotColumns": null,
        "xColumns": null,
        "yColumns": null
       },
       "removedWidgets": [],
       "schema": [
        {
         "metadata": "{}",
         "name": "CustomerID",
         "type": "\"string\""
        },
        {
         "metadata": "{}",
         "name": "FirstName",
         "type": "\"string\""
        },
        {
         "metadata": "{}",
         "name": "Gender",
         "type": "\"string\""
        },
        {
         "metadata": "{}",
         "name": "LastName",
         "type": "\"string\""
        },
        {
         "metadata": "{}",
         "name": "Region",
         "type": "\"string\""
        },
        {
         "metadata": "{}",
         "name": "ssn",
         "type": "\"string\""
        }
       ],
       "type": "table"
      }
     },
     "output_type": "display_data"
    },
    {
     "output_type": "stream",
     "name": "stdout",
     "output_type": "stream",
     "text": [
      "Out[51]: 1100"
     ]
    }
   ],
   "source": [
    "from pyspark.sql.functions import regexp_replace\n",
    "\n",
    "df_fixed = df.withColumn(\"ssn\", regexp_replace(\"ssn\", r'\\D', ''))\n",
    "display(df_fixed.limit(10))\n",
    "df_fixed.count()"
   ]
  },
  {
   "cell_type": "code",
   "execution_count": 0,
   "metadata": {
    "application/vnd.databricks.v1+cell": {
     "cellMetadata": {
      "byteLimit": 2048000,
      "rowLimit": 10000
     },
     "inputWidgets": {},
     "nuid": "6615c59a-96c5-4dc0-a1c9-6a6cc7b38a3b",
     "showTitle": false,
     "tableResultSettingsMap": {},
     "title": ""
    }
   },
   "outputs": [
    {
     "output_type": "display_data",
     "data": {
      "text/html": [
       "<style scoped>\n",
       "  .table-result-container {\n",
       "    max-height: 300px;\n",
       "    overflow: auto;\n",
       "  }\n",
       "  table, th, td {\n",
       "    border: 1px solid black;\n",
       "    border-collapse: collapse;\n",
       "  }\n",
       "  th, td {\n",
       "    padding: 5px;\n",
       "  }\n",
       "  th {\n",
       "    text-align: left;\n",
       "  }\n",
       "</style><div class='table-result-container'><table class='table-result'><thead style='background-color: white'><tr><th>CustomerID</th><th>FirstName</th><th>Gender</th><th>LastName</th><th>Region</th><th>ssn</th></tr></thead><tbody><tr><td>C0155</td><td>Amanda</td><td>female</td><td>Browning</td><td>Texas</td><td>000802922</td></tr><tr><td>C0658</td><td>Devin</td><td>M</td><td>null</td><td>Ohho</td><td>000940878</td></tr><tr><td>C0866</td><td>Phillip</td><td>Male</td><td>Lopez</td><td>Nw York</td><td>001086911</td></tr><tr><td>C0918</td><td>Katie</td><td>F</td><td>Bailey</td><td>Texas</td><td>002938966</td></tr><tr><td>C0776</td><td>Charles</td><td>male</td><td>Williams</td><td>Californiya</td><td>003899949</td></tr><tr><td>C0917</td><td>Sandra</td><td>F</td><td>Gonzalez</td><td>NY</td><td>005434466</td></tr><tr><td>C0868</td><td>Tyler</td><td>Male</td><td>Garrison</td><td>NY</td><td>005571624</td></tr><tr><td>C0267</td><td>James</td><td>male</td><td>null</td><td>Nw York</td><td>005669453</td></tr><tr><td>C0325</td><td>Bonnie</td><td>female</td><td>null</td><td>Texas</td><td>005698959</td></tr><tr><td>C0938</td><td>Alexander</td><td>Male</td><td>Miller</td><td>Texaz</td><td>007169190</td></tr><tr><td>C0479</td><td>Jack</td><td>male</td><td>null</td><td>Ohho</td><td>007204052</td></tr><tr><td>C0009</td><td>Samuel</td><td>male</td><td>Mcconnell</td><td>Californiya</td><td>007348687</td></tr><tr><td>C0472</td><td>William</td><td>Male</td><td>Mullins</td><td>New York</td><td>008377542</td></tr><tr><td>C0115</td><td>William</td><td>Male</td><td>Branch</td><td>New York</td><td>008417074</td></tr><tr><td>C0008</td><td>Robert</td><td>Male</td><td>Pierce</td><td>New York</td><td>009012352</td></tr><tr><td>C0401</td><td>Timothy</td><td>male</td><td>Guzman</td><td>Texas</td><td>009775821</td></tr><tr><td>C0789</td><td>John</td><td>M</td><td>Gonzalez</td><td>Ohho</td><td>010509576</td></tr><tr><td>C0672</td><td>Daniel</td><td>male</td><td>Fernandez</td><td>Ohho</td><td>014964372</td></tr><tr><td>C0563</td><td>Katherine</td><td>Female</td><td>Higgins</td><td>New Yorkk</td><td>016097231</td></tr><tr><td>C0953</td><td>David</td><td>Male</td><td>Lynch</td><td>Californiya</td><td>016865351</td></tr><tr><td>C0428</td><td>Joseph</td><td>M</td><td>Moore</td><td>california</td><td>017470860</td></tr><tr><td>C0036</td><td>Lori</td><td>Female</td><td>Long</td><td>Californiya</td><td>017532219</td></tr><tr><td>C0019</td><td>Michael</td><td>male</td><td>null</td><td>New Yorkk</td><td>018105442</td></tr><tr><td>C0956</td><td>Mark</td><td>M</td><td>Allen</td><td>Ohio</td><td>018754713</td></tr><tr><td>C0958</td><td>Molly</td><td>female</td><td>Gill</td><td>NY</td><td>020583905</td></tr><tr><td>C0779</td><td>Shannon</td><td>male</td><td>Bates</td><td>california</td><td>021303327</td></tr><tr><td>C0187</td><td>Thomas</td><td>M</td><td>null</td><td>New Yorkk</td><td>021777542</td></tr><tr><td>C0990</td><td>Kiara</td><td>Female</td><td>Miranda</td><td>Ohio</td><td>022739474</td></tr><tr><td>C0200</td><td>Mario</td><td>M</td><td>Huff</td><td>null</td><td>023819137</td></tr><tr><td>C0394</td><td>Erin</td><td>female</td><td>Carroll</td><td>NY</td><td>024767243</td></tr><tr><td>C0843</td><td>Edward</td><td>male</td><td>Walker</td><td>NY</td><td>024898098</td></tr><tr><td>C0828</td><td>Shannon</td><td>female</td><td>null</td><td>Nw York</td><td>027835510</td></tr><tr><td>C0533</td><td>Gabriel</td><td>Male</td><td>null</td><td>Ohio</td><td>028432126</td></tr><tr><td>C0531</td><td>Troy</td><td>M</td><td>null</td><td>New Yorkk</td><td>028947382</td></tr><tr><td>C0369</td><td>Robert</td><td>male</td><td>Wiggins</td><td>california</td><td>029050987</td></tr><tr><td>C0020</td><td>Robert</td><td>Male</td><td>null</td><td>NY</td><td>029416639</td></tr><tr><td>C0403</td><td>Jasmine</td><td>F</td><td>null</td><td>Californiya</td><td>030410612</td></tr><tr><td>C0391</td><td>Eric</td><td>M</td><td>Bailey</td><td>New York</td><td>030920130</td></tr><tr><td>C0384</td><td>Cory</td><td>M</td><td>Oconnor</td><td>california</td><td>030980111</td></tr><tr><td>C0565</td><td>Mitchell</td><td>M</td><td>null</td><td>Texaz</td><td>031874001</td></tr><tr><td>C0524</td><td>Teresa</td><td>female</td><td>Martin</td><td>Ohho</td><td>034192490</td></tr><tr><td>C0551</td><td>Amanda</td><td>F</td><td>null</td><td>Texas</td><td>034520558</td></tr><tr><td>C0912</td><td>Kristina</td><td>Female</td><td>null</td><td>Texaz</td><td>035557592</td></tr><tr><td>C0201</td><td>Cameron</td><td>male</td><td>Santiago</td><td>Ohho</td><td>035580197</td></tr><tr><td>C0421</td><td>Herbert</td><td>M</td><td>null</td><td>Ohho</td><td>035978898</td></tr><tr><td>C0763</td><td>Mark</td><td>Male</td><td>null</td><td>Ohio</td><td>039574576</td></tr><tr><td>C0101</td><td>Robert</td><td>male</td><td>Johnson</td><td>Ohio</td><td>040610697</td></tr><tr><td>C0431</td><td>Jeffrey</td><td>M</td><td>Martinez</td><td>california</td><td>042248141</td></tr><tr><td>C0880</td><td>Aaron</td><td>M</td><td>Morrison</td><td>Texaz</td><td>044022527</td></tr><tr><td>C0587</td><td>Edward</td><td>male</td><td>null</td><td>california</td><td>044244391</td></tr><tr><td>C0979</td><td>Andrew</td><td>M</td><td>null</td><td>New Yorkk</td><td>044654606</td></tr><tr><td>C0417</td><td>Troy</td><td>Male</td><td>null</td><td>Ohho</td><td>045989729</td></tr><tr><td>C0033</td><td>Joshua</td><td>M</td><td>Robinson</td><td>Nw York</td><td>047014271</td></tr><tr><td>C0583</td><td>Jim</td><td>male</td><td>Fields</td><td>NY</td><td>047015903</td></tr><tr><td>C0007</td><td>Benjamin</td><td>Male</td><td>Shepherd</td><td>Ohho</td><td>048008736</td></tr><tr><td>C0951</td><td>Luis</td><td>Male</td><td>Cooper</td><td>New Yorkk</td><td>048066515</td></tr><tr><td>C0675</td><td>John</td><td>Male</td><td>Tucker</td><td>null</td><td>049591830</td></tr><tr><td>C0750</td><td>Kevin</td><td>Male</td><td>Townsend</td><td>NY</td><td>050143776</td></tr><tr><td>C0521</td><td>Jack</td><td>male</td><td>Castaneda</td><td>Nw York</td><td>050272120</td></tr><tr><td>C0823</td><td>Kimberly</td><td>Female</td><td>Brown</td><td>Ohho</td><td>050735527</td></tr><tr><td>C0064</td><td>Jason</td><td>M</td><td>null</td><td>null</td><td>051160222</td></tr><tr><td>C0432</td><td>Olivia</td><td>female</td><td>null</td><td>Ohho</td><td>051369965</td></tr><tr><td>C0657</td><td>Jason</td><td>Male</td><td>null</td><td>california</td><td>051708625</td></tr><tr><td>C0900</td><td>Eric</td><td>Male</td><td>null</td><td>Ohho</td><td>051795739</td></tr><tr><td>C0855</td><td>Franklin</td><td>M</td><td>Garcia</td><td>Texas</td><td>051903583</td></tr><tr><td>C0650</td><td>John</td><td>Male</td><td>Wood</td><td>Texaz</td><td>052045462</td></tr><tr><td>C0060</td><td>Jonathan</td><td>male</td><td>null</td><td>New York</td><td>054349385</td></tr><tr><td>C0976</td><td>Jeremy</td><td>male</td><td>Tran</td><td>Texaz</td><td>056039557</td></tr><tr><td>C0092</td><td>Antonio</td><td>male</td><td>null</td><td>Ohio</td><td>056245826</td></tr><tr><td>C0485</td><td>Jamie</td><td>male</td><td>White</td><td>null</td><td>056379133</td></tr><tr><td>C0613</td><td>Wesley</td><td>Male</td><td>Nelson</td><td>Nw York</td><td>057473606</td></tr><tr><td>C0015</td><td>William</td><td>male</td><td>Gonzalez</td><td>New York</td><td>058131272</td></tr><tr><td>C0370</td><td>Sara</td><td>female</td><td>null</td><td>null</td><td>059281675</td></tr><tr><td>C0950</td><td>Eric</td><td>male</td><td>Walker</td><td>New Yorkk</td><td>060649770</td></tr><tr><td>C0624</td><td>Wesley</td><td>M</td><td>Carrillo</td><td>NY</td><td>061444952</td></tr><tr><td>C0567</td><td>Raymond</td><td>M</td><td>Gonzalez</td><td>Ohho</td><td>062892798</td></tr><tr><td>C0854</td><td>John</td><td>Male</td><td>null</td><td>New York</td><td>063308990</td></tr><tr><td>C0980</td><td>Bruce</td><td>Male</td><td>Hawkins</td><td>Ohio</td><td>064588071</td></tr><tr><td>C0579</td><td>Donald</td><td>Male</td><td>Hubbard</td><td>New Yorkk</td><td>065532591</td></tr><tr><td>C0955</td><td>Dawn</td><td>female</td><td>Rogers</td><td>Californiya</td><td>065538468</td></tr><tr><td>C0894</td><td>Samantha</td><td>female</td><td>null</td><td>null</td><td>066747297</td></tr><tr><td>C0629</td><td>Nathan</td><td>Male</td><td>Johnston</td><td>NY</td><td>069755427</td></tr><tr><td>C0998</td><td>Wayne</td><td>Male</td><td>null</td><td>Texas</td><td>070190887</td></tr><tr><td>C0850</td><td>Randall</td><td>M</td><td>null</td><td>Texas</td><td>070226114</td></tr><tr><td>C0570</td><td>Lee</td><td>male</td><td>Mayo</td><td>Texas</td><td>071316720</td></tr><tr><td>C0877</td><td>Kenneth</td><td>M</td><td>Hill</td><td>Ohio</td><td>071399457</td></tr><tr><td>C0448</td><td>April</td><td>Female</td><td>Mcdowell</td><td>New York</td><td>073402459</td></tr><tr><td>C0664</td><td>Leslie</td><td>F</td><td>Hughes</td><td>Nw York</td><td>075304211</td></tr><tr><td>C0047</td><td>Seth</td><td>Male</td><td>Hess</td><td>Texas</td><td>075643618</td></tr><tr><td>C0167</td><td>Kevin</td><td>M</td><td>null</td><td>New York</td><td>076882950</td></tr><tr><td>C0631</td><td>Tony</td><td>M</td><td>null</td><td>NY</td><td>078322176</td></tr><tr><td>C0108</td><td>Edwin</td><td>M</td><td>Burgess</td><td>New York</td><td>078398291</td></tr><tr><td>C0225</td><td>Thomas</td><td>Male</td><td>Sosa</td><td>Texaz</td><td>079302406</td></tr><tr><td>C0997</td><td>Joel</td><td>M</td><td>Jordan</td><td>NY</td><td>079891050</td></tr><tr><td>C0867</td><td>Jorge</td><td>Male</td><td>null</td><td>Texas</td><td>080128291</td></tr><tr><td>C0034</td><td>Paula</td><td>F</td><td>Hanson</td><td>Ohio</td><td>081079840</td></tr><tr><td>C0905</td><td>Alan</td><td>male</td><td>Melton</td><td>NY</td><td>082181707</td></tr><tr><td>C0001</td><td>Gregory</td><td>M</td><td>Miller</td><td>Ohho</td><td>082573197</td></tr><tr><td>C0721</td><td>Christine</td><td>female</td><td>White</td><td>Nw York</td><td>083332884</td></tr><tr><td>C0427</td><td>Cameron</td><td>Male</td><td>Dominguez</td><td>Nw York</td><td>084178756</td></tr><tr><td>C0362</td><td>Matthew</td><td>male</td><td>Gillespie</td><td>Californiya</td><td>084467165</td></tr><tr><td>C0705</td><td>Matthew</td><td>male</td><td>Floyd</td><td>Californiya</td><td>084802032</td></tr><tr><td>C0986</td><td>Vincent</td><td>male</td><td>null</td><td>Ohio</td><td>085086406</td></tr><tr><td>C0386</td><td>Jillian</td><td>Female</td><td>Stone</td><td>california</td><td>086660761</td></tr><tr><td>C0271</td><td>Nicholas</td><td>M</td><td>null</td><td>Californiya</td><td>088138659</td></tr><tr><td>C0558</td><td>Donna</td><td>F</td><td>null</td><td>New Yorkk</td><td>089635050</td></tr><tr><td>C0707</td><td>Rebecca</td><td>female</td><td>null</td><td>Nw York</td><td>091082433</td></tr><tr><td>C0863</td><td>Martin</td><td>Male</td><td>Velasquez</td><td>Californiya</td><td>091468612</td></tr><tr><td>C0269</td><td>Madison</td><td>female</td><td>null</td><td>Nw York</td><td>093765203</td></tr><tr><td>C0086</td><td>Robert</td><td>M</td><td>null</td><td>Ohho</td><td>094071577</td></tr><tr><td>C0502</td><td>Ryan</td><td>male</td><td>Fischer</td><td>Texas</td><td>094519863</td></tr><tr><td>C0625</td><td>Randy</td><td>M</td><td>null</td><td>Ohio</td><td>095498855</td></tr><tr><td>C0223</td><td>Stephanie</td><td>F</td><td>Mckenzie</td><td>Texas</td><td>096701307</td></tr><tr><td>C0058</td><td>Steven</td><td>Male</td><td>Miller</td><td>Texaz</td><td>097629075</td></tr><tr><td>C0148</td><td>Matthew</td><td>Male</td><td>null</td><td>Californiya</td><td>099895098</td></tr><tr><td>C0988</td><td>Robert</td><td>Male</td><td>Thompson</td><td>New Yorkk</td><td>100276471</td></tr><tr><td>C0791</td><td>Robert</td><td>male</td><td>Schultz</td><td>Californiya</td><td>101612177</td></tr><tr><td>C0913</td><td>Robert</td><td>male</td><td>Ramirez</td><td>NY</td><td>102252620</td></tr><tr><td>C0573</td><td>Adrian</td><td>Male</td><td>null</td><td>california</td><td>102460360</td></tr><tr><td>C0589</td><td>Allen</td><td>Male</td><td>Foster</td><td>Texaz</td><td>103540670</td></tr><tr><td>C0684</td><td>Tony</td><td>M</td><td>Hurst</td><td>Nw York</td><td>103595792</td></tr><tr><td>C0885</td><td>James</td><td>male</td><td>Williams</td><td>Ohho</td><td>106851769</td></tr><tr><td>C0638</td><td>Justin</td><td>male</td><td>Collins</td><td>california</td><td>107899337</td></tr><tr><td>C0574</td><td>Kari</td><td>female</td><td>null</td><td>Texas</td><td>108346362</td></tr><tr><td>C0018</td><td>Mariah</td><td>F</td><td>Wilson</td><td>NY</td><td>108825602</td></tr><tr><td>C0806</td><td>Troy</td><td>Male</td><td>null</td><td>california</td><td>110022003</td></tr><tr><td>C0510</td><td>Tristan</td><td>Male</td><td>null</td><td>Nw York</td><td>111112301</td></tr><tr><td>C0052</td><td>Todd</td><td>M</td><td>Kelley</td><td>New York</td><td>111356646</td></tr><tr><td>C0663</td><td>Lisa</td><td>F</td><td>Villa</td><td>NY</td><td>112149119</td></tr><tr><td>C0730</td><td>Timothy</td><td>M</td><td>Thompson</td><td>Californiya</td><td>113463587</td></tr><tr><td>C0536</td><td>Daniel</td><td>M</td><td>Hardy</td><td>NY</td><td>113851419</td></tr><tr><td>C0211</td><td>Daniel</td><td>Male</td><td>Holland</td><td>Ohho</td><td>115114720</td></tr><tr><td>C0792</td><td>Michael</td><td>male</td><td>null</td><td>Ohio</td><td>117036199</td></tr><tr><td>C0768</td><td>David</td><td>M</td><td>Galloway</td><td>Ohho</td><td>119573806</td></tr><tr><td>C0572</td><td>Anthony</td><td>male</td><td>null</td><td>Californiya</td><td>119625762</td></tr><tr><td>C0084</td><td>Michael</td><td>M</td><td>Brooks</td><td>Ohho</td><td>119917665</td></tr><tr><td>C0916</td><td>Lucas</td><td>Male</td><td>Hernandez</td><td>Ohho</td><td>120009745</td></tr><tr><td>C0196</td><td>Kevin</td><td>Male</td><td>null</td><td>null</td><td>121192928</td></tr><tr><td>C0608</td><td>Calvin</td><td>M</td><td>null</td><td>Texas</td><td>124042598</td></tr><tr><td>C0287</td><td>Sharon</td><td>F</td><td>null</td><td>Texaz</td><td>124254335</td></tr><tr><td>C0111</td><td>Brett</td><td>M</td><td>null</td><td>Texaz</td><td>125917939</td></tr><tr><td>C0841</td><td>Dwayne</td><td>Male</td><td>Keller</td><td>New York</td><td>126643837</td></tr><tr><td>C0671</td><td>David</td><td>M</td><td>Bell</td><td>New York</td><td>129066607</td></tr><tr><td>C0336</td><td>Jesse</td><td>Male</td><td>null</td><td>NY</td><td>129121590</td></tr><tr><td>C0073</td><td>Vincent</td><td>M</td><td>null</td><td>NY</td><td>129128820</td></tr><tr><td>C0743</td><td>Eric</td><td>M</td><td>Ross</td><td>Nw York</td><td>129768513</td></tr><tr><td>C0160</td><td>Amy</td><td>female</td><td>Cruz</td><td>Texaz</td><td>130295709</td></tr><tr><td>C0420</td><td>April</td><td>F</td><td>Fuentes</td><td>NY</td><td>132038203</td></tr><tr><td>C0069</td><td>David</td><td>Male</td><td>Hardy</td><td>Californiya</td><td>133182060</td></tr><tr><td>C0543</td><td>Bradley</td><td>Male</td><td>Meyers</td><td>New York</td><td>137031524</td></tr><tr><td>C0323</td><td>Peter</td><td>Male</td><td>Henson</td><td>Nw York</td><td>137815524</td></tr><tr><td>C0255</td><td>David</td><td>male</td><td>Adams</td><td>Californiya</td><td>138245144</td></tr><tr><td>C0520</td><td>Jacob</td><td>M</td><td>Hughes</td><td>Californiya</td><td>138393386</td></tr><tr><td>C0469</td><td>Helen</td><td>Female</td><td>null</td><td>Ohho</td><td>139381277</td></tr><tr><td>C0489</td><td>Adam</td><td>M</td><td>Smith</td><td>Ohio</td><td>140118196</td></tr><tr><td>C0061</td><td>Gary</td><td>male</td><td>Nunez</td><td>Nw York</td><td>140208506</td></tr><tr><td>C0870</td><td>Jasmine</td><td>Female</td><td>Edwards</td><td>Ohho</td><td>142162616</td></tr><tr><td>C0350</td><td>David</td><td>male</td><td>null</td><td>Californiya</td><td>147653850</td></tr><tr><td>C0639</td><td>Crystal</td><td>female</td><td>Riley</td><td>california</td><td>148449590</td></tr><tr><td>C0881</td><td>Scott</td><td>Male</td><td>null</td><td>NY</td><td>148459253</td></tr><tr><td>C0371</td><td>Leonard</td><td>Male</td><td>null</td><td>Ohho</td><td>149197207</td></tr><tr><td>C0098</td><td>Cassandra</td><td>Female</td><td>Jones</td><td>New Yorkk</td><td>149340457</td></tr><tr><td>C0266</td><td>Amy</td><td>female</td><td>Buck</td><td>New York</td><td>150634899</td></tr><tr><td>C0933</td><td>Patricia</td><td>female</td><td>null</td><td>Californiya</td><td>150877563</td></tr><tr><td>C0637</td><td>Michael</td><td>M</td><td>Wilkinson</td><td>New Yorkk</td><td>152060931</td></tr><tr><td>C0118</td><td>Joseph</td><td>male</td><td>Morgan</td><td>Ohho</td><td>153165024</td></tr><tr><td>C0229</td><td>Derrick</td><td>male</td><td>Walters</td><td>New Yorkk</td><td>154957652</td></tr><tr><td>C0189</td><td>David</td><td>M</td><td>Jackson</td><td>New Yorkk</td><td>157402491</td></tr><tr><td>C0312</td><td>Jack</td><td>Male</td><td>Pugh</td><td>california</td><td>158157436</td></tr><tr><td>C0761</td><td>Steven</td><td>Male</td><td>Arnold</td><td>New York</td><td>159871151</td></tr><tr><td>C0727</td><td>Rachel</td><td>F</td><td>Schwartz</td><td>california</td><td>160490324</td></tr><tr><td>C0324</td><td>Tony</td><td>male</td><td>null</td><td>Ohho</td><td>165221526</td></tr><tr><td>C0119</td><td>Johnny</td><td>M</td><td>null</td><td>california</td><td>165622040</td></tr><tr><td>C0735</td><td>Carlos</td><td>M</td><td>Welch</td><td>New Yorkk</td><td>167909533</td></tr><tr><td>C0136</td><td>Crystal</td><td>Female</td><td>Floyd</td><td>Nw York</td><td>168528691</td></tr><tr><td>C0696</td><td>David</td><td>Male</td><td>Bass</td><td>Ohho</td><td>168736465</td></tr><tr><td>C0872</td><td>Joseph</td><td>Male</td><td>Turner</td><td>Ohio</td><td>168988272</td></tr><tr><td>C0942</td><td>Thomas</td><td>Male</td><td>null</td><td>california</td><td>169127931</td></tr><tr><td>C0162</td><td>James</td><td>male</td><td>Williams</td><td>New York</td><td>169829571</td></tr><tr><td>C0473</td><td>Brandon</td><td>male</td><td>null</td><td>New Yorkk</td><td>170130546</td></tr><tr><td>C0053</td><td>Ian</td><td>M</td><td>Schneider</td><td>Nw York</td><td>174630010</td></tr><tr><td>C0124</td><td>Gabriel</td><td>M</td><td>null</td><td>Nw York</td><td>175915578</td></tr><tr><td>C0716</td><td>Jennifer</td><td>F</td><td>Pittman</td><td>Texaz</td><td>177131215</td></tr><tr><td>C0578</td><td>Daniel</td><td>male</td><td>Cook</td><td>california</td><td>177146885</td></tr><tr><td>C0356</td><td>Stephen</td><td>male</td><td>Taylor</td><td>Texaz</td><td>177540442</td></tr><tr><td>C0121</td><td>Melissa</td><td>female</td><td>Dominguez</td><td>New Yorkk</td><td>177764159</td></tr><tr><td>C0250</td><td>Rodney</td><td>Male</td><td>Adams</td><td>New York</td><td>180071694</td></tr><tr><td>C0396</td><td>Warren</td><td>M</td><td>Bell</td><td>Texaz</td><td>182324729</td></tr><tr><td>C0296</td><td>Nancy</td><td>female</td><td>null</td><td>california</td><td>182820684</td></tr><tr><td>C0954</td><td>Keith</td><td>male</td><td>null</td><td>null</td><td>183169415</td></tr><tr><td>C0987</td><td>Patrick</td><td>male</td><td>Flores</td><td>Nw York</td><td>183568455</td></tr><tr><td>C0042</td><td>Steven</td><td>Male</td><td>Farley</td><td>Texaz</td><td>184605366</td></tr><tr><td>C0286</td><td>Mary</td><td>Female</td><td>Griffin</td><td>Texas</td><td>184649918</td></tr><tr><td>C0703</td><td>William</td><td>Male</td><td>Garcia</td><td>Californiya</td><td>185151126</td></tr><tr><td>C0238</td><td>Jay</td><td>M</td><td>Wright</td><td>Ohio</td><td>187921561</td></tr><tr><td>C0503</td><td>April</td><td>female</td><td>null</td><td>Texaz</td><td>191786810</td></tr><tr><td>C0067</td><td>Eric</td><td>male</td><td>Morris</td><td>NY</td><td>192181825</td></tr><tr><td>C0641</td><td>Kirk</td><td>M</td><td>Ramirez</td><td>Texaz</td><td>193661684</td></tr><tr><td>C0205</td><td>Christopher</td><td>male</td><td>Johnson</td><td>Nw York</td><td>196542452</td></tr><tr><td>C0846</td><td>Erika</td><td>F</td><td>Lloyd</td><td>Ohio</td><td>198036631</td></tr><tr><td>C0436</td><td>Vincent</td><td>M</td><td>Rodriguez</td><td>Texas</td><td>198070447</td></tr><tr><td>C0132</td><td>Ryan</td><td>M</td><td>Stephens</td><td>null</td><td>198594183</td></tr><tr><td>C0175</td><td>Darrell</td><td>male</td><td>Smith</td><td>New Yorkk</td><td>198963876</td></tr><tr><td>C0147</td><td>Christopher</td><td>Male</td><td>Hall</td><td>Californiya</td><td>200466014</td></tr><tr><td>C0515</td><td>Elizabeth</td><td>F</td><td>Boyd</td><td>NY</td><td>200823160</td></tr><tr><td>C0802</td><td>Craig</td><td>male</td><td>Lam</td><td>Ohio</td><td>200845543</td></tr><tr><td>C0971</td><td>Jeff</td><td>male</td><td>Nelson</td><td>NY</td><td>202775865</td></tr><tr><td>C0140</td><td>Cesar</td><td>Male</td><td>Wise</td><td>NY</td><td>203699425</td></tr><tr><td>C0617</td><td>Michael</td><td>M</td><td>null</td><td>NY</td><td>204826060</td></tr><tr><td>C0179</td><td>Michael</td><td>male</td><td>null</td><td>Nw York</td><td>204846261</td></tr><tr><td>C0927</td><td>Christopher</td><td>M</td><td>Williams</td><td>Ohho</td><td>204846943</td></tr><tr><td>C0805</td><td>Amber</td><td>female</td><td>Stephenson</td><td>null</td><td>205172098</td></tr><tr><td>C0212</td><td>Eric</td><td>M</td><td>Burgess</td><td>NY</td><td>207195425</td></tr><tr><td>C0117</td><td>Donald</td><td>male</td><td>Terrell</td><td>Californiya</td><td>207889507</td></tr><tr><td>C0375</td><td>Robert</td><td>Male</td><td>null</td><td>Ohio</td><td>209203564</td></tr><tr><td>C0038</td><td>Jose</td><td>male</td><td>Griffin</td><td>california</td><td>209802253</td></tr><tr><td>C0221</td><td>Keith</td><td>male</td><td>Brown</td><td>Texaz</td><td>210248549</td></tr><tr><td>C0488</td><td>John</td><td>male</td><td>Johnson</td><td>New York</td><td>210754618</td></tr><tr><td>C0313</td><td>Christopher</td><td>M</td><td>null</td><td>Ohho</td><td>211010961</td></tr><tr><td>C0678</td><td>Austin</td><td>M</td><td>Acevedo</td><td>New Yorkk</td><td>211066362</td></tr><tr><td>C0941</td><td>Melvin</td><td>male</td><td>null</td><td>New Yorkk</td><td>213259674</td></tr><tr><td>C0959</td><td>Jonathan</td><td>Male</td><td>null</td><td>null</td><td>213297939</td></tr><tr><td>C0173</td><td>Alexander</td><td>Male</td><td>Flores</td><td>null</td><td>216173440</td></tr><tr><td>C0793</td><td>Jeffrey</td><td>M</td><td>Smith</td><td>New York</td><td>219332658</td></tr><tr><td>C0901</td><td>Evan</td><td>male</td><td>Farrell</td><td>Texaz</td><td>221145811</td></tr><tr><td>C0822</td><td>Timothy</td><td>Male</td><td>null</td><td>california</td><td>221451673</td></tr><tr><td>C0274</td><td>Michael</td><td>male</td><td>Martinez</td><td>Ohho</td><td>221454213</td></tr><tr><td>C0385</td><td>Daniel</td><td>Male</td><td>null</td><td>NY</td><td>223725368</td></tr><tr><td>C0965</td><td>Scott</td><td>M</td><td>null</td><td>Ohho</td><td>226607396</td></tr><tr><td>C0337</td><td>William</td><td>male</td><td>Ray</td><td>null</td><td>228707140</td></tr><tr><td>C0089</td><td>Anthony</td><td>Male</td><td>Lin</td><td>New York</td><td>231346985</td></tr><tr><td>C0845</td><td>Andrew</td><td>Male</td><td>null</td><td>New Yorkk</td><td>233303052</td></tr><tr><td>C0204</td><td>Raymond</td><td>Male</td><td>null</td><td>NY</td><td>234229115</td></tr><tr><td>C0214</td><td>Larry</td><td>Male</td><td>Knight</td><td>Texaz</td><td>238525972</td></tr><tr><td>C0022</td><td>Timothy</td><td>M</td><td>null</td><td>Texas</td><td>239012990</td></tr><tr><td>C0012</td><td>Charles</td><td>Male</td><td>null</td><td>New York</td><td>239140962</td></tr><tr><td>C0753</td><td>Christian</td><td>Male</td><td>Gray</td><td>New York</td><td>239342932</td></tr><tr><td>C0978</td><td>Kenneth</td><td>male</td><td>Ryan</td><td>null</td><td>240016103</td></tr><tr><td>C0984</td><td>Sheri</td><td>F</td><td>Torres</td><td>Californiya</td><td>243005733</td></tr><tr><td>C0319</td><td>Karen</td><td>F</td><td>Sullivan</td><td>Texas</td><td>246947297</td></tr><tr><td>C0869</td><td>Jillian</td><td>female</td><td>Hughes</td><td>null</td><td>247496700</td></tr><tr><td>C0122</td><td>Dustin</td><td>male</td><td>Cook</td><td>Ohio</td><td>248486801</td></tr><tr><td>C0733</td><td>Lauren</td><td>Female</td><td>Salazar</td><td>Ohio</td><td>248554790</td></tr><tr><td>C0430</td><td>Dan</td><td>M</td><td>null</td><td>Ohho</td><td>249552779</td></tr><tr><td>C0966</td><td>Christopher</td><td>M</td><td>Meadows</td><td>Ohio</td><td>249651683</td></tr><tr><td>C0930</td><td>Charles</td><td>M</td><td>null</td><td>Texas</td><td>250753104</td></tr><tr><td>C0661</td><td>Charles</td><td>Male</td><td>Fritz</td><td>New York</td><td>251901495</td></tr><tr><td>C0500</td><td>Jeffrey</td><td>male</td><td>Dean</td><td>New York</td><td>254371125</td></tr><tr><td>C0848</td><td>Rebecca</td><td>F</td><td>null</td><td>Californiya</td><td>256414863</td></tr><tr><td>C0380</td><td>Steven</td><td>Male</td><td>Brown</td><td>New Yorkk</td><td>257558548</td></tr><tr><td>C0940</td><td>Shane</td><td>M</td><td>Ward</td><td>Texas</td><td>259865545</td></tr><tr><td>C0698</td><td>Joseph</td><td>male</td><td>Morrison</td><td>null</td><td>260456543</td></tr><tr><td>C0410</td><td>Brent</td><td>Male</td><td>Banks</td><td>Nw York</td><td>263013531</td></tr><tr><td>C0087</td><td>John</td><td>M</td><td>null</td><td>Californiya</td><td>263346589</td></tr><tr><td>C0767</td><td>Jacqueline</td><td>female</td><td>Gilmore</td><td>Texas</td><td>264106117</td></tr><tr><td>C0785</td><td>Janice</td><td>female</td><td>David</td><td>california</td><td>266389766</td></tr><tr><td>C0952</td><td>Gregory</td><td>male</td><td>null</td><td>Ohio</td><td>266490127</td></tr><tr><td>C0550</td><td>Gregory</td><td>Male</td><td>Davidson</td><td>Californiya</td><td>267970472</td></tr><tr><td>C0501</td><td>Valerie</td><td>F</td><td>Lester</td><td>Texas</td><td>268115021</td></tr><tr><td>C0231</td><td>Jacob</td><td>Male</td><td>Walton</td><td>Texas</td><td>268796912</td></tr><tr><td>C0376</td><td>Joshua</td><td>M</td><td>Anderson</td><td>Californiya</td><td>271145858</td></tr><tr><td>C0482</td><td>Ricky</td><td>M</td><td>Watson</td><td>Californiya</td><td>271482998</td></tr><tr><td>C0329</td><td>Steven</td><td>male</td><td>Davis</td><td>Nw York</td><td>271957229</td></tr><tr><td>C0439</td><td>Brian</td><td>M</td><td>Acevedo</td><td>New York</td><td>272053601</td></tr><tr><td>C0281</td><td>Michelle</td><td>F</td><td>Conrad</td><td>Texaz</td><td>272424961</td></tr><tr><td>C0891</td><td>Marcus</td><td>M</td><td>null</td><td>Texaz</td><td>272979341</td></tr><tr><td>C0995</td><td>Jason</td><td>M</td><td>Graham</td><td>New Yorkk</td><td>272998455</td></tr><tr><td>C0586</td><td>Dean</td><td>male</td><td>Coffey</td><td>null</td><td>273155435</td></tr><tr><td>C0153</td><td>Gregory</td><td>M</td><td>Krueger</td><td>Californiya</td><td>274654231</td></tr><tr><td>C0460</td><td>Gina</td><td>Female</td><td>Woods</td><td>california</td><td>275041147</td></tr><tr><td>C0126</td><td>Keith</td><td>Male</td><td>Oneal</td><td>Californiya</td><td>275564906</td></tr><tr><td>C0166</td><td>Ronald</td><td>Male</td><td>null</td><td>NY</td><td>276535075</td></tr><tr><td>C0357</td><td>Jose</td><td>Male</td><td>null</td><td>NY</td><td>277415602</td></tr><tr><td>C0340</td><td>Frank</td><td>male</td><td>null</td><td>Californiya</td><td>277769327</td></tr><tr><td>C0215</td><td>Reginald</td><td>M</td><td>Lee</td><td>Texaz</td><td>278638019</td></tr><tr><td>C0559</td><td>Carl</td><td>M</td><td>Ramirez</td><td>NY</td><td>279196546</td></tr><tr><td>C0285</td><td>Ruben</td><td>M</td><td>null</td><td>Ohio</td><td>280782463</td></tr><tr><td>C0475</td><td>Charles</td><td>male</td><td>Cook</td><td>New York</td><td>280843692</td></tr><tr><td>C0226</td><td>Christopher</td><td>M</td><td>null</td><td>New Yorkk</td><td>280997339</td></tr><tr><td>C0820</td><td>Christopher</td><td>male</td><td>null</td><td>Texas</td><td>281429548</td></tr><tr><td>C0178</td><td>Miguel</td><td>male</td><td>Chung</td><td>NY</td><td>282577204</td></tr><tr><td>C0757</td><td>David</td><td>M</td><td>Clark</td><td>null</td><td>282931210</td></tr><tr><td>C0616</td><td>Robert</td><td>male</td><td>Zimmerman</td><td>Californiya</td><td>283194571</td></tr><tr><td>C0283</td><td>Heather</td><td>Female</td><td>Hawkins</td><td>Texas</td><td>285960691</td></tr><tr><td>C0692</td><td>Gregory</td><td>M</td><td>Cabrera</td><td>null</td><td>286762954</td></tr><tr><td>C0681</td><td>Tabitha</td><td>female</td><td>Adams</td><td>california</td><td>288108857</td></tr><tr><td>C0694</td><td>Steven</td><td>M</td><td>null</td><td>Ohho</td><td>288496796</td></tr><tr><td>C0749</td><td>Thomas</td><td>Male</td><td>Jackson</td><td>Nw York</td><td>289551262</td></tr><tr><td>C0726</td><td>Stephen</td><td>male</td><td>Walton</td><td>Californiya</td><td>289825974</td></tr><tr><td>C0373</td><td>Peter</td><td>M</td><td>null</td><td>Texaz</td><td>292873678</td></tr><tr><td>C0576</td><td>Jordan</td><td>Male</td><td>Sullivan</td><td>Californiya</td><td>293252049</td></tr><tr><td>C0133</td><td>Kevin</td><td>Male</td><td>null</td><td>null</td><td>294238712</td></tr><tr><td>C0477</td><td>Timothy</td><td>Male</td><td>null</td><td>Nw York</td><td>294623873</td></tr><tr><td>C0736</td><td>Thomas</td><td>M</td><td>Williams</td><td>Californiya</td><td>295193511</td></tr><tr><td>C0649</td><td>Amy</td><td>F</td><td>Reyes</td><td>New York</td><td>296737004</td></tr><tr><td>C0137</td><td>Nicole</td><td>F</td><td>null</td><td>Nw York</td><td>297910856</td></tr><tr><td>C0078</td><td>Caleb</td><td>M</td><td>Ramirez</td><td>NY</td><td>301728783</td></tr><tr><td>C0094</td><td>Darren</td><td>Male</td><td>Woods</td><td>Texaz</td><td>301924330</td></tr><tr><td>C0411</td><td>Scott</td><td>M</td><td>null</td><td>california</td><td>302090516</td></tr><tr><td>C0522</td><td>William</td><td>M</td><td>Smith</td><td>Texas</td><td>302553355</td></tr><tr><td>C0381</td><td>Roy</td><td>male</td><td>West</td><td>Texaz</td><td>304865846</td></tr><tr><td>C0316</td><td>George</td><td>male</td><td>null</td><td>Texaz</td><td>305099813</td></tr><tr><td>C0318</td><td>Michael</td><td>Male</td><td>Solis</td><td>Nw York</td><td>305223195</td></tr><tr><td>C0607</td><td>Timothy</td><td>M</td><td>Miller</td><td>Texaz</td><td>306558618</td></tr><tr><td>C0605</td><td>Amy</td><td>female</td><td>Walker</td><td>california</td><td>306732769</td></tr><tr><td>C0612</td><td>Teresa</td><td>female</td><td>Reed</td><td>New Yorkk</td><td>306924531</td></tr><tr><td>C0422</td><td>Shelby</td><td>Female</td><td>null</td><td>New Yorkk</td><td>307934376</td></tr><tr><td>C0002</td><td>Marvin</td><td>male</td><td>null</td><td>california</td><td>309625621</td></tr><tr><td>C0915</td><td>Christopher</td><td>Male</td><td>Ryan</td><td>null</td><td>312088400</td></tr><tr><td>C0294</td><td>Peter</td><td>Male</td><td>Bennett</td><td>Texaz</td><td>312529723</td></tr><tr><td>C0424</td><td>Shannon</td><td>Female</td><td>Barker</td><td>null</td><td>313470842</td></tr><tr><td>C0778</td><td>John</td><td>M</td><td>Houston</td><td>Texaz</td><td>313490734</td></tr><tr><td>C0655</td><td>Zachary</td><td>M</td><td>null</td><td>Californiya</td><td>314427494</td></tr><tr><td>C0876</td><td>Jasmine</td><td>F</td><td>Washington</td><td>New York</td><td>317473422</td></tr><tr><td>C0786</td><td>Leslie</td><td>female</td><td>null</td><td>Ohio</td><td>318033286</td></tr><tr><td>C0609</td><td>Derek</td><td>M</td><td>Anderson</td><td>New York</td><td>318078242</td></tr><tr><td>C0773</td><td>Casey</td><td>M</td><td>Smith</td><td>california</td><td>318290201</td></tr><tr><td>C0525</td><td>Carl</td><td>Male</td><td>Lindsey</td><td>Ohio</td><td>323198349</td></tr><tr><td>C0634</td><td>Mariah</td><td>Female</td><td>null</td><td>Ohio</td><td>323484391</td></tr><tr><td>C0011</td><td>Jason</td><td>male</td><td>Morales</td><td>null</td><td>325235301</td></tr><tr><td>C0903</td><td>Brandon</td><td>M</td><td>Sullivan</td><td>null</td><td>326306471</td></tr><tr><td>C0580</td><td>Alexander</td><td>male</td><td>Valentine</td><td>Ohho</td><td>327340890</td></tr><tr><td>C0125</td><td>Christopher</td><td>Male</td><td>Green</td><td>Californiya</td><td>328058594</td></tr><tr><td>C0585</td><td>Kenneth</td><td>Male</td><td>Gardner</td><td>Texaz</td><td>328899851</td></tr><tr><td>C0506</td><td>Kenneth</td><td>male</td><td>null</td><td>New York</td><td>329100206</td></tr><tr><td>C0861</td><td>Jacob</td><td>male</td><td>Williams</td><td>Ohio</td><td>330237698</td></tr><tr><td>C0679</td><td>Dustin</td><td>M</td><td>Barnett</td><td>Californiya</td><td>331102620</td></tr><tr><td>C0709</td><td>Jennifer</td><td>female</td><td>Nelson</td><td>Nw York</td><td>331691084</td></tr><tr><td>C0528</td><td>Tracy</td><td>M</td><td>Stewart</td><td>Texaz</td><td>331959404</td></tr><tr><td>C0156</td><td>Derrick</td><td>Male</td><td>Bennett</td><td>NY</td><td>333070492</td></tr><tr><td>C0860</td><td>Cathy</td><td>F</td><td>null</td><td>NY</td><td>333381434</td></tr><tr><td>C0114</td><td>Tyrone</td><td>M</td><td>Brown</td><td>Texaz</td><td>333467711</td></tr><tr><td>C0461</td><td>Randy</td><td>Male</td><td>null</td><td>Ohio</td><td>338738644</td></tr><tr><td>C0921</td><td>David</td><td>M</td><td>Lewis</td><td>Texaz</td><td>342171984</td></tr><tr><td>C0105</td><td>David</td><td>male</td><td>Vance</td><td>New York</td><td>343030922</td></tr><tr><td>C0144</td><td>Clifford</td><td>male</td><td>null</td><td>Texas</td><td>343877021</td></tr><tr><td>C0656</td><td>Richard</td><td>M</td><td>Jordan</td><td>california</td><td>344968900</td></tr><tr><td>C0440</td><td>Larry</td><td>male</td><td>null</td><td>New Yorkk</td><td>347392142</td></tr><tr><td>C0180</td><td>John</td><td>male</td><td>null</td><td>Californiya</td><td>348492942</td></tr><tr><td>C0402</td><td>John</td><td>M</td><td>null</td><td>New York</td><td>349923704</td></tr><tr><td>C0264</td><td>Tracy</td><td>Female</td><td>Peterson</td><td>Texas</td><td>350028080</td></tr><tr><td>C0220</td><td>Gregory</td><td>Male</td><td>Trujillo</td><td>Texas</td><td>350098032</td></tr><tr><td>C0206</td><td>Steven</td><td>Male</td><td>Johnson</td><td>New Yorkk</td><td>350343088</td></tr><tr><td>C0911</td><td>Scott</td><td>male</td><td>Beasley</td><td>New York</td><td>351538339</td></tr><tr><td>C0800</td><td>Cody</td><td>M</td><td>Potter</td><td>california</td><td>351558727</td></tr><tr><td>C0443</td><td>Matthew</td><td>Male</td><td>Owens</td><td>california</td><td>352400102</td></tr><tr><td>C0423</td><td>Ryan</td><td>M</td><td>Maldonado</td><td>NY</td><td>355056327</td></tr><tr><td>C0330</td><td>Bryan</td><td>male</td><td>Richmond</td><td>Texaz</td><td>355664342</td></tr><tr><td>C0331</td><td>David</td><td>male</td><td>null</td><td>california</td><td>356012698</td></tr><tr><td>C0814</td><td>Julie</td><td>F</td><td>Adams</td><td>Texaz</td><td>356097767</td></tr><tr><td>C0970</td><td>Tyler</td><td>Male</td><td>Allen</td><td>Ohio</td><td>356209150</td></tr><tr><td>C0825</td><td>Michael</td><td>M</td><td>Valdez</td><td>Texaz</td><td>356457629</td></tr><tr><td>C0784</td><td>Benjamin</td><td>M</td><td>null</td><td>Nw York</td><td>356605783</td></tr><tr><td>C0054</td><td>Christopher</td><td>Male</td><td>White</td><td>california</td><td>356849560</td></tr><tr><td>C0116</td><td>Richard</td><td>M</td><td>null</td><td>Californiya</td><td>358344223</td></tr><tr><td>C0335</td><td>Larry</td><td>male</td><td>Jefferson</td><td>NY</td><td>358419404</td></tr><tr><td>C0195</td><td>Tamara</td><td>Female</td><td>null</td><td>New York</td><td>358495400</td></tr><tr><td>C0794</td><td>Jason</td><td>M</td><td>Robertson</td><td>Ohio</td><td>359262855</td></tr><tr><td>C0192</td><td>Thomas</td><td>male</td><td>null</td><td>Nw York</td><td>359561933</td></tr><tr><td>C0593</td><td>Courtney</td><td>Female</td><td>null</td><td>Californiya</td><td>360269475</td></tr><tr><td>C0257</td><td>Kevin</td><td>Male</td><td>null</td><td>Ohho</td><td>361858506</td></tr><tr><td>C0468</td><td>Tammy</td><td>F</td><td>Turner</td><td>california</td><td>362637054</td></tr><tr><td>C0484</td><td>Jacob</td><td>M</td><td>Lyons</td><td>New York</td><td>362915393</td></tr><tr><td>C0074</td><td>Roberto</td><td>M</td><td>null</td><td>Nw York</td><td>363764583</td></tr><tr><td>C0795</td><td>Anthony</td><td>Male</td><td>null</td><td>null</td><td>364084063</td></tr><tr><td>C0890</td><td>Zachary</td><td>Male</td><td>Moore</td><td>Texas</td><td>367671951</td></tr><tr><td>C0040</td><td>Yvette</td><td>female</td><td>Wood</td><td>Ohho</td><td>367782663</td></tr><tr><td>C0957</td><td>Jason</td><td>M</td><td>Williams</td><td>NY</td><td>372845521</td></tr><tr><td>C0628</td><td>Michael</td><td>M</td><td>Vazquez</td><td>Nw York</td><td>373320470</td></tr><tr><td>C0514</td><td>Brian</td><td>M</td><td>Wallace</td><td>New Yorkk</td><td>374475345</td></tr><tr><td>C0186</td><td>Christopher</td><td>male</td><td>Santos</td><td>Ohio</td><td>375129236</td></tr><tr><td>C0334</td><td>John</td><td>M</td><td>null</td><td>california</td><td>375726314</td></tr><tr><td>C0234</td><td>Andrew</td><td>M</td><td>Bush</td><td>Californiya</td><td>376124410</td></tr><tr><td>C0222</td><td>Samantha</td><td>Female</td><td>Barnes</td><td>Californiya</td><td>377374733</td></tr><tr><td>C0273</td><td>Geoffrey</td><td>Male</td><td>Bell</td><td>california</td><td>378044149</td></tr><tr><td>C0131</td><td>Daniel</td><td>Male</td><td>null</td><td>NY</td><td>378424172</td></tr><tr><td>C0095</td><td>Paul</td><td>male</td><td>Reed</td><td>Texaz</td><td>378885480</td></tr><tr><td>C0673</td><td>Christopher</td><td>Male</td><td>Davila</td><td>Ohio</td><td>379022313</td></tr><tr><td>C0914</td><td>Thomas</td><td>male</td><td>Smith</td><td>New Yorkk</td><td>380278181</td></tr><tr><td>C0176</td><td>Edward</td><td>M</td><td>Bell</td><td>New York</td><td>381910140</td></tr><tr><td>C0728</td><td>Brittany</td><td>female</td><td>Ramsey</td><td>Ohho</td><td>383054770</td></tr><tr><td>C0542</td><td>Joshua</td><td>M</td><td>Kramer</td><td>Ohio</td><td>385877136</td></tr><tr><td>C0964</td><td>Carolyn</td><td>Female</td><td>null</td><td>Californiya</td><td>386588802</td></tr><tr><td>C0837</td><td>Robert</td><td>M</td><td>Lopez</td><td>New Yorkk</td><td>386674190</td></tr><tr><td>C0128</td><td>Tina</td><td>Female</td><td>null</td><td>Ohio</td><td>387152762</td></tr><tr><td>C0668</td><td>Joel</td><td>male</td><td>Mann</td><td>Nw York</td><td>387576444</td></tr><tr><td>C0827</td><td>Amanda</td><td>Female</td><td>Collins</td><td>Ohho</td><td>390959957</td></tr><tr><td>C0895</td><td>Gregg</td><td>M</td><td>null</td><td>Ohho</td><td>393043927</td></tr><tr><td>C0627</td><td>Lisa</td><td>Female</td><td>Hernandez</td><td>NY</td><td>393311560</td></tr><tr><td>C0487</td><td>Melvin</td><td>male</td><td>Lewis</td><td>New Yorkk</td><td>394458655</td></tr><tr><td>C0774</td><td>Travis</td><td>Male</td><td>Bowman</td><td>New York</td><td>397235347</td></tr><tr><td>C0516</td><td>Nathaniel</td><td>M</td><td>Snyder</td><td>NY</td><td>397377759</td></tr><tr><td>C0889</td><td>Christopher</td><td>male</td><td>null</td><td>california</td><td>397468005</td></tr><tr><td>C0568</td><td>Randy</td><td>male</td><td>null</td><td>california</td><td>398883429</td></tr><tr><td>C0233</td><td>Mary</td><td>F</td><td>null</td><td>Ohio</td><td>400279865</td></tr><tr><td>C0701</td><td>Christopher</td><td>M</td><td>Norton</td><td>california</td><td>400961699</td></tr><tr><td>C0169</td><td>Keith</td><td>male</td><td>Reed</td><td>New Yorkk</td><td>401077473</td></tr><tr><td>C0858</td><td>Joshua</td><td>Male</td><td>Payne</td><td>california</td><td>403564438</td></tr><tr><td>C0782</td><td>Mary</td><td>female</td><td>null</td><td>california</td><td>403622204</td></tr><tr><td>C0906</td><td>Michael</td><td>male</td><td>Zuniga</td><td>Ohio</td><td>403785447</td></tr><tr><td>C0562</td><td>Brenda</td><td>Female</td><td>Stephens</td><td>Californiya</td><td>404404846</td></tr><tr><td>C0311</td><td>David</td><td>male</td><td>Owens</td><td>california</td><td>404419336</td></tr><tr><td>C0746</td><td>Michael</td><td>Male</td><td>Young</td><td>Nw York</td><td>406721383</td></tr><tr><td>C0003</td><td>Gregory</td><td>Male</td><td>Smith</td><td>New Yorkk</td><td>407071725</td></tr><tr><td>C0388</td><td>Frank</td><td>male</td><td>Flores</td><td>Ohho</td><td>407298822</td></tr><tr><td>C0676</td><td>Michael</td><td>M</td><td>Young</td><td>Nw York</td><td>408022183</td></tr><tr><td>C0755</td><td>Amanda</td><td>F</td><td>null</td><td>New Yorkk</td><td>408262092</td></tr><tr><td>C0030</td><td>Desiree</td><td>Female</td><td>Washington</td><td>Ohio</td><td>408468745</td></tr><tr><td>C0711</td><td>Katie</td><td>female</td><td>Murray</td><td>Texas</td><td>408808242</td></tr><tr><td>C0282</td><td>Gavin</td><td>male</td><td>Sloan</td><td>New York</td><td>409560863</td></tr><tr><td>C0079</td><td>Timothy</td><td>Male</td><td>null</td><td>New York</td><td>410561810</td></tr><tr><td>C0406</td><td>Darrell</td><td>male</td><td>null</td><td>Texas</td><td>413218677</td></tr><tr><td>C0695</td><td>Michael</td><td>M</td><td>Todd</td><td>Texaz</td><td>413436693</td></tr><tr><td>C0307</td><td>James</td><td>male</td><td>Franco</td><td>Texas</td><td>413692485</td></tr><tr><td>C0217</td><td>Susan</td><td>female</td><td>Smith</td><td>Texaz</td><td>414622277</td></tr><tr><td>C0601</td><td>Garrett</td><td>male</td><td>null</td><td>Nw York</td><td>414959933</td></tr><tr><td>C0904</td><td>David</td><td>Male</td><td>null</td><td>New Yorkk</td><td>415438803</td></tr><tr><td>C0691</td><td>David</td><td>Male</td><td>Terry</td><td>Texaz</td><td>416187461</td></tr><tr><td>C0610</td><td>Edward</td><td>male</td><td>Vazquez</td><td>Nw York</td><td>417743538</td></tr><tr><td>C0246</td><td>Amanda</td><td>F</td><td>Kelly</td><td>Ohho</td><td>418522465</td></tr><tr><td>C0810</td><td>James</td><td>male</td><td>null</td><td>Texaz</td><td>419789059</td></tr><tr><td>C0043</td><td>Rachel</td><td>female</td><td>null</td><td>New York</td><td>419850542</td></tr><tr><td>C0922</td><td>Peter</td><td>M</td><td>null</td><td>null</td><td>420249288</td></tr><tr><td>C0803</td><td>John</td><td>Male</td><td>null</td><td>california</td><td>423290734</td></tr><tr><td>C0948</td><td>Richard</td><td>M</td><td>Powell</td><td>Californiya</td><td>424041200</td></tr><tr><td>C0983</td><td>Daniel</td><td>Male</td><td>null</td><td>New York</td><td>424264205</td></tr><tr><td>C0355</td><td>Pamela</td><td>F</td><td>Mcbride</td><td>NY</td><td>425902226</td></tr><tr><td>C0977</td><td>Daniel</td><td>Male</td><td>Malone</td><td>Texas</td><td>427297371</td></tr><tr><td>C0508</td><td>Michael</td><td>M</td><td>Davis</td><td>Ohho</td><td>427857401</td></tr><tr><td>C0920</td><td>William</td><td>M</td><td>null</td><td>Texas</td><td>428215783</td></tr><tr><td>C0076</td><td>James</td><td>M</td><td>Clark</td><td>Texaz</td><td>430922347</td></tr><tr><td>C0623</td><td>Jerry</td><td>M</td><td>null</td><td>Texas</td><td>432316606</td></tr><tr><td>C0739</td><td>Anita</td><td>F</td><td>Cunningham</td><td>New Yorkk</td><td>432696423</td></tr><tr><td>C0982</td><td>Kathy</td><td>F</td><td>null</td><td>Californiya</td><td>435707216</td></tr><tr><td>C0659</td><td>David</td><td>Male</td><td>Mullen</td><td>Californiya</td><td>436039045</td></tr><tr><td>C0379</td><td>Paula</td><td>F</td><td>Adkins</td><td>california</td><td>437433821</td></tr><tr><td>C0320</td><td>Cory</td><td>Male</td><td>Ramsey</td><td>california</td><td>438990756</td></tr><tr><td>C0237</td><td>Marc</td><td>Male</td><td>null</td><td>NY</td><td>439493309</td></tr><tr><td>C0732</td><td>Dwayne</td><td>male</td><td>Montoya</td><td>New York</td><td>440167245</td></tr><tr><td>C0419</td><td>Gordon</td><td>Male</td><td>Robinson</td><td>california</td><td>440467563</td></tr><tr><td>C0910</td><td>Derek</td><td>male</td><td>Carpenter</td><td>New York</td><td>441171460</td></tr><tr><td>C0662</td><td>David</td><td>M</td><td>null</td><td>Texaz</td><td>441647109</td></tr><tr><td>C0931</td><td>Timothy</td><td>M</td><td>Campbell</td><td>null</td><td>442320679</td></tr><tr><td>C0429</td><td>Mary</td><td>F</td><td>Buckley</td><td>New Yorkk</td><td>442927146</td></tr><tr><td>C0526</td><td>Edgar</td><td>M</td><td>Bennett</td><td>Californiya</td><td>444542284</td></tr><tr><td>C0288</td><td>Karen</td><td>F</td><td>Hays</td><td>null</td><td>448286732</td></tr><tr><td>C0902</td><td>Sean</td><td>Male</td><td>Harris</td><td>New York</td><td>448779964</td></tr><tr><td>C0021</td><td>Rachel</td><td>Female</td><td>null</td><td>Nw York</td><td>453662248</td></tr><tr><td>C0478</td><td>James</td><td>M</td><td>null</td><td>Ohio</td><td>454625243</td></tr><tr><td>C0292</td><td>Shawn</td><td>M</td><td>null</td><td>New Yorkk</td><td>456341394</td></tr><tr><td>C0467</td><td>James</td><td>Male</td><td>null</td><td>NY</td><td>456677367</td></tr><tr><td>C0944</td><td>Carlos</td><td>M</td><td>Richards</td><td>Texaz</td><td>457378358</td></tr><tr><td>C0973</td><td>Casey</td><td>Male</td><td>Le</td><td>Ohio</td><td>457602278</td></tr><tr><td>C0072</td><td>Eric</td><td>M</td><td>Mora</td><td>Californiya</td><td>458923106</td></tr><tr><td>C0530</td><td>Steven</td><td>M</td><td>Bennett</td><td>Nw York</td><td>460196325</td></tr><tr><td>C0044</td><td>James</td><td>male</td><td>Robbins</td><td>Nw York</td><td>461347072</td></tr><tr><td>C0366</td><td>John</td><td>M</td><td>Edwards</td><td>Ohio</td><td>462595855</td></tr><tr><td>C0268</td><td>Jessica</td><td>F</td><td>Dawson</td><td>Ohio</td><td>463684353</td></tr><tr><td>C0783</td><td>Victoria</td><td>Female</td><td>Nelson</td><td>Nw York</td><td>464512385</td></tr><tr><td>C0227</td><td>Jeffrey</td><td>male</td><td>null</td><td>Ohho</td><td>465357339</td></tr><tr><td>C0699</td><td>Scott</td><td>male</td><td>Francis</td><td>New York</td><td>465941914</td></tr><tr><td>C0407</td><td>Christian</td><td>male</td><td>Mcdaniel</td><td>Ohho</td><td>466191056</td></tr><tr><td>C0252</td><td>Joan</td><td>female</td><td>Johnson</td><td>california</td><td>466710398</td></tr><tr><td>C0048</td><td>Frank</td><td>M</td><td>Ross</td><td>Ohho</td><td>466831539</td></tr><tr><td>C0232</td><td>Mark</td><td>male</td><td>Hopkins</td><td>New York</td><td>469860676</td></tr><tr><td>C0741</td><td>Collin</td><td>male</td><td>Haynes</td><td>New York</td><td>470736773</td></tr><tr><td>C0158</td><td>Jeffrey</td><td>male</td><td>Harris</td><td>Nw York</td><td>470868400</td></tr><tr><td>C0961</td><td>John</td><td>M</td><td>Rodriguez</td><td>Texaz</td><td>472052543</td></tr><tr><td>C0228</td><td>Travis</td><td>male</td><td>Jones</td><td>New Yorkk</td><td>473779006</td></tr><tr><td>C0994</td><td>John</td><td>male</td><td>Patrick</td><td>New York</td><td>474065005</td></tr><tr><td>C0947</td><td>James</td><td>Male</td><td>Robertson</td><td>Californiya</td><td>475561820</td></tr><tr><td>C0710</td><td>Joshua</td><td>Male</td><td>null</td><td>New York</td><td>478596750</td></tr><tr><td>C0747</td><td>Timothy</td><td>male</td><td>Fisher</td><td>Texas</td><td>479517675</td></tr><tr><td>C0301</td><td>Anthony</td><td>Male</td><td>null</td><td>New Yorkk</td><td>479568961</td></tr><tr><td>C0415</td><td>Anthony</td><td>M</td><td>null</td><td>Californiya</td><td>480261829</td></tr><tr><td>C0926</td><td>William</td><td>Male</td><td>null</td><td>New Yorkk</td><td>480807314</td></tr><tr><td>C0871</td><td>Daniel</td><td>M</td><td>Curry</td><td>Texas</td><td>481077923</td></tr><tr><td>C0455</td><td>James</td><td>Male</td><td>Chen</td><td>Californiya</td><td>487420419</td></tr><tr><td>C0849</td><td>Oscar</td><td>M</td><td>Gomez</td><td>null</td><td>489634078</td></tr><tr><td>C0635</td><td>John</td><td>M</td><td>Gibson</td><td>Texaz</td><td>490073913</td></tr><tr><td>C0039</td><td>John</td><td>male</td><td>Mendoza</td><td>Nw York</td><td>490488896</td></tr><tr><td>C0188</td><td>Wayne</td><td>Male</td><td>Snyder</td><td>Texaz</td><td>491384012</td></tr><tr><td>C0441</td><td>Terri</td><td>F</td><td>Edwards</td><td>Californiya</td><td>493907825</td></tr><tr><td>C0251</td><td>Roy</td><td>M</td><td>Cruz</td><td>NY</td><td>495401130</td></tr><tr><td>C0599</td><td>Frederick</td><td>M</td><td>Williams</td><td>New Yorkk</td><td>496591418</td></tr><tr><td>C0028</td><td>William</td><td>male</td><td>Smith</td><td>Californiya</td><td>497919481</td></tr><tr><td>C0093</td><td>Samuel</td><td>M</td><td>Woods</td><td>Ohho</td><td>498105868</td></tr><tr><td>C0752</td><td>Michael</td><td>male</td><td>Evans</td><td>Texaz</td><td>498350365</td></tr><tr><td>C0138</td><td>William</td><td>male</td><td>Boone</td><td>null</td><td>499812161</td></tr><tr><td>C0213</td><td>Brian</td><td>male</td><td>Esparza</td><td>Ohho</td><td>499926999</td></tr><tr><td>C0799</td><td>Brittany</td><td>female</td><td>Rodriguez</td><td>New Yorkk</td><td>500883494</td></tr><tr><td>C0886</td><td>Angela</td><td>female</td><td>null</td><td>Ohho</td><td>503457186</td></tr><tr><td>C0969</td><td>Daniel</td><td>M</td><td>Hendrix</td><td>null</td><td>503905580</td></tr><tr><td>C0353</td><td>Nathan</td><td>Male</td><td>null</td><td>New Yorkk</td><td>504241139</td></tr><tr><td>C0899</td><td>David</td><td>M</td><td>Powell</td><td>Texas</td><td>504873647</td></tr><tr><td>C0597</td><td>Dennis</td><td>M</td><td>Jones</td><td>Californiya</td><td>506761257</td></tr><tr><td>C0824</td><td>Robert</td><td>M</td><td>null</td><td>Texaz</td><td>507447361</td></tr><tr><td>C0830</td><td>Michele</td><td>female</td><td>Beasley</td><td>New Yorkk</td><td>507517033</td></tr><tr><td>C0364</td><td>Howard</td><td>Male</td><td>Carlson</td><td>NY</td><td>507628576</td></tr><tr><td>C0142</td><td>Travis</td><td>male</td><td>Johnson</td><td>Californiya</td><td>508548337</td></tr><tr><td>C0689</td><td>Hector</td><td>Male</td><td>Christensen</td><td>Nw York</td><td>508601600</td></tr><tr><td>C0277</td><td>Jessica</td><td>female</td><td>Hawkins</td><td>Californiya</td><td>509952002</td></tr><tr><td>C0344</td><td>Noah</td><td>M</td><td>null</td><td>Texas</td><td>510296857</td></tr><tr><td>C0083</td><td>Antonio</td><td>Male</td><td>null</td><td>Texas</td><td>510567460</td></tr><tr><td>C0490</td><td>Susan</td><td>Female</td><td>null</td><td>Texas</td><td>513277362</td></tr><tr><td>C0999</td><td>Alexandra</td><td>female</td><td>Fox</td><td>california</td><td>514788515</td></tr><tr><td>C0946</td><td>Gabriel</td><td>M</td><td>Cole</td><td>Californiya</td><td>514853266</td></tr><tr><td>C0071</td><td>Charles</td><td>male</td><td>Warren</td><td>Texas</td><td>515651928</td></tr><tr><td>C0713</td><td>Carlos</td><td>M</td><td>Combs</td><td>california</td><td>516048874</td></tr><tr><td>C0256</td><td>Dwayne</td><td>M</td><td>null</td><td>NY</td><td>517339517</td></tr><tr><td>C0302</td><td>Jason</td><td>male</td><td>Gonzales</td><td>Nw York</td><td>522570366</td></tr><tr><td>C0261</td><td>Julie</td><td>F</td><td>Meyers</td><td>New York</td><td>522615596</td></tr><tr><td>C0203</td><td>Michael</td><td>Male</td><td>Holloway</td><td>Ohho</td><td>523569572</td></tr><tr><td>C0145</td><td>Aaron</td><td>male</td><td>null</td><td>Texaz</td><td>523681709</td></tr><tr><td>C0615</td><td>Jason</td><td>Male</td><td>Abbott</td><td>Ohio</td><td>524005465</td></tr><tr><td>C0771</td><td>Matthew</td><td>M</td><td>Woods</td><td>NY</td><td>526217299</td></tr><tr><td>C0780</td><td>Teresa</td><td>female</td><td>Morgan</td><td>Californiya</td><td>527171458</td></tr><tr><td>C0219</td><td>Derek</td><td>M</td><td>null</td><td>null</td><td>527306899</td></tr><tr><td>C0717</td><td>Trevor</td><td>Male</td><td>Fitzgerald</td><td>Ohho</td><td>527737923</td></tr><tr><td>C0534</td><td>Brandon</td><td>Male</td><td>Gamble</td><td>Ohho</td><td>530002167</td></tr><tr><td>C0975</td><td>Peter</td><td>male</td><td>null</td><td>New Yorkk</td><td>530685706</td></tr><tr><td>C0135</td><td>William</td><td>M</td><td>Watkins</td><td>Texas</td><td>532124144</td></tr><tr><td>C0258</td><td>Sherry</td><td>Female</td><td>null</td><td>Texas</td><td>533419413</td></tr><tr><td>C0476</td><td>Jonathan</td><td>male</td><td>Daniel</td><td>Texas</td><td>534212238</td></tr><tr><td>C0239</td><td>Frank</td><td>male</td><td>null</td><td>New York</td><td>535126229</td></tr><tr><td>C0718</td><td>John</td><td>M</td><td>Jones</td><td>Texas</td><td>535606961</td></tr><tr><td>C0925</td><td>Susan</td><td>F</td><td>null</td><td>Texaz</td><td>537874076</td></tr><tr><td>C0395</td><td>Joseph</td><td>M</td><td>null</td><td>california</td><td>538655716</td></tr><tr><td>C0647</td><td>David</td><td>M</td><td>Allison</td><td>NY</td><td>539065495</td></tr><tr><td>C0549</td><td>Alexander</td><td>M</td><td>Harris</td><td>NY</td><td>541716480</td></tr><tr><td>C0665</td><td>Steven</td><td>male</td><td>White</td><td>Nw York</td><td>544828156</td></tr><tr><td>C0236</td><td>Travis</td><td>M</td><td>null</td><td>california</td><td>545776601</td></tr><tr><td>C0310</td><td>Kevin</td><td>Male</td><td>Ray</td><td>Texas</td><td>546209671</td></tr><tr><td>C0163</td><td>Tina</td><td>female</td><td>Holt</td><td>New York</td><td>546587281</td></tr><tr><td>C0102</td><td>Dennis</td><td>male</td><td>Dominguez</td><td>New York</td><td>550011030</td></tr><tr><td>C0062</td><td>Mark</td><td>male</td><td>Adams</td><td>Texaz</td><td>550550046</td></tr><tr><td>C0091</td><td>Anna</td><td>female</td><td>null</td><td>Texas</td><td>551203013</td></tr><tr><td>C0442</td><td>Seth</td><td>male</td><td>Alexander</td><td>null</td><td>555089445</td></tr><tr><td>C0050</td><td>Kimberly</td><td>female</td><td>Wright</td><td>Nw York</td><td>556577221</td></tr><tr><td>C0777</td><td>Justin</td><td>M</td><td>null</td><td>NY</td><td>557234172</td></tr><tr><td>C0945</td><td>Garrett</td><td>male</td><td>Miller</td><td>Ohio</td><td>557953164</td></tr><tr><td>C0080</td><td>Ian</td><td>male</td><td>Fowler</td><td>null</td><td>558150115</td></tr><tr><td>C0818</td><td>Matthew</td><td>Male</td><td>Perez</td><td>Nw York</td><td>558260751</td></tr><tr><td>C0308</td><td>Larry</td><td>male</td><td>Walker</td><td>california</td><td>558300489</td></tr><tr><td>C0764</td><td>Matthew</td><td>male</td><td>Woods</td><td>Ohho</td><td>558936799</td></tr><tr><td>C0289</td><td>John</td><td>M</td><td>Williams</td><td>california</td><td>559579989</td></tr><tr><td>C0174</td><td>Chloe</td><td>F</td><td>Wheeler</td><td>Ohio</td><td>560597428</td></tr><tr><td>C0390</td><td>Tanya</td><td>Female</td><td>null</td><td>california</td><td>561244634</td></tr><tr><td>C0291</td><td>Jeffrey</td><td>M</td><td>null</td><td>Texas</td><td>561245225</td></tr><tr><td>C0729</td><td>Alexis</td><td>female</td><td>Donovan</td><td>california</td><td>561713087</td></tr><tr><td>C0560</td><td>Kimberly</td><td>female</td><td>Jones</td><td>Nw York</td><td>562111695</td></tr><tr><td>C0120</td><td>Roger</td><td>M</td><td>null</td><td>Californiya</td><td>562976885</td></tr><tr><td>C0654</td><td>Richard</td><td>M</td><td>Nolan</td><td>Texaz</td><td>563507536</td></tr><tr><td>C0470</td><td>Misty</td><td>Female</td><td>White</td><td>Texas</td><td>563825460</td></tr><tr><td>C0446</td><td>Michael</td><td>M</td><td>Carrillo</td><td>Nw York</td><td>564484536</td></tr><tr><td>C0399</td><td>Matthew</td><td>M</td><td>null</td><td>Ohho</td><td>564987216</td></tr><tr><td>C0642</td><td>Aaron</td><td>male</td><td>null</td><td>NY</td><td>565743758</td></tr><tr><td>C0697</td><td>Bryan</td><td>M</td><td>Anderson</td><td>Texaz</td><td>566092992</td></tr><tr><td>C0321</td><td>Kelly</td><td>female</td><td>null</td><td>california</td><td>567039426</td></tr><tr><td>C0748</td><td>Debra</td><td>Female</td><td>Martin</td><td>Nw York</td><td>567118913</td></tr><tr><td>C0714</td><td>Nicholas</td><td>male</td><td>null</td><td>california</td><td>567745231</td></tr><tr><td>C0556</td><td>Willie</td><td>M</td><td>null</td><td>Californiya</td><td>568431594</td></tr><tr><td>C0765</td><td>Johnathan</td><td>male</td><td>Rivera</td><td>null</td><td>568504710</td></tr><tr><td>C0775</td><td>Mark</td><td>M</td><td>Jenkins</td><td>New York</td><td>568919038</td></tr><tr><td>C0032</td><td>Joshua</td><td>male</td><td>Carson</td><td>NY</td><td>568920245</td></tr><tr><td>C0452</td><td>Theresa</td><td>female</td><td>null</td><td>Ohio</td><td>570129654</td></tr><tr><td>C0541</td><td>Carlos</td><td>M</td><td>null</td><td>Texaz</td><td>572634991</td></tr><tr><td>C0680</td><td>Aaron</td><td>M</td><td>Hampton</td><td>Ohho</td><td>572846258</td></tr><tr><td>C0632</td><td>Kristina</td><td>F</td><td>Wright</td><td>New Yorkk</td><td>572862418</td></tr><tr><td>C0013</td><td>Brandon</td><td>M</td><td>null</td><td>Ohio</td><td>573359511</td></tr><tr><td>C0046</td><td>Dennis</td><td>Male</td><td>null</td><td>Californiya</td><td>573904617</td></tr><tr><td>C0797</td><td>Justin</td><td>male</td><td>Schneider</td><td>Texaz</td><td>574097680</td></tr><tr><td>C0278</td><td>Seth</td><td>male</td><td>null</td><td>New York</td><td>574595993</td></tr><tr><td>C0063</td><td>Latoya</td><td>female</td><td>null</td><td>Ohho</td><td>575579346</td></tr><tr><td>C0643</td><td>Brian</td><td>Male</td><td>Walker</td><td>Ohho</td><td>576737012</td></tr><tr><td>C0712</td><td>Ashley</td><td>F</td><td>Moore</td><td>Ohio</td><td>576772550</td></tr><tr><td>C0109</td><td>Caleb</td><td>male</td><td>Long</td><td>null</td><td>580782929</td></tr><tr><td>C0892</td><td>Christopher</td><td>male</td><td>null</td><td>NY</td><td>580793035</td></tr><tr><td>C0620</td><td>Shannon</td><td>M</td><td>Chang</td><td>New Yorkk</td><td>582409554</td></tr><tr><td>C0936</td><td>Paul</td><td>M</td><td>null</td><td>null</td><td>582643392</td></tr><tr><td>C0243</td><td>Eric</td><td>Male</td><td>Lopez</td><td>New York</td><td>582668500</td></tr><tr><td>C0471</td><td>Nicole</td><td>F</td><td>Walton</td><td>Texaz</td><td>582919525</td></tr><tr><td>C0581</td><td>Angela</td><td>female</td><td>Gomez</td><td>New York</td><td>587431597</td></tr><tr><td>C0591</td><td>Julia</td><td>Female</td><td>Jacobson</td><td>New York</td><td>592881377</td></tr><tr><td>C0847</td><td>Aaron</td><td>Male</td><td>Peterson</td><td>california</td><td>593841266</td></tr><tr><td>C0259</td><td>Samantha</td><td>F</td><td>Mays</td><td>Nw York</td><td>594567425</td></tr><tr><td>C0314</td><td>David</td><td>M</td><td>Mcguire</td><td>Nw York</td><td>596519026</td></tr><tr><td>C0404</td><td>Anthony</td><td>Male</td><td>Taylor</td><td>New Yorkk</td><td>596750707</td></tr><tr><td>C0532</td><td>Daniel</td><td>Male</td><td>Perkins</td><td>Californiya</td><td>597378024</td></tr><tr><td>C0798</td><td>Michael</td><td>male</td><td>null</td><td>NY</td><td>599394555</td></tr><tr><td>C0996</td><td>Felicia</td><td>F</td><td>Howe</td><td>NY</td><td>599601108</td></tr><tr><td>C0159</td><td>Alexander</td><td>male</td><td>null</td><td>New York</td><td>601802494</td></tr><tr><td>C0466</td><td>Rachel</td><td>Female</td><td>Lewis</td><td>Ohho</td><td>602113834</td></tr><tr><td>C0702</td><td>Richard</td><td>M</td><td>Howard</td><td>Ohio</td><td>603115189</td></tr><tr><td>C0198</td><td>James</td><td>male</td><td>Ortiz</td><td>california</td><td>603762095</td></tr><tr><td>C0474</td><td>Jacob</td><td>M</td><td>Taylor</td><td>Californiya</td><td>604112993</td></tr><tr><td>C0949</td><td>David</td><td>M</td><td>null</td><td>New Yorkk</td><td>604251144</td></tr><tr><td>C0235</td><td>Amy</td><td>Female</td><td>null</td><td>NY</td><td>604919892</td></tr><tr><td>C0993</td><td>David</td><td>male</td><td>Mcmillan</td><td>california</td><td>606087609</td></tr><tr><td>C0146</td><td>Zachary</td><td>male</td><td>null</td><td>Ohio</td><td>608687651</td></tr><tr><td>C0290</td><td>Erik</td><td>M</td><td>null</td><td>New York</td><td>608717297</td></tr><tr><td>C0545</td><td>Christopher</td><td>Male</td><td>Spencer</td><td>New Yorkk</td><td>612056774</td></tr><tr><td>C0865</td><td>David</td><td>Male</td><td>null</td><td>Texaz</td><td>613019907</td></tr><tr><td>C0816</td><td>Michael</td><td>M</td><td>Lynn</td><td>Nw York</td><td>614351714</td></tr><tr><td>C0027</td><td>Brandon</td><td>male</td><td>Smith</td><td>New Yorkk</td><td>614443050</td></tr><tr><td>C0139</td><td>Robert</td><td>male</td><td>Cook</td><td>Texas</td><td>615112555</td></tr><tr><td>C0985</td><td>Jose</td><td>M</td><td>Chan</td><td>New Yorkk</td><td>615777685</td></tr><tr><td>C0878</td><td>Brian</td><td>male</td><td>null</td><td>Ohho</td><td>616491936</td></tr><tr><td>C0557</td><td>Frank</td><td>male</td><td>Miller</td><td>Texas</td><td>617176279</td></tr><tr><td>C0606</td><td>Frank</td><td>M</td><td>null</td><td>Ohho</td><td>617790897</td></tr><tr><td>C0833</td><td>Dean</td><td>Male</td><td>James</td><td>Californiya</td><td>618129284</td></tr><tr><td>C0097</td><td>Anthony</td><td>M</td><td>Watts</td><td>Texas</td><td>620445794</td></tr><tr><td>C0812</td><td>Phillip</td><td>male</td><td>null</td><td>New Yorkk</td><td>620728376</td></tr><tr><td>C0088</td><td>William</td><td>M</td><td>null</td><td>Ohio</td><td>622411761</td></tr><tr><td>C0130</td><td>Ronald</td><td>M</td><td>null</td><td>Ohho</td><td>622836352</td></tr><tr><td>C0123</td><td>Rebecca</td><td>female</td><td>Armstrong</td><td>Ohho</td><td>624663469</td></tr><tr><td>C0582</td><td>Debbie</td><td>F</td><td>Robinson</td><td>Texaz</td><td>626279139</td></tr><tr><td>C0853</td><td>Robert</td><td>Male</td><td>Snyder</td><td>NY</td><td>628833506</td></tr><tr><td>C0538</td><td>Aaron</td><td>M</td><td>Peck</td><td>Nw York</td><td>629933034</td></tr><tr><td>C0652</td><td>James</td><td>male</td><td>null</td><td>Nw York</td><td>630801605</td></tr><tr><td>C0864</td><td>Eric</td><td>M</td><td>Wilson</td><td>New Yorkk</td><td>631764902</td></tr><tr><td>C0393</td><td>Brandon</td><td>M</td><td>Ruiz</td><td>Californiya</td><td>632461894</td></tr><tr><td>C0365</td><td>John</td><td>M</td><td>Edwards</td><td>Nw York</td><td>632493571</td></tr><tr><td>C0070</td><td>Kevin</td><td>M</td><td>Franklin</td><td>New York</td><td>632496047</td></tr><tr><td>C0594</td><td>John</td><td>M</td><td>Ellis</td><td>NY</td><td>634025358</td></tr><tr><td>C0107</td><td>Christine</td><td>F</td><td>Ellis</td><td>New Yorkk</td><td>634157903</td></tr><tr><td>C0433</td><td>Bryan</td><td>Male</td><td>Hale</td><td>Ohho</td><td>634530391</td></tr><tr><td>C0150</td><td>Jon</td><td>M</td><td>Cohen</td><td>california</td><td>635238437</td></tr><tr><td>C0106</td><td>Jason</td><td>Male</td><td>Abbott</td><td>Texas</td><td>636181643</td></tr><tr><td>C0548</td><td>Eric</td><td>Male</td><td>Winters</td><td>NY</td><td>636591132</td></tr><tr><td>C0265</td><td>Lori</td><td>F</td><td>Mccarthy</td><td>Texas</td><td>638294112</td></tr><tr><td>C0518</td><td>Juan</td><td>Male</td><td>Miller</td><td>Texaz</td><td>638370869</td></tr><tr><td>C0090</td><td>Jeremy</td><td>male</td><td>Williams</td><td>NY</td><td>638708215</td></tr><tr><td>C0352</td><td>Sean</td><td>male</td><td>Simpson</td><td>Ohio</td><td>638728908</td></tr><tr><td>C0333</td><td>David</td><td>M</td><td>Burns</td><td>Texas</td><td>643922820</td></tr><tr><td>C0351</td><td>Jessica</td><td>female</td><td>Manning</td><td>New Yorkk</td><td>647758737</td></tr><tr><td>C0361</td><td>Andrew</td><td>M</td><td>Tucker</td><td>Ohho</td><td>648065949</td></tr><tr><td>C0017</td><td>Angela</td><td>Female</td><td>Cantrell</td><td>Texas</td><td>648610422</td></tr><tr><td>C0832</td><td>Karen</td><td>F</td><td>Medina</td><td>NY</td><td>648947287</td></tr><tr><td>C0770</td><td>Nicholas</td><td>Male</td><td>null</td><td>Texaz</td><td>649072529</td></tr><tr><td>C0151</td><td>Matthew</td><td>M</td><td>Walter</td><td>null</td><td>649419497</td></tr><tr><td>C0603</td><td>Eric</td><td>M</td><td>Hicks</td><td>Nw York</td><td>649554815</td></tr><tr><td>C0740</td><td>Christopher</td><td>male</td><td>Wilson</td><td>New York</td><td>650053493</td></tr><tr><td>C0270</td><td>Richard</td><td>Male</td><td>Schaefer</td><td>Ohho</td><td>650804653</td></tr><tr><td>C0129</td><td>Gregory</td><td>M</td><td>Neal</td><td>Texaz</td><td>654553785</td></tr><tr><td>C0813</td><td>Ryan</td><td>male</td><td>null</td><td>NY</td><td>656314369</td></tr><tr><td>C0989</td><td>Lucas</td><td>M</td><td>Conley</td><td>NY</td><td>657001176</td></tr><tr><td>C0504</td><td>Emily</td><td>female</td><td>Washington</td><td>Texaz</td><td>658093925</td></tr><tr><td>C0346</td><td>Jeremy</td><td>male</td><td>Lambert</td><td>california</td><td>658346936</td></tr><tr><td>C0571</td><td>Jeffrey</td><td>Male</td><td>Suarez</td><td>Nw York</td><td>658397387</td></tr><tr><td>C0300</td><td>Melanie</td><td>female</td><td>Thompson</td><td>california</td><td>659396269</td></tr><tr><td>C0326</td><td>Joshua</td><td>male</td><td>Reynolds</td><td>New York</td><td>660360584</td></tr><tr><td>C0328</td><td>Gregory</td><td>Male</td><td>Allen</td><td>NY</td><td>661265781</td></tr><tr><td>C0263</td><td>Nicholas</td><td>male</td><td>Clark</td><td>NY</td><td>661308159</td></tr><tr><td>C0851</td><td>Darrell</td><td>male</td><td>null</td><td>null</td><td>661374496</td></tr><tr><td>C0834</td><td>Bryan</td><td>Male</td><td>Robertson</td><td>New Yorkk</td><td>662124699</td></tr><tr><td>C0758</td><td>Christopher</td><td>Male</td><td>null</td><td>Ohio</td><td>662484840</td></tr><tr><td>C0540</td><td>Eduardo</td><td>Male</td><td>Stokes</td><td>New York</td><td>663145012</td></tr><tr><td>C0447</td><td>Stephanie</td><td>F</td><td>null</td><td>Nw York</td><td>663595592</td></tr><tr><td>C0875</td><td>Dawn</td><td>female</td><td>Nunez</td><td>New York</td><td>665269354</td></tr><tr><td>C0483</td><td>Benjamin</td><td>M</td><td>Foster</td><td>null</td><td>665640040</td></tr><tr><td>C0297</td><td>Timothy</td><td>M</td><td>Myers</td><td>Texas</td><td>667403920</td></tr><tr><td>C0943</td><td>Mark</td><td>M</td><td>Velez</td><td>NY</td><td>668327363</td></tr><tr><td>C0457</td><td>Destiny</td><td>Female</td><td>Marks</td><td>New York</td><td>672409579</td></tr><tr><td>C0809</td><td>Jessica</td><td>Female</td><td>Miller</td><td>Texas</td><td>673471287</td></tr><tr><td>C0720</td><td>Ryan</td><td>M</td><td>Mcgrath</td><td>Texaz</td><td>674222857</td></tr><tr><td>C0081</td><td>Ryan</td><td>Male</td><td>Pearson</td><td>Californiya</td><td>674718631</td></tr><tr><td>C0724</td><td>Christine</td><td>F</td><td>White</td><td>New York</td><td>675175463</td></tr><tr><td>C0756</td><td>Daniel</td><td>M</td><td>Perkins</td><td>Nw York</td><td>675175592</td></tr><tr><td>C0454</td><td>Terry</td><td>M</td><td>null</td><td>Texas</td><td>677168115</td></tr><tr><td>C0134</td><td>Cole</td><td>Male</td><td>Nelson</td><td>california</td><td>677431721</td></tr><tr><td>C0244</td><td>Mark</td><td>male</td><td>Davidson</td><td>Texas</td><td>677651926</td></tr><tr><td>C0544</td><td>Kyle</td><td>Male</td><td>Soto</td><td>Texas</td><td>677994055</td></tr><tr><td>C0685</td><td>Jeffrey</td><td>male</td><td>null</td><td>New Yorkk</td><td>682613360</td></tr><tr><td>C0769</td><td>Chad</td><td>Male</td><td>Lyons</td><td>california</td><td>683117463</td></tr><tr><td>C0170</td><td>Cody</td><td>Male</td><td>Keller</td><td>Ohho</td><td>684757240</td></tr><tr><td>C0708</td><td>Ronald</td><td>male</td><td>Maxwell</td><td>Californiya</td><td>686265522</td></tr><tr><td>C0493</td><td>Carlos</td><td>M</td><td>Bailey</td><td>NY</td><td>686411046</td></tr><tr><td>C0744</td><td>Heather</td><td>F</td><td>French</td><td>Ohho</td><td>686531531</td></tr><tr><td>C0194</td><td>Eric</td><td>M</td><td>null</td><td>Ohio</td><td>689379003</td></tr><tr><td>C0315</td><td>Allison</td><td>Female</td><td>null</td><td>Ohio</td><td>689883957</td></tr><tr><td>C0191</td><td>Christopher</td><td>Male</td><td>Sandoval</td><td>New York</td><td>690628259</td></tr><tr><td>C0722</td><td>Eric</td><td>Male</td><td>Newman</td><td>null</td><td>693895447</td></tr><tr><td>C0840</td><td>John</td><td>M</td><td>Sweeney</td><td>Nw York</td><td>694545824</td></tr><tr><td>C0537</td><td>Gary</td><td>M</td><td>null</td><td>Nw York</td><td>694613884</td></tr><tr><td>C0566</td><td>Jacob</td><td>Male</td><td>Wang</td><td>New Yorkk</td><td>695734158</td></tr><tr><td>C0059</td><td>Eric</td><td>Male</td><td>Hoffman</td><td>california</td><td>696483718</td></tr><tr><td>C0103</td><td>Michael</td><td>M</td><td>null</td><td>california</td><td>696546354</td></tr><tr><td>C0604</td><td>Benjamin</td><td>male</td><td>null</td><td>New York</td><td>697180386</td></tr><tr><td>C0345</td><td>Anthony</td><td>male</td><td>Hull</td><td>NY</td><td>697917825</td></tr><tr><td>C0276</td><td>Johnathan</td><td>male</td><td>Williams</td><td>california</td><td>698770629</td></tr><tr><td>C0349</td><td>John</td><td>male</td><td>Mcintosh</td><td>New York</td><td>698809899</td></tr><tr><td>C0055</td><td>Jonathan</td><td>M</td><td>Thomas</td><td>New Yorkk</td><td>699015658</td></tr><tr><td>C0807</td><td>Hunter</td><td>M</td><td>Navarro</td><td>null</td><td>700406261</td></tr><tr><td>C0413</td><td>Christina</td><td>female</td><td>null</td><td>Texas</td><td>700493877</td></tr><tr><td>C0031</td><td>Steven</td><td>M</td><td>Morgan</td><td>Ohho</td><td>701763121</td></tr><tr><td>C0808</td><td>Robert</td><td>M</td><td>Kaufman</td><td>Texas</td><td>702892540</td></tr><tr><td>C0241</td><td>Samuel</td><td>M</td><td>Taylor</td><td>NY</td><td>703724255</td></tr><tr><td>C0934</td><td>Timothy</td><td>male</td><td>null</td><td>New York</td><td>703950512</td></tr><tr><td>C0592</td><td>Melissa</td><td>Female</td><td>Hernandez</td><td>Texaz</td><td>704579173</td></tr><tr><td>C0014</td><td>Jeffery</td><td>M</td><td>Cabrera</td><td>New Yorkk</td><td>705131809</td></tr><tr><td>C0450</td><td>Donna</td><td>F</td><td>null</td><td>NY</td><td>706074780</td></tr><tr><td>C0143</td><td>Sydney</td><td>female</td><td>Fisher</td><td>Nw York</td><td>706854753</td></tr><tr><td>C0715</td><td>Christopher</td><td>M</td><td>null</td><td>null</td><td>707846272</td></tr><tr><td>C0621</td><td>Juan</td><td>Male</td><td>Davis</td><td>New York</td><td>707878605</td></tr><tr><td>C0182</td><td>David</td><td>Male</td><td>Tran</td><td>Ohio</td><td>708199071</td></tr><tr><td>C0051</td><td>David</td><td>Male</td><td>null</td><td>null</td><td>709245509</td></tr><tr><td>C0154</td><td>Andrew</td><td>M</td><td>null</td><td>Texaz</td><td>709376129</td></tr><tr><td>C0299</td><td>Hannah</td><td>female</td><td>Greer</td><td>california</td><td>709812872</td></tr><tr><td>C0882</td><td>Sean</td><td>M</td><td>Smith</td><td>Texas</td><td>710431870</td></tr><tr><td>C0831</td><td>Jeffrey</td><td>M</td><td>Wolf</td><td>Ohio</td><td>711584782</td></tr><tr><td>C0686</td><td>Frank</td><td>male</td><td>Golden</td><td>Texaz</td><td>711819875</td></tr><tr><td>C0184</td><td>Miguel</td><td>male</td><td>Goodman</td><td>Texaz</td><td>713156107</td></tr><tr><td>C0372</td><td>John</td><td>Male</td><td>Smith</td><td>NY</td><td>713227086</td></tr><tr><td>C0788</td><td>Angela</td><td>F</td><td>Dodson</td><td>Ohio</td><td>715164396</td></tr><tr><td>C0275</td><td>Joseph</td><td>M</td><td>Bowers</td><td>null</td><td>715420916</td></tr><tr><td>C0517</td><td>Donald</td><td>Male</td><td>null</td><td>Ohio</td><td>715675813</td></tr><tr><td>C0648</td><td>Jason</td><td>Male</td><td>Nichols</td><td>Californiya</td><td>719244280</td></tr><tr><td>C0100</td><td>Vernon</td><td>M</td><td>Morrow</td><td>Texaz</td><td>719378837</td></tr><tr><td>C0688</td><td>Jennifer</td><td>Female</td><td>Leonard</td><td>Californiya</td><td>719917971</td></tr><tr><td>C0306</td><td>Jonathan</td><td>male</td><td>Chan</td><td>null</td><td>722350922</td></tr><tr><td>C0529</td><td>Bruce</td><td>M</td><td>Snow</td><td>Californiya</td><td>725903432</td></tr><tr><td>C0787</td><td>Travis</td><td>M</td><td>null</td><td>New York</td><td>726208843</td></tr><tr><td>C0630</td><td>Thomas</td><td>male</td><td>Young</td><td>Californiya</td><td>727726412</td></tr><tr><td>C0303</td><td>Ryan</td><td>male</td><td>Matthews</td><td>null</td><td>727859949</td></tr><tr><td>C0577</td><td>Paul</td><td>male</td><td>Shaw</td><td>New Yorkk</td><td>728785028</td></tr><tr><td>C0893</td><td>David</td><td>Male</td><td>null</td><td>Ohho</td><td>729218126</td></tr><tr><td>C0646</td><td>Andrew</td><td>Male</td><td>null</td><td>california</td><td>729893938</td></tr><tr><td>C0494</td><td>Jacob</td><td>Male</td><td>Smith</td><td>New Yorkk</td><td>730072863</td></tr><tr><td>C0887</td><td>Evan</td><td>M</td><td>Andrews</td><td>null</td><td>731928333</td></tr><tr><td>C0546</td><td>Stephen</td><td>M</td><td>Brown</td><td>Texaz</td><td>732932246</td></tr><tr><td>C0636</td><td>Sean</td><td>Male</td><td>Hogan</td><td>Californiya</td><td>734726329</td></tr><tr><td>C0347</td><td>Stephen</td><td>Male</td><td>Phillips</td><td>Nw York</td><td>734845687</td></tr><tr><td>C0183</td><td>Mark</td><td>Male</td><td>Howell</td><td>Texas</td><td>735381042</td></tr><tr><td>C0700</td><td>Scott</td><td>Male</td><td>null</td><td>NY</td><td>735678367</td></tr><tr><td>C0723</td><td>William</td><td>Male</td><td>Ellison</td><td>Texaz</td><td>737069029</td></tr><tr><td>C0745</td><td>Chris</td><td>Male</td><td>Barker</td><td>california</td><td>739032204</td></tr><tr><td>C0874</td><td>Joshua</td><td>male</td><td>Young</td><td>Texas</td><td>739144009</td></tr><tr><td>C0772</td><td>Travis</td><td>male</td><td>Smith</td><td>NY</td><td>739234814</td></tr><tr><td>C0653</td><td>Billy</td><td>male</td><td>Church</td><td>New Yorkk</td><td>740491918</td></tr><tr><td>C0754</td><td>Connor</td><td>Male</td><td>Smith</td><td>Nw York</td><td>740826558</td></tr><tr><td>C0611</td><td>Alexander</td><td>male</td><td>null</td><td>Texas</td><td>741322264</td></tr><tr><td>C0596</td><td>Luke</td><td>Male</td><td>Maldonado</td><td>NY</td><td>743615538</td></tr><tr><td>C0339</td><td>Alex</td><td>Male</td><td>null</td><td>Ohio</td><td>744021127</td></tr><tr><td>C0172</td><td>Michael</td><td>M</td><td>Bates</td><td>Texas</td><td>745117268</td></tr><tr><td>C0626</td><td>Alejandro</td><td>M</td><td>Gray</td><td>Ohio</td><td>745801373</td></tr><tr><td>C0077</td><td>John</td><td>male</td><td>Johnson</td><td>null</td><td>747822662</td></tr><tr><td>C0738</td><td>Donna</td><td>female</td><td>null</td><td>Ohho</td><td>747939252</td></tr><tr><td>C0374</td><td>John</td><td>M</td><td>Morris</td><td>Ohho</td><td>748013516</td></tr><tr><td>C0295</td><td>Bryan</td><td>M</td><td>Ryan</td><td>Californiya</td><td>748189605</td></tr><tr><td>C0852</td><td>Jordan</td><td>M</td><td>Tanner</td><td>Nw York</td><td>748607232</td></tr><tr><td>C0449</td><td>Amy</td><td>Female</td><td>Ferguson</td><td>Texaz</td><td>749164614</td></tr><tr><td>C0859</td><td>Robert</td><td>M</td><td>null</td><td>california</td><td>749655774</td></tr><tr><td>C0193</td><td>Julie</td><td>F</td><td>Lozano</td><td>Nw York</td><td>749674470</td></tr><tr><td>C0177</td><td>Daniel</td><td>Male</td><td>null</td><td>Californiya</td><td>751058872</td></tr><tr><td>C0967</td><td>Steven</td><td>male</td><td>Gill</td><td>Texaz</td><td>751442943</td></tr><tr><td>C0112</td><td>Tyrone</td><td>Male</td><td>Bell</td><td>Californiya</td><td>753055870</td></tr><tr><td>C0505</td><td>Jordan</td><td>M</td><td>Martin</td><td>california</td><td>754062267</td></tr><tr><td>C0819</td><td>William</td><td>Male</td><td>Gilbert</td><td>null</td><td>754399258</td></tr><tr><td>C0622</td><td>Jerry</td><td>male</td><td>null</td><td>New Yorkk</td><td>754655288</td></tr><tr><td>C0677</td><td>Devin</td><td>M</td><td>null</td><td>Californiya</td><td>756724909</td></tr><tr><td>C0272</td><td>Erika</td><td>Female</td><td>Sanchez</td><td>Texaz</td><td>759457940</td></tr><tr><td>C0535</td><td>Kenneth</td><td>M</td><td>null</td><td>New Yorkk</td><td>760391227</td></tr><tr><td>C0974</td><td>Carolyn</td><td>Female</td><td>Howell</td><td>Ohho</td><td>760765320</td></tr><tr><td>C0737</td><td>David</td><td>Male</td><td>null</td><td>Nw York</td><td>761013422</td></tr><tr><td>C0024</td><td>Luis</td><td>Male</td><td>Roberts</td><td>NY</td><td>763990480</td></tr><tr><td>C0547</td><td>Kaitlyn</td><td>Female</td><td>Thomas</td><td>New York</td><td>764863865</td></tr><tr><td>C0190</td><td>Matthew</td><td>male</td><td>Gray</td><td>Ohho</td><td>764979468</td></tr><tr><td>C0025</td><td>Jordan</td><td>male</td><td>Mercado</td><td>Texaz</td><td>765370466</td></tr><tr><td>C0305</td><td>Curtis</td><td>male</td><td>Mccormick</td><td>Ohio</td><td>765664501</td></tr><tr><td>C0242</td><td>Jeffrey</td><td>Male</td><td>Sparks</td><td>NY</td><td>765956872</td></tr><tr><td>C0968</td><td>Randy</td><td>male</td><td>Smith</td><td>New York</td><td>766559816</td></tr><tr><td>C0408</td><td>Crystal</td><td>F</td><td>Kim</td><td>NY</td><td>768048601</td></tr><tr><td>C0844</td><td>David</td><td>Male</td><td>Thompson</td><td>Ohho</td><td>768922268</td></tr><tr><td>C0614</td><td>Tracy</td><td>F</td><td>Stevenson</td><td>Californiya</td><td>771867274</td></tr><tr><td>C0842</td><td>Jessica</td><td>F</td><td>null</td><td>california</td><td>775839530</td></tr><tr><td>C0645</td><td>Larry</td><td>M</td><td>Moore</td><td>Ohio</td><td>778256788</td></tr><tr><td>C0181</td><td>Michael</td><td>Male</td><td>Hodges</td><td>Texaz</td><td>778301843</td></tr><tr><td>C0327</td><td>Anthony</td><td>male</td><td>Jordan</td><td>Nw York</td><td>779252182</td></tr><tr><td>C0387</td><td>Peter</td><td>M</td><td>Hurst</td><td>Texaz</td><td>779671971</td></tr><tr><td>C0161</td><td>Justin</td><td>M</td><td>Williams</td><td>null</td><td>780840007</td></tr><tr><td>C0731</td><td>Calvin</td><td>Male</td><td>Sanders</td><td>null</td><td>783136548</td></tr><tr><td>C0434</td><td>Matthew</td><td>male</td><td>null</td><td>Californiya</td><td>783911683</td></tr><tr><td>C0458</td><td>Louis</td><td>Male</td><td>null</td><td>Texaz</td><td>784481326</td></tr><tr><td>C0010</td><td>Jason</td><td>Male</td><td>null</td><td>NY</td><td>785769341</td></tr><tr><td>C0414</td><td>Paul</td><td>Male</td><td>Simmons</td><td>california</td><td>786274563</td></tr><tr><td>C0873</td><td>Cody</td><td>male</td><td>null</td><td>Texas</td><td>786473524</td></tr><tr><td>C0418</td><td>Ross</td><td>male</td><td>Lee</td><td>Californiya</td><td>789058243</td></tr><tr><td>C0309</td><td>Anthony</td><td>male</td><td>Cox</td><td>Nw York</td><td>789798530</td></tr><tr><td>C0463</td><td>Martin</td><td>M</td><td>null</td><td>california</td><td>790153522</td></tr><tr><td>C0498</td><td>Jeremy</td><td>male</td><td>Williams</td><td>Texas</td><td>790647519</td></tr><tr><td>C0425</td><td>Justin</td><td>Male</td><td>null</td><td>Californiya</td><td>791670874</td></tr><tr><td>C0734</td><td>John</td><td>male</td><td>Page</td><td>Nw York</td><td>794241662</td></tr><tr><td>C1000</td><td>Todd</td><td>Male</td><td>Robinson</td><td>Californiya</td><td>796934918</td></tr><tr><td>C0409</td><td>Robert</td><td>Male</td><td>Greer</td><td>New Yorkk</td><td>797692134</td></tr><tr><td>C0341</td><td>David</td><td>M</td><td>null</td><td>Nw York</td><td>797932055</td></tr><tr><td>C0253</td><td>Michael</td><td>Male</td><td>null</td><td>Ohho</td><td>798490734</td></tr><tr><td>C0513</td><td>Danielle</td><td>F</td><td>null</td><td>Nw York</td><td>800448153</td></tr><tr><td>C0760</td><td>Savannah</td><td>F</td><td>Davis</td><td>New York</td><td>801729823</td></tr><tr><td>C0358</td><td>Roger</td><td>Male</td><td>Thompson</td><td>Ohio</td><td>802127690</td></tr><tr><td>C0383</td><td>Lisa</td><td>female</td><td>Miller</td><td>Texaz</td><td>802594377</td></tr><tr><td>C0416</td><td>Nicholas</td><td>Male</td><td>Browning</td><td>New Yorkk</td><td>805157487</td></tr><tr><td>C0908</td><td>Kevin</td><td>male</td><td>Cruz</td><td>New York</td><td>805184298</td></tr><tr><td>C0687</td><td>William</td><td>Male</td><td>Thomas</td><td>Nw York</td><td>806153788</td></tr><tr><td>C0523</td><td>Raymond</td><td>M</td><td>Wood</td><td>Texas</td><td>806609242</td></tr><tr><td>C0759</td><td>Nicholas</td><td>Male</td><td>null</td><td>Ohho</td><td>808244293</td></tr><tr><td>C0491</td><td>Aaron</td><td>male</td><td>Barnes</td><td>New Yorkk</td><td>808499780</td></tr><tr><td>C0240</td><td>Jessica</td><td>female</td><td>null</td><td>NY</td><td>810767865</td></tr><tr><td>C0338</td><td>Richard</td><td>male</td><td>null</td><td>Ohio</td><td>811187611</td></tr><tr><td>C0879</td><td>Nicholas</td><td>Male</td><td>Ramirez</td><td>Californiya</td><td>812243872</td></tr><tr><td>C0595</td><td>Nicholas</td><td>male</td><td>Crawford</td><td>New Yorkk</td><td>814263239</td></tr><tr><td>C0435</td><td>Robert</td><td>Male</td><td>null</td><td>New York</td><td>815533127</td></tr><tr><td>C0085</td><td>Lindsay</td><td>female</td><td>Roberts</td><td>Ohio</td><td>815631005</td></tr><tr><td>C0164</td><td>Theresa</td><td>Female</td><td>Davis</td><td>Texaz</td><td>816347228</td></tr><tr><td>C0065</td><td>Anthony</td><td>M</td><td>Butler</td><td>Ohho</td><td>816774692</td></tr><tr><td>C0618</td><td>Tiffany</td><td>Female</td><td>Jones</td><td>NY</td><td>816849730</td></tr><tr><td>C0670</td><td>Kimberly</td><td>F</td><td>White</td><td>New Yorkk</td><td>816996056</td></tr><tr><td>C0674</td><td>Laura</td><td>Female</td><td>null</td><td>Texas</td><td>817261459</td></tr><tr><td>C0960</td><td>David</td><td>Male</td><td>Butler</td><td>Nw York</td><td>817470751</td></tr><tr><td>C0619</td><td>Zachary</td><td>male</td><td>Nguyen</td><td>NY</td><td>817783305</td></tr><tr><td>C0127</td><td>Frank</td><td>Male</td><td>Turner</td><td>null</td><td>817844697</td></tr><tr><td>C0888</td><td>Donald</td><td>male</td><td>Lewis</td><td>New York</td><td>818636644</td></tr><tr><td>C0923</td><td>Richard</td><td>Male</td><td>Mcdaniel</td><td>Ohio</td><td>819562443</td></tr><tr><td>C0247</td><td>Steven</td><td>male</td><td>Williams</td><td>New York</td><td>819701950</td></tr><tr><td>C0897</td><td>James</td><td>male</td><td>Morgan</td><td>Nw York</td><td>821294237</td></tr><tr><td>C0262</td><td>Kyle</td><td>male</td><td>Church</td><td>Ohho</td><td>821572393</td></tr><tr><td>C0293</td><td>Bradley</td><td>Male</td><td>Black</td><td>Texaz</td><td>824562887</td></tr><tr><td>C0210</td><td>Thomas</td><td>M</td><td>Lopez</td><td>Ohho</td><td>826470616</td></tr><tr><td>C0367</td><td>Thomas</td><td>Male</td><td>Middleton</td><td>Ohio</td><td>826582990</td></tr><tr><td>C0438</td><td>Melanie</td><td>Female</td><td>Little</td><td>New Yorkk</td><td>828289179</td></tr><tr><td>C0354</td><td>Mitchell</td><td>male</td><td>Johnson</td><td>california</td><td>829876388</td></tr><tr><td>C0884</td><td>Jose</td><td>Male</td><td>null</td><td>null</td><td>833578977</td></tr><tr><td>C0507</td><td>John</td><td>Male</td><td>Hale</td><td>california</td><td>833651521</td></tr><tr><td>C0909</td><td>Steven</td><td>Male</td><td>Hamilton</td><td>Californiya</td><td>833896331</td></tr><tr><td>C0171</td><td>Tim</td><td>Male</td><td>Cameron</td><td>Texaz</td><td>836329420</td></tr><tr><td>C0719</td><td>Cynthia</td><td>F</td><td>Hurley</td><td>New York</td><td>836692730</td></tr><tr><td>C0359</td><td>Alexander</td><td>Male</td><td>Morrison</td><td>Texas</td><td>836921153</td></tr><tr><td>C0465</td><td>Andre</td><td>Male</td><td>null</td><td>Texas</td><td>837685476</td></tr><tr><td>C0600</td><td>Edwin</td><td>male</td><td>null</td><td>NY</td><td>837780909</td></tr><tr><td>C0981</td><td>Matthew</td><td>Male</td><td>Martinez</td><td>Texas</td><td>841521315</td></tr><tr><td>C0104</td><td>Stanley</td><td>Male</td><td>Martin</td><td>Nw York</td><td>842670625</td></tr><tr><td>C0817</td><td>Caroline</td><td>Female</td><td>null</td><td>Nw York</td><td>842908366</td></tr><tr><td>C0633</td><td>Kathryn</td><td>female</td><td>Kim</td><td>Texas</td><td>844775825</td></tr><tr><td>C0284</td><td>Erik</td><td>M</td><td>Baker</td><td>null</td><td>845786288</td></tr><tr><td>C0412</td><td>Jessica</td><td>F</td><td>Smith</td><td>Texas</td><td>847384935</td></tr><tr><td>C0480</td><td>David</td><td>Male</td><td>Smith</td><td>Texaz</td><td>847715785</td></tr><tr><td>C0397</td><td>Glenda</td><td>F</td><td>Jackson</td><td>Texas</td><td>851721298</td></tr><tr><td>C0766</td><td>Brandon</td><td>male</td><td>Edwards</td><td>New Yorkk</td><td>851825607</td></tr><tr><td>C0751</td><td>Benjamin</td><td>M</td><td>null</td><td>california</td><td>852325407</td></tr><tr><td>C0218</td><td>Daniel</td><td>Male</td><td>Wilcox</td><td>Ohio</td><td>852841205</td></tr><tr><td>C0216</td><td>Spencer</td><td>Male</td><td>Howard</td><td>Texas</td><td>854291313</td></tr><tr><td>C0838</td><td>Jesse</td><td>M</td><td>Myers</td><td>Texas</td><td>854563917</td></tr><tr><td>C0057</td><td>Brian</td><td>M</td><td>Price</td><td>Ohho</td><td>857377811</td></tr><tr><td>C0202</td><td>Jason</td><td>male</td><td>null</td><td>Ohho</td><td>858376262</td></tr><tr><td>C0165</td><td>Gregory</td><td>M</td><td>Ortega</td><td>NY</td><td>859348325</td></tr><tr><td>C0197</td><td>Tyler</td><td>male</td><td>Larsen</td><td>Nw York</td><td>860616468</td></tr><tr><td>C0451</td><td>Brian</td><td>Male</td><td>Cooper</td><td>Ohio</td><td>861425250</td></tr><tr><td>C0602</td><td>Bill</td><td>M</td><td>Ochoa</td><td>california</td><td>861882676</td></tr><tr><td>C0667</td><td>Austin</td><td>male</td><td>Hogan</td><td>NY</td><td>861991792</td></tr><tr><td>C0883</td><td>Brian</td><td>Male</td><td>Beard</td><td>california</td><td>862014263</td></tr><tr><td>C0400</td><td>Jesse</td><td>M</td><td>null</td><td>null</td><td>863085099</td></tr><tr><td>C0045</td><td>Andrew</td><td>Male</td><td>Hopkins</td><td>Nw York</td><td>863152583</td></tr><tr><td>C0209</td><td>Andrew</td><td>M</td><td>Curtis</td><td>New York</td><td>866604595</td></tr><tr><td>C0835</td><td>Johnny</td><td>M</td><td>Coleman</td><td>New Yorkk</td><td>866623520</td></tr><tr><td>C0348</td><td>Mike</td><td>M</td><td>Burke</td><td>Texas</td><td>866775234</td></tr><tr><td>C0068</td><td>John</td><td>M</td><td>null</td><td>null</td><td>866810493</td></tr><tr><td>C0453</td><td>Jacob</td><td>Male</td><td>Coffey</td><td>Ohho</td><td>867436512</td></tr><tr><td>C0481</td><td>Timothy</td><td>male</td><td>null</td><td>Texaz</td><td>868249618</td></tr><tr><td>C0149</td><td>Robert</td><td>Male</td><td>Adkins</td><td>New York</td><td>868364514</td></tr><tr><td>C0096</td><td>Christina</td><td>F</td><td>Brown</td><td>Californiya</td><td>869867231</td></tr><tr><td>C0509</td><td>Nicholas</td><td>male</td><td>null</td><td>Ohio</td><td>872175577</td></tr><tr><td>C0561</td><td>Christopher</td><td>M</td><td>null</td><td>Ohho</td><td>876240093</td></tr><tr><td>C0512</td><td>Ryan</td><td>M</td><td>Lee</td><td>Nw York</td><td>877857648</td></tr><tr><td>C0972</td><td>Dennis</td><td>M</td><td>null</td><td>Californiya</td><td>878034243</td></tr><tr><td>C0939</td><td>Sandra</td><td>female</td><td>null</td><td>Californiya</td><td>879283301</td></tr><tr><td>C0651</td><td>Natalie</td><td>F</td><td>Smith</td><td>New Yorkk</td><td>880350546</td></tr><tr><td>C0804</td><td>Timothy</td><td>Male</td><td>Cisneros</td><td>Californiya</td><td>881190585</td></tr><tr><td>C0937</td><td>Kyle</td><td>male</td><td>Robertson</td><td>Californiya</td><td>881326075</td></tr><tr><td>C0368</td><td>Robin</td><td>F</td><td>null</td><td>Ohho</td><td>882484061</td></tr><tr><td>C0445</td><td>Michael</td><td>Male</td><td>Savage</td><td>New York</td><td>882654392</td></tr><tr><td>C0332</td><td>Erika</td><td>F</td><td>null</td><td>Californiya</td><td>884658437</td></tr><tr><td>C0796</td><td>Erin</td><td>Female</td><td>Young</td><td>Texaz</td><td>884967739</td></tr><tr><td>C0527</td><td>Carlos</td><td>male</td><td>Bowman</td><td>Ohho</td><td>886438183</td></tr><tr><td>C0511</td><td>Chad</td><td>M</td><td>Ramos</td><td>Texas</td><td>886579305</td></tr><tr><td>C0298</td><td>Carla</td><td>female</td><td>Rosario</td><td>california</td><td>889890252</td></tr><tr><td>C0862</td><td>Bryan</td><td>male</td><td>Hernandez</td><td>NY</td><td>890541146</td></tr><tr><td>C0037</td><td>Brett</td><td>Male</td><td>null</td><td>null</td><td>890898446</td></tr><tr><td>C0497</td><td>Oscar</td><td>male</td><td>Mcgrath</td><td>New York</td><td>891196755</td></tr><tr><td>C0826</td><td>Lisa</td><td>Female</td><td>Holloway</td><td>New Yorkk</td><td>891412693</td></tr><tr><td>C0640</td><td>John</td><td>male</td><td>null</td><td>New York</td><td>891912403</td></tr><tr><td>C0363</td><td>Roy</td><td>M</td><td>Hernandez</td><td>New Yorkk</td><td>893614036</td></tr><tr><td>C0564</td><td>Dakota</td><td>male</td><td>Jones</td><td>Nw York</td><td>893799621</td></tr><tr><td>C0343</td><td>Matthew</td><td>male</td><td>Berry</td><td>Ohio</td><td>894819798</td></tr><tr><td>C0815</td><td>Matthew</td><td>M</td><td>Sanchez</td><td>New York</td><td>896588352</td></tr><tr><td>C0496</td><td>Sherry</td><td>F</td><td>Mckenzie</td><td>New Yorkk</td><td>897440990</td></tr><tr><td>C0322</td><td>Joseph</td><td>male</td><td>null</td><td>Texaz</td><td>897801780</td></tr><tr><td>C0304</td><td>Calvin</td><td>Male</td><td>Soto</td><td>New Yorkk</td><td>898083634</td></tr><tr><td>C0110</td><td>Megan</td><td>F</td><td>Miller</td><td>Ohio</td><td>898146425</td></tr><tr><td>C0360</td><td>Gabriel</td><td>Male</td><td>Walker</td><td>Ohho</td><td>898877272</td></tr><tr><td>C0248</td><td>Michelle</td><td>F</td><td>Morrow</td><td>california</td><td>899686937</td></tr><tr><td>C0230</td><td>Daniel</td><td>male</td><td>Mitchell</td><td>california</td><td>899869584</td></tr><tr><td>C0492</td><td>Christopher</td><td>Male</td><td>Ford</td><td>Texas</td><td>901324128</td></tr><tr><td>C0821</td><td>Eddie</td><td>male</td><td>Smith</td><td>NY</td><td>901694656</td></tr><tr><td>C0829</td><td>Eric</td><td>male</td><td>Snyder</td><td>NY</td><td>903113332</td></tr><tr><td>C0035</td><td>Joshua</td><td>M</td><td>Sullivan</td><td>Texaz</td><td>904588403</td></tr><tr><td>C0426</td><td>Brandon</td><td>M</td><td>Hernandez</td><td>null</td><td>904605617</td></tr><tr><td>C0157</td><td>John</td><td>M</td><td>null</td><td>Nw York</td><td>905215215</td></tr><tr><td>C0185</td><td>James</td><td>M</td><td>Murphy</td><td>NY</td><td>906918733</td></tr><tr><td>C0056</td><td>Sonia</td><td>female</td><td>Vaughn</td><td>Californiya</td><td>906940374</td></tr><tr><td>C0224</td><td>Cesar</td><td>male</td><td>null</td><td>Texas</td><td>907426622</td></tr><tr><td>C0962</td><td>Penny</td><td>F</td><td>null</td><td>Ohho</td><td>908389138</td></tr><tr><td>C0317</td><td>Steven</td><td>M</td><td>Stark</td><td>Californiya</td><td>908701469</td></tr><tr><td>C0437</td><td>Richard</td><td>M</td><td>Williams</td><td>NY</td><td>908719026</td></tr><tr><td>C0790</td><td>Bryan</td><td>Male</td><td>null</td><td>Texas</td><td>910511306</td></tr><tr><td>C0113</td><td>Fernando</td><td>male</td><td>Martinez</td><td>Californiya</td><td>913039242</td></tr><tr><td>C0280</td><td>Andrew</td><td>male</td><td>Smith</td><td>null</td><td>913696910</td></tr><tr><td>C0168</td><td>David</td><td>male</td><td>Miller</td><td>california</td><td>914367227</td></tr><tr><td>C0023</td><td>Grant</td><td>male</td><td>Bartlett</td><td>Ohio</td><td>914981950</td></tr><tr><td>C0378</td><td>Dennis</td><td>male</td><td>Black</td><td>New Yorkk</td><td>915183314</td></tr><tr><td>C0029</td><td>Timothy</td><td>male</td><td>null</td><td>Ohho</td><td>916674499</td></tr><tr><td>C0704</td><td>Scott</td><td>M</td><td>Watts</td><td>New Yorkk</td><td>918412763</td></tr><tr><td>C0693</td><td>Julie</td><td>female</td><td>Green</td><td>Texaz</td><td>918914982</td></tr><tr><td>C0963</td><td>Matthew</td><td>Male</td><td>Valentine</td><td>NY</td><td>920867331</td></tr><tr><td>C0464</td><td>Jordan</td><td>Male</td><td>Powers</td><td>california</td><td>922144773</td></tr><tr><td>C0598</td><td>Desiree</td><td>F</td><td>null</td><td>Ohio</td><td>924579451</td></tr><tr><td>C0588</td><td>Kylie</td><td>Female</td><td>Garcia</td><td>Ohio</td><td>925104399</td></tr><tr><td>C0260</td><td>Robert</td><td>M</td><td>Anderson</td><td>NY</td><td>925176007</td></tr><tr><td>C0836</td><td>Charles</td><td>male</td><td>Trevino</td><td>New York</td><td>928045324</td></tr><tr><td>C0742</td><td>Joshua</td><td>male</td><td>Jackson</td><td>NY</td><td>928638658</td></tr><tr><td>C0026</td><td>Jesse</td><td>male</td><td>Wilkerson</td><td>NY</td><td>929200753</td></tr><tr><td>C0932</td><td>Misty</td><td>female</td><td>null</td><td>california</td><td>932144830</td></tr><tr><td>C0907</td><td>Bradley</td><td>Male</td><td>Parrish</td><td>Ohho</td><td>935295860</td></tr><tr><td>C0590</td><td>Michael</td><td>M</td><td>Roberts</td><td>NY</td><td>935562819</td></tr><tr><td>C0041</td><td>Michael</td><td>M</td><td>Stephens</td><td>Nw York</td><td>936931355</td></tr><tr><td>C0644</td><td>Donald</td><td>male</td><td>null</td><td>null</td><td>937279766</td></tr><tr><td>C0382</td><td>Crystal</td><td>F</td><td>null</td><td>New York</td><td>937570993</td></tr><tr><td>C0495</td><td>Robert</td><td>male</td><td>Lewis</td><td>Texaz</td><td>937732844</td></tr><tr><td>C0099</td><td>Corey</td><td>M</td><td>Valentine</td><td>Californiya</td><td>940177867</td></tr><tr><td>C0279</td><td>Jennifer</td><td>Female</td><td>Ferguson</td><td>New Yorkk</td><td>940386159</td></tr><tr><td>C0392</td><td>Jason</td><td>male</td><td>null</td><td>Californiya</td><td>941815485</td></tr><tr><td>C0991</td><td>David</td><td>M</td><td>Mcclure</td><td>Nw York</td><td>942227903</td></tr><tr><td>C0801</td><td>David</td><td>Male</td><td>Wagner</td><td>New York</td><td>943792034</td></tr><tr><td>C0082</td><td>Samuel</td><td>Male</td><td>Lopez</td><td>Ohho</td><td>945936644</td></tr><tr><td>C0569</td><td>Heather</td><td>F</td><td>Mueller</td><td>Ohho</td><td>947371152</td></tr><tr><td>C0706</td><td>Teresa</td><td>female</td><td>Whitehead</td><td>Ohio</td><td>947397419</td></tr><tr><td>C0004</td><td>Edward</td><td>male</td><td>Davis</td><td>Ohho</td><td>948185740</td></tr><tr><td>C0690</td><td>Christopher</td><td>M</td><td>Castro</td><td>null</td><td>948801129</td></tr><tr><td>C0499</td><td>Jason</td><td>Male</td><td>Watkins</td><td>Californiya</td><td>949235279</td></tr><tr><td>C0857</td><td>Austin</td><td>male</td><td>Espinoza</td><td>New York</td><td>950035063</td></tr><tr><td>C0066</td><td>Thomas</td><td>M</td><td>Kelly</td><td>california</td><td>951133429</td></tr><tr><td>C0811</td><td>Christine</td><td>Female</td><td>Allen</td><td>Nw York</td><td>951248898</td></tr><tr><td>C0398</td><td>Laura</td><td>female</td><td>Byrd</td><td>california</td><td>953504542</td></tr><tr><td>C0919</td><td>John</td><td>male</td><td>Sullivan</td><td>New York</td><td>953558475</td></tr><tr><td>C0781</td><td>Anthony</td><td>male</td><td>null</td><td>Nw York</td><td>953579645</td></tr><tr><td>C0208</td><td>Logan</td><td>M</td><td>null</td><td>Texas</td><td>956297833</td></tr><tr><td>C0928</td><td>Roger</td><td>Male</td><td>Patrick</td><td>New York</td><td>956406195</td></tr><tr><td>C0199</td><td>Maurice</td><td>Male</td><td>null</td><td>NY</td><td>959512357</td></tr><tr><td>C0377</td><td>Christopher</td><td>M</td><td>null</td><td>Texaz</td><td>960646196</td></tr><tr><td>C0575</td><td>Paula</td><td>female</td><td>Moore</td><td>Texas</td><td>963363067</td></tr><tr><td>C0141</td><td>Douglas</td><td>Male</td><td>Miller</td><td>Ohio</td><td>964338007</td></tr><tr><td>C0584</td><td>Thomas</td><td>Male</td><td>Williams</td><td>Nw York</td><td>965408422</td></tr><tr><td>C0552</td><td>Kevin</td><td>M</td><td>null</td><td>california</td><td>966365553</td></tr><tr><td>C0554</td><td>Gregory</td><td>M</td><td>Hicks</td><td>New Yorkk</td><td>966379552</td></tr><tr><td>C0898</td><td>Juan</td><td>M</td><td>Hamilton</td><td>Californiya</td><td>967722021</td></tr><tr><td>C0839</td><td>Lauren</td><td>F</td><td>Lopez</td><td>Texaz</td><td>968013277</td></tr><tr><td>C0207</td><td>Brandon</td><td>Male</td><td>null</td><td>Ohio</td><td>969215763</td></tr><tr><td>C0992</td><td>Ann</td><td>Female</td><td>Sandoval</td><td>NY</td><td>969607237</td></tr><tr><td>C0762</td><td>Jose</td><td>M</td><td>null</td><td>Californiya</td><td>970074242</td></tr><tr><td>C0459</td><td>Brittney</td><td>female</td><td>Cook</td><td>Nw York</td><td>970613474</td></tr><tr><td>C0405</td><td>Lee</td><td>male</td><td>Boyd</td><td>Texaz</td><td>973121661</td></tr><tr><td>C0555</td><td>Alec</td><td>M</td><td>null</td><td>Texaz</td><td>973473334</td></tr><tr><td>C0666</td><td>Joshua</td><td>male</td><td>null</td><td>Ohho</td><td>973558529</td></tr><tr><td>C0924</td><td>Albert</td><td>male</td><td>Bolton</td><td>NY</td><td>975029800</td></tr><tr><td>C0929</td><td>David</td><td>Male</td><td>null</td><td>Ohho</td><td>975050802</td></tr><tr><td>C0683</td><td>Gregory</td><td>Male</td><td>Stafford</td><td>Texaz</td><td>975245762</td></tr><tr><td>C0486</td><td>Matthew</td><td>Male</td><td>null</td><td>New York</td><td>975572862</td></tr><tr><td>C0005</td><td>Reginald</td><td>male</td><td>Dawson</td><td>Texas</td><td>975723056</td></tr><tr><td>C0075</td><td>Troy</td><td>Male</td><td>Garcia</td><td>NY</td><td>977039472</td></tr><tr><td>C0456</td><td>Brittany</td><td>female</td><td>Johnson</td><td>Texas</td><td>979173836</td></tr><tr><td>C0660</td><td>Adam</td><td>male</td><td>null</td><td>Texaz</td><td>981536889</td></tr><tr><td>C0006</td><td>Virginia</td><td>Female</td><td>Bryant</td><td>Ohio</td><td>981727452</td></tr><tr><td>C0254</td><td>Shannon</td><td>F</td><td>Johnson</td><td>New Yorkk</td><td>982008775</td></tr><tr><td>C0444</td><td>Jason</td><td>Male</td><td>Wagner</td><td>Ohho</td><td>982051754</td></tr><tr><td>C0935</td><td>Jeffrey</td><td>M</td><td>Rose</td><td>california</td><td>982674041</td></tr><tr><td>C0152</td><td>Steven</td><td>Male</td><td>null</td><td>Texaz</td><td>985715518</td></tr><tr><td>C0553</td><td>Miguel</td><td>Male</td><td>Fletcher</td><td>Ohio</td><td>987329480</td></tr><tr><td>C0049</td><td>Jeffrey</td><td>M</td><td>null</td><td>Texaz</td><td>987358591</td></tr><tr><td>C0249</td><td>Robert</td><td>male</td><td>Pena</td><td>NY</td><td>988134076</td></tr><tr><td>C0896</td><td>James</td><td>male</td><td>Williams</td><td>New Yorkk</td><td>989842552</td></tr><tr><td>C0342</td><td>Robert</td><td>M</td><td>null</td><td>Nw York</td><td>990325135</td></tr><tr><td>C0856</td><td>Thomas</td><td>Male</td><td>null</td><td>Californiya</td><td>990882906</td></tr><tr><td>C0519</td><td>Barbara</td><td>F</td><td>Ellis</td><td>Californiya</td><td>990974201</td></tr><tr><td>C0669</td><td>Kevin</td><td>male</td><td>Dixon</td><td>Ohio</td><td>991973958</td></tr><tr><td>C0245</td><td>Mary</td><td>F</td><td>Anderson</td><td>Texaz</td><td>992002853</td></tr><tr><td>C0539</td><td>Wanda</td><td>Female</td><td>Clark</td><td>NY</td><td>992095479</td></tr><tr><td>C0725</td><td>Andrew</td><td>M</td><td>Glover</td><td>Texaz</td><td>993500794</td></tr><tr><td>C0016</td><td>Joe</td><td>M</td><td>Barnett</td><td>Ohho</td><td>995874707</td></tr><tr><td>C0389</td><td>David</td><td>M</td><td>null</td><td>New York</td><td>997212778</td></tr><tr><td>C0682</td><td>Lindsey</td><td>Female</td><td>Mitchell</td><td>Texaz</td><td>997480282</td></tr><tr><td>C0462</td><td>Craig</td><td>M</td><td>Walker</td><td>Californiya</td><td>998993065</td></tr></tbody></table></div>"
      ]
     },
     "metadata": {
      "application/vnd.databricks.v1+output": {
       "addedWidgets": {},
       "aggData": [],
       "aggError": "",
       "aggOverflow": false,
       "aggSchema": [],
       "aggSeriesLimitReached": false,
       "aggType": "",
       "arguments": {},
       "columnCustomDisplayInfos": {},
       "data": [
        [
         "C0155",
         "Amanda",
         "female",
         "Browning",
         "Texas",
         "000802922"
        ],
        [
         "C0658",
         "Devin",
         "M",
         null,
         "Ohho",
         "000940878"
        ],
        [
         "C0866",
         "Phillip",
         "Male",
         "Lopez",
         "Nw York",
         "001086911"
        ],
        [
         "C0918",
         "Katie",
         "F",
         "Bailey",
         "Texas",
         "002938966"
        ],
        [
         "C0776",
         "Charles",
         "male",
         "Williams",
         "Californiya",
         "003899949"
        ],
        [
         "C0917",
         "Sandra",
         "F",
         "Gonzalez",
         "NY",
         "005434466"
        ],
        [
         "C0868",
         "Tyler",
         "Male",
         "Garrison",
         "NY",
         "005571624"
        ],
        [
         "C0267",
         "James",
         "male",
         null,
         "Nw York",
         "005669453"
        ],
        [
         "C0325",
         "Bonnie",
         "female",
         null,
         "Texas",
         "005698959"
        ],
        [
         "C0938",
         "Alexander",
         "Male",
         "Miller",
         "Texaz",
         "007169190"
        ],
        [
         "C0479",
         "Jack",
         "male",
         null,
         "Ohho",
         "007204052"
        ],
        [
         "C0009",
         "Samuel",
         "male",
         "Mcconnell",
         "Californiya",
         "007348687"
        ],
        [
         "C0472",
         "William",
         "Male",
         "Mullins",
         "New York",
         "008377542"
        ],
        [
         "C0115",
         "William",
         "Male",
         "Branch",
         "New York",
         "008417074"
        ],
        [
         "C0008",
         "Robert",
         "Male",
         "Pierce",
         "New York",
         "009012352"
        ],
        [
         "C0401",
         "Timothy",
         "male",
         "Guzman",
         "Texas",
         "009775821"
        ],
        [
         "C0789",
         "John",
         "M",
         "Gonzalez",
         "Ohho",
         "010509576"
        ],
        [
         "C0672",
         "Daniel",
         "male",
         "Fernandez",
         "Ohho",
         "014964372"
        ],
        [
         "C0563",
         "Katherine",
         "Female",
         "Higgins",
         "New Yorkk",
         "016097231"
        ],
        [
         "C0953",
         "David",
         "Male",
         "Lynch",
         "Californiya",
         "016865351"
        ],
        [
         "C0428",
         "Joseph",
         "M",
         "Moore",
         "california",
         "017470860"
        ],
        [
         "C0036",
         "Lori",
         "Female",
         "Long",
         "Californiya",
         "017532219"
        ],
        [
         "C0019",
         "Michael",
         "male",
         null,
         "New Yorkk",
         "018105442"
        ],
        [
         "C0956",
         "Mark",
         "M",
         "Allen",
         "Ohio",
         "018754713"
        ],
        [
         "C0958",
         "Molly",
         "female",
         "Gill",
         "NY",
         "020583905"
        ],
        [
         "C0779",
         "Shannon",
         "male",
         "Bates",
         "california",
         "021303327"
        ],
        [
         "C0187",
         "Thomas",
         "M",
         null,
         "New Yorkk",
         "021777542"
        ],
        [
         "C0990",
         "Kiara",
         "Female",
         "Miranda",
         "Ohio",
         "022739474"
        ],
        [
         "C0200",
         "Mario",
         "M",
         "Huff",
         null,
         "023819137"
        ],
        [
         "C0394",
         "Erin",
         "female",
         "Carroll",
         "NY",
         "024767243"
        ],
        [
         "C0843",
         "Edward",
         "male",
         "Walker",
         "NY",
         "024898098"
        ],
        [
         "C0828",
         "Shannon",
         "female",
         null,
         "Nw York",
         "027835510"
        ],
        [
         "C0533",
         "Gabriel",
         "Male",
         null,
         "Ohio",
         "028432126"
        ],
        [
         "C0531",
         "Troy",
         "M",
         null,
         "New Yorkk",
         "028947382"
        ],
        [
         "C0369",
         "Robert",
         "male",
         "Wiggins",
         "california",
         "029050987"
        ],
        [
         "C0020",
         "Robert",
         "Male",
         null,
         "NY",
         "029416639"
        ],
        [
         "C0403",
         "Jasmine",
         "F",
         null,
         "Californiya",
         "030410612"
        ],
        [
         "C0391",
         "Eric",
         "M",
         "Bailey",
         "New York",
         "030920130"
        ],
        [
         "C0384",
         "Cory",
         "M",
         "Oconnor",
         "california",
         "030980111"
        ],
        [
         "C0565",
         "Mitchell",
         "M",
         null,
         "Texaz",
         "031874001"
        ],
        [
         "C0524",
         "Teresa",
         "female",
         "Martin",
         "Ohho",
         "034192490"
        ],
        [
         "C0551",
         "Amanda",
         "F",
         null,
         "Texas",
         "034520558"
        ],
        [
         "C0912",
         "Kristina",
         "Female",
         null,
         "Texaz",
         "035557592"
        ],
        [
         "C0201",
         "Cameron",
         "male",
         "Santiago",
         "Ohho",
         "035580197"
        ],
        [
         "C0421",
         "Herbert",
         "M",
         null,
         "Ohho",
         "035978898"
        ],
        [
         "C0763",
         "Mark",
         "Male",
         null,
         "Ohio",
         "039574576"
        ],
        [
         "C0101",
         "Robert",
         "male",
         "Johnson",
         "Ohio",
         "040610697"
        ],
        [
         "C0431",
         "Jeffrey",
         "M",
         "Martinez",
         "california",
         "042248141"
        ],
        [
         "C0880",
         "Aaron",
         "M",
         "Morrison",
         "Texaz",
         "044022527"
        ],
        [
         "C0587",
         "Edward",
         "male",
         null,
         "california",
         "044244391"
        ],
        [
         "C0979",
         "Andrew",
         "M",
         null,
         "New Yorkk",
         "044654606"
        ],
        [
         "C0417",
         "Troy",
         "Male",
         null,
         "Ohho",
         "045989729"
        ],
        [
         "C0033",
         "Joshua",
         "M",
         "Robinson",
         "Nw York",
         "047014271"
        ],
        [
         "C0583",
         "Jim",
         "male",
         "Fields",
         "NY",
         "047015903"
        ],
        [
         "C0007",
         "Benjamin",
         "Male",
         "Shepherd",
         "Ohho",
         "048008736"
        ],
        [
         "C0951",
         "Luis",
         "Male",
         "Cooper",
         "New Yorkk",
         "048066515"
        ],
        [
         "C0675",
         "John",
         "Male",
         "Tucker",
         null,
         "049591830"
        ],
        [
         "C0750",
         "Kevin",
         "Male",
         "Townsend",
         "NY",
         "050143776"
        ],
        [
         "C0521",
         "Jack",
         "male",
         "Castaneda",
         "Nw York",
         "050272120"
        ],
        [
         "C0823",
         "Kimberly",
         "Female",
         "Brown",
         "Ohho",
         "050735527"
        ],
        [
         "C0064",
         "Jason",
         "M",
         null,
         null,
         "051160222"
        ],
        [
         "C0432",
         "Olivia",
         "female",
         null,
         "Ohho",
         "051369965"
        ],
        [
         "C0657",
         "Jason",
         "Male",
         null,
         "california",
         "051708625"
        ],
        [
         "C0900",
         "Eric",
         "Male",
         null,
         "Ohho",
         "051795739"
        ],
        [
         "C0855",
         "Franklin",
         "M",
         "Garcia",
         "Texas",
         "051903583"
        ],
        [
         "C0650",
         "John",
         "Male",
         "Wood",
         "Texaz",
         "052045462"
        ],
        [
         "C0060",
         "Jonathan",
         "male",
         null,
         "New York",
         "054349385"
        ],
        [
         "C0976",
         "Jeremy",
         "male",
         "Tran",
         "Texaz",
         "056039557"
        ],
        [
         "C0092",
         "Antonio",
         "male",
         null,
         "Ohio",
         "056245826"
        ],
        [
         "C0485",
         "Jamie",
         "male",
         "White",
         null,
         "056379133"
        ],
        [
         "C0613",
         "Wesley",
         "Male",
         "Nelson",
         "Nw York",
         "057473606"
        ],
        [
         "C0015",
         "William",
         "male",
         "Gonzalez",
         "New York",
         "058131272"
        ],
        [
         "C0370",
         "Sara",
         "female",
         null,
         null,
         "059281675"
        ],
        [
         "C0950",
         "Eric",
         "male",
         "Walker",
         "New Yorkk",
         "060649770"
        ],
        [
         "C0624",
         "Wesley",
         "M",
         "Carrillo",
         "NY",
         "061444952"
        ],
        [
         "C0567",
         "Raymond",
         "M",
         "Gonzalez",
         "Ohho",
         "062892798"
        ],
        [
         "C0854",
         "John",
         "Male",
         null,
         "New York",
         "063308990"
        ],
        [
         "C0980",
         "Bruce",
         "Male",
         "Hawkins",
         "Ohio",
         "064588071"
        ],
        [
         "C0579",
         "Donald",
         "Male",
         "Hubbard",
         "New Yorkk",
         "065532591"
        ],
        [
         "C0955",
         "Dawn",
         "female",
         "Rogers",
         "Californiya",
         "065538468"
        ],
        [
         "C0894",
         "Samantha",
         "female",
         null,
         null,
         "066747297"
        ],
        [
         "C0629",
         "Nathan",
         "Male",
         "Johnston",
         "NY",
         "069755427"
        ],
        [
         "C0998",
         "Wayne",
         "Male",
         null,
         "Texas",
         "070190887"
        ],
        [
         "C0850",
         "Randall",
         "M",
         null,
         "Texas",
         "070226114"
        ],
        [
         "C0570",
         "Lee",
         "male",
         "Mayo",
         "Texas",
         "071316720"
        ],
        [
         "C0877",
         "Kenneth",
         "M",
         "Hill",
         "Ohio",
         "071399457"
        ],
        [
         "C0448",
         "April",
         "Female",
         "Mcdowell",
         "New York",
         "073402459"
        ],
        [
         "C0664",
         "Leslie",
         "F",
         "Hughes",
         "Nw York",
         "075304211"
        ],
        [
         "C0047",
         "Seth",
         "Male",
         "Hess",
         "Texas",
         "075643618"
        ],
        [
         "C0167",
         "Kevin",
         "M",
         null,
         "New York",
         "076882950"
        ],
        [
         "C0631",
         "Tony",
         "M",
         null,
         "NY",
         "078322176"
        ],
        [
         "C0108",
         "Edwin",
         "M",
         "Burgess",
         "New York",
         "078398291"
        ],
        [
         "C0225",
         "Thomas",
         "Male",
         "Sosa",
         "Texaz",
         "079302406"
        ],
        [
         "C0997",
         "Joel",
         "M",
         "Jordan",
         "NY",
         "079891050"
        ],
        [
         "C0867",
         "Jorge",
         "Male",
         null,
         "Texas",
         "080128291"
        ],
        [
         "C0034",
         "Paula",
         "F",
         "Hanson",
         "Ohio",
         "081079840"
        ],
        [
         "C0905",
         "Alan",
         "male",
         "Melton",
         "NY",
         "082181707"
        ],
        [
         "C0001",
         "Gregory",
         "M",
         "Miller",
         "Ohho",
         "082573197"
        ],
        [
         "C0721",
         "Christine",
         "female",
         "White",
         "Nw York",
         "083332884"
        ],
        [
         "C0427",
         "Cameron",
         "Male",
         "Dominguez",
         "Nw York",
         "084178756"
        ],
        [
         "C0362",
         "Matthew",
         "male",
         "Gillespie",
         "Californiya",
         "084467165"
        ],
        [
         "C0705",
         "Matthew",
         "male",
         "Floyd",
         "Californiya",
         "084802032"
        ],
        [
         "C0986",
         "Vincent",
         "male",
         null,
         "Ohio",
         "085086406"
        ],
        [
         "C0386",
         "Jillian",
         "Female",
         "Stone",
         "california",
         "086660761"
        ],
        [
         "C0271",
         "Nicholas",
         "M",
         null,
         "Californiya",
         "088138659"
        ],
        [
         "C0558",
         "Donna",
         "F",
         null,
         "New Yorkk",
         "089635050"
        ],
        [
         "C0707",
         "Rebecca",
         "female",
         null,
         "Nw York",
         "091082433"
        ],
        [
         "C0863",
         "Martin",
         "Male",
         "Velasquez",
         "Californiya",
         "091468612"
        ],
        [
         "C0269",
         "Madison",
         "female",
         null,
         "Nw York",
         "093765203"
        ],
        [
         "C0086",
         "Robert",
         "M",
         null,
         "Ohho",
         "094071577"
        ],
        [
         "C0502",
         "Ryan",
         "male",
         "Fischer",
         "Texas",
         "094519863"
        ],
        [
         "C0625",
         "Randy",
         "M",
         null,
         "Ohio",
         "095498855"
        ],
        [
         "C0223",
         "Stephanie",
         "F",
         "Mckenzie",
         "Texas",
         "096701307"
        ],
        [
         "C0058",
         "Steven",
         "Male",
         "Miller",
         "Texaz",
         "097629075"
        ],
        [
         "C0148",
         "Matthew",
         "Male",
         null,
         "Californiya",
         "099895098"
        ],
        [
         "C0988",
         "Robert",
         "Male",
         "Thompson",
         "New Yorkk",
         "100276471"
        ],
        [
         "C0791",
         "Robert",
         "male",
         "Schultz",
         "Californiya",
         "101612177"
        ],
        [
         "C0913",
         "Robert",
         "male",
         "Ramirez",
         "NY",
         "102252620"
        ],
        [
         "C0573",
         "Adrian",
         "Male",
         null,
         "california",
         "102460360"
        ],
        [
         "C0589",
         "Allen",
         "Male",
         "Foster",
         "Texaz",
         "103540670"
        ],
        [
         "C0684",
         "Tony",
         "M",
         "Hurst",
         "Nw York",
         "103595792"
        ],
        [
         "C0885",
         "James",
         "male",
         "Williams",
         "Ohho",
         "106851769"
        ],
        [
         "C0638",
         "Justin",
         "male",
         "Collins",
         "california",
         "107899337"
        ],
        [
         "C0574",
         "Kari",
         "female",
         null,
         "Texas",
         "108346362"
        ],
        [
         "C0018",
         "Mariah",
         "F",
         "Wilson",
         "NY",
         "108825602"
        ],
        [
         "C0806",
         "Troy",
         "Male",
         null,
         "california",
         "110022003"
        ],
        [
         "C0510",
         "Tristan",
         "Male",
         null,
         "Nw York",
         "111112301"
        ],
        [
         "C0052",
         "Todd",
         "M",
         "Kelley",
         "New York",
         "111356646"
        ],
        [
         "C0663",
         "Lisa",
         "F",
         "Villa",
         "NY",
         "112149119"
        ],
        [
         "C0730",
         "Timothy",
         "M",
         "Thompson",
         "Californiya",
         "113463587"
        ],
        [
         "C0536",
         "Daniel",
         "M",
         "Hardy",
         "NY",
         "113851419"
        ],
        [
         "C0211",
         "Daniel",
         "Male",
         "Holland",
         "Ohho",
         "115114720"
        ],
        [
         "C0792",
         "Michael",
         "male",
         null,
         "Ohio",
         "117036199"
        ],
        [
         "C0768",
         "David",
         "M",
         "Galloway",
         "Ohho",
         "119573806"
        ],
        [
         "C0572",
         "Anthony",
         "male",
         null,
         "Californiya",
         "119625762"
        ],
        [
         "C0084",
         "Michael",
         "M",
         "Brooks",
         "Ohho",
         "119917665"
        ],
        [
         "C0916",
         "Lucas",
         "Male",
         "Hernandez",
         "Ohho",
         "120009745"
        ],
        [
         "C0196",
         "Kevin",
         "Male",
         null,
         null,
         "121192928"
        ],
        [
         "C0608",
         "Calvin",
         "M",
         null,
         "Texas",
         "124042598"
        ],
        [
         "C0287",
         "Sharon",
         "F",
         null,
         "Texaz",
         "124254335"
        ],
        [
         "C0111",
         "Brett",
         "M",
         null,
         "Texaz",
         "125917939"
        ],
        [
         "C0841",
         "Dwayne",
         "Male",
         "Keller",
         "New York",
         "126643837"
        ],
        [
         "C0671",
         "David",
         "M",
         "Bell",
         "New York",
         "129066607"
        ],
        [
         "C0336",
         "Jesse",
         "Male",
         null,
         "NY",
         "129121590"
        ],
        [
         "C0073",
         "Vincent",
         "M",
         null,
         "NY",
         "129128820"
        ],
        [
         "C0743",
         "Eric",
         "M",
         "Ross",
         "Nw York",
         "129768513"
        ],
        [
         "C0160",
         "Amy",
         "female",
         "Cruz",
         "Texaz",
         "130295709"
        ],
        [
         "C0420",
         "April",
         "F",
         "Fuentes",
         "NY",
         "132038203"
        ],
        [
         "C0069",
         "David",
         "Male",
         "Hardy",
         "Californiya",
         "133182060"
        ],
        [
         "C0543",
         "Bradley",
         "Male",
         "Meyers",
         "New York",
         "137031524"
        ],
        [
         "C0323",
         "Peter",
         "Male",
         "Henson",
         "Nw York",
         "137815524"
        ],
        [
         "C0255",
         "David",
         "male",
         "Adams",
         "Californiya",
         "138245144"
        ],
        [
         "C0520",
         "Jacob",
         "M",
         "Hughes",
         "Californiya",
         "138393386"
        ],
        [
         "C0469",
         "Helen",
         "Female",
         null,
         "Ohho",
         "139381277"
        ],
        [
         "C0489",
         "Adam",
         "M",
         "Smith",
         "Ohio",
         "140118196"
        ],
        [
         "C0061",
         "Gary",
         "male",
         "Nunez",
         "Nw York",
         "140208506"
        ],
        [
         "C0870",
         "Jasmine",
         "Female",
         "Edwards",
         "Ohho",
         "142162616"
        ],
        [
         "C0350",
         "David",
         "male",
         null,
         "Californiya",
         "147653850"
        ],
        [
         "C0639",
         "Crystal",
         "female",
         "Riley",
         "california",
         "148449590"
        ],
        [
         "C0881",
         "Scott",
         "Male",
         null,
         "NY",
         "148459253"
        ],
        [
         "C0371",
         "Leonard",
         "Male",
         null,
         "Ohho",
         "149197207"
        ],
        [
         "C0098",
         "Cassandra",
         "Female",
         "Jones",
         "New Yorkk",
         "149340457"
        ],
        [
         "C0266",
         "Amy",
         "female",
         "Buck",
         "New York",
         "150634899"
        ],
        [
         "C0933",
         "Patricia",
         "female",
         null,
         "Californiya",
         "150877563"
        ],
        [
         "C0637",
         "Michael",
         "M",
         "Wilkinson",
         "New Yorkk",
         "152060931"
        ],
        [
         "C0118",
         "Joseph",
         "male",
         "Morgan",
         "Ohho",
         "153165024"
        ],
        [
         "C0229",
         "Derrick",
         "male",
         "Walters",
         "New Yorkk",
         "154957652"
        ],
        [
         "C0189",
         "David",
         "M",
         "Jackson",
         "New Yorkk",
         "157402491"
        ],
        [
         "C0312",
         "Jack",
         "Male",
         "Pugh",
         "california",
         "158157436"
        ],
        [
         "C0761",
         "Steven",
         "Male",
         "Arnold",
         "New York",
         "159871151"
        ],
        [
         "C0727",
         "Rachel",
         "F",
         "Schwartz",
         "california",
         "160490324"
        ],
        [
         "C0324",
         "Tony",
         "male",
         null,
         "Ohho",
         "165221526"
        ],
        [
         "C0119",
         "Johnny",
         "M",
         null,
         "california",
         "165622040"
        ],
        [
         "C0735",
         "Carlos",
         "M",
         "Welch",
         "New Yorkk",
         "167909533"
        ],
        [
         "C0136",
         "Crystal",
         "Female",
         "Floyd",
         "Nw York",
         "168528691"
        ],
        [
         "C0696",
         "David",
         "Male",
         "Bass",
         "Ohho",
         "168736465"
        ],
        [
         "C0872",
         "Joseph",
         "Male",
         "Turner",
         "Ohio",
         "168988272"
        ],
        [
         "C0942",
         "Thomas",
         "Male",
         null,
         "california",
         "169127931"
        ],
        [
         "C0162",
         "James",
         "male",
         "Williams",
         "New York",
         "169829571"
        ],
        [
         "C0473",
         "Brandon",
         "male",
         null,
         "New Yorkk",
         "170130546"
        ],
        [
         "C0053",
         "Ian",
         "M",
         "Schneider",
         "Nw York",
         "174630010"
        ],
        [
         "C0124",
         "Gabriel",
         "M",
         null,
         "Nw York",
         "175915578"
        ],
        [
         "C0716",
         "Jennifer",
         "F",
         "Pittman",
         "Texaz",
         "177131215"
        ],
        [
         "C0578",
         "Daniel",
         "male",
         "Cook",
         "california",
         "177146885"
        ],
        [
         "C0356",
         "Stephen",
         "male",
         "Taylor",
         "Texaz",
         "177540442"
        ],
        [
         "C0121",
         "Melissa",
         "female",
         "Dominguez",
         "New Yorkk",
         "177764159"
        ],
        [
         "C0250",
         "Rodney",
         "Male",
         "Adams",
         "New York",
         "180071694"
        ],
        [
         "C0396",
         "Warren",
         "M",
         "Bell",
         "Texaz",
         "182324729"
        ],
        [
         "C0296",
         "Nancy",
         "female",
         null,
         "california",
         "182820684"
        ],
        [
         "C0954",
         "Keith",
         "male",
         null,
         null,
         "183169415"
        ],
        [
         "C0987",
         "Patrick",
         "male",
         "Flores",
         "Nw York",
         "183568455"
        ],
        [
         "C0042",
         "Steven",
         "Male",
         "Farley",
         "Texaz",
         "184605366"
        ],
        [
         "C0286",
         "Mary",
         "Female",
         "Griffin",
         "Texas",
         "184649918"
        ],
        [
         "C0703",
         "William",
         "Male",
         "Garcia",
         "Californiya",
         "185151126"
        ],
        [
         "C0238",
         "Jay",
         "M",
         "Wright",
         "Ohio",
         "187921561"
        ],
        [
         "C0503",
         "April",
         "female",
         null,
         "Texaz",
         "191786810"
        ],
        [
         "C0067",
         "Eric",
         "male",
         "Morris",
         "NY",
         "192181825"
        ],
        [
         "C0641",
         "Kirk",
         "M",
         "Ramirez",
         "Texaz",
         "193661684"
        ],
        [
         "C0205",
         "Christopher",
         "male",
         "Johnson",
         "Nw York",
         "196542452"
        ],
        [
         "C0846",
         "Erika",
         "F",
         "Lloyd",
         "Ohio",
         "198036631"
        ],
        [
         "C0436",
         "Vincent",
         "M",
         "Rodriguez",
         "Texas",
         "198070447"
        ],
        [
         "C0132",
         "Ryan",
         "M",
         "Stephens",
         null,
         "198594183"
        ],
        [
         "C0175",
         "Darrell",
         "male",
         "Smith",
         "New Yorkk",
         "198963876"
        ],
        [
         "C0147",
         "Christopher",
         "Male",
         "Hall",
         "Californiya",
         "200466014"
        ],
        [
         "C0515",
         "Elizabeth",
         "F",
         "Boyd",
         "NY",
         "200823160"
        ],
        [
         "C0802",
         "Craig",
         "male",
         "Lam",
         "Ohio",
         "200845543"
        ],
        [
         "C0971",
         "Jeff",
         "male",
         "Nelson",
         "NY",
         "202775865"
        ],
        [
         "C0140",
         "Cesar",
         "Male",
         "Wise",
         "NY",
         "203699425"
        ],
        [
         "C0617",
         "Michael",
         "M",
         null,
         "NY",
         "204826060"
        ],
        [
         "C0179",
         "Michael",
         "male",
         null,
         "Nw York",
         "204846261"
        ],
        [
         "C0927",
         "Christopher",
         "M",
         "Williams",
         "Ohho",
         "204846943"
        ],
        [
         "C0805",
         "Amber",
         "female",
         "Stephenson",
         null,
         "205172098"
        ],
        [
         "C0212",
         "Eric",
         "M",
         "Burgess",
         "NY",
         "207195425"
        ],
        [
         "C0117",
         "Donald",
         "male",
         "Terrell",
         "Californiya",
         "207889507"
        ],
        [
         "C0375",
         "Robert",
         "Male",
         null,
         "Ohio",
         "209203564"
        ],
        [
         "C0038",
         "Jose",
         "male",
         "Griffin",
         "california",
         "209802253"
        ],
        [
         "C0221",
         "Keith",
         "male",
         "Brown",
         "Texaz",
         "210248549"
        ],
        [
         "C0488",
         "John",
         "male",
         "Johnson",
         "New York",
         "210754618"
        ],
        [
         "C0313",
         "Christopher",
         "M",
         null,
         "Ohho",
         "211010961"
        ],
        [
         "C0678",
         "Austin",
         "M",
         "Acevedo",
         "New Yorkk",
         "211066362"
        ],
        [
         "C0941",
         "Melvin",
         "male",
         null,
         "New Yorkk",
         "213259674"
        ],
        [
         "C0959",
         "Jonathan",
         "Male",
         null,
         null,
         "213297939"
        ],
        [
         "C0173",
         "Alexander",
         "Male",
         "Flores",
         null,
         "216173440"
        ],
        [
         "C0793",
         "Jeffrey",
         "M",
         "Smith",
         "New York",
         "219332658"
        ],
        [
         "C0901",
         "Evan",
         "male",
         "Farrell",
         "Texaz",
         "221145811"
        ],
        [
         "C0822",
         "Timothy",
         "Male",
         null,
         "california",
         "221451673"
        ],
        [
         "C0274",
         "Michael",
         "male",
         "Martinez",
         "Ohho",
         "221454213"
        ],
        [
         "C0385",
         "Daniel",
         "Male",
         null,
         "NY",
         "223725368"
        ],
        [
         "C0965",
         "Scott",
         "M",
         null,
         "Ohho",
         "226607396"
        ],
        [
         "C0337",
         "William",
         "male",
         "Ray",
         null,
         "228707140"
        ],
        [
         "C0089",
         "Anthony",
         "Male",
         "Lin",
         "New York",
         "231346985"
        ],
        [
         "C0845",
         "Andrew",
         "Male",
         null,
         "New Yorkk",
         "233303052"
        ],
        [
         "C0204",
         "Raymond",
         "Male",
         null,
         "NY",
         "234229115"
        ],
        [
         "C0214",
         "Larry",
         "Male",
         "Knight",
         "Texaz",
         "238525972"
        ],
        [
         "C0022",
         "Timothy",
         "M",
         null,
         "Texas",
         "239012990"
        ],
        [
         "C0012",
         "Charles",
         "Male",
         null,
         "New York",
         "239140962"
        ],
        [
         "C0753",
         "Christian",
         "Male",
         "Gray",
         "New York",
         "239342932"
        ],
        [
         "C0978",
         "Kenneth",
         "male",
         "Ryan",
         null,
         "240016103"
        ],
        [
         "C0984",
         "Sheri",
         "F",
         "Torres",
         "Californiya",
         "243005733"
        ],
        [
         "C0319",
         "Karen",
         "F",
         "Sullivan",
         "Texas",
         "246947297"
        ],
        [
         "C0869",
         "Jillian",
         "female",
         "Hughes",
         null,
         "247496700"
        ],
        [
         "C0122",
         "Dustin",
         "male",
         "Cook",
         "Ohio",
         "248486801"
        ],
        [
         "C0733",
         "Lauren",
         "Female",
         "Salazar",
         "Ohio",
         "248554790"
        ],
        [
         "C0430",
         "Dan",
         "M",
         null,
         "Ohho",
         "249552779"
        ],
        [
         "C0966",
         "Christopher",
         "M",
         "Meadows",
         "Ohio",
         "249651683"
        ],
        [
         "C0930",
         "Charles",
         "M",
         null,
         "Texas",
         "250753104"
        ],
        [
         "C0661",
         "Charles",
         "Male",
         "Fritz",
         "New York",
         "251901495"
        ],
        [
         "C0500",
         "Jeffrey",
         "male",
         "Dean",
         "New York",
         "254371125"
        ],
        [
         "C0848",
         "Rebecca",
         "F",
         null,
         "Californiya",
         "256414863"
        ],
        [
         "C0380",
         "Steven",
         "Male",
         "Brown",
         "New Yorkk",
         "257558548"
        ],
        [
         "C0940",
         "Shane",
         "M",
         "Ward",
         "Texas",
         "259865545"
        ],
        [
         "C0698",
         "Joseph",
         "male",
         "Morrison",
         null,
         "260456543"
        ],
        [
         "C0410",
         "Brent",
         "Male",
         "Banks",
         "Nw York",
         "263013531"
        ],
        [
         "C0087",
         "John",
         "M",
         null,
         "Californiya",
         "263346589"
        ],
        [
         "C0767",
         "Jacqueline",
         "female",
         "Gilmore",
         "Texas",
         "264106117"
        ],
        [
         "C0785",
         "Janice",
         "female",
         "David",
         "california",
         "266389766"
        ],
        [
         "C0952",
         "Gregory",
         "male",
         null,
         "Ohio",
         "266490127"
        ],
        [
         "C0550",
         "Gregory",
         "Male",
         "Davidson",
         "Californiya",
         "267970472"
        ],
        [
         "C0501",
         "Valerie",
         "F",
         "Lester",
         "Texas",
         "268115021"
        ],
        [
         "C0231",
         "Jacob",
         "Male",
         "Walton",
         "Texas",
         "268796912"
        ],
        [
         "C0376",
         "Joshua",
         "M",
         "Anderson",
         "Californiya",
         "271145858"
        ],
        [
         "C0482",
         "Ricky",
         "M",
         "Watson",
         "Californiya",
         "271482998"
        ],
        [
         "C0329",
         "Steven",
         "male",
         "Davis",
         "Nw York",
         "271957229"
        ],
        [
         "C0439",
         "Brian",
         "M",
         "Acevedo",
         "New York",
         "272053601"
        ],
        [
         "C0281",
         "Michelle",
         "F",
         "Conrad",
         "Texaz",
         "272424961"
        ],
        [
         "C0891",
         "Marcus",
         "M",
         null,
         "Texaz",
         "272979341"
        ],
        [
         "C0995",
         "Jason",
         "M",
         "Graham",
         "New Yorkk",
         "272998455"
        ],
        [
         "C0586",
         "Dean",
         "male",
         "Coffey",
         null,
         "273155435"
        ],
        [
         "C0153",
         "Gregory",
         "M",
         "Krueger",
         "Californiya",
         "274654231"
        ],
        [
         "C0460",
         "Gina",
         "Female",
         "Woods",
         "california",
         "275041147"
        ],
        [
         "C0126",
         "Keith",
         "Male",
         "Oneal",
         "Californiya",
         "275564906"
        ],
        [
         "C0166",
         "Ronald",
         "Male",
         null,
         "NY",
         "276535075"
        ],
        [
         "C0357",
         "Jose",
         "Male",
         null,
         "NY",
         "277415602"
        ],
        [
         "C0340",
         "Frank",
         "male",
         null,
         "Californiya",
         "277769327"
        ],
        [
         "C0215",
         "Reginald",
         "M",
         "Lee",
         "Texaz",
         "278638019"
        ],
        [
         "C0559",
         "Carl",
         "M",
         "Ramirez",
         "NY",
         "279196546"
        ],
        [
         "C0285",
         "Ruben",
         "M",
         null,
         "Ohio",
         "280782463"
        ],
        [
         "C0475",
         "Charles",
         "male",
         "Cook",
         "New York",
         "280843692"
        ],
        [
         "C0226",
         "Christopher",
         "M",
         null,
         "New Yorkk",
         "280997339"
        ],
        [
         "C0820",
         "Christopher",
         "male",
         null,
         "Texas",
         "281429548"
        ],
        [
         "C0178",
         "Miguel",
         "male",
         "Chung",
         "NY",
         "282577204"
        ],
        [
         "C0757",
         "David",
         "M",
         "Clark",
         null,
         "282931210"
        ],
        [
         "C0616",
         "Robert",
         "male",
         "Zimmerman",
         "Californiya",
         "283194571"
        ],
        [
         "C0283",
         "Heather",
         "Female",
         "Hawkins",
         "Texas",
         "285960691"
        ],
        [
         "C0692",
         "Gregory",
         "M",
         "Cabrera",
         null,
         "286762954"
        ],
        [
         "C0681",
         "Tabitha",
         "female",
         "Adams",
         "california",
         "288108857"
        ],
        [
         "C0694",
         "Steven",
         "M",
         null,
         "Ohho",
         "288496796"
        ],
        [
         "C0749",
         "Thomas",
         "Male",
         "Jackson",
         "Nw York",
         "289551262"
        ],
        [
         "C0726",
         "Stephen",
         "male",
         "Walton",
         "Californiya",
         "289825974"
        ],
        [
         "C0373",
         "Peter",
         "M",
         null,
         "Texaz",
         "292873678"
        ],
        [
         "C0576",
         "Jordan",
         "Male",
         "Sullivan",
         "Californiya",
         "293252049"
        ],
        [
         "C0133",
         "Kevin",
         "Male",
         null,
         null,
         "294238712"
        ],
        [
         "C0477",
         "Timothy",
         "Male",
         null,
         "Nw York",
         "294623873"
        ],
        [
         "C0736",
         "Thomas",
         "M",
         "Williams",
         "Californiya",
         "295193511"
        ],
        [
         "C0649",
         "Amy",
         "F",
         "Reyes",
         "New York",
         "296737004"
        ],
        [
         "C0137",
         "Nicole",
         "F",
         null,
         "Nw York",
         "297910856"
        ],
        [
         "C0078",
         "Caleb",
         "M",
         "Ramirez",
         "NY",
         "301728783"
        ],
        [
         "C0094",
         "Darren",
         "Male",
         "Woods",
         "Texaz",
         "301924330"
        ],
        [
         "C0411",
         "Scott",
         "M",
         null,
         "california",
         "302090516"
        ],
        [
         "C0522",
         "William",
         "M",
         "Smith",
         "Texas",
         "302553355"
        ],
        [
         "C0381",
         "Roy",
         "male",
         "West",
         "Texaz",
         "304865846"
        ],
        [
         "C0316",
         "George",
         "male",
         null,
         "Texaz",
         "305099813"
        ],
        [
         "C0318",
         "Michael",
         "Male",
         "Solis",
         "Nw York",
         "305223195"
        ],
        [
         "C0607",
         "Timothy",
         "M",
         "Miller",
         "Texaz",
         "306558618"
        ],
        [
         "C0605",
         "Amy",
         "female",
         "Walker",
         "california",
         "306732769"
        ],
        [
         "C0612",
         "Teresa",
         "female",
         "Reed",
         "New Yorkk",
         "306924531"
        ],
        [
         "C0422",
         "Shelby",
         "Female",
         null,
         "New Yorkk",
         "307934376"
        ],
        [
         "C0002",
         "Marvin",
         "male",
         null,
         "california",
         "309625621"
        ],
        [
         "C0915",
         "Christopher",
         "Male",
         "Ryan",
         null,
         "312088400"
        ],
        [
         "C0294",
         "Peter",
         "Male",
         "Bennett",
         "Texaz",
         "312529723"
        ],
        [
         "C0424",
         "Shannon",
         "Female",
         "Barker",
         null,
         "313470842"
        ],
        [
         "C0778",
         "John",
         "M",
         "Houston",
         "Texaz",
         "313490734"
        ],
        [
         "C0655",
         "Zachary",
         "M",
         null,
         "Californiya",
         "314427494"
        ],
        [
         "C0876",
         "Jasmine",
         "F",
         "Washington",
         "New York",
         "317473422"
        ],
        [
         "C0786",
         "Leslie",
         "female",
         null,
         "Ohio",
         "318033286"
        ],
        [
         "C0609",
         "Derek",
         "M",
         "Anderson",
         "New York",
         "318078242"
        ],
        [
         "C0773",
         "Casey",
         "M",
         "Smith",
         "california",
         "318290201"
        ],
        [
         "C0525",
         "Carl",
         "Male",
         "Lindsey",
         "Ohio",
         "323198349"
        ],
        [
         "C0634",
         "Mariah",
         "Female",
         null,
         "Ohio",
         "323484391"
        ],
        [
         "C0011",
         "Jason",
         "male",
         "Morales",
         null,
         "325235301"
        ],
        [
         "C0903",
         "Brandon",
         "M",
         "Sullivan",
         null,
         "326306471"
        ],
        [
         "C0580",
         "Alexander",
         "male",
         "Valentine",
         "Ohho",
         "327340890"
        ],
        [
         "C0125",
         "Christopher",
         "Male",
         "Green",
         "Californiya",
         "328058594"
        ],
        [
         "C0585",
         "Kenneth",
         "Male",
         "Gardner",
         "Texaz",
         "328899851"
        ],
        [
         "C0506",
         "Kenneth",
         "male",
         null,
         "New York",
         "329100206"
        ],
        [
         "C0861",
         "Jacob",
         "male",
         "Williams",
         "Ohio",
         "330237698"
        ],
        [
         "C0679",
         "Dustin",
         "M",
         "Barnett",
         "Californiya",
         "331102620"
        ],
        [
         "C0709",
         "Jennifer",
         "female",
         "Nelson",
         "Nw York",
         "331691084"
        ],
        [
         "C0528",
         "Tracy",
         "M",
         "Stewart",
         "Texaz",
         "331959404"
        ],
        [
         "C0156",
         "Derrick",
         "Male",
         "Bennett",
         "NY",
         "333070492"
        ],
        [
         "C0860",
         "Cathy",
         "F",
         null,
         "NY",
         "333381434"
        ],
        [
         "C0114",
         "Tyrone",
         "M",
         "Brown",
         "Texaz",
         "333467711"
        ],
        [
         "C0461",
         "Randy",
         "Male",
         null,
         "Ohio",
         "338738644"
        ],
        [
         "C0921",
         "David",
         "M",
         "Lewis",
         "Texaz",
         "342171984"
        ],
        [
         "C0105",
         "David",
         "male",
         "Vance",
         "New York",
         "343030922"
        ],
        [
         "C0144",
         "Clifford",
         "male",
         null,
         "Texas",
         "343877021"
        ],
        [
         "C0656",
         "Richard",
         "M",
         "Jordan",
         "california",
         "344968900"
        ],
        [
         "C0440",
         "Larry",
         "male",
         null,
         "New Yorkk",
         "347392142"
        ],
        [
         "C0180",
         "John",
         "male",
         null,
         "Californiya",
         "348492942"
        ],
        [
         "C0402",
         "John",
         "M",
         null,
         "New York",
         "349923704"
        ],
        [
         "C0264",
         "Tracy",
         "Female",
         "Peterson",
         "Texas",
         "350028080"
        ],
        [
         "C0220",
         "Gregory",
         "Male",
         "Trujillo",
         "Texas",
         "350098032"
        ],
        [
         "C0206",
         "Steven",
         "Male",
         "Johnson",
         "New Yorkk",
         "350343088"
        ],
        [
         "C0911",
         "Scott",
         "male",
         "Beasley",
         "New York",
         "351538339"
        ],
        [
         "C0800",
         "Cody",
         "M",
         "Potter",
         "california",
         "351558727"
        ],
        [
         "C0443",
         "Matthew",
         "Male",
         "Owens",
         "california",
         "352400102"
        ],
        [
         "C0423",
         "Ryan",
         "M",
         "Maldonado",
         "NY",
         "355056327"
        ],
        [
         "C0330",
         "Bryan",
         "male",
         "Richmond",
         "Texaz",
         "355664342"
        ],
        [
         "C0331",
         "David",
         "male",
         null,
         "california",
         "356012698"
        ],
        [
         "C0814",
         "Julie",
         "F",
         "Adams",
         "Texaz",
         "356097767"
        ],
        [
         "C0970",
         "Tyler",
         "Male",
         "Allen",
         "Ohio",
         "356209150"
        ],
        [
         "C0825",
         "Michael",
         "M",
         "Valdez",
         "Texaz",
         "356457629"
        ],
        [
         "C0784",
         "Benjamin",
         "M",
         null,
         "Nw York",
         "356605783"
        ],
        [
         "C0054",
         "Christopher",
         "Male",
         "White",
         "california",
         "356849560"
        ],
        [
         "C0116",
         "Richard",
         "M",
         null,
         "Californiya",
         "358344223"
        ],
        [
         "C0335",
         "Larry",
         "male",
         "Jefferson",
         "NY",
         "358419404"
        ],
        [
         "C0195",
         "Tamara",
         "Female",
         null,
         "New York",
         "358495400"
        ],
        [
         "C0794",
         "Jason",
         "M",
         "Robertson",
         "Ohio",
         "359262855"
        ],
        [
         "C0192",
         "Thomas",
         "male",
         null,
         "Nw York",
         "359561933"
        ],
        [
         "C0593",
         "Courtney",
         "Female",
         null,
         "Californiya",
         "360269475"
        ],
        [
         "C0257",
         "Kevin",
         "Male",
         null,
         "Ohho",
         "361858506"
        ],
        [
         "C0468",
         "Tammy",
         "F",
         "Turner",
         "california",
         "362637054"
        ],
        [
         "C0484",
         "Jacob",
         "M",
         "Lyons",
         "New York",
         "362915393"
        ],
        [
         "C0074",
         "Roberto",
         "M",
         null,
         "Nw York",
         "363764583"
        ],
        [
         "C0795",
         "Anthony",
         "Male",
         null,
         null,
         "364084063"
        ],
        [
         "C0890",
         "Zachary",
         "Male",
         "Moore",
         "Texas",
         "367671951"
        ],
        [
         "C0040",
         "Yvette",
         "female",
         "Wood",
         "Ohho",
         "367782663"
        ],
        [
         "C0957",
         "Jason",
         "M",
         "Williams",
         "NY",
         "372845521"
        ],
        [
         "C0628",
         "Michael",
         "M",
         "Vazquez",
         "Nw York",
         "373320470"
        ],
        [
         "C0514",
         "Brian",
         "M",
         "Wallace",
         "New Yorkk",
         "374475345"
        ],
        [
         "C0186",
         "Christopher",
         "male",
         "Santos",
         "Ohio",
         "375129236"
        ],
        [
         "C0334",
         "John",
         "M",
         null,
         "california",
         "375726314"
        ],
        [
         "C0234",
         "Andrew",
         "M",
         "Bush",
         "Californiya",
         "376124410"
        ],
        [
         "C0222",
         "Samantha",
         "Female",
         "Barnes",
         "Californiya",
         "377374733"
        ],
        [
         "C0273",
         "Geoffrey",
         "Male",
         "Bell",
         "california",
         "378044149"
        ],
        [
         "C0131",
         "Daniel",
         "Male",
         null,
         "NY",
         "378424172"
        ],
        [
         "C0095",
         "Paul",
         "male",
         "Reed",
         "Texaz",
         "378885480"
        ],
        [
         "C0673",
         "Christopher",
         "Male",
         "Davila",
         "Ohio",
         "379022313"
        ],
        [
         "C0914",
         "Thomas",
         "male",
         "Smith",
         "New Yorkk",
         "380278181"
        ],
        [
         "C0176",
         "Edward",
         "M",
         "Bell",
         "New York",
         "381910140"
        ],
        [
         "C0728",
         "Brittany",
         "female",
         "Ramsey",
         "Ohho",
         "383054770"
        ],
        [
         "C0542",
         "Joshua",
         "M",
         "Kramer",
         "Ohio",
         "385877136"
        ],
        [
         "C0964",
         "Carolyn",
         "Female",
         null,
         "Californiya",
         "386588802"
        ],
        [
         "C0837",
         "Robert",
         "M",
         "Lopez",
         "New Yorkk",
         "386674190"
        ],
        [
         "C0128",
         "Tina",
         "Female",
         null,
         "Ohio",
         "387152762"
        ],
        [
         "C0668",
         "Joel",
         "male",
         "Mann",
         "Nw York",
         "387576444"
        ],
        [
         "C0827",
         "Amanda",
         "Female",
         "Collins",
         "Ohho",
         "390959957"
        ],
        [
         "C0895",
         "Gregg",
         "M",
         null,
         "Ohho",
         "393043927"
        ],
        [
         "C0627",
         "Lisa",
         "Female",
         "Hernandez",
         "NY",
         "393311560"
        ],
        [
         "C0487",
         "Melvin",
         "male",
         "Lewis",
         "New Yorkk",
         "394458655"
        ],
        [
         "C0774",
         "Travis",
         "Male",
         "Bowman",
         "New York",
         "397235347"
        ],
        [
         "C0516",
         "Nathaniel",
         "M",
         "Snyder",
         "NY",
         "397377759"
        ],
        [
         "C0889",
         "Christopher",
         "male",
         null,
         "california",
         "397468005"
        ],
        [
         "C0568",
         "Randy",
         "male",
         null,
         "california",
         "398883429"
        ],
        [
         "C0233",
         "Mary",
         "F",
         null,
         "Ohio",
         "400279865"
        ],
        [
         "C0701",
         "Christopher",
         "M",
         "Norton",
         "california",
         "400961699"
        ],
        [
         "C0169",
         "Keith",
         "male",
         "Reed",
         "New Yorkk",
         "401077473"
        ],
        [
         "C0858",
         "Joshua",
         "Male",
         "Payne",
         "california",
         "403564438"
        ],
        [
         "C0782",
         "Mary",
         "female",
         null,
         "california",
         "403622204"
        ],
        [
         "C0906",
         "Michael",
         "male",
         "Zuniga",
         "Ohio",
         "403785447"
        ],
        [
         "C0562",
         "Brenda",
         "Female",
         "Stephens",
         "Californiya",
         "404404846"
        ],
        [
         "C0311",
         "David",
         "male",
         "Owens",
         "california",
         "404419336"
        ],
        [
         "C0746",
         "Michael",
         "Male",
         "Young",
         "Nw York",
         "406721383"
        ],
        [
         "C0003",
         "Gregory",
         "Male",
         "Smith",
         "New Yorkk",
         "407071725"
        ],
        [
         "C0388",
         "Frank",
         "male",
         "Flores",
         "Ohho",
         "407298822"
        ],
        [
         "C0676",
         "Michael",
         "M",
         "Young",
         "Nw York",
         "408022183"
        ],
        [
         "C0755",
         "Amanda",
         "F",
         null,
         "New Yorkk",
         "408262092"
        ],
        [
         "C0030",
         "Desiree",
         "Female",
         "Washington",
         "Ohio",
         "408468745"
        ],
        [
         "C0711",
         "Katie",
         "female",
         "Murray",
         "Texas",
         "408808242"
        ],
        [
         "C0282",
         "Gavin",
         "male",
         "Sloan",
         "New York",
         "409560863"
        ],
        [
         "C0079",
         "Timothy",
         "Male",
         null,
         "New York",
         "410561810"
        ],
        [
         "C0406",
         "Darrell",
         "male",
         null,
         "Texas",
         "413218677"
        ],
        [
         "C0695",
         "Michael",
         "M",
         "Todd",
         "Texaz",
         "413436693"
        ],
        [
         "C0307",
         "James",
         "male",
         "Franco",
         "Texas",
         "413692485"
        ],
        [
         "C0217",
         "Susan",
         "female",
         "Smith",
         "Texaz",
         "414622277"
        ],
        [
         "C0601",
         "Garrett",
         "male",
         null,
         "Nw York",
         "414959933"
        ],
        [
         "C0904",
         "David",
         "Male",
         null,
         "New Yorkk",
         "415438803"
        ],
        [
         "C0691",
         "David",
         "Male",
         "Terry",
         "Texaz",
         "416187461"
        ],
        [
         "C0610",
         "Edward",
         "male",
         "Vazquez",
         "Nw York",
         "417743538"
        ],
        [
         "C0246",
         "Amanda",
         "F",
         "Kelly",
         "Ohho",
         "418522465"
        ],
        [
         "C0810",
         "James",
         "male",
         null,
         "Texaz",
         "419789059"
        ],
        [
         "C0043",
         "Rachel",
         "female",
         null,
         "New York",
         "419850542"
        ],
        [
         "C0922",
         "Peter",
         "M",
         null,
         null,
         "420249288"
        ],
        [
         "C0803",
         "John",
         "Male",
         null,
         "california",
         "423290734"
        ],
        [
         "C0948",
         "Richard",
         "M",
         "Powell",
         "Californiya",
         "424041200"
        ],
        [
         "C0983",
         "Daniel",
         "Male",
         null,
         "New York",
         "424264205"
        ],
        [
         "C0355",
         "Pamela",
         "F",
         "Mcbride",
         "NY",
         "425902226"
        ],
        [
         "C0977",
         "Daniel",
         "Male",
         "Malone",
         "Texas",
         "427297371"
        ],
        [
         "C0508",
         "Michael",
         "M",
         "Davis",
         "Ohho",
         "427857401"
        ],
        [
         "C0920",
         "William",
         "M",
         null,
         "Texas",
         "428215783"
        ],
        [
         "C0076",
         "James",
         "M",
         "Clark",
         "Texaz",
         "430922347"
        ],
        [
         "C0623",
         "Jerry",
         "M",
         null,
         "Texas",
         "432316606"
        ],
        [
         "C0739",
         "Anita",
         "F",
         "Cunningham",
         "New Yorkk",
         "432696423"
        ],
        [
         "C0982",
         "Kathy",
         "F",
         null,
         "Californiya",
         "435707216"
        ],
        [
         "C0659",
         "David",
         "Male",
         "Mullen",
         "Californiya",
         "436039045"
        ],
        [
         "C0379",
         "Paula",
         "F",
         "Adkins",
         "california",
         "437433821"
        ],
        [
         "C0320",
         "Cory",
         "Male",
         "Ramsey",
         "california",
         "438990756"
        ],
        [
         "C0237",
         "Marc",
         "Male",
         null,
         "NY",
         "439493309"
        ],
        [
         "C0732",
         "Dwayne",
         "male",
         "Montoya",
         "New York",
         "440167245"
        ],
        [
         "C0419",
         "Gordon",
         "Male",
         "Robinson",
         "california",
         "440467563"
        ],
        [
         "C0910",
         "Derek",
         "male",
         "Carpenter",
         "New York",
         "441171460"
        ],
        [
         "C0662",
         "David",
         "M",
         null,
         "Texaz",
         "441647109"
        ],
        [
         "C0931",
         "Timothy",
         "M",
         "Campbell",
         null,
         "442320679"
        ],
        [
         "C0429",
         "Mary",
         "F",
         "Buckley",
         "New Yorkk",
         "442927146"
        ],
        [
         "C0526",
         "Edgar",
         "M",
         "Bennett",
         "Californiya",
         "444542284"
        ],
        [
         "C0288",
         "Karen",
         "F",
         "Hays",
         null,
         "448286732"
        ],
        [
         "C0902",
         "Sean",
         "Male",
         "Harris",
         "New York",
         "448779964"
        ],
        [
         "C0021",
         "Rachel",
         "Female",
         null,
         "Nw York",
         "453662248"
        ],
        [
         "C0478",
         "James",
         "M",
         null,
         "Ohio",
         "454625243"
        ],
        [
         "C0292",
         "Shawn",
         "M",
         null,
         "New Yorkk",
         "456341394"
        ],
        [
         "C0467",
         "James",
         "Male",
         null,
         "NY",
         "456677367"
        ],
        [
         "C0944",
         "Carlos",
         "M",
         "Richards",
         "Texaz",
         "457378358"
        ],
        [
         "C0973",
         "Casey",
         "Male",
         "Le",
         "Ohio",
         "457602278"
        ],
        [
         "C0072",
         "Eric",
         "M",
         "Mora",
         "Californiya",
         "458923106"
        ],
        [
         "C0530",
         "Steven",
         "M",
         "Bennett",
         "Nw York",
         "460196325"
        ],
        [
         "C0044",
         "James",
         "male",
         "Robbins",
         "Nw York",
         "461347072"
        ],
        [
         "C0366",
         "John",
         "M",
         "Edwards",
         "Ohio",
         "462595855"
        ],
        [
         "C0268",
         "Jessica",
         "F",
         "Dawson",
         "Ohio",
         "463684353"
        ],
        [
         "C0783",
         "Victoria",
         "Female",
         "Nelson",
         "Nw York",
         "464512385"
        ],
        [
         "C0227",
         "Jeffrey",
         "male",
         null,
         "Ohho",
         "465357339"
        ],
        [
         "C0699",
         "Scott",
         "male",
         "Francis",
         "New York",
         "465941914"
        ],
        [
         "C0407",
         "Christian",
         "male",
         "Mcdaniel",
         "Ohho",
         "466191056"
        ],
        [
         "C0252",
         "Joan",
         "female",
         "Johnson",
         "california",
         "466710398"
        ],
        [
         "C0048",
         "Frank",
         "M",
         "Ross",
         "Ohho",
         "466831539"
        ],
        [
         "C0232",
         "Mark",
         "male",
         "Hopkins",
         "New York",
         "469860676"
        ],
        [
         "C0741",
         "Collin",
         "male",
         "Haynes",
         "New York",
         "470736773"
        ],
        [
         "C0158",
         "Jeffrey",
         "male",
         "Harris",
         "Nw York",
         "470868400"
        ],
        [
         "C0961",
         "John",
         "M",
         "Rodriguez",
         "Texaz",
         "472052543"
        ],
        [
         "C0228",
         "Travis",
         "male",
         "Jones",
         "New Yorkk",
         "473779006"
        ],
        [
         "C0994",
         "John",
         "male",
         "Patrick",
         "New York",
         "474065005"
        ],
        [
         "C0947",
         "James",
         "Male",
         "Robertson",
         "Californiya",
         "475561820"
        ],
        [
         "C0710",
         "Joshua",
         "Male",
         null,
         "New York",
         "478596750"
        ],
        [
         "C0747",
         "Timothy",
         "male",
         "Fisher",
         "Texas",
         "479517675"
        ],
        [
         "C0301",
         "Anthony",
         "Male",
         null,
         "New Yorkk",
         "479568961"
        ],
        [
         "C0415",
         "Anthony",
         "M",
         null,
         "Californiya",
         "480261829"
        ],
        [
         "C0926",
         "William",
         "Male",
         null,
         "New Yorkk",
         "480807314"
        ],
        [
         "C0871",
         "Daniel",
         "M",
         "Curry",
         "Texas",
         "481077923"
        ],
        [
         "C0455",
         "James",
         "Male",
         "Chen",
         "Californiya",
         "487420419"
        ],
        [
         "C0849",
         "Oscar",
         "M",
         "Gomez",
         null,
         "489634078"
        ],
        [
         "C0635",
         "John",
         "M",
         "Gibson",
         "Texaz",
         "490073913"
        ],
        [
         "C0039",
         "John",
         "male",
         "Mendoza",
         "Nw York",
         "490488896"
        ],
        [
         "C0188",
         "Wayne",
         "Male",
         "Snyder",
         "Texaz",
         "491384012"
        ],
        [
         "C0441",
         "Terri",
         "F",
         "Edwards",
         "Californiya",
         "493907825"
        ],
        [
         "C0251",
         "Roy",
         "M",
         "Cruz",
         "NY",
         "495401130"
        ],
        [
         "C0599",
         "Frederick",
         "M",
         "Williams",
         "New Yorkk",
         "496591418"
        ],
        [
         "C0028",
         "William",
         "male",
         "Smith",
         "Californiya",
         "497919481"
        ],
        [
         "C0093",
         "Samuel",
         "M",
         "Woods",
         "Ohho",
         "498105868"
        ],
        [
         "C0752",
         "Michael",
         "male",
         "Evans",
         "Texaz",
         "498350365"
        ],
        [
         "C0138",
         "William",
         "male",
         "Boone",
         null,
         "499812161"
        ],
        [
         "C0213",
         "Brian",
         "male",
         "Esparza",
         "Ohho",
         "499926999"
        ],
        [
         "C0799",
         "Brittany",
         "female",
         "Rodriguez",
         "New Yorkk",
         "500883494"
        ],
        [
         "C0886",
         "Angela",
         "female",
         null,
         "Ohho",
         "503457186"
        ],
        [
         "C0969",
         "Daniel",
         "M",
         "Hendrix",
         null,
         "503905580"
        ],
        [
         "C0353",
         "Nathan",
         "Male",
         null,
         "New Yorkk",
         "504241139"
        ],
        [
         "C0899",
         "David",
         "M",
         "Powell",
         "Texas",
         "504873647"
        ],
        [
         "C0597",
         "Dennis",
         "M",
         "Jones",
         "Californiya",
         "506761257"
        ],
        [
         "C0824",
         "Robert",
         "M",
         null,
         "Texaz",
         "507447361"
        ],
        [
         "C0830",
         "Michele",
         "female",
         "Beasley",
         "New Yorkk",
         "507517033"
        ],
        [
         "C0364",
         "Howard",
         "Male",
         "Carlson",
         "NY",
         "507628576"
        ],
        [
         "C0142",
         "Travis",
         "male",
         "Johnson",
         "Californiya",
         "508548337"
        ],
        [
         "C0689",
         "Hector",
         "Male",
         "Christensen",
         "Nw York",
         "508601600"
        ],
        [
         "C0277",
         "Jessica",
         "female",
         "Hawkins",
         "Californiya",
         "509952002"
        ],
        [
         "C0344",
         "Noah",
         "M",
         null,
         "Texas",
         "510296857"
        ],
        [
         "C0083",
         "Antonio",
         "Male",
         null,
         "Texas",
         "510567460"
        ],
        [
         "C0490",
         "Susan",
         "Female",
         null,
         "Texas",
         "513277362"
        ],
        [
         "C0999",
         "Alexandra",
         "female",
         "Fox",
         "california",
         "514788515"
        ],
        [
         "C0946",
         "Gabriel",
         "M",
         "Cole",
         "Californiya",
         "514853266"
        ],
        [
         "C0071",
         "Charles",
         "male",
         "Warren",
         "Texas",
         "515651928"
        ],
        [
         "C0713",
         "Carlos",
         "M",
         "Combs",
         "california",
         "516048874"
        ],
        [
         "C0256",
         "Dwayne",
         "M",
         null,
         "NY",
         "517339517"
        ],
        [
         "C0302",
         "Jason",
         "male",
         "Gonzales",
         "Nw York",
         "522570366"
        ],
        [
         "C0261",
         "Julie",
         "F",
         "Meyers",
         "New York",
         "522615596"
        ],
        [
         "C0203",
         "Michael",
         "Male",
         "Holloway",
         "Ohho",
         "523569572"
        ],
        [
         "C0145",
         "Aaron",
         "male",
         null,
         "Texaz",
         "523681709"
        ],
        [
         "C0615",
         "Jason",
         "Male",
         "Abbott",
         "Ohio",
         "524005465"
        ],
        [
         "C0771",
         "Matthew",
         "M",
         "Woods",
         "NY",
         "526217299"
        ],
        [
         "C0780",
         "Teresa",
         "female",
         "Morgan",
         "Californiya",
         "527171458"
        ],
        [
         "C0219",
         "Derek",
         "M",
         null,
         null,
         "527306899"
        ],
        [
         "C0717",
         "Trevor",
         "Male",
         "Fitzgerald",
         "Ohho",
         "527737923"
        ],
        [
         "C0534",
         "Brandon",
         "Male",
         "Gamble",
         "Ohho",
         "530002167"
        ],
        [
         "C0975",
         "Peter",
         "male",
         null,
         "New Yorkk",
         "530685706"
        ],
        [
         "C0135",
         "William",
         "M",
         "Watkins",
         "Texas",
         "532124144"
        ],
        [
         "C0258",
         "Sherry",
         "Female",
         null,
         "Texas",
         "533419413"
        ],
        [
         "C0476",
         "Jonathan",
         "male",
         "Daniel",
         "Texas",
         "534212238"
        ],
        [
         "C0239",
         "Frank",
         "male",
         null,
         "New York",
         "535126229"
        ],
        [
         "C0718",
         "John",
         "M",
         "Jones",
         "Texas",
         "535606961"
        ],
        [
         "C0925",
         "Susan",
         "F",
         null,
         "Texaz",
         "537874076"
        ],
        [
         "C0395",
         "Joseph",
         "M",
         null,
         "california",
         "538655716"
        ],
        [
         "C0647",
         "David",
         "M",
         "Allison",
         "NY",
         "539065495"
        ],
        [
         "C0549",
         "Alexander",
         "M",
         "Harris",
         "NY",
         "541716480"
        ],
        [
         "C0665",
         "Steven",
         "male",
         "White",
         "Nw York",
         "544828156"
        ],
        [
         "C0236",
         "Travis",
         "M",
         null,
         "california",
         "545776601"
        ],
        [
         "C0310",
         "Kevin",
         "Male",
         "Ray",
         "Texas",
         "546209671"
        ],
        [
         "C0163",
         "Tina",
         "female",
         "Holt",
         "New York",
         "546587281"
        ],
        [
         "C0102",
         "Dennis",
         "male",
         "Dominguez",
         "New York",
         "550011030"
        ],
        [
         "C0062",
         "Mark",
         "male",
         "Adams",
         "Texaz",
         "550550046"
        ],
        [
         "C0091",
         "Anna",
         "female",
         null,
         "Texas",
         "551203013"
        ],
        [
         "C0442",
         "Seth",
         "male",
         "Alexander",
         null,
         "555089445"
        ],
        [
         "C0050",
         "Kimberly",
         "female",
         "Wright",
         "Nw York",
         "556577221"
        ],
        [
         "C0777",
         "Justin",
         "M",
         null,
         "NY",
         "557234172"
        ],
        [
         "C0945",
         "Garrett",
         "male",
         "Miller",
         "Ohio",
         "557953164"
        ],
        [
         "C0080",
         "Ian",
         "male",
         "Fowler",
         null,
         "558150115"
        ],
        [
         "C0818",
         "Matthew",
         "Male",
         "Perez",
         "Nw York",
         "558260751"
        ],
        [
         "C0308",
         "Larry",
         "male",
         "Walker",
         "california",
         "558300489"
        ],
        [
         "C0764",
         "Matthew",
         "male",
         "Woods",
         "Ohho",
         "558936799"
        ],
        [
         "C0289",
         "John",
         "M",
         "Williams",
         "california",
         "559579989"
        ],
        [
         "C0174",
         "Chloe",
         "F",
         "Wheeler",
         "Ohio",
         "560597428"
        ],
        [
         "C0390",
         "Tanya",
         "Female",
         null,
         "california",
         "561244634"
        ],
        [
         "C0291",
         "Jeffrey",
         "M",
         null,
         "Texas",
         "561245225"
        ],
        [
         "C0729",
         "Alexis",
         "female",
         "Donovan",
         "california",
         "561713087"
        ],
        [
         "C0560",
         "Kimberly",
         "female",
         "Jones",
         "Nw York",
         "562111695"
        ],
        [
         "C0120",
         "Roger",
         "M",
         null,
         "Californiya",
         "562976885"
        ],
        [
         "C0654",
         "Richard",
         "M",
         "Nolan",
         "Texaz",
         "563507536"
        ],
        [
         "C0470",
         "Misty",
         "Female",
         "White",
         "Texas",
         "563825460"
        ],
        [
         "C0446",
         "Michael",
         "M",
         "Carrillo",
         "Nw York",
         "564484536"
        ],
        [
         "C0399",
         "Matthew",
         "M",
         null,
         "Ohho",
         "564987216"
        ],
        [
         "C0642",
         "Aaron",
         "male",
         null,
         "NY",
         "565743758"
        ],
        [
         "C0697",
         "Bryan",
         "M",
         "Anderson",
         "Texaz",
         "566092992"
        ],
        [
         "C0321",
         "Kelly",
         "female",
         null,
         "california",
         "567039426"
        ],
        [
         "C0748",
         "Debra",
         "Female",
         "Martin",
         "Nw York",
         "567118913"
        ],
        [
         "C0714",
         "Nicholas",
         "male",
         null,
         "california",
         "567745231"
        ],
        [
         "C0556",
         "Willie",
         "M",
         null,
         "Californiya",
         "568431594"
        ],
        [
         "C0765",
         "Johnathan",
         "male",
         "Rivera",
         null,
         "568504710"
        ],
        [
         "C0775",
         "Mark",
         "M",
         "Jenkins",
         "New York",
         "568919038"
        ],
        [
         "C0032",
         "Joshua",
         "male",
         "Carson",
         "NY",
         "568920245"
        ],
        [
         "C0452",
         "Theresa",
         "female",
         null,
         "Ohio",
         "570129654"
        ],
        [
         "C0541",
         "Carlos",
         "M",
         null,
         "Texaz",
         "572634991"
        ],
        [
         "C0680",
         "Aaron",
         "M",
         "Hampton",
         "Ohho",
         "572846258"
        ],
        [
         "C0632",
         "Kristina",
         "F",
         "Wright",
         "New Yorkk",
         "572862418"
        ],
        [
         "C0013",
         "Brandon",
         "M",
         null,
         "Ohio",
         "573359511"
        ],
        [
         "C0046",
         "Dennis",
         "Male",
         null,
         "Californiya",
         "573904617"
        ],
        [
         "C0797",
         "Justin",
         "male",
         "Schneider",
         "Texaz",
         "574097680"
        ],
        [
         "C0278",
         "Seth",
         "male",
         null,
         "New York",
         "574595993"
        ],
        [
         "C0063",
         "Latoya",
         "female",
         null,
         "Ohho",
         "575579346"
        ],
        [
         "C0643",
         "Brian",
         "Male",
         "Walker",
         "Ohho",
         "576737012"
        ],
        [
         "C0712",
         "Ashley",
         "F",
         "Moore",
         "Ohio",
         "576772550"
        ],
        [
         "C0109",
         "Caleb",
         "male",
         "Long",
         null,
         "580782929"
        ],
        [
         "C0892",
         "Christopher",
         "male",
         null,
         "NY",
         "580793035"
        ],
        [
         "C0620",
         "Shannon",
         "M",
         "Chang",
         "New Yorkk",
         "582409554"
        ],
        [
         "C0936",
         "Paul",
         "M",
         null,
         null,
         "582643392"
        ],
        [
         "C0243",
         "Eric",
         "Male",
         "Lopez",
         "New York",
         "582668500"
        ],
        [
         "C0471",
         "Nicole",
         "F",
         "Walton",
         "Texaz",
         "582919525"
        ],
        [
         "C0581",
         "Angela",
         "female",
         "Gomez",
         "New York",
         "587431597"
        ],
        [
         "C0591",
         "Julia",
         "Female",
         "Jacobson",
         "New York",
         "592881377"
        ],
        [
         "C0847",
         "Aaron",
         "Male",
         "Peterson",
         "california",
         "593841266"
        ],
        [
         "C0259",
         "Samantha",
         "F",
         "Mays",
         "Nw York",
         "594567425"
        ],
        [
         "C0314",
         "David",
         "M",
         "Mcguire",
         "Nw York",
         "596519026"
        ],
        [
         "C0404",
         "Anthony",
         "Male",
         "Taylor",
         "New Yorkk",
         "596750707"
        ],
        [
         "C0532",
         "Daniel",
         "Male",
         "Perkins",
         "Californiya",
         "597378024"
        ],
        [
         "C0798",
         "Michael",
         "male",
         null,
         "NY",
         "599394555"
        ],
        [
         "C0996",
         "Felicia",
         "F",
         "Howe",
         "NY",
         "599601108"
        ],
        [
         "C0159",
         "Alexander",
         "male",
         null,
         "New York",
         "601802494"
        ],
        [
         "C0466",
         "Rachel",
         "Female",
         "Lewis",
         "Ohho",
         "602113834"
        ],
        [
         "C0702",
         "Richard",
         "M",
         "Howard",
         "Ohio",
         "603115189"
        ],
        [
         "C0198",
         "James",
         "male",
         "Ortiz",
         "california",
         "603762095"
        ],
        [
         "C0474",
         "Jacob",
         "M",
         "Taylor",
         "Californiya",
         "604112993"
        ],
        [
         "C0949",
         "David",
         "M",
         null,
         "New Yorkk",
         "604251144"
        ],
        [
         "C0235",
         "Amy",
         "Female",
         null,
         "NY",
         "604919892"
        ],
        [
         "C0993",
         "David",
         "male",
         "Mcmillan",
         "california",
         "606087609"
        ],
        [
         "C0146",
         "Zachary",
         "male",
         null,
         "Ohio",
         "608687651"
        ],
        [
         "C0290",
         "Erik",
         "M",
         null,
         "New York",
         "608717297"
        ],
        [
         "C0545",
         "Christopher",
         "Male",
         "Spencer",
         "New Yorkk",
         "612056774"
        ],
        [
         "C0865",
         "David",
         "Male",
         null,
         "Texaz",
         "613019907"
        ],
        [
         "C0816",
         "Michael",
         "M",
         "Lynn",
         "Nw York",
         "614351714"
        ],
        [
         "C0027",
         "Brandon",
         "male",
         "Smith",
         "New Yorkk",
         "614443050"
        ],
        [
         "C0139",
         "Robert",
         "male",
         "Cook",
         "Texas",
         "615112555"
        ],
        [
         "C0985",
         "Jose",
         "M",
         "Chan",
         "New Yorkk",
         "615777685"
        ],
        [
         "C0878",
         "Brian",
         "male",
         null,
         "Ohho",
         "616491936"
        ],
        [
         "C0557",
         "Frank",
         "male",
         "Miller",
         "Texas",
         "617176279"
        ],
        [
         "C0606",
         "Frank",
         "M",
         null,
         "Ohho",
         "617790897"
        ],
        [
         "C0833",
         "Dean",
         "Male",
         "James",
         "Californiya",
         "618129284"
        ],
        [
         "C0097",
         "Anthony",
         "M",
         "Watts",
         "Texas",
         "620445794"
        ],
        [
         "C0812",
         "Phillip",
         "male",
         null,
         "New Yorkk",
         "620728376"
        ],
        [
         "C0088",
         "William",
         "M",
         null,
         "Ohio",
         "622411761"
        ],
        [
         "C0130",
         "Ronald",
         "M",
         null,
         "Ohho",
         "622836352"
        ],
        [
         "C0123",
         "Rebecca",
         "female",
         "Armstrong",
         "Ohho",
         "624663469"
        ],
        [
         "C0582",
         "Debbie",
         "F",
         "Robinson",
         "Texaz",
         "626279139"
        ],
        [
         "C0853",
         "Robert",
         "Male",
         "Snyder",
         "NY",
         "628833506"
        ],
        [
         "C0538",
         "Aaron",
         "M",
         "Peck",
         "Nw York",
         "629933034"
        ],
        [
         "C0652",
         "James",
         "male",
         null,
         "Nw York",
         "630801605"
        ],
        [
         "C0864",
         "Eric",
         "M",
         "Wilson",
         "New Yorkk",
         "631764902"
        ],
        [
         "C0393",
         "Brandon",
         "M",
         "Ruiz",
         "Californiya",
         "632461894"
        ],
        [
         "C0365",
         "John",
         "M",
         "Edwards",
         "Nw York",
         "632493571"
        ],
        [
         "C0070",
         "Kevin",
         "M",
         "Franklin",
         "New York",
         "632496047"
        ],
        [
         "C0594",
         "John",
         "M",
         "Ellis",
         "NY",
         "634025358"
        ],
        [
         "C0107",
         "Christine",
         "F",
         "Ellis",
         "New Yorkk",
         "634157903"
        ],
        [
         "C0433",
         "Bryan",
         "Male",
         "Hale",
         "Ohho",
         "634530391"
        ],
        [
         "C0150",
         "Jon",
         "M",
         "Cohen",
         "california",
         "635238437"
        ],
        [
         "C0106",
         "Jason",
         "Male",
         "Abbott",
         "Texas",
         "636181643"
        ],
        [
         "C0548",
         "Eric",
         "Male",
         "Winters",
         "NY",
         "636591132"
        ],
        [
         "C0265",
         "Lori",
         "F",
         "Mccarthy",
         "Texas",
         "638294112"
        ],
        [
         "C0518",
         "Juan",
         "Male",
         "Miller",
         "Texaz",
         "638370869"
        ],
        [
         "C0090",
         "Jeremy",
         "male",
         "Williams",
         "NY",
         "638708215"
        ],
        [
         "C0352",
         "Sean",
         "male",
         "Simpson",
         "Ohio",
         "638728908"
        ],
        [
         "C0333",
         "David",
         "M",
         "Burns",
         "Texas",
         "643922820"
        ],
        [
         "C0351",
         "Jessica",
         "female",
         "Manning",
         "New Yorkk",
         "647758737"
        ],
        [
         "C0361",
         "Andrew",
         "M",
         "Tucker",
         "Ohho",
         "648065949"
        ],
        [
         "C0017",
         "Angela",
         "Female",
         "Cantrell",
         "Texas",
         "648610422"
        ],
        [
         "C0832",
         "Karen",
         "F",
         "Medina",
         "NY",
         "648947287"
        ],
        [
         "C0770",
         "Nicholas",
         "Male",
         null,
         "Texaz",
         "649072529"
        ],
        [
         "C0151",
         "Matthew",
         "M",
         "Walter",
         null,
         "649419497"
        ],
        [
         "C0603",
         "Eric",
         "M",
         "Hicks",
         "Nw York",
         "649554815"
        ],
        [
         "C0740",
         "Christopher",
         "male",
         "Wilson",
         "New York",
         "650053493"
        ],
        [
         "C0270",
         "Richard",
         "Male",
         "Schaefer",
         "Ohho",
         "650804653"
        ],
        [
         "C0129",
         "Gregory",
         "M",
         "Neal",
         "Texaz",
         "654553785"
        ],
        [
         "C0813",
         "Ryan",
         "male",
         null,
         "NY",
         "656314369"
        ],
        [
         "C0989",
         "Lucas",
         "M",
         "Conley",
         "NY",
         "657001176"
        ],
        [
         "C0504",
         "Emily",
         "female",
         "Washington",
         "Texaz",
         "658093925"
        ],
        [
         "C0346",
         "Jeremy",
         "male",
         "Lambert",
         "california",
         "658346936"
        ],
        [
         "C0571",
         "Jeffrey",
         "Male",
         "Suarez",
         "Nw York",
         "658397387"
        ],
        [
         "C0300",
         "Melanie",
         "female",
         "Thompson",
         "california",
         "659396269"
        ],
        [
         "C0326",
         "Joshua",
         "male",
         "Reynolds",
         "New York",
         "660360584"
        ],
        [
         "C0328",
         "Gregory",
         "Male",
         "Allen",
         "NY",
         "661265781"
        ],
        [
         "C0263",
         "Nicholas",
         "male",
         "Clark",
         "NY",
         "661308159"
        ],
        [
         "C0851",
         "Darrell",
         "male",
         null,
         null,
         "661374496"
        ],
        [
         "C0834",
         "Bryan",
         "Male",
         "Robertson",
         "New Yorkk",
         "662124699"
        ],
        [
         "C0758",
         "Christopher",
         "Male",
         null,
         "Ohio",
         "662484840"
        ],
        [
         "C0540",
         "Eduardo",
         "Male",
         "Stokes",
         "New York",
         "663145012"
        ],
        [
         "C0447",
         "Stephanie",
         "F",
         null,
         "Nw York",
         "663595592"
        ],
        [
         "C0875",
         "Dawn",
         "female",
         "Nunez",
         "New York",
         "665269354"
        ],
        [
         "C0483",
         "Benjamin",
         "M",
         "Foster",
         null,
         "665640040"
        ],
        [
         "C0297",
         "Timothy",
         "M",
         "Myers",
         "Texas",
         "667403920"
        ],
        [
         "C0943",
         "Mark",
         "M",
         "Velez",
         "NY",
         "668327363"
        ],
        [
         "C0457",
         "Destiny",
         "Female",
         "Marks",
         "New York",
         "672409579"
        ],
        [
         "C0809",
         "Jessica",
         "Female",
         "Miller",
         "Texas",
         "673471287"
        ],
        [
         "C0720",
         "Ryan",
         "M",
         "Mcgrath",
         "Texaz",
         "674222857"
        ],
        [
         "C0081",
         "Ryan",
         "Male",
         "Pearson",
         "Californiya",
         "674718631"
        ],
        [
         "C0724",
         "Christine",
         "F",
         "White",
         "New York",
         "675175463"
        ],
        [
         "C0756",
         "Daniel",
         "M",
         "Perkins",
         "Nw York",
         "675175592"
        ],
        [
         "C0454",
         "Terry",
         "M",
         null,
         "Texas",
         "677168115"
        ],
        [
         "C0134",
         "Cole",
         "Male",
         "Nelson",
         "california",
         "677431721"
        ],
        [
         "C0244",
         "Mark",
         "male",
         "Davidson",
         "Texas",
         "677651926"
        ],
        [
         "C0544",
         "Kyle",
         "Male",
         "Soto",
         "Texas",
         "677994055"
        ],
        [
         "C0685",
         "Jeffrey",
         "male",
         null,
         "New Yorkk",
         "682613360"
        ],
        [
         "C0769",
         "Chad",
         "Male",
         "Lyons",
         "california",
         "683117463"
        ],
        [
         "C0170",
         "Cody",
         "Male",
         "Keller",
         "Ohho",
         "684757240"
        ],
        [
         "C0708",
         "Ronald",
         "male",
         "Maxwell",
         "Californiya",
         "686265522"
        ],
        [
         "C0493",
         "Carlos",
         "M",
         "Bailey",
         "NY",
         "686411046"
        ],
        [
         "C0744",
         "Heather",
         "F",
         "French",
         "Ohho",
         "686531531"
        ],
        [
         "C0194",
         "Eric",
         "M",
         null,
         "Ohio",
         "689379003"
        ],
        [
         "C0315",
         "Allison",
         "Female",
         null,
         "Ohio",
         "689883957"
        ],
        [
         "C0191",
         "Christopher",
         "Male",
         "Sandoval",
         "New York",
         "690628259"
        ],
        [
         "C0722",
         "Eric",
         "Male",
         "Newman",
         null,
         "693895447"
        ],
        [
         "C0840",
         "John",
         "M",
         "Sweeney",
         "Nw York",
         "694545824"
        ],
        [
         "C0537",
         "Gary",
         "M",
         null,
         "Nw York",
         "694613884"
        ],
        [
         "C0566",
         "Jacob",
         "Male",
         "Wang",
         "New Yorkk",
         "695734158"
        ],
        [
         "C0059",
         "Eric",
         "Male",
         "Hoffman",
         "california",
         "696483718"
        ],
        [
         "C0103",
         "Michael",
         "M",
         null,
         "california",
         "696546354"
        ],
        [
         "C0604",
         "Benjamin",
         "male",
         null,
         "New York",
         "697180386"
        ],
        [
         "C0345",
         "Anthony",
         "male",
         "Hull",
         "NY",
         "697917825"
        ],
        [
         "C0276",
         "Johnathan",
         "male",
         "Williams",
         "california",
         "698770629"
        ],
        [
         "C0349",
         "John",
         "male",
         "Mcintosh",
         "New York",
         "698809899"
        ],
        [
         "C0055",
         "Jonathan",
         "M",
         "Thomas",
         "New Yorkk",
         "699015658"
        ],
        [
         "C0807",
         "Hunter",
         "M",
         "Navarro",
         null,
         "700406261"
        ],
        [
         "C0413",
         "Christina",
         "female",
         null,
         "Texas",
         "700493877"
        ],
        [
         "C0031",
         "Steven",
         "M",
         "Morgan",
         "Ohho",
         "701763121"
        ],
        [
         "C0808",
         "Robert",
         "M",
         "Kaufman",
         "Texas",
         "702892540"
        ],
        [
         "C0241",
         "Samuel",
         "M",
         "Taylor",
         "NY",
         "703724255"
        ],
        [
         "C0934",
         "Timothy",
         "male",
         null,
         "New York",
         "703950512"
        ],
        [
         "C0592",
         "Melissa",
         "Female",
         "Hernandez",
         "Texaz",
         "704579173"
        ],
        [
         "C0014",
         "Jeffery",
         "M",
         "Cabrera",
         "New Yorkk",
         "705131809"
        ],
        [
         "C0450",
         "Donna",
         "F",
         null,
         "NY",
         "706074780"
        ],
        [
         "C0143",
         "Sydney",
         "female",
         "Fisher",
         "Nw York",
         "706854753"
        ],
        [
         "C0715",
         "Christopher",
         "M",
         null,
         null,
         "707846272"
        ],
        [
         "C0621",
         "Juan",
         "Male",
         "Davis",
         "New York",
         "707878605"
        ],
        [
         "C0182",
         "David",
         "Male",
         "Tran",
         "Ohio",
         "708199071"
        ],
        [
         "C0051",
         "David",
         "Male",
         null,
         null,
         "709245509"
        ],
        [
         "C0154",
         "Andrew",
         "M",
         null,
         "Texaz",
         "709376129"
        ],
        [
         "C0299",
         "Hannah",
         "female",
         "Greer",
         "california",
         "709812872"
        ],
        [
         "C0882",
         "Sean",
         "M",
         "Smith",
         "Texas",
         "710431870"
        ],
        [
         "C0831",
         "Jeffrey",
         "M",
         "Wolf",
         "Ohio",
         "711584782"
        ],
        [
         "C0686",
         "Frank",
         "male",
         "Golden",
         "Texaz",
         "711819875"
        ],
        [
         "C0184",
         "Miguel",
         "male",
         "Goodman",
         "Texaz",
         "713156107"
        ],
        [
         "C0372",
         "John",
         "Male",
         "Smith",
         "NY",
         "713227086"
        ],
        [
         "C0788",
         "Angela",
         "F",
         "Dodson",
         "Ohio",
         "715164396"
        ],
        [
         "C0275",
         "Joseph",
         "M",
         "Bowers",
         null,
         "715420916"
        ],
        [
         "C0517",
         "Donald",
         "Male",
         null,
         "Ohio",
         "715675813"
        ],
        [
         "C0648",
         "Jason",
         "Male",
         "Nichols",
         "Californiya",
         "719244280"
        ],
        [
         "C0100",
         "Vernon",
         "M",
         "Morrow",
         "Texaz",
         "719378837"
        ],
        [
         "C0688",
         "Jennifer",
         "Female",
         "Leonard",
         "Californiya",
         "719917971"
        ],
        [
         "C0306",
         "Jonathan",
         "male",
         "Chan",
         null,
         "722350922"
        ],
        [
         "C0529",
         "Bruce",
         "M",
         "Snow",
         "Californiya",
         "725903432"
        ],
        [
         "C0787",
         "Travis",
         "M",
         null,
         "New York",
         "726208843"
        ],
        [
         "C0630",
         "Thomas",
         "male",
         "Young",
         "Californiya",
         "727726412"
        ],
        [
         "C0303",
         "Ryan",
         "male",
         "Matthews",
         null,
         "727859949"
        ],
        [
         "C0577",
         "Paul",
         "male",
         "Shaw",
         "New Yorkk",
         "728785028"
        ],
        [
         "C0893",
         "David",
         "Male",
         null,
         "Ohho",
         "729218126"
        ],
        [
         "C0646",
         "Andrew",
         "Male",
         null,
         "california",
         "729893938"
        ],
        [
         "C0494",
         "Jacob",
         "Male",
         "Smith",
         "New Yorkk",
         "730072863"
        ],
        [
         "C0887",
         "Evan",
         "M",
         "Andrews",
         null,
         "731928333"
        ],
        [
         "C0546",
         "Stephen",
         "M",
         "Brown",
         "Texaz",
         "732932246"
        ],
        [
         "C0636",
         "Sean",
         "Male",
         "Hogan",
         "Californiya",
         "734726329"
        ],
        [
         "C0347",
         "Stephen",
         "Male",
         "Phillips",
         "Nw York",
         "734845687"
        ],
        [
         "C0183",
         "Mark",
         "Male",
         "Howell",
         "Texas",
         "735381042"
        ],
        [
         "C0700",
         "Scott",
         "Male",
         null,
         "NY",
         "735678367"
        ],
        [
         "C0723",
         "William",
         "Male",
         "Ellison",
         "Texaz",
         "737069029"
        ],
        [
         "C0745",
         "Chris",
         "Male",
         "Barker",
         "california",
         "739032204"
        ],
        [
         "C0874",
         "Joshua",
         "male",
         "Young",
         "Texas",
         "739144009"
        ],
        [
         "C0772",
         "Travis",
         "male",
         "Smith",
         "NY",
         "739234814"
        ],
        [
         "C0653",
         "Billy",
         "male",
         "Church",
         "New Yorkk",
         "740491918"
        ],
        [
         "C0754",
         "Connor",
         "Male",
         "Smith",
         "Nw York",
         "740826558"
        ],
        [
         "C0611",
         "Alexander",
         "male",
         null,
         "Texas",
         "741322264"
        ],
        [
         "C0596",
         "Luke",
         "Male",
         "Maldonado",
         "NY",
         "743615538"
        ],
        [
         "C0339",
         "Alex",
         "Male",
         null,
         "Ohio",
         "744021127"
        ],
        [
         "C0172",
         "Michael",
         "M",
         "Bates",
         "Texas",
         "745117268"
        ],
        [
         "C0626",
         "Alejandro",
         "M",
         "Gray",
         "Ohio",
         "745801373"
        ],
        [
         "C0077",
         "John",
         "male",
         "Johnson",
         null,
         "747822662"
        ],
        [
         "C0738",
         "Donna",
         "female",
         null,
         "Ohho",
         "747939252"
        ],
        [
         "C0374",
         "John",
         "M",
         "Morris",
         "Ohho",
         "748013516"
        ],
        [
         "C0295",
         "Bryan",
         "M",
         "Ryan",
         "Californiya",
         "748189605"
        ],
        [
         "C0852",
         "Jordan",
         "M",
         "Tanner",
         "Nw York",
         "748607232"
        ],
        [
         "C0449",
         "Amy",
         "Female",
         "Ferguson",
         "Texaz",
         "749164614"
        ],
        [
         "C0859",
         "Robert",
         "M",
         null,
         "california",
         "749655774"
        ],
        [
         "C0193",
         "Julie",
         "F",
         "Lozano",
         "Nw York",
         "749674470"
        ],
        [
         "C0177",
         "Daniel",
         "Male",
         null,
         "Californiya",
         "751058872"
        ],
        [
         "C0967",
         "Steven",
         "male",
         "Gill",
         "Texaz",
         "751442943"
        ],
        [
         "C0112",
         "Tyrone",
         "Male",
         "Bell",
         "Californiya",
         "753055870"
        ],
        [
         "C0505",
         "Jordan",
         "M",
         "Martin",
         "california",
         "754062267"
        ],
        [
         "C0819",
         "William",
         "Male",
         "Gilbert",
         null,
         "754399258"
        ],
        [
         "C0622",
         "Jerry",
         "male",
         null,
         "New Yorkk",
         "754655288"
        ],
        [
         "C0677",
         "Devin",
         "M",
         null,
         "Californiya",
         "756724909"
        ],
        [
         "C0272",
         "Erika",
         "Female",
         "Sanchez",
         "Texaz",
         "759457940"
        ],
        [
         "C0535",
         "Kenneth",
         "M",
         null,
         "New Yorkk",
         "760391227"
        ],
        [
         "C0974",
         "Carolyn",
         "Female",
         "Howell",
         "Ohho",
         "760765320"
        ],
        [
         "C0737",
         "David",
         "Male",
         null,
         "Nw York",
         "761013422"
        ],
        [
         "C0024",
         "Luis",
         "Male",
         "Roberts",
         "NY",
         "763990480"
        ],
        [
         "C0547",
         "Kaitlyn",
         "Female",
         "Thomas",
         "New York",
         "764863865"
        ],
        [
         "C0190",
         "Matthew",
         "male",
         "Gray",
         "Ohho",
         "764979468"
        ],
        [
         "C0025",
         "Jordan",
         "male",
         "Mercado",
         "Texaz",
         "765370466"
        ],
        [
         "C0305",
         "Curtis",
         "male",
         "Mccormick",
         "Ohio",
         "765664501"
        ],
        [
         "C0242",
         "Jeffrey",
         "Male",
         "Sparks",
         "NY",
         "765956872"
        ],
        [
         "C0968",
         "Randy",
         "male",
         "Smith",
         "New York",
         "766559816"
        ],
        [
         "C0408",
         "Crystal",
         "F",
         "Kim",
         "NY",
         "768048601"
        ],
        [
         "C0844",
         "David",
         "Male",
         "Thompson",
         "Ohho",
         "768922268"
        ],
        [
         "C0614",
         "Tracy",
         "F",
         "Stevenson",
         "Californiya",
         "771867274"
        ],
        [
         "C0842",
         "Jessica",
         "F",
         null,
         "california",
         "775839530"
        ],
        [
         "C0645",
         "Larry",
         "M",
         "Moore",
         "Ohio",
         "778256788"
        ],
        [
         "C0181",
         "Michael",
         "Male",
         "Hodges",
         "Texaz",
         "778301843"
        ],
        [
         "C0327",
         "Anthony",
         "male",
         "Jordan",
         "Nw York",
         "779252182"
        ],
        [
         "C0387",
         "Peter",
         "M",
         "Hurst",
         "Texaz",
         "779671971"
        ],
        [
         "C0161",
         "Justin",
         "M",
         "Williams",
         null,
         "780840007"
        ],
        [
         "C0731",
         "Calvin",
         "Male",
         "Sanders",
         null,
         "783136548"
        ],
        [
         "C0434",
         "Matthew",
         "male",
         null,
         "Californiya",
         "783911683"
        ],
        [
         "C0458",
         "Louis",
         "Male",
         null,
         "Texaz",
         "784481326"
        ],
        [
         "C0010",
         "Jason",
         "Male",
         null,
         "NY",
         "785769341"
        ],
        [
         "C0414",
         "Paul",
         "Male",
         "Simmons",
         "california",
         "786274563"
        ],
        [
         "C0873",
         "Cody",
         "male",
         null,
         "Texas",
         "786473524"
        ],
        [
         "C0418",
         "Ross",
         "male",
         "Lee",
         "Californiya",
         "789058243"
        ],
        [
         "C0309",
         "Anthony",
         "male",
         "Cox",
         "Nw York",
         "789798530"
        ],
        [
         "C0463",
         "Martin",
         "M",
         null,
         "california",
         "790153522"
        ],
        [
         "C0498",
         "Jeremy",
         "male",
         "Williams",
         "Texas",
         "790647519"
        ],
        [
         "C0425",
         "Justin",
         "Male",
         null,
         "Californiya",
         "791670874"
        ],
        [
         "C0734",
         "John",
         "male",
         "Page",
         "Nw York",
         "794241662"
        ],
        [
         "C1000",
         "Todd",
         "Male",
         "Robinson",
         "Californiya",
         "796934918"
        ],
        [
         "C0409",
         "Robert",
         "Male",
         "Greer",
         "New Yorkk",
         "797692134"
        ],
        [
         "C0341",
         "David",
         "M",
         null,
         "Nw York",
         "797932055"
        ],
        [
         "C0253",
         "Michael",
         "Male",
         null,
         "Ohho",
         "798490734"
        ],
        [
         "C0513",
         "Danielle",
         "F",
         null,
         "Nw York",
         "800448153"
        ],
        [
         "C0760",
         "Savannah",
         "F",
         "Davis",
         "New York",
         "801729823"
        ],
        [
         "C0358",
         "Roger",
         "Male",
         "Thompson",
         "Ohio",
         "802127690"
        ],
        [
         "C0383",
         "Lisa",
         "female",
         "Miller",
         "Texaz",
         "802594377"
        ],
        [
         "C0416",
         "Nicholas",
         "Male",
         "Browning",
         "New Yorkk",
         "805157487"
        ],
        [
         "C0908",
         "Kevin",
         "male",
         "Cruz",
         "New York",
         "805184298"
        ],
        [
         "C0687",
         "William",
         "Male",
         "Thomas",
         "Nw York",
         "806153788"
        ],
        [
         "C0523",
         "Raymond",
         "M",
         "Wood",
         "Texas",
         "806609242"
        ],
        [
         "C0759",
         "Nicholas",
         "Male",
         null,
         "Ohho",
         "808244293"
        ],
        [
         "C0491",
         "Aaron",
         "male",
         "Barnes",
         "New Yorkk",
         "808499780"
        ],
        [
         "C0240",
         "Jessica",
         "female",
         null,
         "NY",
         "810767865"
        ],
        [
         "C0338",
         "Richard",
         "male",
         null,
         "Ohio",
         "811187611"
        ],
        [
         "C0879",
         "Nicholas",
         "Male",
         "Ramirez",
         "Californiya",
         "812243872"
        ],
        [
         "C0595",
         "Nicholas",
         "male",
         "Crawford",
         "New Yorkk",
         "814263239"
        ],
        [
         "C0435",
         "Robert",
         "Male",
         null,
         "New York",
         "815533127"
        ],
        [
         "C0085",
         "Lindsay",
         "female",
         "Roberts",
         "Ohio",
         "815631005"
        ],
        [
         "C0164",
         "Theresa",
         "Female",
         "Davis",
         "Texaz",
         "816347228"
        ],
        [
         "C0065",
         "Anthony",
         "M",
         "Butler",
         "Ohho",
         "816774692"
        ],
        [
         "C0618",
         "Tiffany",
         "Female",
         "Jones",
         "NY",
         "816849730"
        ],
        [
         "C0670",
         "Kimberly",
         "F",
         "White",
         "New Yorkk",
         "816996056"
        ],
        [
         "C0674",
         "Laura",
         "Female",
         null,
         "Texas",
         "817261459"
        ],
        [
         "C0960",
         "David",
         "Male",
         "Butler",
         "Nw York",
         "817470751"
        ],
        [
         "C0619",
         "Zachary",
         "male",
         "Nguyen",
         "NY",
         "817783305"
        ],
        [
         "C0127",
         "Frank",
         "Male",
         "Turner",
         null,
         "817844697"
        ],
        [
         "C0888",
         "Donald",
         "male",
         "Lewis",
         "New York",
         "818636644"
        ],
        [
         "C0923",
         "Richard",
         "Male",
         "Mcdaniel",
         "Ohio",
         "819562443"
        ],
        [
         "C0247",
         "Steven",
         "male",
         "Williams",
         "New York",
         "819701950"
        ],
        [
         "C0897",
         "James",
         "male",
         "Morgan",
         "Nw York",
         "821294237"
        ],
        [
         "C0262",
         "Kyle",
         "male",
         "Church",
         "Ohho",
         "821572393"
        ],
        [
         "C0293",
         "Bradley",
         "Male",
         "Black",
         "Texaz",
         "824562887"
        ],
        [
         "C0210",
         "Thomas",
         "M",
         "Lopez",
         "Ohho",
         "826470616"
        ],
        [
         "C0367",
         "Thomas",
         "Male",
         "Middleton",
         "Ohio",
         "826582990"
        ],
        [
         "C0438",
         "Melanie",
         "Female",
         "Little",
         "New Yorkk",
         "828289179"
        ],
        [
         "C0354",
         "Mitchell",
         "male",
         "Johnson",
         "california",
         "829876388"
        ],
        [
         "C0884",
         "Jose",
         "Male",
         null,
         null,
         "833578977"
        ],
        [
         "C0507",
         "John",
         "Male",
         "Hale",
         "california",
         "833651521"
        ],
        [
         "C0909",
         "Steven",
         "Male",
         "Hamilton",
         "Californiya",
         "833896331"
        ],
        [
         "C0171",
         "Tim",
         "Male",
         "Cameron",
         "Texaz",
         "836329420"
        ],
        [
         "C0719",
         "Cynthia",
         "F",
         "Hurley",
         "New York",
         "836692730"
        ],
        [
         "C0359",
         "Alexander",
         "Male",
         "Morrison",
         "Texas",
         "836921153"
        ],
        [
         "C0465",
         "Andre",
         "Male",
         null,
         "Texas",
         "837685476"
        ],
        [
         "C0600",
         "Edwin",
         "male",
         null,
         "NY",
         "837780909"
        ],
        [
         "C0981",
         "Matthew",
         "Male",
         "Martinez",
         "Texas",
         "841521315"
        ],
        [
         "C0104",
         "Stanley",
         "Male",
         "Martin",
         "Nw York",
         "842670625"
        ],
        [
         "C0817",
         "Caroline",
         "Female",
         null,
         "Nw York",
         "842908366"
        ],
        [
         "C0633",
         "Kathryn",
         "female",
         "Kim",
         "Texas",
         "844775825"
        ],
        [
         "C0284",
         "Erik",
         "M",
         "Baker",
         null,
         "845786288"
        ],
        [
         "C0412",
         "Jessica",
         "F",
         "Smith",
         "Texas",
         "847384935"
        ],
        [
         "C0480",
         "David",
         "Male",
         "Smith",
         "Texaz",
         "847715785"
        ],
        [
         "C0397",
         "Glenda",
         "F",
         "Jackson",
         "Texas",
         "851721298"
        ],
        [
         "C0766",
         "Brandon",
         "male",
         "Edwards",
         "New Yorkk",
         "851825607"
        ],
        [
         "C0751",
         "Benjamin",
         "M",
         null,
         "california",
         "852325407"
        ],
        [
         "C0218",
         "Daniel",
         "Male",
         "Wilcox",
         "Ohio",
         "852841205"
        ],
        [
         "C0216",
         "Spencer",
         "Male",
         "Howard",
         "Texas",
         "854291313"
        ],
        [
         "C0838",
         "Jesse",
         "M",
         "Myers",
         "Texas",
         "854563917"
        ],
        [
         "C0057",
         "Brian",
         "M",
         "Price",
         "Ohho",
         "857377811"
        ],
        [
         "C0202",
         "Jason",
         "male",
         null,
         "Ohho",
         "858376262"
        ],
        [
         "C0165",
         "Gregory",
         "M",
         "Ortega",
         "NY",
         "859348325"
        ],
        [
         "C0197",
         "Tyler",
         "male",
         "Larsen",
         "Nw York",
         "860616468"
        ],
        [
         "C0451",
         "Brian",
         "Male",
         "Cooper",
         "Ohio",
         "861425250"
        ],
        [
         "C0602",
         "Bill",
         "M",
         "Ochoa",
         "california",
         "861882676"
        ],
        [
         "C0667",
         "Austin",
         "male",
         "Hogan",
         "NY",
         "861991792"
        ],
        [
         "C0883",
         "Brian",
         "Male",
         "Beard",
         "california",
         "862014263"
        ],
        [
         "C0400",
         "Jesse",
         "M",
         null,
         null,
         "863085099"
        ],
        [
         "C0045",
         "Andrew",
         "Male",
         "Hopkins",
         "Nw York",
         "863152583"
        ],
        [
         "C0209",
         "Andrew",
         "M",
         "Curtis",
         "New York",
         "866604595"
        ],
        [
         "C0835",
         "Johnny",
         "M",
         "Coleman",
         "New Yorkk",
         "866623520"
        ],
        [
         "C0348",
         "Mike",
         "M",
         "Burke",
         "Texas",
         "866775234"
        ],
        [
         "C0068",
         "John",
         "M",
         null,
         null,
         "866810493"
        ],
        [
         "C0453",
         "Jacob",
         "Male",
         "Coffey",
         "Ohho",
         "867436512"
        ],
        [
         "C0481",
         "Timothy",
         "male",
         null,
         "Texaz",
         "868249618"
        ],
        [
         "C0149",
         "Robert",
         "Male",
         "Adkins",
         "New York",
         "868364514"
        ],
        [
         "C0096",
         "Christina",
         "F",
         "Brown",
         "Californiya",
         "869867231"
        ],
        [
         "C0509",
         "Nicholas",
         "male",
         null,
         "Ohio",
         "872175577"
        ],
        [
         "C0561",
         "Christopher",
         "M",
         null,
         "Ohho",
         "876240093"
        ],
        [
         "C0512",
         "Ryan",
         "M",
         "Lee",
         "Nw York",
         "877857648"
        ],
        [
         "C0972",
         "Dennis",
         "M",
         null,
         "Californiya",
         "878034243"
        ],
        [
         "C0939",
         "Sandra",
         "female",
         null,
         "Californiya",
         "879283301"
        ],
        [
         "C0651",
         "Natalie",
         "F",
         "Smith",
         "New Yorkk",
         "880350546"
        ],
        [
         "C0804",
         "Timothy",
         "Male",
         "Cisneros",
         "Californiya",
         "881190585"
        ],
        [
         "C0937",
         "Kyle",
         "male",
         "Robertson",
         "Californiya",
         "881326075"
        ],
        [
         "C0368",
         "Robin",
         "F",
         null,
         "Ohho",
         "882484061"
        ],
        [
         "C0445",
         "Michael",
         "Male",
         "Savage",
         "New York",
         "882654392"
        ],
        [
         "C0332",
         "Erika",
         "F",
         null,
         "Californiya",
         "884658437"
        ],
        [
         "C0796",
         "Erin",
         "Female",
         "Young",
         "Texaz",
         "884967739"
        ],
        [
         "C0527",
         "Carlos",
         "male",
         "Bowman",
         "Ohho",
         "886438183"
        ],
        [
         "C0511",
         "Chad",
         "M",
         "Ramos",
         "Texas",
         "886579305"
        ],
        [
         "C0298",
         "Carla",
         "female",
         "Rosario",
         "california",
         "889890252"
        ],
        [
         "C0862",
         "Bryan",
         "male",
         "Hernandez",
         "NY",
         "890541146"
        ],
        [
         "C0037",
         "Brett",
         "Male",
         null,
         null,
         "890898446"
        ],
        [
         "C0497",
         "Oscar",
         "male",
         "Mcgrath",
         "New York",
         "891196755"
        ],
        [
         "C0826",
         "Lisa",
         "Female",
         "Holloway",
         "New Yorkk",
         "891412693"
        ],
        [
         "C0640",
         "John",
         "male",
         null,
         "New York",
         "891912403"
        ],
        [
         "C0363",
         "Roy",
         "M",
         "Hernandez",
         "New Yorkk",
         "893614036"
        ],
        [
         "C0564",
         "Dakota",
         "male",
         "Jones",
         "Nw York",
         "893799621"
        ],
        [
         "C0343",
         "Matthew",
         "male",
         "Berry",
         "Ohio",
         "894819798"
        ],
        [
         "C0815",
         "Matthew",
         "M",
         "Sanchez",
         "New York",
         "896588352"
        ],
        [
         "C0496",
         "Sherry",
         "F",
         "Mckenzie",
         "New Yorkk",
         "897440990"
        ],
        [
         "C0322",
         "Joseph",
         "male",
         null,
         "Texaz",
         "897801780"
        ],
        [
         "C0304",
         "Calvin",
         "Male",
         "Soto",
         "New Yorkk",
         "898083634"
        ],
        [
         "C0110",
         "Megan",
         "F",
         "Miller",
         "Ohio",
         "898146425"
        ],
        [
         "C0360",
         "Gabriel",
         "Male",
         "Walker",
         "Ohho",
         "898877272"
        ],
        [
         "C0248",
         "Michelle",
         "F",
         "Morrow",
         "california",
         "899686937"
        ],
        [
         "C0230",
         "Daniel",
         "male",
         "Mitchell",
         "california",
         "899869584"
        ],
        [
         "C0492",
         "Christopher",
         "Male",
         "Ford",
         "Texas",
         "901324128"
        ],
        [
         "C0821",
         "Eddie",
         "male",
         "Smith",
         "NY",
         "901694656"
        ],
        [
         "C0829",
         "Eric",
         "male",
         "Snyder",
         "NY",
         "903113332"
        ],
        [
         "C0035",
         "Joshua",
         "M",
         "Sullivan",
         "Texaz",
         "904588403"
        ],
        [
         "C0426",
         "Brandon",
         "M",
         "Hernandez",
         null,
         "904605617"
        ],
        [
         "C0157",
         "John",
         "M",
         null,
         "Nw York",
         "905215215"
        ],
        [
         "C0185",
         "James",
         "M",
         "Murphy",
         "NY",
         "906918733"
        ],
        [
         "C0056",
         "Sonia",
         "female",
         "Vaughn",
         "Californiya",
         "906940374"
        ],
        [
         "C0224",
         "Cesar",
         "male",
         null,
         "Texas",
         "907426622"
        ],
        [
         "C0962",
         "Penny",
         "F",
         null,
         "Ohho",
         "908389138"
        ],
        [
         "C0317",
         "Steven",
         "M",
         "Stark",
         "Californiya",
         "908701469"
        ],
        [
         "C0437",
         "Richard",
         "M",
         "Williams",
         "NY",
         "908719026"
        ],
        [
         "C0790",
         "Bryan",
         "Male",
         null,
         "Texas",
         "910511306"
        ],
        [
         "C0113",
         "Fernando",
         "male",
         "Martinez",
         "Californiya",
         "913039242"
        ],
        [
         "C0280",
         "Andrew",
         "male",
         "Smith",
         null,
         "913696910"
        ],
        [
         "C0168",
         "David",
         "male",
         "Miller",
         "california",
         "914367227"
        ],
        [
         "C0023",
         "Grant",
         "male",
         "Bartlett",
         "Ohio",
         "914981950"
        ],
        [
         "C0378",
         "Dennis",
         "male",
         "Black",
         "New Yorkk",
         "915183314"
        ],
        [
         "C0029",
         "Timothy",
         "male",
         null,
         "Ohho",
         "916674499"
        ],
        [
         "C0704",
         "Scott",
         "M",
         "Watts",
         "New Yorkk",
         "918412763"
        ],
        [
         "C0693",
         "Julie",
         "female",
         "Green",
         "Texaz",
         "918914982"
        ],
        [
         "C0963",
         "Matthew",
         "Male",
         "Valentine",
         "NY",
         "920867331"
        ],
        [
         "C0464",
         "Jordan",
         "Male",
         "Powers",
         "california",
         "922144773"
        ],
        [
         "C0598",
         "Desiree",
         "F",
         null,
         "Ohio",
         "924579451"
        ],
        [
         "C0588",
         "Kylie",
         "Female",
         "Garcia",
         "Ohio",
         "925104399"
        ],
        [
         "C0260",
         "Robert",
         "M",
         "Anderson",
         "NY",
         "925176007"
        ],
        [
         "C0836",
         "Charles",
         "male",
         "Trevino",
         "New York",
         "928045324"
        ],
        [
         "C0742",
         "Joshua",
         "male",
         "Jackson",
         "NY",
         "928638658"
        ],
        [
         "C0026",
         "Jesse",
         "male",
         "Wilkerson",
         "NY",
         "929200753"
        ],
        [
         "C0932",
         "Misty",
         "female",
         null,
         "california",
         "932144830"
        ],
        [
         "C0907",
         "Bradley",
         "Male",
         "Parrish",
         "Ohho",
         "935295860"
        ],
        [
         "C0590",
         "Michael",
         "M",
         "Roberts",
         "NY",
         "935562819"
        ],
        [
         "C0041",
         "Michael",
         "M",
         "Stephens",
         "Nw York",
         "936931355"
        ],
        [
         "C0644",
         "Donald",
         "male",
         null,
         null,
         "937279766"
        ],
        [
         "C0382",
         "Crystal",
         "F",
         null,
         "New York",
         "937570993"
        ],
        [
         "C0495",
         "Robert",
         "male",
         "Lewis",
         "Texaz",
         "937732844"
        ],
        [
         "C0099",
         "Corey",
         "M",
         "Valentine",
         "Californiya",
         "940177867"
        ],
        [
         "C0279",
         "Jennifer",
         "Female",
         "Ferguson",
         "New Yorkk",
         "940386159"
        ],
        [
         "C0392",
         "Jason",
         "male",
         null,
         "Californiya",
         "941815485"
        ],
        [
         "C0991",
         "David",
         "M",
         "Mcclure",
         "Nw York",
         "942227903"
        ],
        [
         "C0801",
         "David",
         "Male",
         "Wagner",
         "New York",
         "943792034"
        ],
        [
         "C0082",
         "Samuel",
         "Male",
         "Lopez",
         "Ohho",
         "945936644"
        ],
        [
         "C0569",
         "Heather",
         "F",
         "Mueller",
         "Ohho",
         "947371152"
        ],
        [
         "C0706",
         "Teresa",
         "female",
         "Whitehead",
         "Ohio",
         "947397419"
        ],
        [
         "C0004",
         "Edward",
         "male",
         "Davis",
         "Ohho",
         "948185740"
        ],
        [
         "C0690",
         "Christopher",
         "M",
         "Castro",
         null,
         "948801129"
        ],
        [
         "C0499",
         "Jason",
         "Male",
         "Watkins",
         "Californiya",
         "949235279"
        ],
        [
         "C0857",
         "Austin",
         "male",
         "Espinoza",
         "New York",
         "950035063"
        ],
        [
         "C0066",
         "Thomas",
         "M",
         "Kelly",
         "california",
         "951133429"
        ],
        [
         "C0811",
         "Christine",
         "Female",
         "Allen",
         "Nw York",
         "951248898"
        ],
        [
         "C0398",
         "Laura",
         "female",
         "Byrd",
         "california",
         "953504542"
        ],
        [
         "C0919",
         "John",
         "male",
         "Sullivan",
         "New York",
         "953558475"
        ],
        [
         "C0781",
         "Anthony",
         "male",
         null,
         "Nw York",
         "953579645"
        ],
        [
         "C0208",
         "Logan",
         "M",
         null,
         "Texas",
         "956297833"
        ],
        [
         "C0928",
         "Roger",
         "Male",
         "Patrick",
         "New York",
         "956406195"
        ],
        [
         "C0199",
         "Maurice",
         "Male",
         null,
         "NY",
         "959512357"
        ],
        [
         "C0377",
         "Christopher",
         "M",
         null,
         "Texaz",
         "960646196"
        ],
        [
         "C0575",
         "Paula",
         "female",
         "Moore",
         "Texas",
         "963363067"
        ],
        [
         "C0141",
         "Douglas",
         "Male",
         "Miller",
         "Ohio",
         "964338007"
        ],
        [
         "C0584",
         "Thomas",
         "Male",
         "Williams",
         "Nw York",
         "965408422"
        ],
        [
         "C0552",
         "Kevin",
         "M",
         null,
         "california",
         "966365553"
        ],
        [
         "C0554",
         "Gregory",
         "M",
         "Hicks",
         "New Yorkk",
         "966379552"
        ],
        [
         "C0898",
         "Juan",
         "M",
         "Hamilton",
         "Californiya",
         "967722021"
        ],
        [
         "C0839",
         "Lauren",
         "F",
         "Lopez",
         "Texaz",
         "968013277"
        ],
        [
         "C0207",
         "Brandon",
         "Male",
         null,
         "Ohio",
         "969215763"
        ],
        [
         "C0992",
         "Ann",
         "Female",
         "Sandoval",
         "NY",
         "969607237"
        ],
        [
         "C0762",
         "Jose",
         "M",
         null,
         "Californiya",
         "970074242"
        ],
        [
         "C0459",
         "Brittney",
         "female",
         "Cook",
         "Nw York",
         "970613474"
        ],
        [
         "C0405",
         "Lee",
         "male",
         "Boyd",
         "Texaz",
         "973121661"
        ],
        [
         "C0555",
         "Alec",
         "M",
         null,
         "Texaz",
         "973473334"
        ],
        [
         "C0666",
         "Joshua",
         "male",
         null,
         "Ohho",
         "973558529"
        ],
        [
         "C0924",
         "Albert",
         "male",
         "Bolton",
         "NY",
         "975029800"
        ],
        [
         "C0929",
         "David",
         "Male",
         null,
         "Ohho",
         "975050802"
        ],
        [
         "C0683",
         "Gregory",
         "Male",
         "Stafford",
         "Texaz",
         "975245762"
        ],
        [
         "C0486",
         "Matthew",
         "Male",
         null,
         "New York",
         "975572862"
        ],
        [
         "C0005",
         "Reginald",
         "male",
         "Dawson",
         "Texas",
         "975723056"
        ],
        [
         "C0075",
         "Troy",
         "Male",
         "Garcia",
         "NY",
         "977039472"
        ],
        [
         "C0456",
         "Brittany",
         "female",
         "Johnson",
         "Texas",
         "979173836"
        ],
        [
         "C0660",
         "Adam",
         "male",
         null,
         "Texaz",
         "981536889"
        ],
        [
         "C0006",
         "Virginia",
         "Female",
         "Bryant",
         "Ohio",
         "981727452"
        ],
        [
         "C0254",
         "Shannon",
         "F",
         "Johnson",
         "New Yorkk",
         "982008775"
        ],
        [
         "C0444",
         "Jason",
         "Male",
         "Wagner",
         "Ohho",
         "982051754"
        ],
        [
         "C0935",
         "Jeffrey",
         "M",
         "Rose",
         "california",
         "982674041"
        ],
        [
         "C0152",
         "Steven",
         "Male",
         null,
         "Texaz",
         "985715518"
        ],
        [
         "C0553",
         "Miguel",
         "Male",
         "Fletcher",
         "Ohio",
         "987329480"
        ],
        [
         "C0049",
         "Jeffrey",
         "M",
         null,
         "Texaz",
         "987358591"
        ],
        [
         "C0249",
         "Robert",
         "male",
         "Pena",
         "NY",
         "988134076"
        ],
        [
         "C0896",
         "James",
         "male",
         "Williams",
         "New Yorkk",
         "989842552"
        ],
        [
         "C0342",
         "Robert",
         "M",
         null,
         "Nw York",
         "990325135"
        ],
        [
         "C0856",
         "Thomas",
         "Male",
         null,
         "Californiya",
         "990882906"
        ],
        [
         "C0519",
         "Barbara",
         "F",
         "Ellis",
         "Californiya",
         "990974201"
        ],
        [
         "C0669",
         "Kevin",
         "male",
         "Dixon",
         "Ohio",
         "991973958"
        ],
        [
         "C0245",
         "Mary",
         "F",
         "Anderson",
         "Texaz",
         "992002853"
        ],
        [
         "C0539",
         "Wanda",
         "Female",
         "Clark",
         "NY",
         "992095479"
        ],
        [
         "C0725",
         "Andrew",
         "M",
         "Glover",
         "Texaz",
         "993500794"
        ],
        [
         "C0016",
         "Joe",
         "M",
         "Barnett",
         "Ohho",
         "995874707"
        ],
        [
         "C0389",
         "David",
         "M",
         null,
         "New York",
         "997212778"
        ],
        [
         "C0682",
         "Lindsey",
         "Female",
         "Mitchell",
         "Texaz",
         "997480282"
        ],
        [
         "C0462",
         "Craig",
         "M",
         "Walker",
         "Californiya",
         "998993065"
        ]
       ],
       "datasetInfos": [],
       "dbfsResultPath": null,
       "isJsonSchema": true,
       "metadata": {},
       "overflow": false,
       "plotOptions": {
        "customPlotOptions": {},
        "displayType": "table",
        "pivotAggregation": null,
        "pivotColumns": null,
        "xColumns": null,
        "yColumns": null
       },
       "removedWidgets": [],
       "schema": [
        {
         "metadata": "{}",
         "name": "CustomerID",
         "type": "\"string\""
        },
        {
         "metadata": "{}",
         "name": "FirstName",
         "type": "\"string\""
        },
        {
         "metadata": "{}",
         "name": "Gender",
         "type": "\"string\""
        },
        {
         "metadata": "{}",
         "name": "LastName",
         "type": "\"string\""
        },
        {
         "metadata": "{}",
         "name": "Region",
         "type": "\"string\""
        },
        {
         "metadata": "{}",
         "name": "ssn",
         "type": "\"string\""
        }
       ],
       "type": "table"
      }
     },
     "output_type": "display_data"
    },
    {
     "output_type": "stream",
     "name": "stdout",
     "output_type": "stream",
     "text": [
      "Out[52]: 1000"
     ]
    }
   ],
   "source": [
    "df_unique = df_fixed.dropDuplicates([\"ssn\"])\n",
    "display(df_unique)\n",
    "df_unique.count()"
   ]
  },
  {
   "cell_type": "code",
   "execution_count": 0,
   "metadata": {
    "application/vnd.databricks.v1+cell": {
     "cellMetadata": {
      "byteLimit": 2048000,
      "rowLimit": 10000
     },
     "inputWidgets": {},
     "nuid": "e315d6d3-ef7b-4788-8bae-8d1f05a277e2",
     "showTitle": false,
     "tableResultSettingsMap": {},
     "title": ""
    }
   },
   "outputs": [
    {
     "output_type": "display_data",
     "data": {
      "text/html": [
       "<style scoped>\n",
       "  .table-result-container {\n",
       "    max-height: 300px;\n",
       "    overflow: auto;\n",
       "  }\n",
       "  table, th, td {\n",
       "    border: 1px solid black;\n",
       "    border-collapse: collapse;\n",
       "  }\n",
       "  th, td {\n",
       "    padding: 5px;\n",
       "  }\n",
       "  th {\n",
       "    text-align: left;\n",
       "  }\n",
       "</style><div class='table-result-container'><table class='table-result'><thead style='background-color: white'><tr><th>CustomerID</th><th>FirstName</th><th>Gender</th><th>LastName</th><th>Region</th><th>ssn</th></tr></thead><tbody><tr><td>0</td><td>0</td><td>0</td><td>290</td><td>62</td><td>0</td></tr></tbody></table></div>"
      ]
     },
     "metadata": {
      "application/vnd.databricks.v1+output": {
       "addedWidgets": {},
       "aggData": [],
       "aggError": "",
       "aggOverflow": false,
       "aggSchema": [],
       "aggSeriesLimitReached": false,
       "aggType": "",
       "arguments": {},
       "columnCustomDisplayInfos": {},
       "data": [
        [
         0,
         0,
         0,
         290,
         62,
         0
        ]
       ],
       "datasetInfos": [],
       "dbfsResultPath": null,
       "isJsonSchema": true,
       "metadata": {},
       "overflow": false,
       "plotOptions": {
        "customPlotOptions": {},
        "displayType": "table",
        "pivotAggregation": null,
        "pivotColumns": null,
        "xColumns": null,
        "yColumns": null
       },
       "removedWidgets": [],
       "schema": [
        {
         "metadata": "{}",
         "name": "CustomerID",
         "type": "\"long\""
        },
        {
         "metadata": "{}",
         "name": "FirstName",
         "type": "\"long\""
        },
        {
         "metadata": "{}",
         "name": "Gender",
         "type": "\"long\""
        },
        {
         "metadata": "{}",
         "name": "LastName",
         "type": "\"long\""
        },
        {
         "metadata": "{}",
         "name": "Region",
         "type": "\"long\""
        },
        {
         "metadata": "{}",
         "name": "ssn",
         "type": "\"long\""
        }
       ],
       "type": "table"
      }
     },
     "output_type": "display_data"
    }
   ],
   "source": [
    "from pyspark.sql.functions import col, sum\n",
    "\n",
    "missing_values = df_unique.select([sum(col(c).isNull().cast(\"int\")).alias(c) for c in df_unique.columns])\n",
    "display(missing_values)"
   ]
  },
  {
   "cell_type": "code",
   "execution_count": 0,
   "metadata": {
    "application/vnd.databricks.v1+cell": {
     "cellMetadata": {
      "byteLimit": 2048000,
      "rowLimit": 10000
     },
     "inputWidgets": {},
     "nuid": "45fe5394-d41e-4550-9c2e-fc1448e885a1",
     "showTitle": false,
     "tableResultSettingsMap": {},
     "title": ""
    }
   },
   "outputs": [
    {
     "output_type": "display_data",
     "data": {
      "text/html": [
       "<style scoped>\n",
       "  .table-result-container {\n",
       "    max-height: 300px;\n",
       "    overflow: auto;\n",
       "  }\n",
       "  table, th, td {\n",
       "    border: 1px solid black;\n",
       "    border-collapse: collapse;\n",
       "  }\n",
       "  th, td {\n",
       "    padding: 5px;\n",
       "  }\n",
       "  th {\n",
       "    text-align: left;\n",
       "  }\n",
       "</style><div class='table-result-container'><table class='table-result'><thead style='background-color: white'><tr><th>CustomerID</th><th>FirstName</th><th>Gender</th><th>Lastname</th><th>region</th><th>ssn</th></tr></thead><tbody><tr><td>C0155</td><td>Amanda</td><td>female</td><td>Browning</td><td>Texas</td><td>000802922</td></tr><tr><td>C0658</td><td>Devin</td><td>M</td><td>Unknown</td><td>Ohho</td><td>000940878</td></tr><tr><td>C0866</td><td>Phillip</td><td>Male</td><td>Lopez</td><td>Nw York</td><td>001086911</td></tr><tr><td>C0918</td><td>Katie</td><td>F</td><td>Bailey</td><td>Texas</td><td>002938966</td></tr><tr><td>C0776</td><td>Charles</td><td>male</td><td>Williams</td><td>Californiya</td><td>003899949</td></tr><tr><td>C0917</td><td>Sandra</td><td>F</td><td>Gonzalez</td><td>NY</td><td>005434466</td></tr><tr><td>C0868</td><td>Tyler</td><td>Male</td><td>Garrison</td><td>NY</td><td>005571624</td></tr><tr><td>C0267</td><td>James</td><td>male</td><td>Unknown</td><td>Nw York</td><td>005669453</td></tr><tr><td>C0325</td><td>Bonnie</td><td>female</td><td>Unknown</td><td>Texas</td><td>005698959</td></tr><tr><td>C0938</td><td>Alexander</td><td>Male</td><td>Miller</td><td>Texaz</td><td>007169190</td></tr></tbody></table></div>"
      ]
     },
     "metadata": {
      "application/vnd.databricks.v1+output": {
       "addedWidgets": {},
       "aggData": [],
       "aggError": "",
       "aggOverflow": false,
       "aggSchema": [],
       "aggSeriesLimitReached": false,
       "aggType": "",
       "arguments": {},
       "columnCustomDisplayInfos": {},
       "data": [
        [
         "C0155",
         "Amanda",
         "female",
         "Browning",
         "Texas",
         "000802922"
        ],
        [
         "C0658",
         "Devin",
         "M",
         "Unknown",
         "Ohho",
         "000940878"
        ],
        [
         "C0866",
         "Phillip",
         "Male",
         "Lopez",
         "Nw York",
         "001086911"
        ],
        [
         "C0918",
         "Katie",
         "F",
         "Bailey",
         "Texas",
         "002938966"
        ],
        [
         "C0776",
         "Charles",
         "male",
         "Williams",
         "Californiya",
         "003899949"
        ],
        [
         "C0917",
         "Sandra",
         "F",
         "Gonzalez",
         "NY",
         "005434466"
        ],
        [
         "C0868",
         "Tyler",
         "Male",
         "Garrison",
         "NY",
         "005571624"
        ],
        [
         "C0267",
         "James",
         "male",
         "Unknown",
         "Nw York",
         "005669453"
        ],
        [
         "C0325",
         "Bonnie",
         "female",
         "Unknown",
         "Texas",
         "005698959"
        ],
        [
         "C0938",
         "Alexander",
         "Male",
         "Miller",
         "Texaz",
         "007169190"
        ]
       ],
       "datasetInfos": [],
       "dbfsResultPath": null,
       "isJsonSchema": true,
       "metadata": {},
       "overflow": false,
       "plotOptions": {
        "customPlotOptions": {},
        "displayType": "table",
        "pivotAggregation": null,
        "pivotColumns": null,
        "xColumns": null,
        "yColumns": null
       },
       "removedWidgets": [],
       "schema": [
        {
         "metadata": "{}",
         "name": "CustomerID",
         "type": "\"string\""
        },
        {
         "metadata": "{}",
         "name": "FirstName",
         "type": "\"string\""
        },
        {
         "metadata": "{}",
         "name": "Gender",
         "type": "\"string\""
        },
        {
         "metadata": "{}",
         "name": "Lastname",
         "type": "\"string\""
        },
        {
         "metadata": "{}",
         "name": "region",
         "type": "\"string\""
        },
        {
         "metadata": "{}",
         "name": "ssn",
         "type": "\"string\""
        }
       ],
       "type": "table"
      }
     },
     "output_type": "display_data"
    }
   ],
   "source": [
    "from pyspark.sql.functions import when\n",
    "\n",
    "df_filled = df_unique.withColumn(\"region\", when(col(\"region\").isNull(), \"Unknown\").otherwise(col(\"region\"))) \\\n",
    "                     .withColumn(\"Lastname\", when(col(\"Lastname\").isNull(), \"Unknown\").otherwise(col(\"Lastname\")))\n",
    "display(df_filled.limit(10))"
   ]
  },
  {
   "cell_type": "code",
   "execution_count": 0,
   "metadata": {
    "application/vnd.databricks.v1+cell": {
     "cellMetadata": {
      "byteLimit": 2048000,
      "rowLimit": 10000
     },
     "inputWidgets": {},
     "nuid": "1ee50926-d031-4456-8c6a-b98d6c930d95",
     "showTitle": false,
     "tableResultSettingsMap": {},
     "title": ""
    }
   },
   "outputs": [
    {
     "output_type": "stream",
     "name": "stdout",
     "output_type": "stream",
     "text": [
      "Out[70]: ['New Yorkk',\n 'Ohio',\n 'Texas',\n 'Californiya',\n 'Unknown',\n 'Texaz',\n 'NY',\n 'Ohho',\n 'california',\n 'New York',\n 'Nw York']"
     ]
    }
   ],
   "source": [
    "unique_regions = df_filled.select(\"region\").distinct().collect()\n",
    "unique_region_names = [row.region for row in unique_regions]\n",
    "unique_region_names"
   ]
  },
  {
   "cell_type": "code",
   "execution_count": 0,
   "metadata": {
    "application/vnd.databricks.v1+cell": {
     "cellMetadata": {
      "byteLimit": 2048000,
      "rowLimit": 10000
     },
     "inputWidgets": {},
     "nuid": "f3fea79a-6701-4d71-b42d-d8c24da92f69",
     "showTitle": false,
     "tableResultSettingsMap": {},
     "title": ""
    }
   },
   "outputs": [],
   "source": [
    "from pyspark.sql.functions import udf\n",
    "from pyspark.sql.types import StringType\n",
    "\n",
    "# Define a UDF to standardize region names\n",
    "def standardize_region(region):\n",
    "    region_mapping = {\n",
    "        \"california\": \"California\",\n",
    "        \"californiya\": \"California\",\n",
    "        \"texas\": \"Texas\",\n",
    "        \"texaz\": \"Texas\",\n",
    "        \"new york\": \"New York\",\n",
    "        \"new yorkk\": \"New York\",\n",
    "        \"nw york\": \"New York\",\n",
    "        \"ny\": \"New York\",\n",
    "        \"florida\": \"Florida\",\n",
    "        \"ohio\": \"Ohio\",\n",
    "        \"ohho\": \"Ohio\",\n",
    "        \"unkown\": \"Unknown\",\n",
    "    }\n",
    "    return region_mapping.get(region.lower().strip(), region)\n",
    "\n",
    "standardize_region_udf = udf(standardize_region, StringType())\n"
   ]
  },
  {
   "cell_type": "code",
   "execution_count": 0,
   "metadata": {
    "application/vnd.databricks.v1+cell": {
     "cellMetadata": {
      "byteLimit": 2048000,
      "rowLimit": 10000
     },
     "inputWidgets": {},
     "nuid": "06ffa426-822b-4a21-8552-7c93bdd3db57",
     "showTitle": false,
     "tableResultSettingsMap": {},
     "title": ""
    }
   },
   "outputs": [
    {
     "output_type": "display_data",
     "data": {
      "text/html": [
       "<style scoped>\n",
       "  .table-result-container {\n",
       "    max-height: 300px;\n",
       "    overflow: auto;\n",
       "  }\n",
       "  table, th, td {\n",
       "    border: 1px solid black;\n",
       "    border-collapse: collapse;\n",
       "  }\n",
       "  th, td {\n",
       "    padding: 5px;\n",
       "  }\n",
       "  th {\n",
       "    text-align: left;\n",
       "  }\n",
       "</style><div class='table-result-container'><table class='table-result'><thead style='background-color: white'><tr><th>customerid</th><th>CustomerName</th><th>gender</th><th>ssn</th><th>region</th></tr></thead><tbody><tr><td>C0155</td><td>Amanda Browning</td><td>Female</td><td>000802922</td><td>Texas</td></tr><tr><td>C0658</td><td>Devin Unknown</td><td>Male</td><td>000940878</td><td>Ohio</td></tr><tr><td>C0866</td><td>Phillip Lopez</td><td>Male</td><td>001086911</td><td>New York</td></tr><tr><td>C0918</td><td>Katie Bailey</td><td>Female</td><td>002938966</td><td>Texas</td></tr><tr><td>C0776</td><td>Charles Williams</td><td>Male</td><td>003899949</td><td>California</td></tr><tr><td>C0917</td><td>Sandra Gonzalez</td><td>Female</td><td>005434466</td><td>New York</td></tr><tr><td>C0868</td><td>Tyler Garrison</td><td>Male</td><td>005571624</td><td>New York</td></tr><tr><td>C0267</td><td>James Unknown</td><td>Male</td><td>005669453</td><td>New York</td></tr><tr><td>C0325</td><td>Bonnie Unknown</td><td>Female</td><td>005698959</td><td>Texas</td></tr><tr><td>C0938</td><td>Alexander Miller</td><td>Male</td><td>007169190</td><td>Texas</td></tr><tr><td>C0479</td><td>Jack Unknown</td><td>Male</td><td>007204052</td><td>Ohio</td></tr><tr><td>C0009</td><td>Samuel Mcconnell</td><td>Male</td><td>007348687</td><td>California</td></tr><tr><td>C0472</td><td>William Mullins</td><td>Male</td><td>008377542</td><td>New York</td></tr><tr><td>C0115</td><td>William Branch</td><td>Male</td><td>008417074</td><td>New York</td></tr><tr><td>C0008</td><td>Robert Pierce</td><td>Male</td><td>009012352</td><td>New York</td></tr><tr><td>C0401</td><td>Timothy Guzman</td><td>Male</td><td>009775821</td><td>Texas</td></tr><tr><td>C0789</td><td>John Gonzalez</td><td>Male</td><td>010509576</td><td>Ohio</td></tr><tr><td>C0672</td><td>Daniel Fernandez</td><td>Male</td><td>014964372</td><td>Ohio</td></tr><tr><td>C0563</td><td>Katherine Higgins</td><td>Female</td><td>016097231</td><td>New York</td></tr><tr><td>C0953</td><td>David Lynch</td><td>Male</td><td>016865351</td><td>California</td></tr><tr><td>C0428</td><td>Joseph Moore</td><td>Male</td><td>017470860</td><td>California</td></tr><tr><td>C0036</td><td>Lori Long</td><td>Female</td><td>017532219</td><td>California</td></tr><tr><td>C0019</td><td>Michael Unknown</td><td>Male</td><td>018105442</td><td>New York</td></tr><tr><td>C0956</td><td>Mark Allen</td><td>Male</td><td>018754713</td><td>Ohio</td></tr><tr><td>C0958</td><td>Molly Gill</td><td>Female</td><td>020583905</td><td>New York</td></tr><tr><td>C0779</td><td>Shannon Bates</td><td>Male</td><td>021303327</td><td>California</td></tr><tr><td>C0187</td><td>Thomas Unknown</td><td>Male</td><td>021777542</td><td>New York</td></tr><tr><td>C0990</td><td>Kiara Miranda</td><td>Female</td><td>022739474</td><td>Ohio</td></tr><tr><td>C0200</td><td>Mario Huff</td><td>Male</td><td>023819137</td><td>Unknown</td></tr><tr><td>C0394</td><td>Erin Carroll</td><td>Female</td><td>024767243</td><td>New York</td></tr><tr><td>C0843</td><td>Edward Walker</td><td>Male</td><td>024898098</td><td>New York</td></tr><tr><td>C0828</td><td>Shannon Unknown</td><td>Female</td><td>027835510</td><td>New York</td></tr><tr><td>C0533</td><td>Gabriel Unknown</td><td>Male</td><td>028432126</td><td>Ohio</td></tr><tr><td>C0531</td><td>Troy Unknown</td><td>Male</td><td>028947382</td><td>New York</td></tr><tr><td>C0369</td><td>Robert Wiggins</td><td>Male</td><td>029050987</td><td>California</td></tr><tr><td>C0020</td><td>Robert Unknown</td><td>Male</td><td>029416639</td><td>New York</td></tr><tr><td>C0403</td><td>Jasmine Unknown</td><td>Female</td><td>030410612</td><td>California</td></tr><tr><td>C0391</td><td>Eric Bailey</td><td>Male</td><td>030920130</td><td>New York</td></tr><tr><td>C0384</td><td>Cory Oconnor</td><td>Male</td><td>030980111</td><td>California</td></tr><tr><td>C0565</td><td>Mitchell Unknown</td><td>Male</td><td>031874001</td><td>Texas</td></tr><tr><td>C0524</td><td>Teresa Martin</td><td>Female</td><td>034192490</td><td>Ohio</td></tr><tr><td>C0551</td><td>Amanda Unknown</td><td>Female</td><td>034520558</td><td>Texas</td></tr><tr><td>C0912</td><td>Kristina Unknown</td><td>Female</td><td>035557592</td><td>Texas</td></tr><tr><td>C0201</td><td>Cameron Santiago</td><td>Male</td><td>035580197</td><td>Ohio</td></tr><tr><td>C0421</td><td>Herbert Unknown</td><td>Male</td><td>035978898</td><td>Ohio</td></tr><tr><td>C0763</td><td>Mark Unknown</td><td>Male</td><td>039574576</td><td>Ohio</td></tr><tr><td>C0101</td><td>Robert Johnson</td><td>Male</td><td>040610697</td><td>Ohio</td></tr><tr><td>C0431</td><td>Jeffrey Martinez</td><td>Male</td><td>042248141</td><td>California</td></tr><tr><td>C0880</td><td>Aaron Morrison</td><td>Male</td><td>044022527</td><td>Texas</td></tr><tr><td>C0587</td><td>Edward Unknown</td><td>Male</td><td>044244391</td><td>California</td></tr><tr><td>C0979</td><td>Andrew Unknown</td><td>Male</td><td>044654606</td><td>New York</td></tr><tr><td>C0417</td><td>Troy Unknown</td><td>Male</td><td>045989729</td><td>Ohio</td></tr><tr><td>C0033</td><td>Joshua Robinson</td><td>Male</td><td>047014271</td><td>New York</td></tr><tr><td>C0583</td><td>Jim Fields</td><td>Male</td><td>047015903</td><td>New York</td></tr><tr><td>C0007</td><td>Benjamin Shepherd</td><td>Male</td><td>048008736</td><td>Ohio</td></tr><tr><td>C0951</td><td>Luis Cooper</td><td>Male</td><td>048066515</td><td>New York</td></tr><tr><td>C0675</td><td>John Tucker</td><td>Male</td><td>049591830</td><td>Unknown</td></tr><tr><td>C0750</td><td>Kevin Townsend</td><td>Male</td><td>050143776</td><td>New York</td></tr><tr><td>C0521</td><td>Jack Castaneda</td><td>Male</td><td>050272120</td><td>New York</td></tr><tr><td>C0823</td><td>Kimberly Brown</td><td>Female</td><td>050735527</td><td>Ohio</td></tr><tr><td>C0064</td><td>Jason Unknown</td><td>Male</td><td>051160222</td><td>Unknown</td></tr><tr><td>C0432</td><td>Olivia Unknown</td><td>Female</td><td>051369965</td><td>Ohio</td></tr><tr><td>C0657</td><td>Jason Unknown</td><td>Male</td><td>051708625</td><td>California</td></tr><tr><td>C0900</td><td>Eric Unknown</td><td>Male</td><td>051795739</td><td>Ohio</td></tr><tr><td>C0855</td><td>Franklin Garcia</td><td>Male</td><td>051903583</td><td>Texas</td></tr><tr><td>C0650</td><td>John Wood</td><td>Male</td><td>052045462</td><td>Texas</td></tr><tr><td>C0060</td><td>Jonathan Unknown</td><td>Male</td><td>054349385</td><td>New York</td></tr><tr><td>C0976</td><td>Jeremy Tran</td><td>Male</td><td>056039557</td><td>Texas</td></tr><tr><td>C0092</td><td>Antonio Unknown</td><td>Male</td><td>056245826</td><td>Ohio</td></tr><tr><td>C0485</td><td>Jamie White</td><td>Male</td><td>056379133</td><td>Unknown</td></tr><tr><td>C0613</td><td>Wesley Nelson</td><td>Male</td><td>057473606</td><td>New York</td></tr><tr><td>C0015</td><td>William Gonzalez</td><td>Male</td><td>058131272</td><td>New York</td></tr><tr><td>C0370</td><td>Sara Unknown</td><td>Female</td><td>059281675</td><td>Unknown</td></tr><tr><td>C0950</td><td>Eric Walker</td><td>Male</td><td>060649770</td><td>New York</td></tr><tr><td>C0624</td><td>Wesley Carrillo</td><td>Male</td><td>061444952</td><td>New York</td></tr><tr><td>C0567</td><td>Raymond Gonzalez</td><td>Male</td><td>062892798</td><td>Ohio</td></tr><tr><td>C0854</td><td>John Unknown</td><td>Male</td><td>063308990</td><td>New York</td></tr><tr><td>C0980</td><td>Bruce Hawkins</td><td>Male</td><td>064588071</td><td>Ohio</td></tr><tr><td>C0579</td><td>Donald Hubbard</td><td>Male</td><td>065532591</td><td>New York</td></tr><tr><td>C0955</td><td>Dawn Rogers</td><td>Female</td><td>065538468</td><td>California</td></tr><tr><td>C0894</td><td>Samantha Unknown</td><td>Female</td><td>066747297</td><td>Unknown</td></tr><tr><td>C0629</td><td>Nathan Johnston</td><td>Male</td><td>069755427</td><td>New York</td></tr><tr><td>C0998</td><td>Wayne Unknown</td><td>Male</td><td>070190887</td><td>Texas</td></tr><tr><td>C0850</td><td>Randall Unknown</td><td>Male</td><td>070226114</td><td>Texas</td></tr><tr><td>C0570</td><td>Lee Mayo</td><td>Male</td><td>071316720</td><td>Texas</td></tr><tr><td>C0877</td><td>Kenneth Hill</td><td>Male</td><td>071399457</td><td>Ohio</td></tr><tr><td>C0448</td><td>April Mcdowell</td><td>Female</td><td>073402459</td><td>New York</td></tr><tr><td>C0664</td><td>Leslie Hughes</td><td>Female</td><td>075304211</td><td>New York</td></tr><tr><td>C0047</td><td>Seth Hess</td><td>Male</td><td>075643618</td><td>Texas</td></tr><tr><td>C0167</td><td>Kevin Unknown</td><td>Male</td><td>076882950</td><td>New York</td></tr><tr><td>C0631</td><td>Tony Unknown</td><td>Male</td><td>078322176</td><td>New York</td></tr><tr><td>C0108</td><td>Edwin Burgess</td><td>Male</td><td>078398291</td><td>New York</td></tr><tr><td>C0225</td><td>Thomas Sosa</td><td>Male</td><td>079302406</td><td>Texas</td></tr><tr><td>C0997</td><td>Joel Jordan</td><td>Male</td><td>079891050</td><td>New York</td></tr><tr><td>C0867</td><td>Jorge Unknown</td><td>Male</td><td>080128291</td><td>Texas</td></tr><tr><td>C0034</td><td>Paula Hanson</td><td>Female</td><td>081079840</td><td>Ohio</td></tr><tr><td>C0905</td><td>Alan Melton</td><td>Male</td><td>082181707</td><td>New York</td></tr><tr><td>C0001</td><td>Gregory Miller</td><td>Male</td><td>082573197</td><td>Ohio</td></tr><tr><td>C0721</td><td>Christine White</td><td>Female</td><td>083332884</td><td>New York</td></tr><tr><td>C0427</td><td>Cameron Dominguez</td><td>Male</td><td>084178756</td><td>New York</td></tr><tr><td>C0362</td><td>Matthew Gillespie</td><td>Male</td><td>084467165</td><td>California</td></tr><tr><td>C0705</td><td>Matthew Floyd</td><td>Male</td><td>084802032</td><td>California</td></tr><tr><td>C0986</td><td>Vincent Unknown</td><td>Male</td><td>085086406</td><td>Ohio</td></tr><tr><td>C0386</td><td>Jillian Stone</td><td>Female</td><td>086660761</td><td>California</td></tr><tr><td>C0271</td><td>Nicholas Unknown</td><td>Male</td><td>088138659</td><td>California</td></tr><tr><td>C0558</td><td>Donna Unknown</td><td>Female</td><td>089635050</td><td>New York</td></tr><tr><td>C0707</td><td>Rebecca Unknown</td><td>Female</td><td>091082433</td><td>New York</td></tr><tr><td>C0863</td><td>Martin Velasquez</td><td>Male</td><td>091468612</td><td>California</td></tr><tr><td>C0269</td><td>Madison Unknown</td><td>Female</td><td>093765203</td><td>New York</td></tr><tr><td>C0086</td><td>Robert Unknown</td><td>Male</td><td>094071577</td><td>Ohio</td></tr><tr><td>C0502</td><td>Ryan Fischer</td><td>Male</td><td>094519863</td><td>Texas</td></tr><tr><td>C0625</td><td>Randy Unknown</td><td>Male</td><td>095498855</td><td>Ohio</td></tr><tr><td>C0223</td><td>Stephanie Mckenzie</td><td>Female</td><td>096701307</td><td>Texas</td></tr><tr><td>C0058</td><td>Steven Miller</td><td>Male</td><td>097629075</td><td>Texas</td></tr><tr><td>C0148</td><td>Matthew Unknown</td><td>Male</td><td>099895098</td><td>California</td></tr><tr><td>C0988</td><td>Robert Thompson</td><td>Male</td><td>100276471</td><td>New York</td></tr><tr><td>C0791</td><td>Robert Schultz</td><td>Male</td><td>101612177</td><td>California</td></tr><tr><td>C0913</td><td>Robert Ramirez</td><td>Male</td><td>102252620</td><td>New York</td></tr><tr><td>C0573</td><td>Adrian Unknown</td><td>Male</td><td>102460360</td><td>California</td></tr><tr><td>C0589</td><td>Allen Foster</td><td>Male</td><td>103540670</td><td>Texas</td></tr><tr><td>C0684</td><td>Tony Hurst</td><td>Male</td><td>103595792</td><td>New York</td></tr><tr><td>C0885</td><td>James Williams</td><td>Male</td><td>106851769</td><td>Ohio</td></tr><tr><td>C0638</td><td>Justin Collins</td><td>Male</td><td>107899337</td><td>California</td></tr><tr><td>C0574</td><td>Kari Unknown</td><td>Female</td><td>108346362</td><td>Texas</td></tr><tr><td>C0018</td><td>Mariah Wilson</td><td>Female</td><td>108825602</td><td>New York</td></tr><tr><td>C0806</td><td>Troy Unknown</td><td>Male</td><td>110022003</td><td>California</td></tr><tr><td>C0510</td><td>Tristan Unknown</td><td>Male</td><td>111112301</td><td>New York</td></tr><tr><td>C0052</td><td>Todd Kelley</td><td>Male</td><td>111356646</td><td>New York</td></tr><tr><td>C0663</td><td>Lisa Villa</td><td>Female</td><td>112149119</td><td>New York</td></tr><tr><td>C0730</td><td>Timothy Thompson</td><td>Male</td><td>113463587</td><td>California</td></tr><tr><td>C0536</td><td>Daniel Hardy</td><td>Male</td><td>113851419</td><td>New York</td></tr><tr><td>C0211</td><td>Daniel Holland</td><td>Male</td><td>115114720</td><td>Ohio</td></tr><tr><td>C0792</td><td>Michael Unknown</td><td>Male</td><td>117036199</td><td>Ohio</td></tr><tr><td>C0768</td><td>David Galloway</td><td>Male</td><td>119573806</td><td>Ohio</td></tr><tr><td>C0572</td><td>Anthony Unknown</td><td>Male</td><td>119625762</td><td>California</td></tr><tr><td>C0084</td><td>Michael Brooks</td><td>Male</td><td>119917665</td><td>Ohio</td></tr><tr><td>C0916</td><td>Lucas Hernandez</td><td>Male</td><td>120009745</td><td>Ohio</td></tr><tr><td>C0196</td><td>Kevin Unknown</td><td>Male</td><td>121192928</td><td>Unknown</td></tr><tr><td>C0608</td><td>Calvin Unknown</td><td>Male</td><td>124042598</td><td>Texas</td></tr><tr><td>C0287</td><td>Sharon Unknown</td><td>Female</td><td>124254335</td><td>Texas</td></tr><tr><td>C0111</td><td>Brett Unknown</td><td>Male</td><td>125917939</td><td>Texas</td></tr><tr><td>C0841</td><td>Dwayne Keller</td><td>Male</td><td>126643837</td><td>New York</td></tr><tr><td>C0671</td><td>David Bell</td><td>Male</td><td>129066607</td><td>New York</td></tr><tr><td>C0336</td><td>Jesse Unknown</td><td>Male</td><td>129121590</td><td>New York</td></tr><tr><td>C0073</td><td>Vincent Unknown</td><td>Male</td><td>129128820</td><td>New York</td></tr><tr><td>C0743</td><td>Eric Ross</td><td>Male</td><td>129768513</td><td>New York</td></tr><tr><td>C0160</td><td>Amy Cruz</td><td>Female</td><td>130295709</td><td>Texas</td></tr><tr><td>C0420</td><td>April Fuentes</td><td>Female</td><td>132038203</td><td>New York</td></tr><tr><td>C0069</td><td>David Hardy</td><td>Male</td><td>133182060</td><td>California</td></tr><tr><td>C0543</td><td>Bradley Meyers</td><td>Male</td><td>137031524</td><td>New York</td></tr><tr><td>C0323</td><td>Peter Henson</td><td>Male</td><td>137815524</td><td>New York</td></tr><tr><td>C0255</td><td>David Adams</td><td>Male</td><td>138245144</td><td>California</td></tr><tr><td>C0520</td><td>Jacob Hughes</td><td>Male</td><td>138393386</td><td>California</td></tr><tr><td>C0469</td><td>Helen Unknown</td><td>Female</td><td>139381277</td><td>Ohio</td></tr><tr><td>C0489</td><td>Adam Smith</td><td>Male</td><td>140118196</td><td>Ohio</td></tr><tr><td>C0061</td><td>Gary Nunez</td><td>Male</td><td>140208506</td><td>New York</td></tr><tr><td>C0870</td><td>Jasmine Edwards</td><td>Female</td><td>142162616</td><td>Ohio</td></tr><tr><td>C0350</td><td>David Unknown</td><td>Male</td><td>147653850</td><td>California</td></tr><tr><td>C0639</td><td>Crystal Riley</td><td>Female</td><td>148449590</td><td>California</td></tr><tr><td>C0881</td><td>Scott Unknown</td><td>Male</td><td>148459253</td><td>New York</td></tr><tr><td>C0371</td><td>Leonard Unknown</td><td>Male</td><td>149197207</td><td>Ohio</td></tr><tr><td>C0098</td><td>Cassandra Jones</td><td>Female</td><td>149340457</td><td>New York</td></tr><tr><td>C0266</td><td>Amy Buck</td><td>Female</td><td>150634899</td><td>New York</td></tr><tr><td>C0933</td><td>Patricia Unknown</td><td>Female</td><td>150877563</td><td>California</td></tr><tr><td>C0637</td><td>Michael Wilkinson</td><td>Male</td><td>152060931</td><td>New York</td></tr><tr><td>C0118</td><td>Joseph Morgan</td><td>Male</td><td>153165024</td><td>Ohio</td></tr><tr><td>C0229</td><td>Derrick Walters</td><td>Male</td><td>154957652</td><td>New York</td></tr><tr><td>C0189</td><td>David Jackson</td><td>Male</td><td>157402491</td><td>New York</td></tr><tr><td>C0312</td><td>Jack Pugh</td><td>Male</td><td>158157436</td><td>California</td></tr><tr><td>C0761</td><td>Steven Arnold</td><td>Male</td><td>159871151</td><td>New York</td></tr><tr><td>C0727</td><td>Rachel Schwartz</td><td>Female</td><td>160490324</td><td>California</td></tr><tr><td>C0324</td><td>Tony Unknown</td><td>Male</td><td>165221526</td><td>Ohio</td></tr><tr><td>C0119</td><td>Johnny Unknown</td><td>Male</td><td>165622040</td><td>California</td></tr><tr><td>C0735</td><td>Carlos Welch</td><td>Male</td><td>167909533</td><td>New York</td></tr><tr><td>C0136</td><td>Crystal Floyd</td><td>Female</td><td>168528691</td><td>New York</td></tr><tr><td>C0696</td><td>David Bass</td><td>Male</td><td>168736465</td><td>Ohio</td></tr><tr><td>C0872</td><td>Joseph Turner</td><td>Male</td><td>168988272</td><td>Ohio</td></tr><tr><td>C0942</td><td>Thomas Unknown</td><td>Male</td><td>169127931</td><td>California</td></tr><tr><td>C0162</td><td>James Williams</td><td>Male</td><td>169829571</td><td>New York</td></tr><tr><td>C0473</td><td>Brandon Unknown</td><td>Male</td><td>170130546</td><td>New York</td></tr><tr><td>C0053</td><td>Ian Schneider</td><td>Male</td><td>174630010</td><td>New York</td></tr><tr><td>C0124</td><td>Gabriel Unknown</td><td>Male</td><td>175915578</td><td>New York</td></tr><tr><td>C0716</td><td>Jennifer Pittman</td><td>Female</td><td>177131215</td><td>Texas</td></tr><tr><td>C0578</td><td>Daniel Cook</td><td>Male</td><td>177146885</td><td>California</td></tr><tr><td>C0356</td><td>Stephen Taylor</td><td>Male</td><td>177540442</td><td>Texas</td></tr><tr><td>C0121</td><td>Melissa Dominguez</td><td>Female</td><td>177764159</td><td>New York</td></tr><tr><td>C0250</td><td>Rodney Adams</td><td>Male</td><td>180071694</td><td>New York</td></tr><tr><td>C0396</td><td>Warren Bell</td><td>Male</td><td>182324729</td><td>Texas</td></tr><tr><td>C0296</td><td>Nancy Unknown</td><td>Female</td><td>182820684</td><td>California</td></tr><tr><td>C0954</td><td>Keith Unknown</td><td>Male</td><td>183169415</td><td>Unknown</td></tr><tr><td>C0987</td><td>Patrick Flores</td><td>Male</td><td>183568455</td><td>New York</td></tr><tr><td>C0042</td><td>Steven Farley</td><td>Male</td><td>184605366</td><td>Texas</td></tr><tr><td>C0286</td><td>Mary Griffin</td><td>Female</td><td>184649918</td><td>Texas</td></tr><tr><td>C0703</td><td>William Garcia</td><td>Male</td><td>185151126</td><td>California</td></tr><tr><td>C0238</td><td>Jay Wright</td><td>Male</td><td>187921561</td><td>Ohio</td></tr><tr><td>C0503</td><td>April Unknown</td><td>Female</td><td>191786810</td><td>Texas</td></tr><tr><td>C0067</td><td>Eric Morris</td><td>Male</td><td>192181825</td><td>New York</td></tr><tr><td>C0641</td><td>Kirk Ramirez</td><td>Male</td><td>193661684</td><td>Texas</td></tr><tr><td>C0205</td><td>Christopher Johnson</td><td>Male</td><td>196542452</td><td>New York</td></tr><tr><td>C0846</td><td>Erika Lloyd</td><td>Female</td><td>198036631</td><td>Ohio</td></tr><tr><td>C0436</td><td>Vincent Rodriguez</td><td>Male</td><td>198070447</td><td>Texas</td></tr><tr><td>C0132</td><td>Ryan Stephens</td><td>Male</td><td>198594183</td><td>Unknown</td></tr><tr><td>C0175</td><td>Darrell Smith</td><td>Male</td><td>198963876</td><td>New York</td></tr><tr><td>C0147</td><td>Christopher Hall</td><td>Male</td><td>200466014</td><td>California</td></tr><tr><td>C0515</td><td>Elizabeth Boyd</td><td>Female</td><td>200823160</td><td>New York</td></tr><tr><td>C0802</td><td>Craig Lam</td><td>Male</td><td>200845543</td><td>Ohio</td></tr><tr><td>C0971</td><td>Jeff Nelson</td><td>Male</td><td>202775865</td><td>New York</td></tr><tr><td>C0140</td><td>Cesar Wise</td><td>Male</td><td>203699425</td><td>New York</td></tr><tr><td>C0617</td><td>Michael Unknown</td><td>Male</td><td>204826060</td><td>New York</td></tr><tr><td>C0179</td><td>Michael Unknown</td><td>Male</td><td>204846261</td><td>New York</td></tr><tr><td>C0927</td><td>Christopher Williams</td><td>Male</td><td>204846943</td><td>Ohio</td></tr><tr><td>C0805</td><td>Amber Stephenson</td><td>Female</td><td>205172098</td><td>Unknown</td></tr><tr><td>C0212</td><td>Eric Burgess</td><td>Male</td><td>207195425</td><td>New York</td></tr><tr><td>C0117</td><td>Donald Terrell</td><td>Male</td><td>207889507</td><td>California</td></tr><tr><td>C0375</td><td>Robert Unknown</td><td>Male</td><td>209203564</td><td>Ohio</td></tr><tr><td>C0038</td><td>Jose Griffin</td><td>Male</td><td>209802253</td><td>California</td></tr><tr><td>C0221</td><td>Keith Brown</td><td>Male</td><td>210248549</td><td>Texas</td></tr><tr><td>C0488</td><td>John Johnson</td><td>Male</td><td>210754618</td><td>New York</td></tr><tr><td>C0313</td><td>Christopher Unknown</td><td>Male</td><td>211010961</td><td>Ohio</td></tr><tr><td>C0678</td><td>Austin Acevedo</td><td>Male</td><td>211066362</td><td>New York</td></tr><tr><td>C0941</td><td>Melvin Unknown</td><td>Male</td><td>213259674</td><td>New York</td></tr><tr><td>C0959</td><td>Jonathan Unknown</td><td>Male</td><td>213297939</td><td>Unknown</td></tr><tr><td>C0173</td><td>Alexander Flores</td><td>Male</td><td>216173440</td><td>Unknown</td></tr><tr><td>C0793</td><td>Jeffrey Smith</td><td>Male</td><td>219332658</td><td>New York</td></tr><tr><td>C0901</td><td>Evan Farrell</td><td>Male</td><td>221145811</td><td>Texas</td></tr><tr><td>C0822</td><td>Timothy Unknown</td><td>Male</td><td>221451673</td><td>California</td></tr><tr><td>C0274</td><td>Michael Martinez</td><td>Male</td><td>221454213</td><td>Ohio</td></tr><tr><td>C0385</td><td>Daniel Unknown</td><td>Male</td><td>223725368</td><td>New York</td></tr><tr><td>C0965</td><td>Scott Unknown</td><td>Male</td><td>226607396</td><td>Ohio</td></tr><tr><td>C0337</td><td>William Ray</td><td>Male</td><td>228707140</td><td>Unknown</td></tr><tr><td>C0089</td><td>Anthony Lin</td><td>Male</td><td>231346985</td><td>New York</td></tr><tr><td>C0845</td><td>Andrew Unknown</td><td>Male</td><td>233303052</td><td>New York</td></tr><tr><td>C0204</td><td>Raymond Unknown</td><td>Male</td><td>234229115</td><td>New York</td></tr><tr><td>C0214</td><td>Larry Knight</td><td>Male</td><td>238525972</td><td>Texas</td></tr><tr><td>C0022</td><td>Timothy Unknown</td><td>Male</td><td>239012990</td><td>Texas</td></tr><tr><td>C0012</td><td>Charles Unknown</td><td>Male</td><td>239140962</td><td>New York</td></tr><tr><td>C0753</td><td>Christian Gray</td><td>Male</td><td>239342932</td><td>New York</td></tr><tr><td>C0978</td><td>Kenneth Ryan</td><td>Male</td><td>240016103</td><td>Unknown</td></tr><tr><td>C0984</td><td>Sheri Torres</td><td>Female</td><td>243005733</td><td>California</td></tr><tr><td>C0319</td><td>Karen Sullivan</td><td>Female</td><td>246947297</td><td>Texas</td></tr><tr><td>C0869</td><td>Jillian Hughes</td><td>Female</td><td>247496700</td><td>Unknown</td></tr><tr><td>C0122</td><td>Dustin Cook</td><td>Male</td><td>248486801</td><td>Ohio</td></tr><tr><td>C0733</td><td>Lauren Salazar</td><td>Female</td><td>248554790</td><td>Ohio</td></tr><tr><td>C0430</td><td>Dan Unknown</td><td>Male</td><td>249552779</td><td>Ohio</td></tr><tr><td>C0966</td><td>Christopher Meadows</td><td>Male</td><td>249651683</td><td>Ohio</td></tr><tr><td>C0930</td><td>Charles Unknown</td><td>Male</td><td>250753104</td><td>Texas</td></tr><tr><td>C0661</td><td>Charles Fritz</td><td>Male</td><td>251901495</td><td>New York</td></tr><tr><td>C0500</td><td>Jeffrey Dean</td><td>Male</td><td>254371125</td><td>New York</td></tr><tr><td>C0848</td><td>Rebecca Unknown</td><td>Female</td><td>256414863</td><td>California</td></tr><tr><td>C0380</td><td>Steven Brown</td><td>Male</td><td>257558548</td><td>New York</td></tr><tr><td>C0940</td><td>Shane Ward</td><td>Male</td><td>259865545</td><td>Texas</td></tr><tr><td>C0698</td><td>Joseph Morrison</td><td>Male</td><td>260456543</td><td>Unknown</td></tr><tr><td>C0410</td><td>Brent Banks</td><td>Male</td><td>263013531</td><td>New York</td></tr><tr><td>C0087</td><td>John Unknown</td><td>Male</td><td>263346589</td><td>California</td></tr><tr><td>C0767</td><td>Jacqueline Gilmore</td><td>Female</td><td>264106117</td><td>Texas</td></tr><tr><td>C0785</td><td>Janice David</td><td>Female</td><td>266389766</td><td>California</td></tr><tr><td>C0952</td><td>Gregory Unknown</td><td>Male</td><td>266490127</td><td>Ohio</td></tr><tr><td>C0550</td><td>Gregory Davidson</td><td>Male</td><td>267970472</td><td>California</td></tr><tr><td>C0501</td><td>Valerie Lester</td><td>Female</td><td>268115021</td><td>Texas</td></tr><tr><td>C0231</td><td>Jacob Walton</td><td>Male</td><td>268796912</td><td>Texas</td></tr><tr><td>C0376</td><td>Joshua Anderson</td><td>Male</td><td>271145858</td><td>California</td></tr><tr><td>C0482</td><td>Ricky Watson</td><td>Male</td><td>271482998</td><td>California</td></tr><tr><td>C0329</td><td>Steven Davis</td><td>Male</td><td>271957229</td><td>New York</td></tr><tr><td>C0439</td><td>Brian Acevedo</td><td>Male</td><td>272053601</td><td>New York</td></tr><tr><td>C0281</td><td>Michelle Conrad</td><td>Female</td><td>272424961</td><td>Texas</td></tr><tr><td>C0891</td><td>Marcus Unknown</td><td>Male</td><td>272979341</td><td>Texas</td></tr><tr><td>C0995</td><td>Jason Graham</td><td>Male</td><td>272998455</td><td>New York</td></tr><tr><td>C0586</td><td>Dean Coffey</td><td>Male</td><td>273155435</td><td>Unknown</td></tr><tr><td>C0153</td><td>Gregory Krueger</td><td>Male</td><td>274654231</td><td>California</td></tr><tr><td>C0460</td><td>Gina Woods</td><td>Female</td><td>275041147</td><td>California</td></tr><tr><td>C0126</td><td>Keith Oneal</td><td>Male</td><td>275564906</td><td>California</td></tr><tr><td>C0166</td><td>Ronald Unknown</td><td>Male</td><td>276535075</td><td>New York</td></tr><tr><td>C0357</td><td>Jose Unknown</td><td>Male</td><td>277415602</td><td>New York</td></tr><tr><td>C0340</td><td>Frank Unknown</td><td>Male</td><td>277769327</td><td>California</td></tr><tr><td>C0215</td><td>Reginald Lee</td><td>Male</td><td>278638019</td><td>Texas</td></tr><tr><td>C0559</td><td>Carl Ramirez</td><td>Male</td><td>279196546</td><td>New York</td></tr><tr><td>C0285</td><td>Ruben Unknown</td><td>Male</td><td>280782463</td><td>Ohio</td></tr><tr><td>C0475</td><td>Charles Cook</td><td>Male</td><td>280843692</td><td>New York</td></tr><tr><td>C0226</td><td>Christopher Unknown</td><td>Male</td><td>280997339</td><td>New York</td></tr><tr><td>C0820</td><td>Christopher Unknown</td><td>Male</td><td>281429548</td><td>Texas</td></tr><tr><td>C0178</td><td>Miguel Chung</td><td>Male</td><td>282577204</td><td>New York</td></tr><tr><td>C0757</td><td>David Clark</td><td>Male</td><td>282931210</td><td>Unknown</td></tr><tr><td>C0616</td><td>Robert Zimmerman</td><td>Male</td><td>283194571</td><td>California</td></tr><tr><td>C0283</td><td>Heather Hawkins</td><td>Female</td><td>285960691</td><td>Texas</td></tr><tr><td>C0692</td><td>Gregory Cabrera</td><td>Male</td><td>286762954</td><td>Unknown</td></tr><tr><td>C0681</td><td>Tabitha Adams</td><td>Female</td><td>288108857</td><td>California</td></tr><tr><td>C0694</td><td>Steven Unknown</td><td>Male</td><td>288496796</td><td>Ohio</td></tr><tr><td>C0749</td><td>Thomas Jackson</td><td>Male</td><td>289551262</td><td>New York</td></tr><tr><td>C0726</td><td>Stephen Walton</td><td>Male</td><td>289825974</td><td>California</td></tr><tr><td>C0373</td><td>Peter Unknown</td><td>Male</td><td>292873678</td><td>Texas</td></tr><tr><td>C0576</td><td>Jordan Sullivan</td><td>Male</td><td>293252049</td><td>California</td></tr><tr><td>C0133</td><td>Kevin Unknown</td><td>Male</td><td>294238712</td><td>Unknown</td></tr><tr><td>C0477</td><td>Timothy Unknown</td><td>Male</td><td>294623873</td><td>New York</td></tr><tr><td>C0736</td><td>Thomas Williams</td><td>Male</td><td>295193511</td><td>California</td></tr><tr><td>C0649</td><td>Amy Reyes</td><td>Female</td><td>296737004</td><td>New York</td></tr><tr><td>C0137</td><td>Nicole Unknown</td><td>Female</td><td>297910856</td><td>New York</td></tr><tr><td>C0078</td><td>Caleb Ramirez</td><td>Male</td><td>301728783</td><td>New York</td></tr><tr><td>C0094</td><td>Darren Woods</td><td>Male</td><td>301924330</td><td>Texas</td></tr><tr><td>C0411</td><td>Scott Unknown</td><td>Male</td><td>302090516</td><td>California</td></tr><tr><td>C0522</td><td>William Smith</td><td>Male</td><td>302553355</td><td>Texas</td></tr><tr><td>C0381</td><td>Roy West</td><td>Male</td><td>304865846</td><td>Texas</td></tr><tr><td>C0316</td><td>George Unknown</td><td>Male</td><td>305099813</td><td>Texas</td></tr><tr><td>C0318</td><td>Michael Solis</td><td>Male</td><td>305223195</td><td>New York</td></tr><tr><td>C0607</td><td>Timothy Miller</td><td>Male</td><td>306558618</td><td>Texas</td></tr><tr><td>C0605</td><td>Amy Walker</td><td>Female</td><td>306732769</td><td>California</td></tr><tr><td>C0612</td><td>Teresa Reed</td><td>Female</td><td>306924531</td><td>New York</td></tr><tr><td>C0422</td><td>Shelby Unknown</td><td>Female</td><td>307934376</td><td>New York</td></tr><tr><td>C0002</td><td>Marvin Unknown</td><td>Male</td><td>309625621</td><td>California</td></tr><tr><td>C0915</td><td>Christopher Ryan</td><td>Male</td><td>312088400</td><td>Unknown</td></tr><tr><td>C0294</td><td>Peter Bennett</td><td>Male</td><td>312529723</td><td>Texas</td></tr><tr><td>C0424</td><td>Shannon Barker</td><td>Female</td><td>313470842</td><td>Unknown</td></tr><tr><td>C0778</td><td>John Houston</td><td>Male</td><td>313490734</td><td>Texas</td></tr><tr><td>C0655</td><td>Zachary Unknown</td><td>Male</td><td>314427494</td><td>California</td></tr><tr><td>C0876</td><td>Jasmine Washington</td><td>Female</td><td>317473422</td><td>New York</td></tr><tr><td>C0786</td><td>Leslie Unknown</td><td>Female</td><td>318033286</td><td>Ohio</td></tr><tr><td>C0609</td><td>Derek Anderson</td><td>Male</td><td>318078242</td><td>New York</td></tr><tr><td>C0773</td><td>Casey Smith</td><td>Male</td><td>318290201</td><td>California</td></tr><tr><td>C0525</td><td>Carl Lindsey</td><td>Male</td><td>323198349</td><td>Ohio</td></tr><tr><td>C0634</td><td>Mariah Unknown</td><td>Female</td><td>323484391</td><td>Ohio</td></tr><tr><td>C0011</td><td>Jason Morales</td><td>Male</td><td>325235301</td><td>Unknown</td></tr><tr><td>C0903</td><td>Brandon Sullivan</td><td>Male</td><td>326306471</td><td>Unknown</td></tr><tr><td>C0580</td><td>Alexander Valentine</td><td>Male</td><td>327340890</td><td>Ohio</td></tr><tr><td>C0125</td><td>Christopher Green</td><td>Male</td><td>328058594</td><td>California</td></tr><tr><td>C0585</td><td>Kenneth Gardner</td><td>Male</td><td>328899851</td><td>Texas</td></tr><tr><td>C0506</td><td>Kenneth Unknown</td><td>Male</td><td>329100206</td><td>New York</td></tr><tr><td>C0861</td><td>Jacob Williams</td><td>Male</td><td>330237698</td><td>Ohio</td></tr><tr><td>C0679</td><td>Dustin Barnett</td><td>Male</td><td>331102620</td><td>California</td></tr><tr><td>C0709</td><td>Jennifer Nelson</td><td>Female</td><td>331691084</td><td>New York</td></tr><tr><td>C0528</td><td>Tracy Stewart</td><td>Male</td><td>331959404</td><td>Texas</td></tr><tr><td>C0156</td><td>Derrick Bennett</td><td>Male</td><td>333070492</td><td>New York</td></tr><tr><td>C0860</td><td>Cathy Unknown</td><td>Female</td><td>333381434</td><td>New York</td></tr><tr><td>C0114</td><td>Tyrone Brown</td><td>Male</td><td>333467711</td><td>Texas</td></tr><tr><td>C0461</td><td>Randy Unknown</td><td>Male</td><td>338738644</td><td>Ohio</td></tr><tr><td>C0921</td><td>David Lewis</td><td>Male</td><td>342171984</td><td>Texas</td></tr><tr><td>C0105</td><td>David Vance</td><td>Male</td><td>343030922</td><td>New York</td></tr><tr><td>C0144</td><td>Clifford Unknown</td><td>Male</td><td>343877021</td><td>Texas</td></tr><tr><td>C0656</td><td>Richard Jordan</td><td>Male</td><td>344968900</td><td>California</td></tr><tr><td>C0440</td><td>Larry Unknown</td><td>Male</td><td>347392142</td><td>New York</td></tr><tr><td>C0180</td><td>John Unknown</td><td>Male</td><td>348492942</td><td>California</td></tr><tr><td>C0402</td><td>John Unknown</td><td>Male</td><td>349923704</td><td>New York</td></tr><tr><td>C0264</td><td>Tracy Peterson</td><td>Female</td><td>350028080</td><td>Texas</td></tr><tr><td>C0220</td><td>Gregory Trujillo</td><td>Male</td><td>350098032</td><td>Texas</td></tr><tr><td>C0206</td><td>Steven Johnson</td><td>Male</td><td>350343088</td><td>New York</td></tr><tr><td>C0911</td><td>Scott Beasley</td><td>Male</td><td>351538339</td><td>New York</td></tr><tr><td>C0800</td><td>Cody Potter</td><td>Male</td><td>351558727</td><td>California</td></tr><tr><td>C0443</td><td>Matthew Owens</td><td>Male</td><td>352400102</td><td>California</td></tr><tr><td>C0423</td><td>Ryan Maldonado</td><td>Male</td><td>355056327</td><td>New York</td></tr><tr><td>C0330</td><td>Bryan Richmond</td><td>Male</td><td>355664342</td><td>Texas</td></tr><tr><td>C0331</td><td>David Unknown</td><td>Male</td><td>356012698</td><td>California</td></tr><tr><td>C0814</td><td>Julie Adams</td><td>Female</td><td>356097767</td><td>Texas</td></tr><tr><td>C0970</td><td>Tyler Allen</td><td>Male</td><td>356209150</td><td>Ohio</td></tr><tr><td>C0825</td><td>Michael Valdez</td><td>Male</td><td>356457629</td><td>Texas</td></tr><tr><td>C0784</td><td>Benjamin Unknown</td><td>Male</td><td>356605783</td><td>New York</td></tr><tr><td>C0054</td><td>Christopher White</td><td>Male</td><td>356849560</td><td>California</td></tr><tr><td>C0116</td><td>Richard Unknown</td><td>Male</td><td>358344223</td><td>California</td></tr><tr><td>C0335</td><td>Larry Jefferson</td><td>Male</td><td>358419404</td><td>New York</td></tr><tr><td>C0195</td><td>Tamara Unknown</td><td>Female</td><td>358495400</td><td>New York</td></tr><tr><td>C0794</td><td>Jason Robertson</td><td>Male</td><td>359262855</td><td>Ohio</td></tr><tr><td>C0192</td><td>Thomas Unknown</td><td>Male</td><td>359561933</td><td>New York</td></tr><tr><td>C0593</td><td>Courtney Unknown</td><td>Female</td><td>360269475</td><td>California</td></tr><tr><td>C0257</td><td>Kevin Unknown</td><td>Male</td><td>361858506</td><td>Ohio</td></tr><tr><td>C0468</td><td>Tammy Turner</td><td>Female</td><td>362637054</td><td>California</td></tr><tr><td>C0484</td><td>Jacob Lyons</td><td>Male</td><td>362915393</td><td>New York</td></tr><tr><td>C0074</td><td>Roberto Unknown</td><td>Male</td><td>363764583</td><td>New York</td></tr><tr><td>C0795</td><td>Anthony Unknown</td><td>Male</td><td>364084063</td><td>Unknown</td></tr><tr><td>C0890</td><td>Zachary Moore</td><td>Male</td><td>367671951</td><td>Texas</td></tr><tr><td>C0040</td><td>Yvette Wood</td><td>Female</td><td>367782663</td><td>Ohio</td></tr><tr><td>C0957</td><td>Jason Williams</td><td>Male</td><td>372845521</td><td>New York</td></tr><tr><td>C0628</td><td>Michael Vazquez</td><td>Male</td><td>373320470</td><td>New York</td></tr><tr><td>C0514</td><td>Brian Wallace</td><td>Male</td><td>374475345</td><td>New York</td></tr><tr><td>C0186</td><td>Christopher Santos</td><td>Male</td><td>375129236</td><td>Ohio</td></tr><tr><td>C0334</td><td>John Unknown</td><td>Male</td><td>375726314</td><td>California</td></tr><tr><td>C0234</td><td>Andrew Bush</td><td>Male</td><td>376124410</td><td>California</td></tr><tr><td>C0222</td><td>Samantha Barnes</td><td>Female</td><td>377374733</td><td>California</td></tr><tr><td>C0273</td><td>Geoffrey Bell</td><td>Male</td><td>378044149</td><td>California</td></tr><tr><td>C0131</td><td>Daniel Unknown</td><td>Male</td><td>378424172</td><td>New York</td></tr><tr><td>C0095</td><td>Paul Reed</td><td>Male</td><td>378885480</td><td>Texas</td></tr><tr><td>C0673</td><td>Christopher Davila</td><td>Male</td><td>379022313</td><td>Ohio</td></tr><tr><td>C0914</td><td>Thomas Smith</td><td>Male</td><td>380278181</td><td>New York</td></tr><tr><td>C0176</td><td>Edward Bell</td><td>Male</td><td>381910140</td><td>New York</td></tr><tr><td>C0728</td><td>Brittany Ramsey</td><td>Female</td><td>383054770</td><td>Ohio</td></tr><tr><td>C0542</td><td>Joshua Kramer</td><td>Male</td><td>385877136</td><td>Ohio</td></tr><tr><td>C0964</td><td>Carolyn Unknown</td><td>Female</td><td>386588802</td><td>California</td></tr><tr><td>C0837</td><td>Robert Lopez</td><td>Male</td><td>386674190</td><td>New York</td></tr><tr><td>C0128</td><td>Tina Unknown</td><td>Female</td><td>387152762</td><td>Ohio</td></tr><tr><td>C0668</td><td>Joel Mann</td><td>Male</td><td>387576444</td><td>New York</td></tr><tr><td>C0827</td><td>Amanda Collins</td><td>Female</td><td>390959957</td><td>Ohio</td></tr><tr><td>C0895</td><td>Gregg Unknown</td><td>Male</td><td>393043927</td><td>Ohio</td></tr><tr><td>C0627</td><td>Lisa Hernandez</td><td>Female</td><td>393311560</td><td>New York</td></tr><tr><td>C0487</td><td>Melvin Lewis</td><td>Male</td><td>394458655</td><td>New York</td></tr><tr><td>C0774</td><td>Travis Bowman</td><td>Male</td><td>397235347</td><td>New York</td></tr><tr><td>C0516</td><td>Nathaniel Snyder</td><td>Male</td><td>397377759</td><td>New York</td></tr><tr><td>C0889</td><td>Christopher Unknown</td><td>Male</td><td>397468005</td><td>California</td></tr><tr><td>C0568</td><td>Randy Unknown</td><td>Male</td><td>398883429</td><td>California</td></tr><tr><td>C0233</td><td>Mary Unknown</td><td>Female</td><td>400279865</td><td>Ohio</td></tr><tr><td>C0701</td><td>Christopher Norton</td><td>Male</td><td>400961699</td><td>California</td></tr><tr><td>C0169</td><td>Keith Reed</td><td>Male</td><td>401077473</td><td>New York</td></tr><tr><td>C0858</td><td>Joshua Payne</td><td>Male</td><td>403564438</td><td>California</td></tr><tr><td>C0782</td><td>Mary Unknown</td><td>Female</td><td>403622204</td><td>California</td></tr><tr><td>C0906</td><td>Michael Zuniga</td><td>Male</td><td>403785447</td><td>Ohio</td></tr><tr><td>C0562</td><td>Brenda Stephens</td><td>Female</td><td>404404846</td><td>California</td></tr><tr><td>C0311</td><td>David Owens</td><td>Male</td><td>404419336</td><td>California</td></tr><tr><td>C0746</td><td>Michael Young</td><td>Male</td><td>406721383</td><td>New York</td></tr><tr><td>C0003</td><td>Gregory Smith</td><td>Male</td><td>407071725</td><td>New York</td></tr><tr><td>C0388</td><td>Frank Flores</td><td>Male</td><td>407298822</td><td>Ohio</td></tr><tr><td>C0676</td><td>Michael Young</td><td>Male</td><td>408022183</td><td>New York</td></tr><tr><td>C0755</td><td>Amanda Unknown</td><td>Female</td><td>408262092</td><td>New York</td></tr><tr><td>C0030</td><td>Desiree Washington</td><td>Female</td><td>408468745</td><td>Ohio</td></tr><tr><td>C0711</td><td>Katie Murray</td><td>Female</td><td>408808242</td><td>Texas</td></tr><tr><td>C0282</td><td>Gavin Sloan</td><td>Male</td><td>409560863</td><td>New York</td></tr><tr><td>C0079</td><td>Timothy Unknown</td><td>Male</td><td>410561810</td><td>New York</td></tr><tr><td>C0406</td><td>Darrell Unknown</td><td>Male</td><td>413218677</td><td>Texas</td></tr><tr><td>C0695</td><td>Michael Todd</td><td>Male</td><td>413436693</td><td>Texas</td></tr><tr><td>C0307</td><td>James Franco</td><td>Male</td><td>413692485</td><td>Texas</td></tr><tr><td>C0217</td><td>Susan Smith</td><td>Female</td><td>414622277</td><td>Texas</td></tr><tr><td>C0601</td><td>Garrett Unknown</td><td>Male</td><td>414959933</td><td>New York</td></tr><tr><td>C0904</td><td>David Unknown</td><td>Male</td><td>415438803</td><td>New York</td></tr><tr><td>C0691</td><td>David Terry</td><td>Male</td><td>416187461</td><td>Texas</td></tr><tr><td>C0610</td><td>Edward Vazquez</td><td>Male</td><td>417743538</td><td>New York</td></tr><tr><td>C0246</td><td>Amanda Kelly</td><td>Female</td><td>418522465</td><td>Ohio</td></tr><tr><td>C0810</td><td>James Unknown</td><td>Male</td><td>419789059</td><td>Texas</td></tr><tr><td>C0043</td><td>Rachel Unknown</td><td>Female</td><td>419850542</td><td>New York</td></tr><tr><td>C0922</td><td>Peter Unknown</td><td>Male</td><td>420249288</td><td>Unknown</td></tr><tr><td>C0803</td><td>John Unknown</td><td>Male</td><td>423290734</td><td>California</td></tr><tr><td>C0948</td><td>Richard Powell</td><td>Male</td><td>424041200</td><td>California</td></tr><tr><td>C0983</td><td>Daniel Unknown</td><td>Male</td><td>424264205</td><td>New York</td></tr><tr><td>C0355</td><td>Pamela Mcbride</td><td>Female</td><td>425902226</td><td>New York</td></tr><tr><td>C0977</td><td>Daniel Malone</td><td>Male</td><td>427297371</td><td>Texas</td></tr><tr><td>C0508</td><td>Michael Davis</td><td>Male</td><td>427857401</td><td>Ohio</td></tr><tr><td>C0920</td><td>William Unknown</td><td>Male</td><td>428215783</td><td>Texas</td></tr><tr><td>C0076</td><td>James Clark</td><td>Male</td><td>430922347</td><td>Texas</td></tr><tr><td>C0623</td><td>Jerry Unknown</td><td>Male</td><td>432316606</td><td>Texas</td></tr><tr><td>C0739</td><td>Anita Cunningham</td><td>Female</td><td>432696423</td><td>New York</td></tr><tr><td>C0982</td><td>Kathy Unknown</td><td>Female</td><td>435707216</td><td>California</td></tr><tr><td>C0659</td><td>David Mullen</td><td>Male</td><td>436039045</td><td>California</td></tr><tr><td>C0379</td><td>Paula Adkins</td><td>Female</td><td>437433821</td><td>California</td></tr><tr><td>C0320</td><td>Cory Ramsey</td><td>Male</td><td>438990756</td><td>California</td></tr><tr><td>C0237</td><td>Marc Unknown</td><td>Male</td><td>439493309</td><td>New York</td></tr><tr><td>C0732</td><td>Dwayne Montoya</td><td>Male</td><td>440167245</td><td>New York</td></tr><tr><td>C0419</td><td>Gordon Robinson</td><td>Male</td><td>440467563</td><td>California</td></tr><tr><td>C0910</td><td>Derek Carpenter</td><td>Male</td><td>441171460</td><td>New York</td></tr><tr><td>C0662</td><td>David Unknown</td><td>Male</td><td>441647109</td><td>Texas</td></tr><tr><td>C0931</td><td>Timothy Campbell</td><td>Male</td><td>442320679</td><td>Unknown</td></tr><tr><td>C0429</td><td>Mary Buckley</td><td>Female</td><td>442927146</td><td>New York</td></tr><tr><td>C0526</td><td>Edgar Bennett</td><td>Male</td><td>444542284</td><td>California</td></tr><tr><td>C0288</td><td>Karen Hays</td><td>Female</td><td>448286732</td><td>Unknown</td></tr><tr><td>C0902</td><td>Sean Harris</td><td>Male</td><td>448779964</td><td>New York</td></tr><tr><td>C0021</td><td>Rachel Unknown</td><td>Female</td><td>453662248</td><td>New York</td></tr><tr><td>C0478</td><td>James Unknown</td><td>Male</td><td>454625243</td><td>Ohio</td></tr><tr><td>C0292</td><td>Shawn Unknown</td><td>Male</td><td>456341394</td><td>New York</td></tr><tr><td>C0467</td><td>James Unknown</td><td>Male</td><td>456677367</td><td>New York</td></tr><tr><td>C0944</td><td>Carlos Richards</td><td>Male</td><td>457378358</td><td>Texas</td></tr><tr><td>C0973</td><td>Casey Le</td><td>Male</td><td>457602278</td><td>Ohio</td></tr><tr><td>C0072</td><td>Eric Mora</td><td>Male</td><td>458923106</td><td>California</td></tr><tr><td>C0530</td><td>Steven Bennett</td><td>Male</td><td>460196325</td><td>New York</td></tr><tr><td>C0044</td><td>James Robbins</td><td>Male</td><td>461347072</td><td>New York</td></tr><tr><td>C0366</td><td>John Edwards</td><td>Male</td><td>462595855</td><td>Ohio</td></tr><tr><td>C0268</td><td>Jessica Dawson</td><td>Female</td><td>463684353</td><td>Ohio</td></tr><tr><td>C0783</td><td>Victoria Nelson</td><td>Female</td><td>464512385</td><td>New York</td></tr><tr><td>C0227</td><td>Jeffrey Unknown</td><td>Male</td><td>465357339</td><td>Ohio</td></tr><tr><td>C0699</td><td>Scott Francis</td><td>Male</td><td>465941914</td><td>New York</td></tr><tr><td>C0407</td><td>Christian Mcdaniel</td><td>Male</td><td>466191056</td><td>Ohio</td></tr><tr><td>C0252</td><td>Joan Johnson</td><td>Female</td><td>466710398</td><td>California</td></tr><tr><td>C0048</td><td>Frank Ross</td><td>Male</td><td>466831539</td><td>Ohio</td></tr><tr><td>C0232</td><td>Mark Hopkins</td><td>Male</td><td>469860676</td><td>New York</td></tr><tr><td>C0741</td><td>Collin Haynes</td><td>Male</td><td>470736773</td><td>New York</td></tr><tr><td>C0158</td><td>Jeffrey Harris</td><td>Male</td><td>470868400</td><td>New York</td></tr><tr><td>C0961</td><td>John Rodriguez</td><td>Male</td><td>472052543</td><td>Texas</td></tr><tr><td>C0228</td><td>Travis Jones</td><td>Male</td><td>473779006</td><td>New York</td></tr><tr><td>C0994</td><td>John Patrick</td><td>Male</td><td>474065005</td><td>New York</td></tr><tr><td>C0947</td><td>James Robertson</td><td>Male</td><td>475561820</td><td>California</td></tr><tr><td>C0710</td><td>Joshua Unknown</td><td>Male</td><td>478596750</td><td>New York</td></tr><tr><td>C0747</td><td>Timothy Fisher</td><td>Male</td><td>479517675</td><td>Texas</td></tr><tr><td>C0301</td><td>Anthony Unknown</td><td>Male</td><td>479568961</td><td>New York</td></tr><tr><td>C0415</td><td>Anthony Unknown</td><td>Male</td><td>480261829</td><td>California</td></tr><tr><td>C0926</td><td>William Unknown</td><td>Male</td><td>480807314</td><td>New York</td></tr><tr><td>C0871</td><td>Daniel Curry</td><td>Male</td><td>481077923</td><td>Texas</td></tr><tr><td>C0455</td><td>James Chen</td><td>Male</td><td>487420419</td><td>California</td></tr><tr><td>C0849</td><td>Oscar Gomez</td><td>Male</td><td>489634078</td><td>Unknown</td></tr><tr><td>C0635</td><td>John Gibson</td><td>Male</td><td>490073913</td><td>Texas</td></tr><tr><td>C0039</td><td>John Mendoza</td><td>Male</td><td>490488896</td><td>New York</td></tr><tr><td>C0188</td><td>Wayne Snyder</td><td>Male</td><td>491384012</td><td>Texas</td></tr><tr><td>C0441</td><td>Terri Edwards</td><td>Female</td><td>493907825</td><td>California</td></tr><tr><td>C0251</td><td>Roy Cruz</td><td>Male</td><td>495401130</td><td>New York</td></tr><tr><td>C0599</td><td>Frederick Williams</td><td>Male</td><td>496591418</td><td>New York</td></tr><tr><td>C0028</td><td>William Smith</td><td>Male</td><td>497919481</td><td>California</td></tr><tr><td>C0093</td><td>Samuel Woods</td><td>Male</td><td>498105868</td><td>Ohio</td></tr><tr><td>C0752</td><td>Michael Evans</td><td>Male</td><td>498350365</td><td>Texas</td></tr><tr><td>C0138</td><td>William Boone</td><td>Male</td><td>499812161</td><td>Unknown</td></tr><tr><td>C0213</td><td>Brian Esparza</td><td>Male</td><td>499926999</td><td>Ohio</td></tr><tr><td>C0799</td><td>Brittany Rodriguez</td><td>Female</td><td>500883494</td><td>New York</td></tr><tr><td>C0886</td><td>Angela Unknown</td><td>Female</td><td>503457186</td><td>Ohio</td></tr><tr><td>C0969</td><td>Daniel Hendrix</td><td>Male</td><td>503905580</td><td>Unknown</td></tr><tr><td>C0353</td><td>Nathan Unknown</td><td>Male</td><td>504241139</td><td>New York</td></tr><tr><td>C0899</td><td>David Powell</td><td>Male</td><td>504873647</td><td>Texas</td></tr><tr><td>C0597</td><td>Dennis Jones</td><td>Male</td><td>506761257</td><td>California</td></tr><tr><td>C0824</td><td>Robert Unknown</td><td>Male</td><td>507447361</td><td>Texas</td></tr><tr><td>C0830</td><td>Michele Beasley</td><td>Female</td><td>507517033</td><td>New York</td></tr><tr><td>C0364</td><td>Howard Carlson</td><td>Male</td><td>507628576</td><td>New York</td></tr><tr><td>C0142</td><td>Travis Johnson</td><td>Male</td><td>508548337</td><td>California</td></tr><tr><td>C0689</td><td>Hector Christensen</td><td>Male</td><td>508601600</td><td>New York</td></tr><tr><td>C0277</td><td>Jessica Hawkins</td><td>Female</td><td>509952002</td><td>California</td></tr><tr><td>C0344</td><td>Noah Unknown</td><td>Male</td><td>510296857</td><td>Texas</td></tr><tr><td>C0083</td><td>Antonio Unknown</td><td>Male</td><td>510567460</td><td>Texas</td></tr><tr><td>C0490</td><td>Susan Unknown</td><td>Female</td><td>513277362</td><td>Texas</td></tr><tr><td>C0999</td><td>Alexandra Fox</td><td>Female</td><td>514788515</td><td>California</td></tr><tr><td>C0946</td><td>Gabriel Cole</td><td>Male</td><td>514853266</td><td>California</td></tr><tr><td>C0071</td><td>Charles Warren</td><td>Male</td><td>515651928</td><td>Texas</td></tr><tr><td>C0713</td><td>Carlos Combs</td><td>Male</td><td>516048874</td><td>California</td></tr><tr><td>C0256</td><td>Dwayne Unknown</td><td>Male</td><td>517339517</td><td>New York</td></tr><tr><td>C0302</td><td>Jason Gonzales</td><td>Male</td><td>522570366</td><td>New York</td></tr><tr><td>C0261</td><td>Julie Meyers</td><td>Female</td><td>522615596</td><td>New York</td></tr><tr><td>C0203</td><td>Michael Holloway</td><td>Male</td><td>523569572</td><td>Ohio</td></tr><tr><td>C0145</td><td>Aaron Unknown</td><td>Male</td><td>523681709</td><td>Texas</td></tr><tr><td>C0615</td><td>Jason Abbott</td><td>Male</td><td>524005465</td><td>Ohio</td></tr><tr><td>C0771</td><td>Matthew Woods</td><td>Male</td><td>526217299</td><td>New York</td></tr><tr><td>C0780</td><td>Teresa Morgan</td><td>Female</td><td>527171458</td><td>California</td></tr><tr><td>C0219</td><td>Derek Unknown</td><td>Male</td><td>527306899</td><td>Unknown</td></tr><tr><td>C0717</td><td>Trevor Fitzgerald</td><td>Male</td><td>527737923</td><td>Ohio</td></tr><tr><td>C0534</td><td>Brandon Gamble</td><td>Male</td><td>530002167</td><td>Ohio</td></tr><tr><td>C0975</td><td>Peter Unknown</td><td>Male</td><td>530685706</td><td>New York</td></tr><tr><td>C0135</td><td>William Watkins</td><td>Male</td><td>532124144</td><td>Texas</td></tr><tr><td>C0258</td><td>Sherry Unknown</td><td>Female</td><td>533419413</td><td>Texas</td></tr><tr><td>C0476</td><td>Jonathan Daniel</td><td>Male</td><td>534212238</td><td>Texas</td></tr><tr><td>C0239</td><td>Frank Unknown</td><td>Male</td><td>535126229</td><td>New York</td></tr><tr><td>C0718</td><td>John Jones</td><td>Male</td><td>535606961</td><td>Texas</td></tr><tr><td>C0925</td><td>Susan Unknown</td><td>Female</td><td>537874076</td><td>Texas</td></tr><tr><td>C0395</td><td>Joseph Unknown</td><td>Male</td><td>538655716</td><td>California</td></tr><tr><td>C0647</td><td>David Allison</td><td>Male</td><td>539065495</td><td>New York</td></tr><tr><td>C0549</td><td>Alexander Harris</td><td>Male</td><td>541716480</td><td>New York</td></tr><tr><td>C0665</td><td>Steven White</td><td>Male</td><td>544828156</td><td>New York</td></tr><tr><td>C0236</td><td>Travis Unknown</td><td>Male</td><td>545776601</td><td>California</td></tr><tr><td>C0310</td><td>Kevin Ray</td><td>Male</td><td>546209671</td><td>Texas</td></tr><tr><td>C0163</td><td>Tina Holt</td><td>Female</td><td>546587281</td><td>New York</td></tr><tr><td>C0102</td><td>Dennis Dominguez</td><td>Male</td><td>550011030</td><td>New York</td></tr><tr><td>C0062</td><td>Mark Adams</td><td>Male</td><td>550550046</td><td>Texas</td></tr><tr><td>C0091</td><td>Anna Unknown</td><td>Female</td><td>551203013</td><td>Texas</td></tr><tr><td>C0442</td><td>Seth Alexander</td><td>Male</td><td>555089445</td><td>Unknown</td></tr><tr><td>C0050</td><td>Kimberly Wright</td><td>Female</td><td>556577221</td><td>New York</td></tr><tr><td>C0777</td><td>Justin Unknown</td><td>Male</td><td>557234172</td><td>New York</td></tr><tr><td>C0945</td><td>Garrett Miller</td><td>Male</td><td>557953164</td><td>Ohio</td></tr><tr><td>C0080</td><td>Ian Fowler</td><td>Male</td><td>558150115</td><td>Unknown</td></tr><tr><td>C0818</td><td>Matthew Perez</td><td>Male</td><td>558260751</td><td>New York</td></tr><tr><td>C0308</td><td>Larry Walker</td><td>Male</td><td>558300489</td><td>California</td></tr><tr><td>C0764</td><td>Matthew Woods</td><td>Male</td><td>558936799</td><td>Ohio</td></tr><tr><td>C0289</td><td>John Williams</td><td>Male</td><td>559579989</td><td>California</td></tr><tr><td>C0174</td><td>Chloe Wheeler</td><td>Female</td><td>560597428</td><td>Ohio</td></tr><tr><td>C0390</td><td>Tanya Unknown</td><td>Female</td><td>561244634</td><td>California</td></tr><tr><td>C0291</td><td>Jeffrey Unknown</td><td>Male</td><td>561245225</td><td>Texas</td></tr><tr><td>C0729</td><td>Alexis Donovan</td><td>Female</td><td>561713087</td><td>California</td></tr><tr><td>C0560</td><td>Kimberly Jones</td><td>Female</td><td>562111695</td><td>New York</td></tr><tr><td>C0120</td><td>Roger Unknown</td><td>Male</td><td>562976885</td><td>California</td></tr><tr><td>C0654</td><td>Richard Nolan</td><td>Male</td><td>563507536</td><td>Texas</td></tr><tr><td>C0470</td><td>Misty White</td><td>Female</td><td>563825460</td><td>Texas</td></tr><tr><td>C0446</td><td>Michael Carrillo</td><td>Male</td><td>564484536</td><td>New York</td></tr><tr><td>C0399</td><td>Matthew Unknown</td><td>Male</td><td>564987216</td><td>Ohio</td></tr><tr><td>C0642</td><td>Aaron Unknown</td><td>Male</td><td>565743758</td><td>New York</td></tr><tr><td>C0697</td><td>Bryan Anderson</td><td>Male</td><td>566092992</td><td>Texas</td></tr><tr><td>C0321</td><td>Kelly Unknown</td><td>Female</td><td>567039426</td><td>California</td></tr><tr><td>C0748</td><td>Debra Martin</td><td>Female</td><td>567118913</td><td>New York</td></tr><tr><td>C0714</td><td>Nicholas Unknown</td><td>Male</td><td>567745231</td><td>California</td></tr><tr><td>C0556</td><td>Willie Unknown</td><td>Male</td><td>568431594</td><td>California</td></tr><tr><td>C0765</td><td>Johnathan Rivera</td><td>Male</td><td>568504710</td><td>Unknown</td></tr><tr><td>C0775</td><td>Mark Jenkins</td><td>Male</td><td>568919038</td><td>New York</td></tr><tr><td>C0032</td><td>Joshua Carson</td><td>Male</td><td>568920245</td><td>New York</td></tr><tr><td>C0452</td><td>Theresa Unknown</td><td>Female</td><td>570129654</td><td>Ohio</td></tr><tr><td>C0541</td><td>Carlos Unknown</td><td>Male</td><td>572634991</td><td>Texas</td></tr><tr><td>C0680</td><td>Aaron Hampton</td><td>Male</td><td>572846258</td><td>Ohio</td></tr><tr><td>C0632</td><td>Kristina Wright</td><td>Female</td><td>572862418</td><td>New York</td></tr><tr><td>C0013</td><td>Brandon Unknown</td><td>Male</td><td>573359511</td><td>Ohio</td></tr><tr><td>C0046</td><td>Dennis Unknown</td><td>Male</td><td>573904617</td><td>California</td></tr><tr><td>C0797</td><td>Justin Schneider</td><td>Male</td><td>574097680</td><td>Texas</td></tr><tr><td>C0278</td><td>Seth Unknown</td><td>Male</td><td>574595993</td><td>New York</td></tr><tr><td>C0063</td><td>Latoya Unknown</td><td>Female</td><td>575579346</td><td>Ohio</td></tr><tr><td>C0643</td><td>Brian Walker</td><td>Male</td><td>576737012</td><td>Ohio</td></tr><tr><td>C0712</td><td>Ashley Moore</td><td>Female</td><td>576772550</td><td>Ohio</td></tr><tr><td>C0109</td><td>Caleb Long</td><td>Male</td><td>580782929</td><td>Unknown</td></tr><tr><td>C0892</td><td>Christopher Unknown</td><td>Male</td><td>580793035</td><td>New York</td></tr><tr><td>C0620</td><td>Shannon Chang</td><td>Male</td><td>582409554</td><td>New York</td></tr><tr><td>C0936</td><td>Paul Unknown</td><td>Male</td><td>582643392</td><td>Unknown</td></tr><tr><td>C0243</td><td>Eric Lopez</td><td>Male</td><td>582668500</td><td>New York</td></tr><tr><td>C0471</td><td>Nicole Walton</td><td>Female</td><td>582919525</td><td>Texas</td></tr><tr><td>C0581</td><td>Angela Gomez</td><td>Female</td><td>587431597</td><td>New York</td></tr><tr><td>C0591</td><td>Julia Jacobson</td><td>Female</td><td>592881377</td><td>New York</td></tr><tr><td>C0847</td><td>Aaron Peterson</td><td>Male</td><td>593841266</td><td>California</td></tr><tr><td>C0259</td><td>Samantha Mays</td><td>Female</td><td>594567425</td><td>New York</td></tr><tr><td>C0314</td><td>David Mcguire</td><td>Male</td><td>596519026</td><td>New York</td></tr><tr><td>C0404</td><td>Anthony Taylor</td><td>Male</td><td>596750707</td><td>New York</td></tr><tr><td>C0532</td><td>Daniel Perkins</td><td>Male</td><td>597378024</td><td>California</td></tr><tr><td>C0798</td><td>Michael Unknown</td><td>Male</td><td>599394555</td><td>New York</td></tr><tr><td>C0996</td><td>Felicia Howe</td><td>Female</td><td>599601108</td><td>New York</td></tr><tr><td>C0159</td><td>Alexander Unknown</td><td>Male</td><td>601802494</td><td>New York</td></tr><tr><td>C0466</td><td>Rachel Lewis</td><td>Female</td><td>602113834</td><td>Ohio</td></tr><tr><td>C0702</td><td>Richard Howard</td><td>Male</td><td>603115189</td><td>Ohio</td></tr><tr><td>C0198</td><td>James Ortiz</td><td>Male</td><td>603762095</td><td>California</td></tr><tr><td>C0474</td><td>Jacob Taylor</td><td>Male</td><td>604112993</td><td>California</td></tr><tr><td>C0949</td><td>David Unknown</td><td>Male</td><td>604251144</td><td>New York</td></tr><tr><td>C0235</td><td>Amy Unknown</td><td>Female</td><td>604919892</td><td>New York</td></tr><tr><td>C0993</td><td>David Mcmillan</td><td>Male</td><td>606087609</td><td>California</td></tr><tr><td>C0146</td><td>Zachary Unknown</td><td>Male</td><td>608687651</td><td>Ohio</td></tr><tr><td>C0290</td><td>Erik Unknown</td><td>Male</td><td>608717297</td><td>New York</td></tr><tr><td>C0545</td><td>Christopher Spencer</td><td>Male</td><td>612056774</td><td>New York</td></tr><tr><td>C0865</td><td>David Unknown</td><td>Male</td><td>613019907</td><td>Texas</td></tr><tr><td>C0816</td><td>Michael Lynn</td><td>Male</td><td>614351714</td><td>New York</td></tr><tr><td>C0027</td><td>Brandon Smith</td><td>Male</td><td>614443050</td><td>New York</td></tr><tr><td>C0139</td><td>Robert Cook</td><td>Male</td><td>615112555</td><td>Texas</td></tr><tr><td>C0985</td><td>Jose Chan</td><td>Male</td><td>615777685</td><td>New York</td></tr><tr><td>C0878</td><td>Brian Unknown</td><td>Male</td><td>616491936</td><td>Ohio</td></tr><tr><td>C0557</td><td>Frank Miller</td><td>Male</td><td>617176279</td><td>Texas</td></tr><tr><td>C0606</td><td>Frank Unknown</td><td>Male</td><td>617790897</td><td>Ohio</td></tr><tr><td>C0833</td><td>Dean James</td><td>Male</td><td>618129284</td><td>California</td></tr><tr><td>C0097</td><td>Anthony Watts</td><td>Male</td><td>620445794</td><td>Texas</td></tr><tr><td>C0812</td><td>Phillip Unknown</td><td>Male</td><td>620728376</td><td>New York</td></tr><tr><td>C0088</td><td>William Unknown</td><td>Male</td><td>622411761</td><td>Ohio</td></tr><tr><td>C0130</td><td>Ronald Unknown</td><td>Male</td><td>622836352</td><td>Ohio</td></tr><tr><td>C0123</td><td>Rebecca Armstrong</td><td>Female</td><td>624663469</td><td>Ohio</td></tr><tr><td>C0582</td><td>Debbie Robinson</td><td>Female</td><td>626279139</td><td>Texas</td></tr><tr><td>C0853</td><td>Robert Snyder</td><td>Male</td><td>628833506</td><td>New York</td></tr><tr><td>C0538</td><td>Aaron Peck</td><td>Male</td><td>629933034</td><td>New York</td></tr><tr><td>C0652</td><td>James Unknown</td><td>Male</td><td>630801605</td><td>New York</td></tr><tr><td>C0864</td><td>Eric Wilson</td><td>Male</td><td>631764902</td><td>New York</td></tr><tr><td>C0393</td><td>Brandon Ruiz</td><td>Male</td><td>632461894</td><td>California</td></tr><tr><td>C0365</td><td>John Edwards</td><td>Male</td><td>632493571</td><td>New York</td></tr><tr><td>C0070</td><td>Kevin Franklin</td><td>Male</td><td>632496047</td><td>New York</td></tr><tr><td>C0594</td><td>John Ellis</td><td>Male</td><td>634025358</td><td>New York</td></tr><tr><td>C0107</td><td>Christine Ellis</td><td>Female</td><td>634157903</td><td>New York</td></tr><tr><td>C0433</td><td>Bryan Hale</td><td>Male</td><td>634530391</td><td>Ohio</td></tr><tr><td>C0150</td><td>Jon Cohen</td><td>Male</td><td>635238437</td><td>California</td></tr><tr><td>C0106</td><td>Jason Abbott</td><td>Male</td><td>636181643</td><td>Texas</td></tr><tr><td>C0548</td><td>Eric Winters</td><td>Male</td><td>636591132</td><td>New York</td></tr><tr><td>C0265</td><td>Lori Mccarthy</td><td>Female</td><td>638294112</td><td>Texas</td></tr><tr><td>C0518</td><td>Juan Miller</td><td>Male</td><td>638370869</td><td>Texas</td></tr><tr><td>C0090</td><td>Jeremy Williams</td><td>Male</td><td>638708215</td><td>New York</td></tr><tr><td>C0352</td><td>Sean Simpson</td><td>Male</td><td>638728908</td><td>Ohio</td></tr><tr><td>C0333</td><td>David Burns</td><td>Male</td><td>643922820</td><td>Texas</td></tr><tr><td>C0351</td><td>Jessica Manning</td><td>Female</td><td>647758737</td><td>New York</td></tr><tr><td>C0361</td><td>Andrew Tucker</td><td>Male</td><td>648065949</td><td>Ohio</td></tr><tr><td>C0017</td><td>Angela Cantrell</td><td>Female</td><td>648610422</td><td>Texas</td></tr><tr><td>C0832</td><td>Karen Medina</td><td>Female</td><td>648947287</td><td>New York</td></tr><tr><td>C0770</td><td>Nicholas Unknown</td><td>Male</td><td>649072529</td><td>Texas</td></tr><tr><td>C0151</td><td>Matthew Walter</td><td>Male</td><td>649419497</td><td>Unknown</td></tr><tr><td>C0603</td><td>Eric Hicks</td><td>Male</td><td>649554815</td><td>New York</td></tr><tr><td>C0740</td><td>Christopher Wilson</td><td>Male</td><td>650053493</td><td>New York</td></tr><tr><td>C0270</td><td>Richard Schaefer</td><td>Male</td><td>650804653</td><td>Ohio</td></tr><tr><td>C0129</td><td>Gregory Neal</td><td>Male</td><td>654553785</td><td>Texas</td></tr><tr><td>C0813</td><td>Ryan Unknown</td><td>Male</td><td>656314369</td><td>New York</td></tr><tr><td>C0989</td><td>Lucas Conley</td><td>Male</td><td>657001176</td><td>New York</td></tr><tr><td>C0504</td><td>Emily Washington</td><td>Female</td><td>658093925</td><td>Texas</td></tr><tr><td>C0346</td><td>Jeremy Lambert</td><td>Male</td><td>658346936</td><td>California</td></tr><tr><td>C0571</td><td>Jeffrey Suarez</td><td>Male</td><td>658397387</td><td>New York</td></tr><tr><td>C0300</td><td>Melanie Thompson</td><td>Female</td><td>659396269</td><td>California</td></tr><tr><td>C0326</td><td>Joshua Reynolds</td><td>Male</td><td>660360584</td><td>New York</td></tr><tr><td>C0328</td><td>Gregory Allen</td><td>Male</td><td>661265781</td><td>New York</td></tr><tr><td>C0263</td><td>Nicholas Clark</td><td>Male</td><td>661308159</td><td>New York</td></tr><tr><td>C0851</td><td>Darrell Unknown</td><td>Male</td><td>661374496</td><td>Unknown</td></tr><tr><td>C0834</td><td>Bryan Robertson</td><td>Male</td><td>662124699</td><td>New York</td></tr><tr><td>C0758</td><td>Christopher Unknown</td><td>Male</td><td>662484840</td><td>Ohio</td></tr><tr><td>C0540</td><td>Eduardo Stokes</td><td>Male</td><td>663145012</td><td>New York</td></tr><tr><td>C0447</td><td>Stephanie Unknown</td><td>Female</td><td>663595592</td><td>New York</td></tr><tr><td>C0875</td><td>Dawn Nunez</td><td>Female</td><td>665269354</td><td>New York</td></tr><tr><td>C0483</td><td>Benjamin Foster</td><td>Male</td><td>665640040</td><td>Unknown</td></tr><tr><td>C0297</td><td>Timothy Myers</td><td>Male</td><td>667403920</td><td>Texas</td></tr><tr><td>C0943</td><td>Mark Velez</td><td>Male</td><td>668327363</td><td>New York</td></tr><tr><td>C0457</td><td>Destiny Marks</td><td>Female</td><td>672409579</td><td>New York</td></tr><tr><td>C0809</td><td>Jessica Miller</td><td>Female</td><td>673471287</td><td>Texas</td></tr><tr><td>C0720</td><td>Ryan Mcgrath</td><td>Male</td><td>674222857</td><td>Texas</td></tr><tr><td>C0081</td><td>Ryan Pearson</td><td>Male</td><td>674718631</td><td>California</td></tr><tr><td>C0724</td><td>Christine White</td><td>Female</td><td>675175463</td><td>New York</td></tr><tr><td>C0756</td><td>Daniel Perkins</td><td>Male</td><td>675175592</td><td>New York</td></tr><tr><td>C0454</td><td>Terry Unknown</td><td>Male</td><td>677168115</td><td>Texas</td></tr><tr><td>C0134</td><td>Cole Nelson</td><td>Male</td><td>677431721</td><td>California</td></tr><tr><td>C0244</td><td>Mark Davidson</td><td>Male</td><td>677651926</td><td>Texas</td></tr><tr><td>C0544</td><td>Kyle Soto</td><td>Male</td><td>677994055</td><td>Texas</td></tr><tr><td>C0685</td><td>Jeffrey Unknown</td><td>Male</td><td>682613360</td><td>New York</td></tr><tr><td>C0769</td><td>Chad Lyons</td><td>Male</td><td>683117463</td><td>California</td></tr><tr><td>C0170</td><td>Cody Keller</td><td>Male</td><td>684757240</td><td>Ohio</td></tr><tr><td>C0708</td><td>Ronald Maxwell</td><td>Male</td><td>686265522</td><td>California</td></tr><tr><td>C0493</td><td>Carlos Bailey</td><td>Male</td><td>686411046</td><td>New York</td></tr><tr><td>C0744</td><td>Heather French</td><td>Female</td><td>686531531</td><td>Ohio</td></tr><tr><td>C0194</td><td>Eric Unknown</td><td>Male</td><td>689379003</td><td>Ohio</td></tr><tr><td>C0315</td><td>Allison Unknown</td><td>Female</td><td>689883957</td><td>Ohio</td></tr><tr><td>C0191</td><td>Christopher Sandoval</td><td>Male</td><td>690628259</td><td>New York</td></tr><tr><td>C0722</td><td>Eric Newman</td><td>Male</td><td>693895447</td><td>Unknown</td></tr><tr><td>C0840</td><td>John Sweeney</td><td>Male</td><td>694545824</td><td>New York</td></tr><tr><td>C0537</td><td>Gary Unknown</td><td>Male</td><td>694613884</td><td>New York</td></tr><tr><td>C0566</td><td>Jacob Wang</td><td>Male</td><td>695734158</td><td>New York</td></tr><tr><td>C0059</td><td>Eric Hoffman</td><td>Male</td><td>696483718</td><td>California</td></tr><tr><td>C0103</td><td>Michael Unknown</td><td>Male</td><td>696546354</td><td>California</td></tr><tr><td>C0604</td><td>Benjamin Unknown</td><td>Male</td><td>697180386</td><td>New York</td></tr><tr><td>C0345</td><td>Anthony Hull</td><td>Male</td><td>697917825</td><td>New York</td></tr><tr><td>C0276</td><td>Johnathan Williams</td><td>Male</td><td>698770629</td><td>California</td></tr><tr><td>C0349</td><td>John Mcintosh</td><td>Male</td><td>698809899</td><td>New York</td></tr><tr><td>C0055</td><td>Jonathan Thomas</td><td>Male</td><td>699015658</td><td>New York</td></tr><tr><td>C0807</td><td>Hunter Navarro</td><td>Male</td><td>700406261</td><td>Unknown</td></tr><tr><td>C0413</td><td>Christina Unknown</td><td>Female</td><td>700493877</td><td>Texas</td></tr><tr><td>C0031</td><td>Steven Morgan</td><td>Male</td><td>701763121</td><td>Ohio</td></tr><tr><td>C0808</td><td>Robert Kaufman</td><td>Male</td><td>702892540</td><td>Texas</td></tr><tr><td>C0241</td><td>Samuel Taylor</td><td>Male</td><td>703724255</td><td>New York</td></tr><tr><td>C0934</td><td>Timothy Unknown</td><td>Male</td><td>703950512</td><td>New York</td></tr><tr><td>C0592</td><td>Melissa Hernandez</td><td>Female</td><td>704579173</td><td>Texas</td></tr><tr><td>C0014</td><td>Jeffery Cabrera</td><td>Male</td><td>705131809</td><td>New York</td></tr><tr><td>C0450</td><td>Donna Unknown</td><td>Female</td><td>706074780</td><td>New York</td></tr><tr><td>C0143</td><td>Sydney Fisher</td><td>Female</td><td>706854753</td><td>New York</td></tr><tr><td>C0715</td><td>Christopher Unknown</td><td>Male</td><td>707846272</td><td>Unknown</td></tr><tr><td>C0621</td><td>Juan Davis</td><td>Male</td><td>707878605</td><td>New York</td></tr><tr><td>C0182</td><td>David Tran</td><td>Male</td><td>708199071</td><td>Ohio</td></tr><tr><td>C0051</td><td>David Unknown</td><td>Male</td><td>709245509</td><td>Unknown</td></tr><tr><td>C0154</td><td>Andrew Unknown</td><td>Male</td><td>709376129</td><td>Texas</td></tr><tr><td>C0299</td><td>Hannah Greer</td><td>Female</td><td>709812872</td><td>California</td></tr><tr><td>C0882</td><td>Sean Smith</td><td>Male</td><td>710431870</td><td>Texas</td></tr><tr><td>C0831</td><td>Jeffrey Wolf</td><td>Male</td><td>711584782</td><td>Ohio</td></tr><tr><td>C0686</td><td>Frank Golden</td><td>Male</td><td>711819875</td><td>Texas</td></tr><tr><td>C0184</td><td>Miguel Goodman</td><td>Male</td><td>713156107</td><td>Texas</td></tr><tr><td>C0372</td><td>John Smith</td><td>Male</td><td>713227086</td><td>New York</td></tr><tr><td>C0788</td><td>Angela Dodson</td><td>Female</td><td>715164396</td><td>Ohio</td></tr><tr><td>C0275</td><td>Joseph Bowers</td><td>Male</td><td>715420916</td><td>Unknown</td></tr><tr><td>C0517</td><td>Donald Unknown</td><td>Male</td><td>715675813</td><td>Ohio</td></tr><tr><td>C0648</td><td>Jason Nichols</td><td>Male</td><td>719244280</td><td>California</td></tr><tr><td>C0100</td><td>Vernon Morrow</td><td>Male</td><td>719378837</td><td>Texas</td></tr><tr><td>C0688</td><td>Jennifer Leonard</td><td>Female</td><td>719917971</td><td>California</td></tr><tr><td>C0306</td><td>Jonathan Chan</td><td>Male</td><td>722350922</td><td>Unknown</td></tr><tr><td>C0529</td><td>Bruce Snow</td><td>Male</td><td>725903432</td><td>California</td></tr><tr><td>C0787</td><td>Travis Unknown</td><td>Male</td><td>726208843</td><td>New York</td></tr><tr><td>C0630</td><td>Thomas Young</td><td>Male</td><td>727726412</td><td>California</td></tr><tr><td>C0303</td><td>Ryan Matthews</td><td>Male</td><td>727859949</td><td>Unknown</td></tr><tr><td>C0577</td><td>Paul Shaw</td><td>Male</td><td>728785028</td><td>New York</td></tr><tr><td>C0893</td><td>David Unknown</td><td>Male</td><td>729218126</td><td>Ohio</td></tr><tr><td>C0646</td><td>Andrew Unknown</td><td>Male</td><td>729893938</td><td>California</td></tr><tr><td>C0494</td><td>Jacob Smith</td><td>Male</td><td>730072863</td><td>New York</td></tr><tr><td>C0887</td><td>Evan Andrews</td><td>Male</td><td>731928333</td><td>Unknown</td></tr><tr><td>C0546</td><td>Stephen Brown</td><td>Male</td><td>732932246</td><td>Texas</td></tr><tr><td>C0636</td><td>Sean Hogan</td><td>Male</td><td>734726329</td><td>California</td></tr><tr><td>C0347</td><td>Stephen Phillips</td><td>Male</td><td>734845687</td><td>New York</td></tr><tr><td>C0183</td><td>Mark Howell</td><td>Male</td><td>735381042</td><td>Texas</td></tr><tr><td>C0700</td><td>Scott Unknown</td><td>Male</td><td>735678367</td><td>New York</td></tr><tr><td>C0723</td><td>William Ellison</td><td>Male</td><td>737069029</td><td>Texas</td></tr><tr><td>C0745</td><td>Chris Barker</td><td>Male</td><td>739032204</td><td>California</td></tr><tr><td>C0874</td><td>Joshua Young</td><td>Male</td><td>739144009</td><td>Texas</td></tr><tr><td>C0772</td><td>Travis Smith</td><td>Male</td><td>739234814</td><td>New York</td></tr><tr><td>C0653</td><td>Billy Church</td><td>Male</td><td>740491918</td><td>New York</td></tr><tr><td>C0754</td><td>Connor Smith</td><td>Male</td><td>740826558</td><td>New York</td></tr><tr><td>C0611</td><td>Alexander Unknown</td><td>Male</td><td>741322264</td><td>Texas</td></tr><tr><td>C0596</td><td>Luke Maldonado</td><td>Male</td><td>743615538</td><td>New York</td></tr><tr><td>C0339</td><td>Alex Unknown</td><td>Male</td><td>744021127</td><td>Ohio</td></tr><tr><td>C0172</td><td>Michael Bates</td><td>Male</td><td>745117268</td><td>Texas</td></tr><tr><td>C0626</td><td>Alejandro Gray</td><td>Male</td><td>745801373</td><td>Ohio</td></tr><tr><td>C0077</td><td>John Johnson</td><td>Male</td><td>747822662</td><td>Unknown</td></tr><tr><td>C0738</td><td>Donna Unknown</td><td>Female</td><td>747939252</td><td>Ohio</td></tr><tr><td>C0374</td><td>John Morris</td><td>Male</td><td>748013516</td><td>Ohio</td></tr><tr><td>C0295</td><td>Bryan Ryan</td><td>Male</td><td>748189605</td><td>California</td></tr><tr><td>C0852</td><td>Jordan Tanner</td><td>Male</td><td>748607232</td><td>New York</td></tr><tr><td>C0449</td><td>Amy Ferguson</td><td>Female</td><td>749164614</td><td>Texas</td></tr><tr><td>C0859</td><td>Robert Unknown</td><td>Male</td><td>749655774</td><td>California</td></tr><tr><td>C0193</td><td>Julie Lozano</td><td>Female</td><td>749674470</td><td>New York</td></tr><tr><td>C0177</td><td>Daniel Unknown</td><td>Male</td><td>751058872</td><td>California</td></tr><tr><td>C0967</td><td>Steven Gill</td><td>Male</td><td>751442943</td><td>Texas</td></tr><tr><td>C0112</td><td>Tyrone Bell</td><td>Male</td><td>753055870</td><td>California</td></tr><tr><td>C0505</td><td>Jordan Martin</td><td>Male</td><td>754062267</td><td>California</td></tr><tr><td>C0819</td><td>William Gilbert</td><td>Male</td><td>754399258</td><td>Unknown</td></tr><tr><td>C0622</td><td>Jerry Unknown</td><td>Male</td><td>754655288</td><td>New York</td></tr><tr><td>C0677</td><td>Devin Unknown</td><td>Male</td><td>756724909</td><td>California</td></tr><tr><td>C0272</td><td>Erika Sanchez</td><td>Female</td><td>759457940</td><td>Texas</td></tr><tr><td>C0535</td><td>Kenneth Unknown</td><td>Male</td><td>760391227</td><td>New York</td></tr><tr><td>C0974</td><td>Carolyn Howell</td><td>Female</td><td>760765320</td><td>Ohio</td></tr><tr><td>C0737</td><td>David Unknown</td><td>Male</td><td>761013422</td><td>New York</td></tr><tr><td>C0024</td><td>Luis Roberts</td><td>Male</td><td>763990480</td><td>New York</td></tr><tr><td>C0547</td><td>Kaitlyn Thomas</td><td>Female</td><td>764863865</td><td>New York</td></tr><tr><td>C0190</td><td>Matthew Gray</td><td>Male</td><td>764979468</td><td>Ohio</td></tr><tr><td>C0025</td><td>Jordan Mercado</td><td>Male</td><td>765370466</td><td>Texas</td></tr><tr><td>C0305</td><td>Curtis Mccormick</td><td>Male</td><td>765664501</td><td>Ohio</td></tr><tr><td>C0242</td><td>Jeffrey Sparks</td><td>Male</td><td>765956872</td><td>New York</td></tr><tr><td>C0968</td><td>Randy Smith</td><td>Male</td><td>766559816</td><td>New York</td></tr><tr><td>C0408</td><td>Crystal Kim</td><td>Female</td><td>768048601</td><td>New York</td></tr><tr><td>C0844</td><td>David Thompson</td><td>Male</td><td>768922268</td><td>Ohio</td></tr><tr><td>C0614</td><td>Tracy Stevenson</td><td>Female</td><td>771867274</td><td>California</td></tr><tr><td>C0842</td><td>Jessica Unknown</td><td>Female</td><td>775839530</td><td>California</td></tr><tr><td>C0645</td><td>Larry Moore</td><td>Male</td><td>778256788</td><td>Ohio</td></tr><tr><td>C0181</td><td>Michael Hodges</td><td>Male</td><td>778301843</td><td>Texas</td></tr><tr><td>C0327</td><td>Anthony Jordan</td><td>Male</td><td>779252182</td><td>New York</td></tr><tr><td>C0387</td><td>Peter Hurst</td><td>Male</td><td>779671971</td><td>Texas</td></tr><tr><td>C0161</td><td>Justin Williams</td><td>Male</td><td>780840007</td><td>Unknown</td></tr><tr><td>C0731</td><td>Calvin Sanders</td><td>Male</td><td>783136548</td><td>Unknown</td></tr><tr><td>C0434</td><td>Matthew Unknown</td><td>Male</td><td>783911683</td><td>California</td></tr><tr><td>C0458</td><td>Louis Unknown</td><td>Male</td><td>784481326</td><td>Texas</td></tr><tr><td>C0010</td><td>Jason Unknown</td><td>Male</td><td>785769341</td><td>New York</td></tr><tr><td>C0414</td><td>Paul Simmons</td><td>Male</td><td>786274563</td><td>California</td></tr><tr><td>C0873</td><td>Cody Unknown</td><td>Male</td><td>786473524</td><td>Texas</td></tr><tr><td>C0418</td><td>Ross Lee</td><td>Male</td><td>789058243</td><td>California</td></tr><tr><td>C0309</td><td>Anthony Cox</td><td>Male</td><td>789798530</td><td>New York</td></tr><tr><td>C0463</td><td>Martin Unknown</td><td>Male</td><td>790153522</td><td>California</td></tr><tr><td>C0498</td><td>Jeremy Williams</td><td>Male</td><td>790647519</td><td>Texas</td></tr><tr><td>C0425</td><td>Justin Unknown</td><td>Male</td><td>791670874</td><td>California</td></tr><tr><td>C0734</td><td>John Page</td><td>Male</td><td>794241662</td><td>New York</td></tr><tr><td>C1000</td><td>Todd Robinson</td><td>Male</td><td>796934918</td><td>California</td></tr><tr><td>C0409</td><td>Robert Greer</td><td>Male</td><td>797692134</td><td>New York</td></tr><tr><td>C0341</td><td>David Unknown</td><td>Male</td><td>797932055</td><td>New York</td></tr><tr><td>C0253</td><td>Michael Unknown</td><td>Male</td><td>798490734</td><td>Ohio</td></tr><tr><td>C0513</td><td>Danielle Unknown</td><td>Female</td><td>800448153</td><td>New York</td></tr><tr><td>C0760</td><td>Savannah Davis</td><td>Female</td><td>801729823</td><td>New York</td></tr><tr><td>C0358</td><td>Roger Thompson</td><td>Male</td><td>802127690</td><td>Ohio</td></tr><tr><td>C0383</td><td>Lisa Miller</td><td>Female</td><td>802594377</td><td>Texas</td></tr><tr><td>C0416</td><td>Nicholas Browning</td><td>Male</td><td>805157487</td><td>New York</td></tr><tr><td>C0908</td><td>Kevin Cruz</td><td>Male</td><td>805184298</td><td>New York</td></tr><tr><td>C0687</td><td>William Thomas</td><td>Male</td><td>806153788</td><td>New York</td></tr><tr><td>C0523</td><td>Raymond Wood</td><td>Male</td><td>806609242</td><td>Texas</td></tr><tr><td>C0759</td><td>Nicholas Unknown</td><td>Male</td><td>808244293</td><td>Ohio</td></tr><tr><td>C0491</td><td>Aaron Barnes</td><td>Male</td><td>808499780</td><td>New York</td></tr><tr><td>C0240</td><td>Jessica Unknown</td><td>Female</td><td>810767865</td><td>New York</td></tr><tr><td>C0338</td><td>Richard Unknown</td><td>Male</td><td>811187611</td><td>Ohio</td></tr><tr><td>C0879</td><td>Nicholas Ramirez</td><td>Male</td><td>812243872</td><td>California</td></tr><tr><td>C0595</td><td>Nicholas Crawford</td><td>Male</td><td>814263239</td><td>New York</td></tr><tr><td>C0435</td><td>Robert Unknown</td><td>Male</td><td>815533127</td><td>New York</td></tr><tr><td>C0085</td><td>Lindsay Roberts</td><td>Female</td><td>815631005</td><td>Ohio</td></tr><tr><td>C0164</td><td>Theresa Davis</td><td>Female</td><td>816347228</td><td>Texas</td></tr><tr><td>C0065</td><td>Anthony Butler</td><td>Male</td><td>816774692</td><td>Ohio</td></tr><tr><td>C0618</td><td>Tiffany Jones</td><td>Female</td><td>816849730</td><td>New York</td></tr><tr><td>C0670</td><td>Kimberly White</td><td>Female</td><td>816996056</td><td>New York</td></tr><tr><td>C0674</td><td>Laura Unknown</td><td>Female</td><td>817261459</td><td>Texas</td></tr><tr><td>C0960</td><td>David Butler</td><td>Male</td><td>817470751</td><td>New York</td></tr><tr><td>C0619</td><td>Zachary Nguyen</td><td>Male</td><td>817783305</td><td>New York</td></tr><tr><td>C0127</td><td>Frank Turner</td><td>Male</td><td>817844697</td><td>Unknown</td></tr><tr><td>C0888</td><td>Donald Lewis</td><td>Male</td><td>818636644</td><td>New York</td></tr><tr><td>C0923</td><td>Richard Mcdaniel</td><td>Male</td><td>819562443</td><td>Ohio</td></tr><tr><td>C0247</td><td>Steven Williams</td><td>Male</td><td>819701950</td><td>New York</td></tr><tr><td>C0897</td><td>James Morgan</td><td>Male</td><td>821294237</td><td>New York</td></tr><tr><td>C0262</td><td>Kyle Church</td><td>Male</td><td>821572393</td><td>Ohio</td></tr><tr><td>C0293</td><td>Bradley Black</td><td>Male</td><td>824562887</td><td>Texas</td></tr><tr><td>C0210</td><td>Thomas Lopez</td><td>Male</td><td>826470616</td><td>Ohio</td></tr><tr><td>C0367</td><td>Thomas Middleton</td><td>Male</td><td>826582990</td><td>Ohio</td></tr><tr><td>C0438</td><td>Melanie Little</td><td>Female</td><td>828289179</td><td>New York</td></tr><tr><td>C0354</td><td>Mitchell Johnson</td><td>Male</td><td>829876388</td><td>California</td></tr><tr><td>C0884</td><td>Jose Unknown</td><td>Male</td><td>833578977</td><td>Unknown</td></tr><tr><td>C0507</td><td>John Hale</td><td>Male</td><td>833651521</td><td>California</td></tr><tr><td>C0909</td><td>Steven Hamilton</td><td>Male</td><td>833896331</td><td>California</td></tr><tr><td>C0171</td><td>Tim Cameron</td><td>Male</td><td>836329420</td><td>Texas</td></tr><tr><td>C0719</td><td>Cynthia Hurley</td><td>Female</td><td>836692730</td><td>New York</td></tr><tr><td>C0359</td><td>Alexander Morrison</td><td>Male</td><td>836921153</td><td>Texas</td></tr><tr><td>C0465</td><td>Andre Unknown</td><td>Male</td><td>837685476</td><td>Texas</td></tr><tr><td>C0600</td><td>Edwin Unknown</td><td>Male</td><td>837780909</td><td>New York</td></tr><tr><td>C0981</td><td>Matthew Martinez</td><td>Male</td><td>841521315</td><td>Texas</td></tr><tr><td>C0104</td><td>Stanley Martin</td><td>Male</td><td>842670625</td><td>New York</td></tr><tr><td>C0817</td><td>Caroline Unknown</td><td>Female</td><td>842908366</td><td>New York</td></tr><tr><td>C0633</td><td>Kathryn Kim</td><td>Female</td><td>844775825</td><td>Texas</td></tr><tr><td>C0284</td><td>Erik Baker</td><td>Male</td><td>845786288</td><td>Unknown</td></tr><tr><td>C0412</td><td>Jessica Smith</td><td>Female</td><td>847384935</td><td>Texas</td></tr><tr><td>C0480</td><td>David Smith</td><td>Male</td><td>847715785</td><td>Texas</td></tr><tr><td>C0397</td><td>Glenda Jackson</td><td>Female</td><td>851721298</td><td>Texas</td></tr><tr><td>C0766</td><td>Brandon Edwards</td><td>Male</td><td>851825607</td><td>New York</td></tr><tr><td>C0751</td><td>Benjamin Unknown</td><td>Male</td><td>852325407</td><td>California</td></tr><tr><td>C0218</td><td>Daniel Wilcox</td><td>Male</td><td>852841205</td><td>Ohio</td></tr><tr><td>C0216</td><td>Spencer Howard</td><td>Male</td><td>854291313</td><td>Texas</td></tr><tr><td>C0838</td><td>Jesse Myers</td><td>Male</td><td>854563917</td><td>Texas</td></tr><tr><td>C0057</td><td>Brian Price</td><td>Male</td><td>857377811</td><td>Ohio</td></tr><tr><td>C0202</td><td>Jason Unknown</td><td>Male</td><td>858376262</td><td>Ohio</td></tr><tr><td>C0165</td><td>Gregory Ortega</td><td>Male</td><td>859348325</td><td>New York</td></tr><tr><td>C0197</td><td>Tyler Larsen</td><td>Male</td><td>860616468</td><td>New York</td></tr><tr><td>C0451</td><td>Brian Cooper</td><td>Male</td><td>861425250</td><td>Ohio</td></tr><tr><td>C0602</td><td>Bill Ochoa</td><td>Male</td><td>861882676</td><td>California</td></tr><tr><td>C0667</td><td>Austin Hogan</td><td>Male</td><td>861991792</td><td>New York</td></tr><tr><td>C0883</td><td>Brian Beard</td><td>Male</td><td>862014263</td><td>California</td></tr><tr><td>C0400</td><td>Jesse Unknown</td><td>Male</td><td>863085099</td><td>Unknown</td></tr><tr><td>C0045</td><td>Andrew Hopkins</td><td>Male</td><td>863152583</td><td>New York</td></tr><tr><td>C0209</td><td>Andrew Curtis</td><td>Male</td><td>866604595</td><td>New York</td></tr><tr><td>C0835</td><td>Johnny Coleman</td><td>Male</td><td>866623520</td><td>New York</td></tr><tr><td>C0348</td><td>Mike Burke</td><td>Male</td><td>866775234</td><td>Texas</td></tr><tr><td>C0068</td><td>John Unknown</td><td>Male</td><td>866810493</td><td>Unknown</td></tr><tr><td>C0453</td><td>Jacob Coffey</td><td>Male</td><td>867436512</td><td>Ohio</td></tr><tr><td>C0481</td><td>Timothy Unknown</td><td>Male</td><td>868249618</td><td>Texas</td></tr><tr><td>C0149</td><td>Robert Adkins</td><td>Male</td><td>868364514</td><td>New York</td></tr><tr><td>C0096</td><td>Christina Brown</td><td>Female</td><td>869867231</td><td>California</td></tr><tr><td>C0509</td><td>Nicholas Unknown</td><td>Male</td><td>872175577</td><td>Ohio</td></tr><tr><td>C0561</td><td>Christopher Unknown</td><td>Male</td><td>876240093</td><td>Ohio</td></tr><tr><td>C0512</td><td>Ryan Lee</td><td>Male</td><td>877857648</td><td>New York</td></tr><tr><td>C0972</td><td>Dennis Unknown</td><td>Male</td><td>878034243</td><td>California</td></tr><tr><td>C0939</td><td>Sandra Unknown</td><td>Female</td><td>879283301</td><td>California</td></tr><tr><td>C0651</td><td>Natalie Smith</td><td>Female</td><td>880350546</td><td>New York</td></tr><tr><td>C0804</td><td>Timothy Cisneros</td><td>Male</td><td>881190585</td><td>California</td></tr><tr><td>C0937</td><td>Kyle Robertson</td><td>Male</td><td>881326075</td><td>California</td></tr><tr><td>C0368</td><td>Robin Unknown</td><td>Female</td><td>882484061</td><td>Ohio</td></tr><tr><td>C0445</td><td>Michael Savage</td><td>Male</td><td>882654392</td><td>New York</td></tr><tr><td>C0332</td><td>Erika Unknown</td><td>Female</td><td>884658437</td><td>California</td></tr><tr><td>C0796</td><td>Erin Young</td><td>Female</td><td>884967739</td><td>Texas</td></tr><tr><td>C0527</td><td>Carlos Bowman</td><td>Male</td><td>886438183</td><td>Ohio</td></tr><tr><td>C0511</td><td>Chad Ramos</td><td>Male</td><td>886579305</td><td>Texas</td></tr><tr><td>C0298</td><td>Carla Rosario</td><td>Female</td><td>889890252</td><td>California</td></tr><tr><td>C0862</td><td>Bryan Hernandez</td><td>Male</td><td>890541146</td><td>New York</td></tr><tr><td>C0037</td><td>Brett Unknown</td><td>Male</td><td>890898446</td><td>Unknown</td></tr><tr><td>C0497</td><td>Oscar Mcgrath</td><td>Male</td><td>891196755</td><td>New York</td></tr><tr><td>C0826</td><td>Lisa Holloway</td><td>Female</td><td>891412693</td><td>New York</td></tr><tr><td>C0640</td><td>John Unknown</td><td>Male</td><td>891912403</td><td>New York</td></tr><tr><td>C0363</td><td>Roy Hernandez</td><td>Male</td><td>893614036</td><td>New York</td></tr><tr><td>C0564</td><td>Dakota Jones</td><td>Male</td><td>893799621</td><td>New York</td></tr><tr><td>C0343</td><td>Matthew Berry</td><td>Male</td><td>894819798</td><td>Ohio</td></tr><tr><td>C0815</td><td>Matthew Sanchez</td><td>Male</td><td>896588352</td><td>New York</td></tr><tr><td>C0496</td><td>Sherry Mckenzie</td><td>Female</td><td>897440990</td><td>New York</td></tr><tr><td>C0322</td><td>Joseph Unknown</td><td>Male</td><td>897801780</td><td>Texas</td></tr><tr><td>C0304</td><td>Calvin Soto</td><td>Male</td><td>898083634</td><td>New York</td></tr><tr><td>C0110</td><td>Megan Miller</td><td>Female</td><td>898146425</td><td>Ohio</td></tr><tr><td>C0360</td><td>Gabriel Walker</td><td>Male</td><td>898877272</td><td>Ohio</td></tr><tr><td>C0248</td><td>Michelle Morrow</td><td>Female</td><td>899686937</td><td>California</td></tr><tr><td>C0230</td><td>Daniel Mitchell</td><td>Male</td><td>899869584</td><td>California</td></tr><tr><td>C0492</td><td>Christopher Ford</td><td>Male</td><td>901324128</td><td>Texas</td></tr><tr><td>C0821</td><td>Eddie Smith</td><td>Male</td><td>901694656</td><td>New York</td></tr><tr><td>C0829</td><td>Eric Snyder</td><td>Male</td><td>903113332</td><td>New York</td></tr><tr><td>C0035</td><td>Joshua Sullivan</td><td>Male</td><td>904588403</td><td>Texas</td></tr><tr><td>C0426</td><td>Brandon Hernandez</td><td>Male</td><td>904605617</td><td>Unknown</td></tr><tr><td>C0157</td><td>John Unknown</td><td>Male</td><td>905215215</td><td>New York</td></tr><tr><td>C0185</td><td>James Murphy</td><td>Male</td><td>906918733</td><td>New York</td></tr><tr><td>C0056</td><td>Sonia Vaughn</td><td>Female</td><td>906940374</td><td>California</td></tr><tr><td>C0224</td><td>Cesar Unknown</td><td>Male</td><td>907426622</td><td>Texas</td></tr><tr><td>C0962</td><td>Penny Unknown</td><td>Female</td><td>908389138</td><td>Ohio</td></tr><tr><td>C0317</td><td>Steven Stark</td><td>Male</td><td>908701469</td><td>California</td></tr><tr><td>C0437</td><td>Richard Williams</td><td>Male</td><td>908719026</td><td>New York</td></tr><tr><td>C0790</td><td>Bryan Unknown</td><td>Male</td><td>910511306</td><td>Texas</td></tr><tr><td>C0113</td><td>Fernando Martinez</td><td>Male</td><td>913039242</td><td>California</td></tr><tr><td>C0280</td><td>Andrew Smith</td><td>Male</td><td>913696910</td><td>Unknown</td></tr><tr><td>C0168</td><td>David Miller</td><td>Male</td><td>914367227</td><td>California</td></tr><tr><td>C0023</td><td>Grant Bartlett</td><td>Male</td><td>914981950</td><td>Ohio</td></tr><tr><td>C0378</td><td>Dennis Black</td><td>Male</td><td>915183314</td><td>New York</td></tr><tr><td>C0029</td><td>Timothy Unknown</td><td>Male</td><td>916674499</td><td>Ohio</td></tr><tr><td>C0704</td><td>Scott Watts</td><td>Male</td><td>918412763</td><td>New York</td></tr><tr><td>C0693</td><td>Julie Green</td><td>Female</td><td>918914982</td><td>Texas</td></tr><tr><td>C0963</td><td>Matthew Valentine</td><td>Male</td><td>920867331</td><td>New York</td></tr><tr><td>C0464</td><td>Jordan Powers</td><td>Male</td><td>922144773</td><td>California</td></tr><tr><td>C0598</td><td>Desiree Unknown</td><td>Female</td><td>924579451</td><td>Ohio</td></tr><tr><td>C0588</td><td>Kylie Garcia</td><td>Female</td><td>925104399</td><td>Ohio</td></tr><tr><td>C0260</td><td>Robert Anderson</td><td>Male</td><td>925176007</td><td>New York</td></tr><tr><td>C0836</td><td>Charles Trevino</td><td>Male</td><td>928045324</td><td>New York</td></tr><tr><td>C0742</td><td>Joshua Jackson</td><td>Male</td><td>928638658</td><td>New York</td></tr><tr><td>C0026</td><td>Jesse Wilkerson</td><td>Male</td><td>929200753</td><td>New York</td></tr><tr><td>C0932</td><td>Misty Unknown</td><td>Female</td><td>932144830</td><td>California</td></tr><tr><td>C0907</td><td>Bradley Parrish</td><td>Male</td><td>935295860</td><td>Ohio</td></tr><tr><td>C0590</td><td>Michael Roberts</td><td>Male</td><td>935562819</td><td>New York</td></tr><tr><td>C0041</td><td>Michael Stephens</td><td>Male</td><td>936931355</td><td>New York</td></tr><tr><td>C0644</td><td>Donald Unknown</td><td>Male</td><td>937279766</td><td>Unknown</td></tr><tr><td>C0382</td><td>Crystal Unknown</td><td>Female</td><td>937570993</td><td>New York</td></tr><tr><td>C0495</td><td>Robert Lewis</td><td>Male</td><td>937732844</td><td>Texas</td></tr><tr><td>C0099</td><td>Corey Valentine</td><td>Male</td><td>940177867</td><td>California</td></tr><tr><td>C0279</td><td>Jennifer Ferguson</td><td>Female</td><td>940386159</td><td>New York</td></tr><tr><td>C0392</td><td>Jason Unknown</td><td>Male</td><td>941815485</td><td>California</td></tr><tr><td>C0991</td><td>David Mcclure</td><td>Male</td><td>942227903</td><td>New York</td></tr><tr><td>C0801</td><td>David Wagner</td><td>Male</td><td>943792034</td><td>New York</td></tr><tr><td>C0082</td><td>Samuel Lopez</td><td>Male</td><td>945936644</td><td>Ohio</td></tr><tr><td>C0569</td><td>Heather Mueller</td><td>Female</td><td>947371152</td><td>Ohio</td></tr><tr><td>C0706</td><td>Teresa Whitehead</td><td>Female</td><td>947397419</td><td>Ohio</td></tr><tr><td>C0004</td><td>Edward Davis</td><td>Male</td><td>948185740</td><td>Ohio</td></tr><tr><td>C0690</td><td>Christopher Castro</td><td>Male</td><td>948801129</td><td>Unknown</td></tr><tr><td>C0499</td><td>Jason Watkins</td><td>Male</td><td>949235279</td><td>California</td></tr><tr><td>C0857</td><td>Austin Espinoza</td><td>Male</td><td>950035063</td><td>New York</td></tr><tr><td>C0066</td><td>Thomas Kelly</td><td>Male</td><td>951133429</td><td>California</td></tr><tr><td>C0811</td><td>Christine Allen</td><td>Female</td><td>951248898</td><td>New York</td></tr><tr><td>C0398</td><td>Laura Byrd</td><td>Female</td><td>953504542</td><td>California</td></tr><tr><td>C0919</td><td>John Sullivan</td><td>Male</td><td>953558475</td><td>New York</td></tr><tr><td>C0781</td><td>Anthony Unknown</td><td>Male</td><td>953579645</td><td>New York</td></tr><tr><td>C0208</td><td>Logan Unknown</td><td>Male</td><td>956297833</td><td>Texas</td></tr><tr><td>C0928</td><td>Roger Patrick</td><td>Male</td><td>956406195</td><td>New York</td></tr><tr><td>C0199</td><td>Maurice Unknown</td><td>Male</td><td>959512357</td><td>New York</td></tr><tr><td>C0377</td><td>Christopher Unknown</td><td>Male</td><td>960646196</td><td>Texas</td></tr><tr><td>C0575</td><td>Paula Moore</td><td>Female</td><td>963363067</td><td>Texas</td></tr><tr><td>C0141</td><td>Douglas Miller</td><td>Male</td><td>964338007</td><td>Ohio</td></tr><tr><td>C0584</td><td>Thomas Williams</td><td>Male</td><td>965408422</td><td>New York</td></tr><tr><td>C0552</td><td>Kevin Unknown</td><td>Male</td><td>966365553</td><td>California</td></tr><tr><td>C0554</td><td>Gregory Hicks</td><td>Male</td><td>966379552</td><td>New York</td></tr><tr><td>C0898</td><td>Juan Hamilton</td><td>Male</td><td>967722021</td><td>California</td></tr><tr><td>C0839</td><td>Lauren Lopez</td><td>Female</td><td>968013277</td><td>Texas</td></tr><tr><td>C0207</td><td>Brandon Unknown</td><td>Male</td><td>969215763</td><td>Ohio</td></tr><tr><td>C0992</td><td>Ann Sandoval</td><td>Female</td><td>969607237</td><td>New York</td></tr><tr><td>C0762</td><td>Jose Unknown</td><td>Male</td><td>970074242</td><td>California</td></tr><tr><td>C0459</td><td>Brittney Cook</td><td>Female</td><td>970613474</td><td>New York</td></tr><tr><td>C0405</td><td>Lee Boyd</td><td>Male</td><td>973121661</td><td>Texas</td></tr><tr><td>C0555</td><td>Alec Unknown</td><td>Male</td><td>973473334</td><td>Texas</td></tr><tr><td>C0666</td><td>Joshua Unknown</td><td>Male</td><td>973558529</td><td>Ohio</td></tr><tr><td>C0924</td><td>Albert Bolton</td><td>Male</td><td>975029800</td><td>New York</td></tr><tr><td>C0929</td><td>David Unknown</td><td>Male</td><td>975050802</td><td>Ohio</td></tr><tr><td>C0683</td><td>Gregory Stafford</td><td>Male</td><td>975245762</td><td>Texas</td></tr><tr><td>C0486</td><td>Matthew Unknown</td><td>Male</td><td>975572862</td><td>New York</td></tr><tr><td>C0005</td><td>Reginald Dawson</td><td>Male</td><td>975723056</td><td>Texas</td></tr><tr><td>C0075</td><td>Troy Garcia</td><td>Male</td><td>977039472</td><td>New York</td></tr><tr><td>C0456</td><td>Brittany Johnson</td><td>Female</td><td>979173836</td><td>Texas</td></tr><tr><td>C0660</td><td>Adam Unknown</td><td>Male</td><td>981536889</td><td>Texas</td></tr><tr><td>C0006</td><td>Virginia Bryant</td><td>Female</td><td>981727452</td><td>Ohio</td></tr><tr><td>C0254</td><td>Shannon Johnson</td><td>Female</td><td>982008775</td><td>New York</td></tr><tr><td>C0444</td><td>Jason Wagner</td><td>Male</td><td>982051754</td><td>Ohio</td></tr><tr><td>C0935</td><td>Jeffrey Rose</td><td>Male</td><td>982674041</td><td>California</td></tr><tr><td>C0152</td><td>Steven Unknown</td><td>Male</td><td>985715518</td><td>Texas</td></tr><tr><td>C0553</td><td>Miguel Fletcher</td><td>Male</td><td>987329480</td><td>Ohio</td></tr><tr><td>C0049</td><td>Jeffrey Unknown</td><td>Male</td><td>987358591</td><td>Texas</td></tr><tr><td>C0249</td><td>Robert Pena</td><td>Male</td><td>988134076</td><td>New York</td></tr><tr><td>C0896</td><td>James Williams</td><td>Male</td><td>989842552</td><td>New York</td></tr><tr><td>C0342</td><td>Robert Unknown</td><td>Male</td><td>990325135</td><td>New York</td></tr><tr><td>C0856</td><td>Thomas Unknown</td><td>Male</td><td>990882906</td><td>California</td></tr><tr><td>C0519</td><td>Barbara Ellis</td><td>Female</td><td>990974201</td><td>California</td></tr><tr><td>C0669</td><td>Kevin Dixon</td><td>Male</td><td>991973958</td><td>Ohio</td></tr><tr><td>C0245</td><td>Mary Anderson</td><td>Female</td><td>992002853</td><td>Texas</td></tr><tr><td>C0539</td><td>Wanda Clark</td><td>Female</td><td>992095479</td><td>New York</td></tr><tr><td>C0725</td><td>Andrew Glover</td><td>Male</td><td>993500794</td><td>Texas</td></tr><tr><td>C0016</td><td>Joe Barnett</td><td>Male</td><td>995874707</td><td>Ohio</td></tr><tr><td>C0389</td><td>David Unknown</td><td>Male</td><td>997212778</td><td>New York</td></tr><tr><td>C0682</td><td>Lindsey Mitchell</td><td>Female</td><td>997480282</td><td>Texas</td></tr><tr><td>C0462</td><td>Craig Walker</td><td>Male</td><td>998993065</td><td>California</td></tr></tbody></table></div>"
      ]
     },
     "metadata": {
      "application/vnd.databricks.v1+output": {
       "addedWidgets": {},
       "aggData": [],
       "aggError": "",
       "aggOverflow": false,
       "aggSchema": [],
       "aggSeriesLimitReached": false,
       "aggType": "",
       "arguments": {},
       "columnCustomDisplayInfos": {},
       "data": [
        [
         "C0155",
         "Amanda Browning",
         "Female",
         "000802922",
         "Texas"
        ],
        [
         "C0658",
         "Devin Unknown",
         "Male",
         "000940878",
         "Ohio"
        ],
        [
         "C0866",
         "Phillip Lopez",
         "Male",
         "001086911",
         "New York"
        ],
        [
         "C0918",
         "Katie Bailey",
         "Female",
         "002938966",
         "Texas"
        ],
        [
         "C0776",
         "Charles Williams",
         "Male",
         "003899949",
         "California"
        ],
        [
         "C0917",
         "Sandra Gonzalez",
         "Female",
         "005434466",
         "New York"
        ],
        [
         "C0868",
         "Tyler Garrison",
         "Male",
         "005571624",
         "New York"
        ],
        [
         "C0267",
         "James Unknown",
         "Male",
         "005669453",
         "New York"
        ],
        [
         "C0325",
         "Bonnie Unknown",
         "Female",
         "005698959",
         "Texas"
        ],
        [
         "C0938",
         "Alexander Miller",
         "Male",
         "007169190",
         "Texas"
        ],
        [
         "C0479",
         "Jack Unknown",
         "Male",
         "007204052",
         "Ohio"
        ],
        [
         "C0009",
         "Samuel Mcconnell",
         "Male",
         "007348687",
         "California"
        ],
        [
         "C0472",
         "William Mullins",
         "Male",
         "008377542",
         "New York"
        ],
        [
         "C0115",
         "William Branch",
         "Male",
         "008417074",
         "New York"
        ],
        [
         "C0008",
         "Robert Pierce",
         "Male",
         "009012352",
         "New York"
        ],
        [
         "C0401",
         "Timothy Guzman",
         "Male",
         "009775821",
         "Texas"
        ],
        [
         "C0789",
         "John Gonzalez",
         "Male",
         "010509576",
         "Ohio"
        ],
        [
         "C0672",
         "Daniel Fernandez",
         "Male",
         "014964372",
         "Ohio"
        ],
        [
         "C0563",
         "Katherine Higgins",
         "Female",
         "016097231",
         "New York"
        ],
        [
         "C0953",
         "David Lynch",
         "Male",
         "016865351",
         "California"
        ],
        [
         "C0428",
         "Joseph Moore",
         "Male",
         "017470860",
         "California"
        ],
        [
         "C0036",
         "Lori Long",
         "Female",
         "017532219",
         "California"
        ],
        [
         "C0019",
         "Michael Unknown",
         "Male",
         "018105442",
         "New York"
        ],
        [
         "C0956",
         "Mark Allen",
         "Male",
         "018754713",
         "Ohio"
        ],
        [
         "C0958",
         "Molly Gill",
         "Female",
         "020583905",
         "New York"
        ],
        [
         "C0779",
         "Shannon Bates",
         "Male",
         "021303327",
         "California"
        ],
        [
         "C0187",
         "Thomas Unknown",
         "Male",
         "021777542",
         "New York"
        ],
        [
         "C0990",
         "Kiara Miranda",
         "Female",
         "022739474",
         "Ohio"
        ],
        [
         "C0200",
         "Mario Huff",
         "Male",
         "023819137",
         "Unknown"
        ],
        [
         "C0394",
         "Erin Carroll",
         "Female",
         "024767243",
         "New York"
        ],
        [
         "C0843",
         "Edward Walker",
         "Male",
         "024898098",
         "New York"
        ],
        [
         "C0828",
         "Shannon Unknown",
         "Female",
         "027835510",
         "New York"
        ],
        [
         "C0533",
         "Gabriel Unknown",
         "Male",
         "028432126",
         "Ohio"
        ],
        [
         "C0531",
         "Troy Unknown",
         "Male",
         "028947382",
         "New York"
        ],
        [
         "C0369",
         "Robert Wiggins",
         "Male",
         "029050987",
         "California"
        ],
        [
         "C0020",
         "Robert Unknown",
         "Male",
         "029416639",
         "New York"
        ],
        [
         "C0403",
         "Jasmine Unknown",
         "Female",
         "030410612",
         "California"
        ],
        [
         "C0391",
         "Eric Bailey",
         "Male",
         "030920130",
         "New York"
        ],
        [
         "C0384",
         "Cory Oconnor",
         "Male",
         "030980111",
         "California"
        ],
        [
         "C0565",
         "Mitchell Unknown",
         "Male",
         "031874001",
         "Texas"
        ],
        [
         "C0524",
         "Teresa Martin",
         "Female",
         "034192490",
         "Ohio"
        ],
        [
         "C0551",
         "Amanda Unknown",
         "Female",
         "034520558",
         "Texas"
        ],
        [
         "C0912",
         "Kristina Unknown",
         "Female",
         "035557592",
         "Texas"
        ],
        [
         "C0201",
         "Cameron Santiago",
         "Male",
         "035580197",
         "Ohio"
        ],
        [
         "C0421",
         "Herbert Unknown",
         "Male",
         "035978898",
         "Ohio"
        ],
        [
         "C0763",
         "Mark Unknown",
         "Male",
         "039574576",
         "Ohio"
        ],
        [
         "C0101",
         "Robert Johnson",
         "Male",
         "040610697",
         "Ohio"
        ],
        [
         "C0431",
         "Jeffrey Martinez",
         "Male",
         "042248141",
         "California"
        ],
        [
         "C0880",
         "Aaron Morrison",
         "Male",
         "044022527",
         "Texas"
        ],
        [
         "C0587",
         "Edward Unknown",
         "Male",
         "044244391",
         "California"
        ],
        [
         "C0979",
         "Andrew Unknown",
         "Male",
         "044654606",
         "New York"
        ],
        [
         "C0417",
         "Troy Unknown",
         "Male",
         "045989729",
         "Ohio"
        ],
        [
         "C0033",
         "Joshua Robinson",
         "Male",
         "047014271",
         "New York"
        ],
        [
         "C0583",
         "Jim Fields",
         "Male",
         "047015903",
         "New York"
        ],
        [
         "C0007",
         "Benjamin Shepherd",
         "Male",
         "048008736",
         "Ohio"
        ],
        [
         "C0951",
         "Luis Cooper",
         "Male",
         "048066515",
         "New York"
        ],
        [
         "C0675",
         "John Tucker",
         "Male",
         "049591830",
         "Unknown"
        ],
        [
         "C0750",
         "Kevin Townsend",
         "Male",
         "050143776",
         "New York"
        ],
        [
         "C0521",
         "Jack Castaneda",
         "Male",
         "050272120",
         "New York"
        ],
        [
         "C0823",
         "Kimberly Brown",
         "Female",
         "050735527",
         "Ohio"
        ],
        [
         "C0064",
         "Jason Unknown",
         "Male",
         "051160222",
         "Unknown"
        ],
        [
         "C0432",
         "Olivia Unknown",
         "Female",
         "051369965",
         "Ohio"
        ],
        [
         "C0657",
         "Jason Unknown",
         "Male",
         "051708625",
         "California"
        ],
        [
         "C0900",
         "Eric Unknown",
         "Male",
         "051795739",
         "Ohio"
        ],
        [
         "C0855",
         "Franklin Garcia",
         "Male",
         "051903583",
         "Texas"
        ],
        [
         "C0650",
         "John Wood",
         "Male",
         "052045462",
         "Texas"
        ],
        [
         "C0060",
         "Jonathan Unknown",
         "Male",
         "054349385",
         "New York"
        ],
        [
         "C0976",
         "Jeremy Tran",
         "Male",
         "056039557",
         "Texas"
        ],
        [
         "C0092",
         "Antonio Unknown",
         "Male",
         "056245826",
         "Ohio"
        ],
        [
         "C0485",
         "Jamie White",
         "Male",
         "056379133",
         "Unknown"
        ],
        [
         "C0613",
         "Wesley Nelson",
         "Male",
         "057473606",
         "New York"
        ],
        [
         "C0015",
         "William Gonzalez",
         "Male",
         "058131272",
         "New York"
        ],
        [
         "C0370",
         "Sara Unknown",
         "Female",
         "059281675",
         "Unknown"
        ],
        [
         "C0950",
         "Eric Walker",
         "Male",
         "060649770",
         "New York"
        ],
        [
         "C0624",
         "Wesley Carrillo",
         "Male",
         "061444952",
         "New York"
        ],
        [
         "C0567",
         "Raymond Gonzalez",
         "Male",
         "062892798",
         "Ohio"
        ],
        [
         "C0854",
         "John Unknown",
         "Male",
         "063308990",
         "New York"
        ],
        [
         "C0980",
         "Bruce Hawkins",
         "Male",
         "064588071",
         "Ohio"
        ],
        [
         "C0579",
         "Donald Hubbard",
         "Male",
         "065532591",
         "New York"
        ],
        [
         "C0955",
         "Dawn Rogers",
         "Female",
         "065538468",
         "California"
        ],
        [
         "C0894",
         "Samantha Unknown",
         "Female",
         "066747297",
         "Unknown"
        ],
        [
         "C0629",
         "Nathan Johnston",
         "Male",
         "069755427",
         "New York"
        ],
        [
         "C0998",
         "Wayne Unknown",
         "Male",
         "070190887",
         "Texas"
        ],
        [
         "C0850",
         "Randall Unknown",
         "Male",
         "070226114",
         "Texas"
        ],
        [
         "C0570",
         "Lee Mayo",
         "Male",
         "071316720",
         "Texas"
        ],
        [
         "C0877",
         "Kenneth Hill",
         "Male",
         "071399457",
         "Ohio"
        ],
        [
         "C0448",
         "April Mcdowell",
         "Female",
         "073402459",
         "New York"
        ],
        [
         "C0664",
         "Leslie Hughes",
         "Female",
         "075304211",
         "New York"
        ],
        [
         "C0047",
         "Seth Hess",
         "Male",
         "075643618",
         "Texas"
        ],
        [
         "C0167",
         "Kevin Unknown",
         "Male",
         "076882950",
         "New York"
        ],
        [
         "C0631",
         "Tony Unknown",
         "Male",
         "078322176",
         "New York"
        ],
        [
         "C0108",
         "Edwin Burgess",
         "Male",
         "078398291",
         "New York"
        ],
        [
         "C0225",
         "Thomas Sosa",
         "Male",
         "079302406",
         "Texas"
        ],
        [
         "C0997",
         "Joel Jordan",
         "Male",
         "079891050",
         "New York"
        ],
        [
         "C0867",
         "Jorge Unknown",
         "Male",
         "080128291",
         "Texas"
        ],
        [
         "C0034",
         "Paula Hanson",
         "Female",
         "081079840",
         "Ohio"
        ],
        [
         "C0905",
         "Alan Melton",
         "Male",
         "082181707",
         "New York"
        ],
        [
         "C0001",
         "Gregory Miller",
         "Male",
         "082573197",
         "Ohio"
        ],
        [
         "C0721",
         "Christine White",
         "Female",
         "083332884",
         "New York"
        ],
        [
         "C0427",
         "Cameron Dominguez",
         "Male",
         "084178756",
         "New York"
        ],
        [
         "C0362",
         "Matthew Gillespie",
         "Male",
         "084467165",
         "California"
        ],
        [
         "C0705",
         "Matthew Floyd",
         "Male",
         "084802032",
         "California"
        ],
        [
         "C0986",
         "Vincent Unknown",
         "Male",
         "085086406",
         "Ohio"
        ],
        [
         "C0386",
         "Jillian Stone",
         "Female",
         "086660761",
         "California"
        ],
        [
         "C0271",
         "Nicholas Unknown",
         "Male",
         "088138659",
         "California"
        ],
        [
         "C0558",
         "Donna Unknown",
         "Female",
         "089635050",
         "New York"
        ],
        [
         "C0707",
         "Rebecca Unknown",
         "Female",
         "091082433",
         "New York"
        ],
        [
         "C0863",
         "Martin Velasquez",
         "Male",
         "091468612",
         "California"
        ],
        [
         "C0269",
         "Madison Unknown",
         "Female",
         "093765203",
         "New York"
        ],
        [
         "C0086",
         "Robert Unknown",
         "Male",
         "094071577",
         "Ohio"
        ],
        [
         "C0502",
         "Ryan Fischer",
         "Male",
         "094519863",
         "Texas"
        ],
        [
         "C0625",
         "Randy Unknown",
         "Male",
         "095498855",
         "Ohio"
        ],
        [
         "C0223",
         "Stephanie Mckenzie",
         "Female",
         "096701307",
         "Texas"
        ],
        [
         "C0058",
         "Steven Miller",
         "Male",
         "097629075",
         "Texas"
        ],
        [
         "C0148",
         "Matthew Unknown",
         "Male",
         "099895098",
         "California"
        ],
        [
         "C0988",
         "Robert Thompson",
         "Male",
         "100276471",
         "New York"
        ],
        [
         "C0791",
         "Robert Schultz",
         "Male",
         "101612177",
         "California"
        ],
        [
         "C0913",
         "Robert Ramirez",
         "Male",
         "102252620",
         "New York"
        ],
        [
         "C0573",
         "Adrian Unknown",
         "Male",
         "102460360",
         "California"
        ],
        [
         "C0589",
         "Allen Foster",
         "Male",
         "103540670",
         "Texas"
        ],
        [
         "C0684",
         "Tony Hurst",
         "Male",
         "103595792",
         "New York"
        ],
        [
         "C0885",
         "James Williams",
         "Male",
         "106851769",
         "Ohio"
        ],
        [
         "C0638",
         "Justin Collins",
         "Male",
         "107899337",
         "California"
        ],
        [
         "C0574",
         "Kari Unknown",
         "Female",
         "108346362",
         "Texas"
        ],
        [
         "C0018",
         "Mariah Wilson",
         "Female",
         "108825602",
         "New York"
        ],
        [
         "C0806",
         "Troy Unknown",
         "Male",
         "110022003",
         "California"
        ],
        [
         "C0510",
         "Tristan Unknown",
         "Male",
         "111112301",
         "New York"
        ],
        [
         "C0052",
         "Todd Kelley",
         "Male",
         "111356646",
         "New York"
        ],
        [
         "C0663",
         "Lisa Villa",
         "Female",
         "112149119",
         "New York"
        ],
        [
         "C0730",
         "Timothy Thompson",
         "Male",
         "113463587",
         "California"
        ],
        [
         "C0536",
         "Daniel Hardy",
         "Male",
         "113851419",
         "New York"
        ],
        [
         "C0211",
         "Daniel Holland",
         "Male",
         "115114720",
         "Ohio"
        ],
        [
         "C0792",
         "Michael Unknown",
         "Male",
         "117036199",
         "Ohio"
        ],
        [
         "C0768",
         "David Galloway",
         "Male",
         "119573806",
         "Ohio"
        ],
        [
         "C0572",
         "Anthony Unknown",
         "Male",
         "119625762",
         "California"
        ],
        [
         "C0084",
         "Michael Brooks",
         "Male",
         "119917665",
         "Ohio"
        ],
        [
         "C0916",
         "Lucas Hernandez",
         "Male",
         "120009745",
         "Ohio"
        ],
        [
         "C0196",
         "Kevin Unknown",
         "Male",
         "121192928",
         "Unknown"
        ],
        [
         "C0608",
         "Calvin Unknown",
         "Male",
         "124042598",
         "Texas"
        ],
        [
         "C0287",
         "Sharon Unknown",
         "Female",
         "124254335",
         "Texas"
        ],
        [
         "C0111",
         "Brett Unknown",
         "Male",
         "125917939",
         "Texas"
        ],
        [
         "C0841",
         "Dwayne Keller",
         "Male",
         "126643837",
         "New York"
        ],
        [
         "C0671",
         "David Bell",
         "Male",
         "129066607",
         "New York"
        ],
        [
         "C0336",
         "Jesse Unknown",
         "Male",
         "129121590",
         "New York"
        ],
        [
         "C0073",
         "Vincent Unknown",
         "Male",
         "129128820",
         "New York"
        ],
        [
         "C0743",
         "Eric Ross",
         "Male",
         "129768513",
         "New York"
        ],
        [
         "C0160",
         "Amy Cruz",
         "Female",
         "130295709",
         "Texas"
        ],
        [
         "C0420",
         "April Fuentes",
         "Female",
         "132038203",
         "New York"
        ],
        [
         "C0069",
         "David Hardy",
         "Male",
         "133182060",
         "California"
        ],
        [
         "C0543",
         "Bradley Meyers",
         "Male",
         "137031524",
         "New York"
        ],
        [
         "C0323",
         "Peter Henson",
         "Male",
         "137815524",
         "New York"
        ],
        [
         "C0255",
         "David Adams",
         "Male",
         "138245144",
         "California"
        ],
        [
         "C0520",
         "Jacob Hughes",
         "Male",
         "138393386",
         "California"
        ],
        [
         "C0469",
         "Helen Unknown",
         "Female",
         "139381277",
         "Ohio"
        ],
        [
         "C0489",
         "Adam Smith",
         "Male",
         "140118196",
         "Ohio"
        ],
        [
         "C0061",
         "Gary Nunez",
         "Male",
         "140208506",
         "New York"
        ],
        [
         "C0870",
         "Jasmine Edwards",
         "Female",
         "142162616",
         "Ohio"
        ],
        [
         "C0350",
         "David Unknown",
         "Male",
         "147653850",
         "California"
        ],
        [
         "C0639",
         "Crystal Riley",
         "Female",
         "148449590",
         "California"
        ],
        [
         "C0881",
         "Scott Unknown",
         "Male",
         "148459253",
         "New York"
        ],
        [
         "C0371",
         "Leonard Unknown",
         "Male",
         "149197207",
         "Ohio"
        ],
        [
         "C0098",
         "Cassandra Jones",
         "Female",
         "149340457",
         "New York"
        ],
        [
         "C0266",
         "Amy Buck",
         "Female",
         "150634899",
         "New York"
        ],
        [
         "C0933",
         "Patricia Unknown",
         "Female",
         "150877563",
         "California"
        ],
        [
         "C0637",
         "Michael Wilkinson",
         "Male",
         "152060931",
         "New York"
        ],
        [
         "C0118",
         "Joseph Morgan",
         "Male",
         "153165024",
         "Ohio"
        ],
        [
         "C0229",
         "Derrick Walters",
         "Male",
         "154957652",
         "New York"
        ],
        [
         "C0189",
         "David Jackson",
         "Male",
         "157402491",
         "New York"
        ],
        [
         "C0312",
         "Jack Pugh",
         "Male",
         "158157436",
         "California"
        ],
        [
         "C0761",
         "Steven Arnold",
         "Male",
         "159871151",
         "New York"
        ],
        [
         "C0727",
         "Rachel Schwartz",
         "Female",
         "160490324",
         "California"
        ],
        [
         "C0324",
         "Tony Unknown",
         "Male",
         "165221526",
         "Ohio"
        ],
        [
         "C0119",
         "Johnny Unknown",
         "Male",
         "165622040",
         "California"
        ],
        [
         "C0735",
         "Carlos Welch",
         "Male",
         "167909533",
         "New York"
        ],
        [
         "C0136",
         "Crystal Floyd",
         "Female",
         "168528691",
         "New York"
        ],
        [
         "C0696",
         "David Bass",
         "Male",
         "168736465",
         "Ohio"
        ],
        [
         "C0872",
         "Joseph Turner",
         "Male",
         "168988272",
         "Ohio"
        ],
        [
         "C0942",
         "Thomas Unknown",
         "Male",
         "169127931",
         "California"
        ],
        [
         "C0162",
         "James Williams",
         "Male",
         "169829571",
         "New York"
        ],
        [
         "C0473",
         "Brandon Unknown",
         "Male",
         "170130546",
         "New York"
        ],
        [
         "C0053",
         "Ian Schneider",
         "Male",
         "174630010",
         "New York"
        ],
        [
         "C0124",
         "Gabriel Unknown",
         "Male",
         "175915578",
         "New York"
        ],
        [
         "C0716",
         "Jennifer Pittman",
         "Female",
         "177131215",
         "Texas"
        ],
        [
         "C0578",
         "Daniel Cook",
         "Male",
         "177146885",
         "California"
        ],
        [
         "C0356",
         "Stephen Taylor",
         "Male",
         "177540442",
         "Texas"
        ],
        [
         "C0121",
         "Melissa Dominguez",
         "Female",
         "177764159",
         "New York"
        ],
        [
         "C0250",
         "Rodney Adams",
         "Male",
         "180071694",
         "New York"
        ],
        [
         "C0396",
         "Warren Bell",
         "Male",
         "182324729",
         "Texas"
        ],
        [
         "C0296",
         "Nancy Unknown",
         "Female",
         "182820684",
         "California"
        ],
        [
         "C0954",
         "Keith Unknown",
         "Male",
         "183169415",
         "Unknown"
        ],
        [
         "C0987",
         "Patrick Flores",
         "Male",
         "183568455",
         "New York"
        ],
        [
         "C0042",
         "Steven Farley",
         "Male",
         "184605366",
         "Texas"
        ],
        [
         "C0286",
         "Mary Griffin",
         "Female",
         "184649918",
         "Texas"
        ],
        [
         "C0703",
         "William Garcia",
         "Male",
         "185151126",
         "California"
        ],
        [
         "C0238",
         "Jay Wright",
         "Male",
         "187921561",
         "Ohio"
        ],
        [
         "C0503",
         "April Unknown",
         "Female",
         "191786810",
         "Texas"
        ],
        [
         "C0067",
         "Eric Morris",
         "Male",
         "192181825",
         "New York"
        ],
        [
         "C0641",
         "Kirk Ramirez",
         "Male",
         "193661684",
         "Texas"
        ],
        [
         "C0205",
         "Christopher Johnson",
         "Male",
         "196542452",
         "New York"
        ],
        [
         "C0846",
         "Erika Lloyd",
         "Female",
         "198036631",
         "Ohio"
        ],
        [
         "C0436",
         "Vincent Rodriguez",
         "Male",
         "198070447",
         "Texas"
        ],
        [
         "C0132",
         "Ryan Stephens",
         "Male",
         "198594183",
         "Unknown"
        ],
        [
         "C0175",
         "Darrell Smith",
         "Male",
         "198963876",
         "New York"
        ],
        [
         "C0147",
         "Christopher Hall",
         "Male",
         "200466014",
         "California"
        ],
        [
         "C0515",
         "Elizabeth Boyd",
         "Female",
         "200823160",
         "New York"
        ],
        [
         "C0802",
         "Craig Lam",
         "Male",
         "200845543",
         "Ohio"
        ],
        [
         "C0971",
         "Jeff Nelson",
         "Male",
         "202775865",
         "New York"
        ],
        [
         "C0140",
         "Cesar Wise",
         "Male",
         "203699425",
         "New York"
        ],
        [
         "C0617",
         "Michael Unknown",
         "Male",
         "204826060",
         "New York"
        ],
        [
         "C0179",
         "Michael Unknown",
         "Male",
         "204846261",
         "New York"
        ],
        [
         "C0927",
         "Christopher Williams",
         "Male",
         "204846943",
         "Ohio"
        ],
        [
         "C0805",
         "Amber Stephenson",
         "Female",
         "205172098",
         "Unknown"
        ],
        [
         "C0212",
         "Eric Burgess",
         "Male",
         "207195425",
         "New York"
        ],
        [
         "C0117",
         "Donald Terrell",
         "Male",
         "207889507",
         "California"
        ],
        [
         "C0375",
         "Robert Unknown",
         "Male",
         "209203564",
         "Ohio"
        ],
        [
         "C0038",
         "Jose Griffin",
         "Male",
         "209802253",
         "California"
        ],
        [
         "C0221",
         "Keith Brown",
         "Male",
         "210248549",
         "Texas"
        ],
        [
         "C0488",
         "John Johnson",
         "Male",
         "210754618",
         "New York"
        ],
        [
         "C0313",
         "Christopher Unknown",
         "Male",
         "211010961",
         "Ohio"
        ],
        [
         "C0678",
         "Austin Acevedo",
         "Male",
         "211066362",
         "New York"
        ],
        [
         "C0941",
         "Melvin Unknown",
         "Male",
         "213259674",
         "New York"
        ],
        [
         "C0959",
         "Jonathan Unknown",
         "Male",
         "213297939",
         "Unknown"
        ],
        [
         "C0173",
         "Alexander Flores",
         "Male",
         "216173440",
         "Unknown"
        ],
        [
         "C0793",
         "Jeffrey Smith",
         "Male",
         "219332658",
         "New York"
        ],
        [
         "C0901",
         "Evan Farrell",
         "Male",
         "221145811",
         "Texas"
        ],
        [
         "C0822",
         "Timothy Unknown",
         "Male",
         "221451673",
         "California"
        ],
        [
         "C0274",
         "Michael Martinez",
         "Male",
         "221454213",
         "Ohio"
        ],
        [
         "C0385",
         "Daniel Unknown",
         "Male",
         "223725368",
         "New York"
        ],
        [
         "C0965",
         "Scott Unknown",
         "Male",
         "226607396",
         "Ohio"
        ],
        [
         "C0337",
         "William Ray",
         "Male",
         "228707140",
         "Unknown"
        ],
        [
         "C0089",
         "Anthony Lin",
         "Male",
         "231346985",
         "New York"
        ],
        [
         "C0845",
         "Andrew Unknown",
         "Male",
         "233303052",
         "New York"
        ],
        [
         "C0204",
         "Raymond Unknown",
         "Male",
         "234229115",
         "New York"
        ],
        [
         "C0214",
         "Larry Knight",
         "Male",
         "238525972",
         "Texas"
        ],
        [
         "C0022",
         "Timothy Unknown",
         "Male",
         "239012990",
         "Texas"
        ],
        [
         "C0012",
         "Charles Unknown",
         "Male",
         "239140962",
         "New York"
        ],
        [
         "C0753",
         "Christian Gray",
         "Male",
         "239342932",
         "New York"
        ],
        [
         "C0978",
         "Kenneth Ryan",
         "Male",
         "240016103",
         "Unknown"
        ],
        [
         "C0984",
         "Sheri Torres",
         "Female",
         "243005733",
         "California"
        ],
        [
         "C0319",
         "Karen Sullivan",
         "Female",
         "246947297",
         "Texas"
        ],
        [
         "C0869",
         "Jillian Hughes",
         "Female",
         "247496700",
         "Unknown"
        ],
        [
         "C0122",
         "Dustin Cook",
         "Male",
         "248486801",
         "Ohio"
        ],
        [
         "C0733",
         "Lauren Salazar",
         "Female",
         "248554790",
         "Ohio"
        ],
        [
         "C0430",
         "Dan Unknown",
         "Male",
         "249552779",
         "Ohio"
        ],
        [
         "C0966",
         "Christopher Meadows",
         "Male",
         "249651683",
         "Ohio"
        ],
        [
         "C0930",
         "Charles Unknown",
         "Male",
         "250753104",
         "Texas"
        ],
        [
         "C0661",
         "Charles Fritz",
         "Male",
         "251901495",
         "New York"
        ],
        [
         "C0500",
         "Jeffrey Dean",
         "Male",
         "254371125",
         "New York"
        ],
        [
         "C0848",
         "Rebecca Unknown",
         "Female",
         "256414863",
         "California"
        ],
        [
         "C0380",
         "Steven Brown",
         "Male",
         "257558548",
         "New York"
        ],
        [
         "C0940",
         "Shane Ward",
         "Male",
         "259865545",
         "Texas"
        ],
        [
         "C0698",
         "Joseph Morrison",
         "Male",
         "260456543",
         "Unknown"
        ],
        [
         "C0410",
         "Brent Banks",
         "Male",
         "263013531",
         "New York"
        ],
        [
         "C0087",
         "John Unknown",
         "Male",
         "263346589",
         "California"
        ],
        [
         "C0767",
         "Jacqueline Gilmore",
         "Female",
         "264106117",
         "Texas"
        ],
        [
         "C0785",
         "Janice David",
         "Female",
         "266389766",
         "California"
        ],
        [
         "C0952",
         "Gregory Unknown",
         "Male",
         "266490127",
         "Ohio"
        ],
        [
         "C0550",
         "Gregory Davidson",
         "Male",
         "267970472",
         "California"
        ],
        [
         "C0501",
         "Valerie Lester",
         "Female",
         "268115021",
         "Texas"
        ],
        [
         "C0231",
         "Jacob Walton",
         "Male",
         "268796912",
         "Texas"
        ],
        [
         "C0376",
         "Joshua Anderson",
         "Male",
         "271145858",
         "California"
        ],
        [
         "C0482",
         "Ricky Watson",
         "Male",
         "271482998",
         "California"
        ],
        [
         "C0329",
         "Steven Davis",
         "Male",
         "271957229",
         "New York"
        ],
        [
         "C0439",
         "Brian Acevedo",
         "Male",
         "272053601",
         "New York"
        ],
        [
         "C0281",
         "Michelle Conrad",
         "Female",
         "272424961",
         "Texas"
        ],
        [
         "C0891",
         "Marcus Unknown",
         "Male",
         "272979341",
         "Texas"
        ],
        [
         "C0995",
         "Jason Graham",
         "Male",
         "272998455",
         "New York"
        ],
        [
         "C0586",
         "Dean Coffey",
         "Male",
         "273155435",
         "Unknown"
        ],
        [
         "C0153",
         "Gregory Krueger",
         "Male",
         "274654231",
         "California"
        ],
        [
         "C0460",
         "Gina Woods",
         "Female",
         "275041147",
         "California"
        ],
        [
         "C0126",
         "Keith Oneal",
         "Male",
         "275564906",
         "California"
        ],
        [
         "C0166",
         "Ronald Unknown",
         "Male",
         "276535075",
         "New York"
        ],
        [
         "C0357",
         "Jose Unknown",
         "Male",
         "277415602",
         "New York"
        ],
        [
         "C0340",
         "Frank Unknown",
         "Male",
         "277769327",
         "California"
        ],
        [
         "C0215",
         "Reginald Lee",
         "Male",
         "278638019",
         "Texas"
        ],
        [
         "C0559",
         "Carl Ramirez",
         "Male",
         "279196546",
         "New York"
        ],
        [
         "C0285",
         "Ruben Unknown",
         "Male",
         "280782463",
         "Ohio"
        ],
        [
         "C0475",
         "Charles Cook",
         "Male",
         "280843692",
         "New York"
        ],
        [
         "C0226",
         "Christopher Unknown",
         "Male",
         "280997339",
         "New York"
        ],
        [
         "C0820",
         "Christopher Unknown",
         "Male",
         "281429548",
         "Texas"
        ],
        [
         "C0178",
         "Miguel Chung",
         "Male",
         "282577204",
         "New York"
        ],
        [
         "C0757",
         "David Clark",
         "Male",
         "282931210",
         "Unknown"
        ],
        [
         "C0616",
         "Robert Zimmerman",
         "Male",
         "283194571",
         "California"
        ],
        [
         "C0283",
         "Heather Hawkins",
         "Female",
         "285960691",
         "Texas"
        ],
        [
         "C0692",
         "Gregory Cabrera",
         "Male",
         "286762954",
         "Unknown"
        ],
        [
         "C0681",
         "Tabitha Adams",
         "Female",
         "288108857",
         "California"
        ],
        [
         "C0694",
         "Steven Unknown",
         "Male",
         "288496796",
         "Ohio"
        ],
        [
         "C0749",
         "Thomas Jackson",
         "Male",
         "289551262",
         "New York"
        ],
        [
         "C0726",
         "Stephen Walton",
         "Male",
         "289825974",
         "California"
        ],
        [
         "C0373",
         "Peter Unknown",
         "Male",
         "292873678",
         "Texas"
        ],
        [
         "C0576",
         "Jordan Sullivan",
         "Male",
         "293252049",
         "California"
        ],
        [
         "C0133",
         "Kevin Unknown",
         "Male",
         "294238712",
         "Unknown"
        ],
        [
         "C0477",
         "Timothy Unknown",
         "Male",
         "294623873",
         "New York"
        ],
        [
         "C0736",
         "Thomas Williams",
         "Male",
         "295193511",
         "California"
        ],
        [
         "C0649",
         "Amy Reyes",
         "Female",
         "296737004",
         "New York"
        ],
        [
         "C0137",
         "Nicole Unknown",
         "Female",
         "297910856",
         "New York"
        ],
        [
         "C0078",
         "Caleb Ramirez",
         "Male",
         "301728783",
         "New York"
        ],
        [
         "C0094",
         "Darren Woods",
         "Male",
         "301924330",
         "Texas"
        ],
        [
         "C0411",
         "Scott Unknown",
         "Male",
         "302090516",
         "California"
        ],
        [
         "C0522",
         "William Smith",
         "Male",
         "302553355",
         "Texas"
        ],
        [
         "C0381",
         "Roy West",
         "Male",
         "304865846",
         "Texas"
        ],
        [
         "C0316",
         "George Unknown",
         "Male",
         "305099813",
         "Texas"
        ],
        [
         "C0318",
         "Michael Solis",
         "Male",
         "305223195",
         "New York"
        ],
        [
         "C0607",
         "Timothy Miller",
         "Male",
         "306558618",
         "Texas"
        ],
        [
         "C0605",
         "Amy Walker",
         "Female",
         "306732769",
         "California"
        ],
        [
         "C0612",
         "Teresa Reed",
         "Female",
         "306924531",
         "New York"
        ],
        [
         "C0422",
         "Shelby Unknown",
         "Female",
         "307934376",
         "New York"
        ],
        [
         "C0002",
         "Marvin Unknown",
         "Male",
         "309625621",
         "California"
        ],
        [
         "C0915",
         "Christopher Ryan",
         "Male",
         "312088400",
         "Unknown"
        ],
        [
         "C0294",
         "Peter Bennett",
         "Male",
         "312529723",
         "Texas"
        ],
        [
         "C0424",
         "Shannon Barker",
         "Female",
         "313470842",
         "Unknown"
        ],
        [
         "C0778",
         "John Houston",
         "Male",
         "313490734",
         "Texas"
        ],
        [
         "C0655",
         "Zachary Unknown",
         "Male",
         "314427494",
         "California"
        ],
        [
         "C0876",
         "Jasmine Washington",
         "Female",
         "317473422",
         "New York"
        ],
        [
         "C0786",
         "Leslie Unknown",
         "Female",
         "318033286",
         "Ohio"
        ],
        [
         "C0609",
         "Derek Anderson",
         "Male",
         "318078242",
         "New York"
        ],
        [
         "C0773",
         "Casey Smith",
         "Male",
         "318290201",
         "California"
        ],
        [
         "C0525",
         "Carl Lindsey",
         "Male",
         "323198349",
         "Ohio"
        ],
        [
         "C0634",
         "Mariah Unknown",
         "Female",
         "323484391",
         "Ohio"
        ],
        [
         "C0011",
         "Jason Morales",
         "Male",
         "325235301",
         "Unknown"
        ],
        [
         "C0903",
         "Brandon Sullivan",
         "Male",
         "326306471",
         "Unknown"
        ],
        [
         "C0580",
         "Alexander Valentine",
         "Male",
         "327340890",
         "Ohio"
        ],
        [
         "C0125",
         "Christopher Green",
         "Male",
         "328058594",
         "California"
        ],
        [
         "C0585",
         "Kenneth Gardner",
         "Male",
         "328899851",
         "Texas"
        ],
        [
         "C0506",
         "Kenneth Unknown",
         "Male",
         "329100206",
         "New York"
        ],
        [
         "C0861",
         "Jacob Williams",
         "Male",
         "330237698",
         "Ohio"
        ],
        [
         "C0679",
         "Dustin Barnett",
         "Male",
         "331102620",
         "California"
        ],
        [
         "C0709",
         "Jennifer Nelson",
         "Female",
         "331691084",
         "New York"
        ],
        [
         "C0528",
         "Tracy Stewart",
         "Male",
         "331959404",
         "Texas"
        ],
        [
         "C0156",
         "Derrick Bennett",
         "Male",
         "333070492",
         "New York"
        ],
        [
         "C0860",
         "Cathy Unknown",
         "Female",
         "333381434",
         "New York"
        ],
        [
         "C0114",
         "Tyrone Brown",
         "Male",
         "333467711",
         "Texas"
        ],
        [
         "C0461",
         "Randy Unknown",
         "Male",
         "338738644",
         "Ohio"
        ],
        [
         "C0921",
         "David Lewis",
         "Male",
         "342171984",
         "Texas"
        ],
        [
         "C0105",
         "David Vance",
         "Male",
         "343030922",
         "New York"
        ],
        [
         "C0144",
         "Clifford Unknown",
         "Male",
         "343877021",
         "Texas"
        ],
        [
         "C0656",
         "Richard Jordan",
         "Male",
         "344968900",
         "California"
        ],
        [
         "C0440",
         "Larry Unknown",
         "Male",
         "347392142",
         "New York"
        ],
        [
         "C0180",
         "John Unknown",
         "Male",
         "348492942",
         "California"
        ],
        [
         "C0402",
         "John Unknown",
         "Male",
         "349923704",
         "New York"
        ],
        [
         "C0264",
         "Tracy Peterson",
         "Female",
         "350028080",
         "Texas"
        ],
        [
         "C0220",
         "Gregory Trujillo",
         "Male",
         "350098032",
         "Texas"
        ],
        [
         "C0206",
         "Steven Johnson",
         "Male",
         "350343088",
         "New York"
        ],
        [
         "C0911",
         "Scott Beasley",
         "Male",
         "351538339",
         "New York"
        ],
        [
         "C0800",
         "Cody Potter",
         "Male",
         "351558727",
         "California"
        ],
        [
         "C0443",
         "Matthew Owens",
         "Male",
         "352400102",
         "California"
        ],
        [
         "C0423",
         "Ryan Maldonado",
         "Male",
         "355056327",
         "New York"
        ],
        [
         "C0330",
         "Bryan Richmond",
         "Male",
         "355664342",
         "Texas"
        ],
        [
         "C0331",
         "David Unknown",
         "Male",
         "356012698",
         "California"
        ],
        [
         "C0814",
         "Julie Adams",
         "Female",
         "356097767",
         "Texas"
        ],
        [
         "C0970",
         "Tyler Allen",
         "Male",
         "356209150",
         "Ohio"
        ],
        [
         "C0825",
         "Michael Valdez",
         "Male",
         "356457629",
         "Texas"
        ],
        [
         "C0784",
         "Benjamin Unknown",
         "Male",
         "356605783",
         "New York"
        ],
        [
         "C0054",
         "Christopher White",
         "Male",
         "356849560",
         "California"
        ],
        [
         "C0116",
         "Richard Unknown",
         "Male",
         "358344223",
         "California"
        ],
        [
         "C0335",
         "Larry Jefferson",
         "Male",
         "358419404",
         "New York"
        ],
        [
         "C0195",
         "Tamara Unknown",
         "Female",
         "358495400",
         "New York"
        ],
        [
         "C0794",
         "Jason Robertson",
         "Male",
         "359262855",
         "Ohio"
        ],
        [
         "C0192",
         "Thomas Unknown",
         "Male",
         "359561933",
         "New York"
        ],
        [
         "C0593",
         "Courtney Unknown",
         "Female",
         "360269475",
         "California"
        ],
        [
         "C0257",
         "Kevin Unknown",
         "Male",
         "361858506",
         "Ohio"
        ],
        [
         "C0468",
         "Tammy Turner",
         "Female",
         "362637054",
         "California"
        ],
        [
         "C0484",
         "Jacob Lyons",
         "Male",
         "362915393",
         "New York"
        ],
        [
         "C0074",
         "Roberto Unknown",
         "Male",
         "363764583",
         "New York"
        ],
        [
         "C0795",
         "Anthony Unknown",
         "Male",
         "364084063",
         "Unknown"
        ],
        [
         "C0890",
         "Zachary Moore",
         "Male",
         "367671951",
         "Texas"
        ],
        [
         "C0040",
         "Yvette Wood",
         "Female",
         "367782663",
         "Ohio"
        ],
        [
         "C0957",
         "Jason Williams",
         "Male",
         "372845521",
         "New York"
        ],
        [
         "C0628",
         "Michael Vazquez",
         "Male",
         "373320470",
         "New York"
        ],
        [
         "C0514",
         "Brian Wallace",
         "Male",
         "374475345",
         "New York"
        ],
        [
         "C0186",
         "Christopher Santos",
         "Male",
         "375129236",
         "Ohio"
        ],
        [
         "C0334",
         "John Unknown",
         "Male",
         "375726314",
         "California"
        ],
        [
         "C0234",
         "Andrew Bush",
         "Male",
         "376124410",
         "California"
        ],
        [
         "C0222",
         "Samantha Barnes",
         "Female",
         "377374733",
         "California"
        ],
        [
         "C0273",
         "Geoffrey Bell",
         "Male",
         "378044149",
         "California"
        ],
        [
         "C0131",
         "Daniel Unknown",
         "Male",
         "378424172",
         "New York"
        ],
        [
         "C0095",
         "Paul Reed",
         "Male",
         "378885480",
         "Texas"
        ],
        [
         "C0673",
         "Christopher Davila",
         "Male",
         "379022313",
         "Ohio"
        ],
        [
         "C0914",
         "Thomas Smith",
         "Male",
         "380278181",
         "New York"
        ],
        [
         "C0176",
         "Edward Bell",
         "Male",
         "381910140",
         "New York"
        ],
        [
         "C0728",
         "Brittany Ramsey",
         "Female",
         "383054770",
         "Ohio"
        ],
        [
         "C0542",
         "Joshua Kramer",
         "Male",
         "385877136",
         "Ohio"
        ],
        [
         "C0964",
         "Carolyn Unknown",
         "Female",
         "386588802",
         "California"
        ],
        [
         "C0837",
         "Robert Lopez",
         "Male",
         "386674190",
         "New York"
        ],
        [
         "C0128",
         "Tina Unknown",
         "Female",
         "387152762",
         "Ohio"
        ],
        [
         "C0668",
         "Joel Mann",
         "Male",
         "387576444",
         "New York"
        ],
        [
         "C0827",
         "Amanda Collins",
         "Female",
         "390959957",
         "Ohio"
        ],
        [
         "C0895",
         "Gregg Unknown",
         "Male",
         "393043927",
         "Ohio"
        ],
        [
         "C0627",
         "Lisa Hernandez",
         "Female",
         "393311560",
         "New York"
        ],
        [
         "C0487",
         "Melvin Lewis",
         "Male",
         "394458655",
         "New York"
        ],
        [
         "C0774",
         "Travis Bowman",
         "Male",
         "397235347",
         "New York"
        ],
        [
         "C0516",
         "Nathaniel Snyder",
         "Male",
         "397377759",
         "New York"
        ],
        [
         "C0889",
         "Christopher Unknown",
         "Male",
         "397468005",
         "California"
        ],
        [
         "C0568",
         "Randy Unknown",
         "Male",
         "398883429",
         "California"
        ],
        [
         "C0233",
         "Mary Unknown",
         "Female",
         "400279865",
         "Ohio"
        ],
        [
         "C0701",
         "Christopher Norton",
         "Male",
         "400961699",
         "California"
        ],
        [
         "C0169",
         "Keith Reed",
         "Male",
         "401077473",
         "New York"
        ],
        [
         "C0858",
         "Joshua Payne",
         "Male",
         "403564438",
         "California"
        ],
        [
         "C0782",
         "Mary Unknown",
         "Female",
         "403622204",
         "California"
        ],
        [
         "C0906",
         "Michael Zuniga",
         "Male",
         "403785447",
         "Ohio"
        ],
        [
         "C0562",
         "Brenda Stephens",
         "Female",
         "404404846",
         "California"
        ],
        [
         "C0311",
         "David Owens",
         "Male",
         "404419336",
         "California"
        ],
        [
         "C0746",
         "Michael Young",
         "Male",
         "406721383",
         "New York"
        ],
        [
         "C0003",
         "Gregory Smith",
         "Male",
         "407071725",
         "New York"
        ],
        [
         "C0388",
         "Frank Flores",
         "Male",
         "407298822",
         "Ohio"
        ],
        [
         "C0676",
         "Michael Young",
         "Male",
         "408022183",
         "New York"
        ],
        [
         "C0755",
         "Amanda Unknown",
         "Female",
         "408262092",
         "New York"
        ],
        [
         "C0030",
         "Desiree Washington",
         "Female",
         "408468745",
         "Ohio"
        ],
        [
         "C0711",
         "Katie Murray",
         "Female",
         "408808242",
         "Texas"
        ],
        [
         "C0282",
         "Gavin Sloan",
         "Male",
         "409560863",
         "New York"
        ],
        [
         "C0079",
         "Timothy Unknown",
         "Male",
         "410561810",
         "New York"
        ],
        [
         "C0406",
         "Darrell Unknown",
         "Male",
         "413218677",
         "Texas"
        ],
        [
         "C0695",
         "Michael Todd",
         "Male",
         "413436693",
         "Texas"
        ],
        [
         "C0307",
         "James Franco",
         "Male",
         "413692485",
         "Texas"
        ],
        [
         "C0217",
         "Susan Smith",
         "Female",
         "414622277",
         "Texas"
        ],
        [
         "C0601",
         "Garrett Unknown",
         "Male",
         "414959933",
         "New York"
        ],
        [
         "C0904",
         "David Unknown",
         "Male",
         "415438803",
         "New York"
        ],
        [
         "C0691",
         "David Terry",
         "Male",
         "416187461",
         "Texas"
        ],
        [
         "C0610",
         "Edward Vazquez",
         "Male",
         "417743538",
         "New York"
        ],
        [
         "C0246",
         "Amanda Kelly",
         "Female",
         "418522465",
         "Ohio"
        ],
        [
         "C0810",
         "James Unknown",
         "Male",
         "419789059",
         "Texas"
        ],
        [
         "C0043",
         "Rachel Unknown",
         "Female",
         "419850542",
         "New York"
        ],
        [
         "C0922",
         "Peter Unknown",
         "Male",
         "420249288",
         "Unknown"
        ],
        [
         "C0803",
         "John Unknown",
         "Male",
         "423290734",
         "California"
        ],
        [
         "C0948",
         "Richard Powell",
         "Male",
         "424041200",
         "California"
        ],
        [
         "C0983",
         "Daniel Unknown",
         "Male",
         "424264205",
         "New York"
        ],
        [
         "C0355",
         "Pamela Mcbride",
         "Female",
         "425902226",
         "New York"
        ],
        [
         "C0977",
         "Daniel Malone",
         "Male",
         "427297371",
         "Texas"
        ],
        [
         "C0508",
         "Michael Davis",
         "Male",
         "427857401",
         "Ohio"
        ],
        [
         "C0920",
         "William Unknown",
         "Male",
         "428215783",
         "Texas"
        ],
        [
         "C0076",
         "James Clark",
         "Male",
         "430922347",
         "Texas"
        ],
        [
         "C0623",
         "Jerry Unknown",
         "Male",
         "432316606",
         "Texas"
        ],
        [
         "C0739",
         "Anita Cunningham",
         "Female",
         "432696423",
         "New York"
        ],
        [
         "C0982",
         "Kathy Unknown",
         "Female",
         "435707216",
         "California"
        ],
        [
         "C0659",
         "David Mullen",
         "Male",
         "436039045",
         "California"
        ],
        [
         "C0379",
         "Paula Adkins",
         "Female",
         "437433821",
         "California"
        ],
        [
         "C0320",
         "Cory Ramsey",
         "Male",
         "438990756",
         "California"
        ],
        [
         "C0237",
         "Marc Unknown",
         "Male",
         "439493309",
         "New York"
        ],
        [
         "C0732",
         "Dwayne Montoya",
         "Male",
         "440167245",
         "New York"
        ],
        [
         "C0419",
         "Gordon Robinson",
         "Male",
         "440467563",
         "California"
        ],
        [
         "C0910",
         "Derek Carpenter",
         "Male",
         "441171460",
         "New York"
        ],
        [
         "C0662",
         "David Unknown",
         "Male",
         "441647109",
         "Texas"
        ],
        [
         "C0931",
         "Timothy Campbell",
         "Male",
         "442320679",
         "Unknown"
        ],
        [
         "C0429",
         "Mary Buckley",
         "Female",
         "442927146",
         "New York"
        ],
        [
         "C0526",
         "Edgar Bennett",
         "Male",
         "444542284",
         "California"
        ],
        [
         "C0288",
         "Karen Hays",
         "Female",
         "448286732",
         "Unknown"
        ],
        [
         "C0902",
         "Sean Harris",
         "Male",
         "448779964",
         "New York"
        ],
        [
         "C0021",
         "Rachel Unknown",
         "Female",
         "453662248",
         "New York"
        ],
        [
         "C0478",
         "James Unknown",
         "Male",
         "454625243",
         "Ohio"
        ],
        [
         "C0292",
         "Shawn Unknown",
         "Male",
         "456341394",
         "New York"
        ],
        [
         "C0467",
         "James Unknown",
         "Male",
         "456677367",
         "New York"
        ],
        [
         "C0944",
         "Carlos Richards",
         "Male",
         "457378358",
         "Texas"
        ],
        [
         "C0973",
         "Casey Le",
         "Male",
         "457602278",
         "Ohio"
        ],
        [
         "C0072",
         "Eric Mora",
         "Male",
         "458923106",
         "California"
        ],
        [
         "C0530",
         "Steven Bennett",
         "Male",
         "460196325",
         "New York"
        ],
        [
         "C0044",
         "James Robbins",
         "Male",
         "461347072",
         "New York"
        ],
        [
         "C0366",
         "John Edwards",
         "Male",
         "462595855",
         "Ohio"
        ],
        [
         "C0268",
         "Jessica Dawson",
         "Female",
         "463684353",
         "Ohio"
        ],
        [
         "C0783",
         "Victoria Nelson",
         "Female",
         "464512385",
         "New York"
        ],
        [
         "C0227",
         "Jeffrey Unknown",
         "Male",
         "465357339",
         "Ohio"
        ],
        [
         "C0699",
         "Scott Francis",
         "Male",
         "465941914",
         "New York"
        ],
        [
         "C0407",
         "Christian Mcdaniel",
         "Male",
         "466191056",
         "Ohio"
        ],
        [
         "C0252",
         "Joan Johnson",
         "Female",
         "466710398",
         "California"
        ],
        [
         "C0048",
         "Frank Ross",
         "Male",
         "466831539",
         "Ohio"
        ],
        [
         "C0232",
         "Mark Hopkins",
         "Male",
         "469860676",
         "New York"
        ],
        [
         "C0741",
         "Collin Haynes",
         "Male",
         "470736773",
         "New York"
        ],
        [
         "C0158",
         "Jeffrey Harris",
         "Male",
         "470868400",
         "New York"
        ],
        [
         "C0961",
         "John Rodriguez",
         "Male",
         "472052543",
         "Texas"
        ],
        [
         "C0228",
         "Travis Jones",
         "Male",
         "473779006",
         "New York"
        ],
        [
         "C0994",
         "John Patrick",
         "Male",
         "474065005",
         "New York"
        ],
        [
         "C0947",
         "James Robertson",
         "Male",
         "475561820",
         "California"
        ],
        [
         "C0710",
         "Joshua Unknown",
         "Male",
         "478596750",
         "New York"
        ],
        [
         "C0747",
         "Timothy Fisher",
         "Male",
         "479517675",
         "Texas"
        ],
        [
         "C0301",
         "Anthony Unknown",
         "Male",
         "479568961",
         "New York"
        ],
        [
         "C0415",
         "Anthony Unknown",
         "Male",
         "480261829",
         "California"
        ],
        [
         "C0926",
         "William Unknown",
         "Male",
         "480807314",
         "New York"
        ],
        [
         "C0871",
         "Daniel Curry",
         "Male",
         "481077923",
         "Texas"
        ],
        [
         "C0455",
         "James Chen",
         "Male",
         "487420419",
         "California"
        ],
        [
         "C0849",
         "Oscar Gomez",
         "Male",
         "489634078",
         "Unknown"
        ],
        [
         "C0635",
         "John Gibson",
         "Male",
         "490073913",
         "Texas"
        ],
        [
         "C0039",
         "John Mendoza",
         "Male",
         "490488896",
         "New York"
        ],
        [
         "C0188",
         "Wayne Snyder",
         "Male",
         "491384012",
         "Texas"
        ],
        [
         "C0441",
         "Terri Edwards",
         "Female",
         "493907825",
         "California"
        ],
        [
         "C0251",
         "Roy Cruz",
         "Male",
         "495401130",
         "New York"
        ],
        [
         "C0599",
         "Frederick Williams",
         "Male",
         "496591418",
         "New York"
        ],
        [
         "C0028",
         "William Smith",
         "Male",
         "497919481",
         "California"
        ],
        [
         "C0093",
         "Samuel Woods",
         "Male",
         "498105868",
         "Ohio"
        ],
        [
         "C0752",
         "Michael Evans",
         "Male",
         "498350365",
         "Texas"
        ],
        [
         "C0138",
         "William Boone",
         "Male",
         "499812161",
         "Unknown"
        ],
        [
         "C0213",
         "Brian Esparza",
         "Male",
         "499926999",
         "Ohio"
        ],
        [
         "C0799",
         "Brittany Rodriguez",
         "Female",
         "500883494",
         "New York"
        ],
        [
         "C0886",
         "Angela Unknown",
         "Female",
         "503457186",
         "Ohio"
        ],
        [
         "C0969",
         "Daniel Hendrix",
         "Male",
         "503905580",
         "Unknown"
        ],
        [
         "C0353",
         "Nathan Unknown",
         "Male",
         "504241139",
         "New York"
        ],
        [
         "C0899",
         "David Powell",
         "Male",
         "504873647",
         "Texas"
        ],
        [
         "C0597",
         "Dennis Jones",
         "Male",
         "506761257",
         "California"
        ],
        [
         "C0824",
         "Robert Unknown",
         "Male",
         "507447361",
         "Texas"
        ],
        [
         "C0830",
         "Michele Beasley",
         "Female",
         "507517033",
         "New York"
        ],
        [
         "C0364",
         "Howard Carlson",
         "Male",
         "507628576",
         "New York"
        ],
        [
         "C0142",
         "Travis Johnson",
         "Male",
         "508548337",
         "California"
        ],
        [
         "C0689",
         "Hector Christensen",
         "Male",
         "508601600",
         "New York"
        ],
        [
         "C0277",
         "Jessica Hawkins",
         "Female",
         "509952002",
         "California"
        ],
        [
         "C0344",
         "Noah Unknown",
         "Male",
         "510296857",
         "Texas"
        ],
        [
         "C0083",
         "Antonio Unknown",
         "Male",
         "510567460",
         "Texas"
        ],
        [
         "C0490",
         "Susan Unknown",
         "Female",
         "513277362",
         "Texas"
        ],
        [
         "C0999",
         "Alexandra Fox",
         "Female",
         "514788515",
         "California"
        ],
        [
         "C0946",
         "Gabriel Cole",
         "Male",
         "514853266",
         "California"
        ],
        [
         "C0071",
         "Charles Warren",
         "Male",
         "515651928",
         "Texas"
        ],
        [
         "C0713",
         "Carlos Combs",
         "Male",
         "516048874",
         "California"
        ],
        [
         "C0256",
         "Dwayne Unknown",
         "Male",
         "517339517",
         "New York"
        ],
        [
         "C0302",
         "Jason Gonzales",
         "Male",
         "522570366",
         "New York"
        ],
        [
         "C0261",
         "Julie Meyers",
         "Female",
         "522615596",
         "New York"
        ],
        [
         "C0203",
         "Michael Holloway",
         "Male",
         "523569572",
         "Ohio"
        ],
        [
         "C0145",
         "Aaron Unknown",
         "Male",
         "523681709",
         "Texas"
        ],
        [
         "C0615",
         "Jason Abbott",
         "Male",
         "524005465",
         "Ohio"
        ],
        [
         "C0771",
         "Matthew Woods",
         "Male",
         "526217299",
         "New York"
        ],
        [
         "C0780",
         "Teresa Morgan",
         "Female",
         "527171458",
         "California"
        ],
        [
         "C0219",
         "Derek Unknown",
         "Male",
         "527306899",
         "Unknown"
        ],
        [
         "C0717",
         "Trevor Fitzgerald",
         "Male",
         "527737923",
         "Ohio"
        ],
        [
         "C0534",
         "Brandon Gamble",
         "Male",
         "530002167",
         "Ohio"
        ],
        [
         "C0975",
         "Peter Unknown",
         "Male",
         "530685706",
         "New York"
        ],
        [
         "C0135",
         "William Watkins",
         "Male",
         "532124144",
         "Texas"
        ],
        [
         "C0258",
         "Sherry Unknown",
         "Female",
         "533419413",
         "Texas"
        ],
        [
         "C0476",
         "Jonathan Daniel",
         "Male",
         "534212238",
         "Texas"
        ],
        [
         "C0239",
         "Frank Unknown",
         "Male",
         "535126229",
         "New York"
        ],
        [
         "C0718",
         "John Jones",
         "Male",
         "535606961",
         "Texas"
        ],
        [
         "C0925",
         "Susan Unknown",
         "Female",
         "537874076",
         "Texas"
        ],
        [
         "C0395",
         "Joseph Unknown",
         "Male",
         "538655716",
         "California"
        ],
        [
         "C0647",
         "David Allison",
         "Male",
         "539065495",
         "New York"
        ],
        [
         "C0549",
         "Alexander Harris",
         "Male",
         "541716480",
         "New York"
        ],
        [
         "C0665",
         "Steven White",
         "Male",
         "544828156",
         "New York"
        ],
        [
         "C0236",
         "Travis Unknown",
         "Male",
         "545776601",
         "California"
        ],
        [
         "C0310",
         "Kevin Ray",
         "Male",
         "546209671",
         "Texas"
        ],
        [
         "C0163",
         "Tina Holt",
         "Female",
         "546587281",
         "New York"
        ],
        [
         "C0102",
         "Dennis Dominguez",
         "Male",
         "550011030",
         "New York"
        ],
        [
         "C0062",
         "Mark Adams",
         "Male",
         "550550046",
         "Texas"
        ],
        [
         "C0091",
         "Anna Unknown",
         "Female",
         "551203013",
         "Texas"
        ],
        [
         "C0442",
         "Seth Alexander",
         "Male",
         "555089445",
         "Unknown"
        ],
        [
         "C0050",
         "Kimberly Wright",
         "Female",
         "556577221",
         "New York"
        ],
        [
         "C0777",
         "Justin Unknown",
         "Male",
         "557234172",
         "New York"
        ],
        [
         "C0945",
         "Garrett Miller",
         "Male",
         "557953164",
         "Ohio"
        ],
        [
         "C0080",
         "Ian Fowler",
         "Male",
         "558150115",
         "Unknown"
        ],
        [
         "C0818",
         "Matthew Perez",
         "Male",
         "558260751",
         "New York"
        ],
        [
         "C0308",
         "Larry Walker",
         "Male",
         "558300489",
         "California"
        ],
        [
         "C0764",
         "Matthew Woods",
         "Male",
         "558936799",
         "Ohio"
        ],
        [
         "C0289",
         "John Williams",
         "Male",
         "559579989",
         "California"
        ],
        [
         "C0174",
         "Chloe Wheeler",
         "Female",
         "560597428",
         "Ohio"
        ],
        [
         "C0390",
         "Tanya Unknown",
         "Female",
         "561244634",
         "California"
        ],
        [
         "C0291",
         "Jeffrey Unknown",
         "Male",
         "561245225",
         "Texas"
        ],
        [
         "C0729",
         "Alexis Donovan",
         "Female",
         "561713087",
         "California"
        ],
        [
         "C0560",
         "Kimberly Jones",
         "Female",
         "562111695",
         "New York"
        ],
        [
         "C0120",
         "Roger Unknown",
         "Male",
         "562976885",
         "California"
        ],
        [
         "C0654",
         "Richard Nolan",
         "Male",
         "563507536",
         "Texas"
        ],
        [
         "C0470",
         "Misty White",
         "Female",
         "563825460",
         "Texas"
        ],
        [
         "C0446",
         "Michael Carrillo",
         "Male",
         "564484536",
         "New York"
        ],
        [
         "C0399",
         "Matthew Unknown",
         "Male",
         "564987216",
         "Ohio"
        ],
        [
         "C0642",
         "Aaron Unknown",
         "Male",
         "565743758",
         "New York"
        ],
        [
         "C0697",
         "Bryan Anderson",
         "Male",
         "566092992",
         "Texas"
        ],
        [
         "C0321",
         "Kelly Unknown",
         "Female",
         "567039426",
         "California"
        ],
        [
         "C0748",
         "Debra Martin",
         "Female",
         "567118913",
         "New York"
        ],
        [
         "C0714",
         "Nicholas Unknown",
         "Male",
         "567745231",
         "California"
        ],
        [
         "C0556",
         "Willie Unknown",
         "Male",
         "568431594",
         "California"
        ],
        [
         "C0765",
         "Johnathan Rivera",
         "Male",
         "568504710",
         "Unknown"
        ],
        [
         "C0775",
         "Mark Jenkins",
         "Male",
         "568919038",
         "New York"
        ],
        [
         "C0032",
         "Joshua Carson",
         "Male",
         "568920245",
         "New York"
        ],
        [
         "C0452",
         "Theresa Unknown",
         "Female",
         "570129654",
         "Ohio"
        ],
        [
         "C0541",
         "Carlos Unknown",
         "Male",
         "572634991",
         "Texas"
        ],
        [
         "C0680",
         "Aaron Hampton",
         "Male",
         "572846258",
         "Ohio"
        ],
        [
         "C0632",
         "Kristina Wright",
         "Female",
         "572862418",
         "New York"
        ],
        [
         "C0013",
         "Brandon Unknown",
         "Male",
         "573359511",
         "Ohio"
        ],
        [
         "C0046",
         "Dennis Unknown",
         "Male",
         "573904617",
         "California"
        ],
        [
         "C0797",
         "Justin Schneider",
         "Male",
         "574097680",
         "Texas"
        ],
        [
         "C0278",
         "Seth Unknown",
         "Male",
         "574595993",
         "New York"
        ],
        [
         "C0063",
         "Latoya Unknown",
         "Female",
         "575579346",
         "Ohio"
        ],
        [
         "C0643",
         "Brian Walker",
         "Male",
         "576737012",
         "Ohio"
        ],
        [
         "C0712",
         "Ashley Moore",
         "Female",
         "576772550",
         "Ohio"
        ],
        [
         "C0109",
         "Caleb Long",
         "Male",
         "580782929",
         "Unknown"
        ],
        [
         "C0892",
         "Christopher Unknown",
         "Male",
         "580793035",
         "New York"
        ],
        [
         "C0620",
         "Shannon Chang",
         "Male",
         "582409554",
         "New York"
        ],
        [
         "C0936",
         "Paul Unknown",
         "Male",
         "582643392",
         "Unknown"
        ],
        [
         "C0243",
         "Eric Lopez",
         "Male",
         "582668500",
         "New York"
        ],
        [
         "C0471",
         "Nicole Walton",
         "Female",
         "582919525",
         "Texas"
        ],
        [
         "C0581",
         "Angela Gomez",
         "Female",
         "587431597",
         "New York"
        ],
        [
         "C0591",
         "Julia Jacobson",
         "Female",
         "592881377",
         "New York"
        ],
        [
         "C0847",
         "Aaron Peterson",
         "Male",
         "593841266",
         "California"
        ],
        [
         "C0259",
         "Samantha Mays",
         "Female",
         "594567425",
         "New York"
        ],
        [
         "C0314",
         "David Mcguire",
         "Male",
         "596519026",
         "New York"
        ],
        [
         "C0404",
         "Anthony Taylor",
         "Male",
         "596750707",
         "New York"
        ],
        [
         "C0532",
         "Daniel Perkins",
         "Male",
         "597378024",
         "California"
        ],
        [
         "C0798",
         "Michael Unknown",
         "Male",
         "599394555",
         "New York"
        ],
        [
         "C0996",
         "Felicia Howe",
         "Female",
         "599601108",
         "New York"
        ],
        [
         "C0159",
         "Alexander Unknown",
         "Male",
         "601802494",
         "New York"
        ],
        [
         "C0466",
         "Rachel Lewis",
         "Female",
         "602113834",
         "Ohio"
        ],
        [
         "C0702",
         "Richard Howard",
         "Male",
         "603115189",
         "Ohio"
        ],
        [
         "C0198",
         "James Ortiz",
         "Male",
         "603762095",
         "California"
        ],
        [
         "C0474",
         "Jacob Taylor",
         "Male",
         "604112993",
         "California"
        ],
        [
         "C0949",
         "David Unknown",
         "Male",
         "604251144",
         "New York"
        ],
        [
         "C0235",
         "Amy Unknown",
         "Female",
         "604919892",
         "New York"
        ],
        [
         "C0993",
         "David Mcmillan",
         "Male",
         "606087609",
         "California"
        ],
        [
         "C0146",
         "Zachary Unknown",
         "Male",
         "608687651",
         "Ohio"
        ],
        [
         "C0290",
         "Erik Unknown",
         "Male",
         "608717297",
         "New York"
        ],
        [
         "C0545",
         "Christopher Spencer",
         "Male",
         "612056774",
         "New York"
        ],
        [
         "C0865",
         "David Unknown",
         "Male",
         "613019907",
         "Texas"
        ],
        [
         "C0816",
         "Michael Lynn",
         "Male",
         "614351714",
         "New York"
        ],
        [
         "C0027",
         "Brandon Smith",
         "Male",
         "614443050",
         "New York"
        ],
        [
         "C0139",
         "Robert Cook",
         "Male",
         "615112555",
         "Texas"
        ],
        [
         "C0985",
         "Jose Chan",
         "Male",
         "615777685",
         "New York"
        ],
        [
         "C0878",
         "Brian Unknown",
         "Male",
         "616491936",
         "Ohio"
        ],
        [
         "C0557",
         "Frank Miller",
         "Male",
         "617176279",
         "Texas"
        ],
        [
         "C0606",
         "Frank Unknown",
         "Male",
         "617790897",
         "Ohio"
        ],
        [
         "C0833",
         "Dean James",
         "Male",
         "618129284",
         "California"
        ],
        [
         "C0097",
         "Anthony Watts",
         "Male",
         "620445794",
         "Texas"
        ],
        [
         "C0812",
         "Phillip Unknown",
         "Male",
         "620728376",
         "New York"
        ],
        [
         "C0088",
         "William Unknown",
         "Male",
         "622411761",
         "Ohio"
        ],
        [
         "C0130",
         "Ronald Unknown",
         "Male",
         "622836352",
         "Ohio"
        ],
        [
         "C0123",
         "Rebecca Armstrong",
         "Female",
         "624663469",
         "Ohio"
        ],
        [
         "C0582",
         "Debbie Robinson",
         "Female",
         "626279139",
         "Texas"
        ],
        [
         "C0853",
         "Robert Snyder",
         "Male",
         "628833506",
         "New York"
        ],
        [
         "C0538",
         "Aaron Peck",
         "Male",
         "629933034",
         "New York"
        ],
        [
         "C0652",
         "James Unknown",
         "Male",
         "630801605",
         "New York"
        ],
        [
         "C0864",
         "Eric Wilson",
         "Male",
         "631764902",
         "New York"
        ],
        [
         "C0393",
         "Brandon Ruiz",
         "Male",
         "632461894",
         "California"
        ],
        [
         "C0365",
         "John Edwards",
         "Male",
         "632493571",
         "New York"
        ],
        [
         "C0070",
         "Kevin Franklin",
         "Male",
         "632496047",
         "New York"
        ],
        [
         "C0594",
         "John Ellis",
         "Male",
         "634025358",
         "New York"
        ],
        [
         "C0107",
         "Christine Ellis",
         "Female",
         "634157903",
         "New York"
        ],
        [
         "C0433",
         "Bryan Hale",
         "Male",
         "634530391",
         "Ohio"
        ],
        [
         "C0150",
         "Jon Cohen",
         "Male",
         "635238437",
         "California"
        ],
        [
         "C0106",
         "Jason Abbott",
         "Male",
         "636181643",
         "Texas"
        ],
        [
         "C0548",
         "Eric Winters",
         "Male",
         "636591132",
         "New York"
        ],
        [
         "C0265",
         "Lori Mccarthy",
         "Female",
         "638294112",
         "Texas"
        ],
        [
         "C0518",
         "Juan Miller",
         "Male",
         "638370869",
         "Texas"
        ],
        [
         "C0090",
         "Jeremy Williams",
         "Male",
         "638708215",
         "New York"
        ],
        [
         "C0352",
         "Sean Simpson",
         "Male",
         "638728908",
         "Ohio"
        ],
        [
         "C0333",
         "David Burns",
         "Male",
         "643922820",
         "Texas"
        ],
        [
         "C0351",
         "Jessica Manning",
         "Female",
         "647758737",
         "New York"
        ],
        [
         "C0361",
         "Andrew Tucker",
         "Male",
         "648065949",
         "Ohio"
        ],
        [
         "C0017",
         "Angela Cantrell",
         "Female",
         "648610422",
         "Texas"
        ],
        [
         "C0832",
         "Karen Medina",
         "Female",
         "648947287",
         "New York"
        ],
        [
         "C0770",
         "Nicholas Unknown",
         "Male",
         "649072529",
         "Texas"
        ],
        [
         "C0151",
         "Matthew Walter",
         "Male",
         "649419497",
         "Unknown"
        ],
        [
         "C0603",
         "Eric Hicks",
         "Male",
         "649554815",
         "New York"
        ],
        [
         "C0740",
         "Christopher Wilson",
         "Male",
         "650053493",
         "New York"
        ],
        [
         "C0270",
         "Richard Schaefer",
         "Male",
         "650804653",
         "Ohio"
        ],
        [
         "C0129",
         "Gregory Neal",
         "Male",
         "654553785",
         "Texas"
        ],
        [
         "C0813",
         "Ryan Unknown",
         "Male",
         "656314369",
         "New York"
        ],
        [
         "C0989",
         "Lucas Conley",
         "Male",
         "657001176",
         "New York"
        ],
        [
         "C0504",
         "Emily Washington",
         "Female",
         "658093925",
         "Texas"
        ],
        [
         "C0346",
         "Jeremy Lambert",
         "Male",
         "658346936",
         "California"
        ],
        [
         "C0571",
         "Jeffrey Suarez",
         "Male",
         "658397387",
         "New York"
        ],
        [
         "C0300",
         "Melanie Thompson",
         "Female",
         "659396269",
         "California"
        ],
        [
         "C0326",
         "Joshua Reynolds",
         "Male",
         "660360584",
         "New York"
        ],
        [
         "C0328",
         "Gregory Allen",
         "Male",
         "661265781",
         "New York"
        ],
        [
         "C0263",
         "Nicholas Clark",
         "Male",
         "661308159",
         "New York"
        ],
        [
         "C0851",
         "Darrell Unknown",
         "Male",
         "661374496",
         "Unknown"
        ],
        [
         "C0834",
         "Bryan Robertson",
         "Male",
         "662124699",
         "New York"
        ],
        [
         "C0758",
         "Christopher Unknown",
         "Male",
         "662484840",
         "Ohio"
        ],
        [
         "C0540",
         "Eduardo Stokes",
         "Male",
         "663145012",
         "New York"
        ],
        [
         "C0447",
         "Stephanie Unknown",
         "Female",
         "663595592",
         "New York"
        ],
        [
         "C0875",
         "Dawn Nunez",
         "Female",
         "665269354",
         "New York"
        ],
        [
         "C0483",
         "Benjamin Foster",
         "Male",
         "665640040",
         "Unknown"
        ],
        [
         "C0297",
         "Timothy Myers",
         "Male",
         "667403920",
         "Texas"
        ],
        [
         "C0943",
         "Mark Velez",
         "Male",
         "668327363",
         "New York"
        ],
        [
         "C0457",
         "Destiny Marks",
         "Female",
         "672409579",
         "New York"
        ],
        [
         "C0809",
         "Jessica Miller",
         "Female",
         "673471287",
         "Texas"
        ],
        [
         "C0720",
         "Ryan Mcgrath",
         "Male",
         "674222857",
         "Texas"
        ],
        [
         "C0081",
         "Ryan Pearson",
         "Male",
         "674718631",
         "California"
        ],
        [
         "C0724",
         "Christine White",
         "Female",
         "675175463",
         "New York"
        ],
        [
         "C0756",
         "Daniel Perkins",
         "Male",
         "675175592",
         "New York"
        ],
        [
         "C0454",
         "Terry Unknown",
         "Male",
         "677168115",
         "Texas"
        ],
        [
         "C0134",
         "Cole Nelson",
         "Male",
         "677431721",
         "California"
        ],
        [
         "C0244",
         "Mark Davidson",
         "Male",
         "677651926",
         "Texas"
        ],
        [
         "C0544",
         "Kyle Soto",
         "Male",
         "677994055",
         "Texas"
        ],
        [
         "C0685",
         "Jeffrey Unknown",
         "Male",
         "682613360",
         "New York"
        ],
        [
         "C0769",
         "Chad Lyons",
         "Male",
         "683117463",
         "California"
        ],
        [
         "C0170",
         "Cody Keller",
         "Male",
         "684757240",
         "Ohio"
        ],
        [
         "C0708",
         "Ronald Maxwell",
         "Male",
         "686265522",
         "California"
        ],
        [
         "C0493",
         "Carlos Bailey",
         "Male",
         "686411046",
         "New York"
        ],
        [
         "C0744",
         "Heather French",
         "Female",
         "686531531",
         "Ohio"
        ],
        [
         "C0194",
         "Eric Unknown",
         "Male",
         "689379003",
         "Ohio"
        ],
        [
         "C0315",
         "Allison Unknown",
         "Female",
         "689883957",
         "Ohio"
        ],
        [
         "C0191",
         "Christopher Sandoval",
         "Male",
         "690628259",
         "New York"
        ],
        [
         "C0722",
         "Eric Newman",
         "Male",
         "693895447",
         "Unknown"
        ],
        [
         "C0840",
         "John Sweeney",
         "Male",
         "694545824",
         "New York"
        ],
        [
         "C0537",
         "Gary Unknown",
         "Male",
         "694613884",
         "New York"
        ],
        [
         "C0566",
         "Jacob Wang",
         "Male",
         "695734158",
         "New York"
        ],
        [
         "C0059",
         "Eric Hoffman",
         "Male",
         "696483718",
         "California"
        ],
        [
         "C0103",
         "Michael Unknown",
         "Male",
         "696546354",
         "California"
        ],
        [
         "C0604",
         "Benjamin Unknown",
         "Male",
         "697180386",
         "New York"
        ],
        [
         "C0345",
         "Anthony Hull",
         "Male",
         "697917825",
         "New York"
        ],
        [
         "C0276",
         "Johnathan Williams",
         "Male",
         "698770629",
         "California"
        ],
        [
         "C0349",
         "John Mcintosh",
         "Male",
         "698809899",
         "New York"
        ],
        [
         "C0055",
         "Jonathan Thomas",
         "Male",
         "699015658",
         "New York"
        ],
        [
         "C0807",
         "Hunter Navarro",
         "Male",
         "700406261",
         "Unknown"
        ],
        [
         "C0413",
         "Christina Unknown",
         "Female",
         "700493877",
         "Texas"
        ],
        [
         "C0031",
         "Steven Morgan",
         "Male",
         "701763121",
         "Ohio"
        ],
        [
         "C0808",
         "Robert Kaufman",
         "Male",
         "702892540",
         "Texas"
        ],
        [
         "C0241",
         "Samuel Taylor",
         "Male",
         "703724255",
         "New York"
        ],
        [
         "C0934",
         "Timothy Unknown",
         "Male",
         "703950512",
         "New York"
        ],
        [
         "C0592",
         "Melissa Hernandez",
         "Female",
         "704579173",
         "Texas"
        ],
        [
         "C0014",
         "Jeffery Cabrera",
         "Male",
         "705131809",
         "New York"
        ],
        [
         "C0450",
         "Donna Unknown",
         "Female",
         "706074780",
         "New York"
        ],
        [
         "C0143",
         "Sydney Fisher",
         "Female",
         "706854753",
         "New York"
        ],
        [
         "C0715",
         "Christopher Unknown",
         "Male",
         "707846272",
         "Unknown"
        ],
        [
         "C0621",
         "Juan Davis",
         "Male",
         "707878605",
         "New York"
        ],
        [
         "C0182",
         "David Tran",
         "Male",
         "708199071",
         "Ohio"
        ],
        [
         "C0051",
         "David Unknown",
         "Male",
         "709245509",
         "Unknown"
        ],
        [
         "C0154",
         "Andrew Unknown",
         "Male",
         "709376129",
         "Texas"
        ],
        [
         "C0299",
         "Hannah Greer",
         "Female",
         "709812872",
         "California"
        ],
        [
         "C0882",
         "Sean Smith",
         "Male",
         "710431870",
         "Texas"
        ],
        [
         "C0831",
         "Jeffrey Wolf",
         "Male",
         "711584782",
         "Ohio"
        ],
        [
         "C0686",
         "Frank Golden",
         "Male",
         "711819875",
         "Texas"
        ],
        [
         "C0184",
         "Miguel Goodman",
         "Male",
         "713156107",
         "Texas"
        ],
        [
         "C0372",
         "John Smith",
         "Male",
         "713227086",
         "New York"
        ],
        [
         "C0788",
         "Angela Dodson",
         "Female",
         "715164396",
         "Ohio"
        ],
        [
         "C0275",
         "Joseph Bowers",
         "Male",
         "715420916",
         "Unknown"
        ],
        [
         "C0517",
         "Donald Unknown",
         "Male",
         "715675813",
         "Ohio"
        ],
        [
         "C0648",
         "Jason Nichols",
         "Male",
         "719244280",
         "California"
        ],
        [
         "C0100",
         "Vernon Morrow",
         "Male",
         "719378837",
         "Texas"
        ],
        [
         "C0688",
         "Jennifer Leonard",
         "Female",
         "719917971",
         "California"
        ],
        [
         "C0306",
         "Jonathan Chan",
         "Male",
         "722350922",
         "Unknown"
        ],
        [
         "C0529",
         "Bruce Snow",
         "Male",
         "725903432",
         "California"
        ],
        [
         "C0787",
         "Travis Unknown",
         "Male",
         "726208843",
         "New York"
        ],
        [
         "C0630",
         "Thomas Young",
         "Male",
         "727726412",
         "California"
        ],
        [
         "C0303",
         "Ryan Matthews",
         "Male",
         "727859949",
         "Unknown"
        ],
        [
         "C0577",
         "Paul Shaw",
         "Male",
         "728785028",
         "New York"
        ],
        [
         "C0893",
         "David Unknown",
         "Male",
         "729218126",
         "Ohio"
        ],
        [
         "C0646",
         "Andrew Unknown",
         "Male",
         "729893938",
         "California"
        ],
        [
         "C0494",
         "Jacob Smith",
         "Male",
         "730072863",
         "New York"
        ],
        [
         "C0887",
         "Evan Andrews",
         "Male",
         "731928333",
         "Unknown"
        ],
        [
         "C0546",
         "Stephen Brown",
         "Male",
         "732932246",
         "Texas"
        ],
        [
         "C0636",
         "Sean Hogan",
         "Male",
         "734726329",
         "California"
        ],
        [
         "C0347",
         "Stephen Phillips",
         "Male",
         "734845687",
         "New York"
        ],
        [
         "C0183",
         "Mark Howell",
         "Male",
         "735381042",
         "Texas"
        ],
        [
         "C0700",
         "Scott Unknown",
         "Male",
         "735678367",
         "New York"
        ],
        [
         "C0723",
         "William Ellison",
         "Male",
         "737069029",
         "Texas"
        ],
        [
         "C0745",
         "Chris Barker",
         "Male",
         "739032204",
         "California"
        ],
        [
         "C0874",
         "Joshua Young",
         "Male",
         "739144009",
         "Texas"
        ],
        [
         "C0772",
         "Travis Smith",
         "Male",
         "739234814",
         "New York"
        ],
        [
         "C0653",
         "Billy Church",
         "Male",
         "740491918",
         "New York"
        ],
        [
         "C0754",
         "Connor Smith",
         "Male",
         "740826558",
         "New York"
        ],
        [
         "C0611",
         "Alexander Unknown",
         "Male",
         "741322264",
         "Texas"
        ],
        [
         "C0596",
         "Luke Maldonado",
         "Male",
         "743615538",
         "New York"
        ],
        [
         "C0339",
         "Alex Unknown",
         "Male",
         "744021127",
         "Ohio"
        ],
        [
         "C0172",
         "Michael Bates",
         "Male",
         "745117268",
         "Texas"
        ],
        [
         "C0626",
         "Alejandro Gray",
         "Male",
         "745801373",
         "Ohio"
        ],
        [
         "C0077",
         "John Johnson",
         "Male",
         "747822662",
         "Unknown"
        ],
        [
         "C0738",
         "Donna Unknown",
         "Female",
         "747939252",
         "Ohio"
        ],
        [
         "C0374",
         "John Morris",
         "Male",
         "748013516",
         "Ohio"
        ],
        [
         "C0295",
         "Bryan Ryan",
         "Male",
         "748189605",
         "California"
        ],
        [
         "C0852",
         "Jordan Tanner",
         "Male",
         "748607232",
         "New York"
        ],
        [
         "C0449",
         "Amy Ferguson",
         "Female",
         "749164614",
         "Texas"
        ],
        [
         "C0859",
         "Robert Unknown",
         "Male",
         "749655774",
         "California"
        ],
        [
         "C0193",
         "Julie Lozano",
         "Female",
         "749674470",
         "New York"
        ],
        [
         "C0177",
         "Daniel Unknown",
         "Male",
         "751058872",
         "California"
        ],
        [
         "C0967",
         "Steven Gill",
         "Male",
         "751442943",
         "Texas"
        ],
        [
         "C0112",
         "Tyrone Bell",
         "Male",
         "753055870",
         "California"
        ],
        [
         "C0505",
         "Jordan Martin",
         "Male",
         "754062267",
         "California"
        ],
        [
         "C0819",
         "William Gilbert",
         "Male",
         "754399258",
         "Unknown"
        ],
        [
         "C0622",
         "Jerry Unknown",
         "Male",
         "754655288",
         "New York"
        ],
        [
         "C0677",
         "Devin Unknown",
         "Male",
         "756724909",
         "California"
        ],
        [
         "C0272",
         "Erika Sanchez",
         "Female",
         "759457940",
         "Texas"
        ],
        [
         "C0535",
         "Kenneth Unknown",
         "Male",
         "760391227",
         "New York"
        ],
        [
         "C0974",
         "Carolyn Howell",
         "Female",
         "760765320",
         "Ohio"
        ],
        [
         "C0737",
         "David Unknown",
         "Male",
         "761013422",
         "New York"
        ],
        [
         "C0024",
         "Luis Roberts",
         "Male",
         "763990480",
         "New York"
        ],
        [
         "C0547",
         "Kaitlyn Thomas",
         "Female",
         "764863865",
         "New York"
        ],
        [
         "C0190",
         "Matthew Gray",
         "Male",
         "764979468",
         "Ohio"
        ],
        [
         "C0025",
         "Jordan Mercado",
         "Male",
         "765370466",
         "Texas"
        ],
        [
         "C0305",
         "Curtis Mccormick",
         "Male",
         "765664501",
         "Ohio"
        ],
        [
         "C0242",
         "Jeffrey Sparks",
         "Male",
         "765956872",
         "New York"
        ],
        [
         "C0968",
         "Randy Smith",
         "Male",
         "766559816",
         "New York"
        ],
        [
         "C0408",
         "Crystal Kim",
         "Female",
         "768048601",
         "New York"
        ],
        [
         "C0844",
         "David Thompson",
         "Male",
         "768922268",
         "Ohio"
        ],
        [
         "C0614",
         "Tracy Stevenson",
         "Female",
         "771867274",
         "California"
        ],
        [
         "C0842",
         "Jessica Unknown",
         "Female",
         "775839530",
         "California"
        ],
        [
         "C0645",
         "Larry Moore",
         "Male",
         "778256788",
         "Ohio"
        ],
        [
         "C0181",
         "Michael Hodges",
         "Male",
         "778301843",
         "Texas"
        ],
        [
         "C0327",
         "Anthony Jordan",
         "Male",
         "779252182",
         "New York"
        ],
        [
         "C0387",
         "Peter Hurst",
         "Male",
         "779671971",
         "Texas"
        ],
        [
         "C0161",
         "Justin Williams",
         "Male",
         "780840007",
         "Unknown"
        ],
        [
         "C0731",
         "Calvin Sanders",
         "Male",
         "783136548",
         "Unknown"
        ],
        [
         "C0434",
         "Matthew Unknown",
         "Male",
         "783911683",
         "California"
        ],
        [
         "C0458",
         "Louis Unknown",
         "Male",
         "784481326",
         "Texas"
        ],
        [
         "C0010",
         "Jason Unknown",
         "Male",
         "785769341",
         "New York"
        ],
        [
         "C0414",
         "Paul Simmons",
         "Male",
         "786274563",
         "California"
        ],
        [
         "C0873",
         "Cody Unknown",
         "Male",
         "786473524",
         "Texas"
        ],
        [
         "C0418",
         "Ross Lee",
         "Male",
         "789058243",
         "California"
        ],
        [
         "C0309",
         "Anthony Cox",
         "Male",
         "789798530",
         "New York"
        ],
        [
         "C0463",
         "Martin Unknown",
         "Male",
         "790153522",
         "California"
        ],
        [
         "C0498",
         "Jeremy Williams",
         "Male",
         "790647519",
         "Texas"
        ],
        [
         "C0425",
         "Justin Unknown",
         "Male",
         "791670874",
         "California"
        ],
        [
         "C0734",
         "John Page",
         "Male",
         "794241662",
         "New York"
        ],
        [
         "C1000",
         "Todd Robinson",
         "Male",
         "796934918",
         "California"
        ],
        [
         "C0409",
         "Robert Greer",
         "Male",
         "797692134",
         "New York"
        ],
        [
         "C0341",
         "David Unknown",
         "Male",
         "797932055",
         "New York"
        ],
        [
         "C0253",
         "Michael Unknown",
         "Male",
         "798490734",
         "Ohio"
        ],
        [
         "C0513",
         "Danielle Unknown",
         "Female",
         "800448153",
         "New York"
        ],
        [
         "C0760",
         "Savannah Davis",
         "Female",
         "801729823",
         "New York"
        ],
        [
         "C0358",
         "Roger Thompson",
         "Male",
         "802127690",
         "Ohio"
        ],
        [
         "C0383",
         "Lisa Miller",
         "Female",
         "802594377",
         "Texas"
        ],
        [
         "C0416",
         "Nicholas Browning",
         "Male",
         "805157487",
         "New York"
        ],
        [
         "C0908",
         "Kevin Cruz",
         "Male",
         "805184298",
         "New York"
        ],
        [
         "C0687",
         "William Thomas",
         "Male",
         "806153788",
         "New York"
        ],
        [
         "C0523",
         "Raymond Wood",
         "Male",
         "806609242",
         "Texas"
        ],
        [
         "C0759",
         "Nicholas Unknown",
         "Male",
         "808244293",
         "Ohio"
        ],
        [
         "C0491",
         "Aaron Barnes",
         "Male",
         "808499780",
         "New York"
        ],
        [
         "C0240",
         "Jessica Unknown",
         "Female",
         "810767865",
         "New York"
        ],
        [
         "C0338",
         "Richard Unknown",
         "Male",
         "811187611",
         "Ohio"
        ],
        [
         "C0879",
         "Nicholas Ramirez",
         "Male",
         "812243872",
         "California"
        ],
        [
         "C0595",
         "Nicholas Crawford",
         "Male",
         "814263239",
         "New York"
        ],
        [
         "C0435",
         "Robert Unknown",
         "Male",
         "815533127",
         "New York"
        ],
        [
         "C0085",
         "Lindsay Roberts",
         "Female",
         "815631005",
         "Ohio"
        ],
        [
         "C0164",
         "Theresa Davis",
         "Female",
         "816347228",
         "Texas"
        ],
        [
         "C0065",
         "Anthony Butler",
         "Male",
         "816774692",
         "Ohio"
        ],
        [
         "C0618",
         "Tiffany Jones",
         "Female",
         "816849730",
         "New York"
        ],
        [
         "C0670",
         "Kimberly White",
         "Female",
         "816996056",
         "New York"
        ],
        [
         "C0674",
         "Laura Unknown",
         "Female",
         "817261459",
         "Texas"
        ],
        [
         "C0960",
         "David Butler",
         "Male",
         "817470751",
         "New York"
        ],
        [
         "C0619",
         "Zachary Nguyen",
         "Male",
         "817783305",
         "New York"
        ],
        [
         "C0127",
         "Frank Turner",
         "Male",
         "817844697",
         "Unknown"
        ],
        [
         "C0888",
         "Donald Lewis",
         "Male",
         "818636644",
         "New York"
        ],
        [
         "C0923",
         "Richard Mcdaniel",
         "Male",
         "819562443",
         "Ohio"
        ],
        [
         "C0247",
         "Steven Williams",
         "Male",
         "819701950",
         "New York"
        ],
        [
         "C0897",
         "James Morgan",
         "Male",
         "821294237",
         "New York"
        ],
        [
         "C0262",
         "Kyle Church",
         "Male",
         "821572393",
         "Ohio"
        ],
        [
         "C0293",
         "Bradley Black",
         "Male",
         "824562887",
         "Texas"
        ],
        [
         "C0210",
         "Thomas Lopez",
         "Male",
         "826470616",
         "Ohio"
        ],
        [
         "C0367",
         "Thomas Middleton",
         "Male",
         "826582990",
         "Ohio"
        ],
        [
         "C0438",
         "Melanie Little",
         "Female",
         "828289179",
         "New York"
        ],
        [
         "C0354",
         "Mitchell Johnson",
         "Male",
         "829876388",
         "California"
        ],
        [
         "C0884",
         "Jose Unknown",
         "Male",
         "833578977",
         "Unknown"
        ],
        [
         "C0507",
         "John Hale",
         "Male",
         "833651521",
         "California"
        ],
        [
         "C0909",
         "Steven Hamilton",
         "Male",
         "833896331",
         "California"
        ],
        [
         "C0171",
         "Tim Cameron",
         "Male",
         "836329420",
         "Texas"
        ],
        [
         "C0719",
         "Cynthia Hurley",
         "Female",
         "836692730",
         "New York"
        ],
        [
         "C0359",
         "Alexander Morrison",
         "Male",
         "836921153",
         "Texas"
        ],
        [
         "C0465",
         "Andre Unknown",
         "Male",
         "837685476",
         "Texas"
        ],
        [
         "C0600",
         "Edwin Unknown",
         "Male",
         "837780909",
         "New York"
        ],
        [
         "C0981",
         "Matthew Martinez",
         "Male",
         "841521315",
         "Texas"
        ],
        [
         "C0104",
         "Stanley Martin",
         "Male",
         "842670625",
         "New York"
        ],
        [
         "C0817",
         "Caroline Unknown",
         "Female",
         "842908366",
         "New York"
        ],
        [
         "C0633",
         "Kathryn Kim",
         "Female",
         "844775825",
         "Texas"
        ],
        [
         "C0284",
         "Erik Baker",
         "Male",
         "845786288",
         "Unknown"
        ],
        [
         "C0412",
         "Jessica Smith",
         "Female",
         "847384935",
         "Texas"
        ],
        [
         "C0480",
         "David Smith",
         "Male",
         "847715785",
         "Texas"
        ],
        [
         "C0397",
         "Glenda Jackson",
         "Female",
         "851721298",
         "Texas"
        ],
        [
         "C0766",
         "Brandon Edwards",
         "Male",
         "851825607",
         "New York"
        ],
        [
         "C0751",
         "Benjamin Unknown",
         "Male",
         "852325407",
         "California"
        ],
        [
         "C0218",
         "Daniel Wilcox",
         "Male",
         "852841205",
         "Ohio"
        ],
        [
         "C0216",
         "Spencer Howard",
         "Male",
         "854291313",
         "Texas"
        ],
        [
         "C0838",
         "Jesse Myers",
         "Male",
         "854563917",
         "Texas"
        ],
        [
         "C0057",
         "Brian Price",
         "Male",
         "857377811",
         "Ohio"
        ],
        [
         "C0202",
         "Jason Unknown",
         "Male",
         "858376262",
         "Ohio"
        ],
        [
         "C0165",
         "Gregory Ortega",
         "Male",
         "859348325",
         "New York"
        ],
        [
         "C0197",
         "Tyler Larsen",
         "Male",
         "860616468",
         "New York"
        ],
        [
         "C0451",
         "Brian Cooper",
         "Male",
         "861425250",
         "Ohio"
        ],
        [
         "C0602",
         "Bill Ochoa",
         "Male",
         "861882676",
         "California"
        ],
        [
         "C0667",
         "Austin Hogan",
         "Male",
         "861991792",
         "New York"
        ],
        [
         "C0883",
         "Brian Beard",
         "Male",
         "862014263",
         "California"
        ],
        [
         "C0400",
         "Jesse Unknown",
         "Male",
         "863085099",
         "Unknown"
        ],
        [
         "C0045",
         "Andrew Hopkins",
         "Male",
         "863152583",
         "New York"
        ],
        [
         "C0209",
         "Andrew Curtis",
         "Male",
         "866604595",
         "New York"
        ],
        [
         "C0835",
         "Johnny Coleman",
         "Male",
         "866623520",
         "New York"
        ],
        [
         "C0348",
         "Mike Burke",
         "Male",
         "866775234",
         "Texas"
        ],
        [
         "C0068",
         "John Unknown",
         "Male",
         "866810493",
         "Unknown"
        ],
        [
         "C0453",
         "Jacob Coffey",
         "Male",
         "867436512",
         "Ohio"
        ],
        [
         "C0481",
         "Timothy Unknown",
         "Male",
         "868249618",
         "Texas"
        ],
        [
         "C0149",
         "Robert Adkins",
         "Male",
         "868364514",
         "New York"
        ],
        [
         "C0096",
         "Christina Brown",
         "Female",
         "869867231",
         "California"
        ],
        [
         "C0509",
         "Nicholas Unknown",
         "Male",
         "872175577",
         "Ohio"
        ],
        [
         "C0561",
         "Christopher Unknown",
         "Male",
         "876240093",
         "Ohio"
        ],
        [
         "C0512",
         "Ryan Lee",
         "Male",
         "877857648",
         "New York"
        ],
        [
         "C0972",
         "Dennis Unknown",
         "Male",
         "878034243",
         "California"
        ],
        [
         "C0939",
         "Sandra Unknown",
         "Female",
         "879283301",
         "California"
        ],
        [
         "C0651",
         "Natalie Smith",
         "Female",
         "880350546",
         "New York"
        ],
        [
         "C0804",
         "Timothy Cisneros",
         "Male",
         "881190585",
         "California"
        ],
        [
         "C0937",
         "Kyle Robertson",
         "Male",
         "881326075",
         "California"
        ],
        [
         "C0368",
         "Robin Unknown",
         "Female",
         "882484061",
         "Ohio"
        ],
        [
         "C0445",
         "Michael Savage",
         "Male",
         "882654392",
         "New York"
        ],
        [
         "C0332",
         "Erika Unknown",
         "Female",
         "884658437",
         "California"
        ],
        [
         "C0796",
         "Erin Young",
         "Female",
         "884967739",
         "Texas"
        ],
        [
         "C0527",
         "Carlos Bowman",
         "Male",
         "886438183",
         "Ohio"
        ],
        [
         "C0511",
         "Chad Ramos",
         "Male",
         "886579305",
         "Texas"
        ],
        [
         "C0298",
         "Carla Rosario",
         "Female",
         "889890252",
         "California"
        ],
        [
         "C0862",
         "Bryan Hernandez",
         "Male",
         "890541146",
         "New York"
        ],
        [
         "C0037",
         "Brett Unknown",
         "Male",
         "890898446",
         "Unknown"
        ],
        [
         "C0497",
         "Oscar Mcgrath",
         "Male",
         "891196755",
         "New York"
        ],
        [
         "C0826",
         "Lisa Holloway",
         "Female",
         "891412693",
         "New York"
        ],
        [
         "C0640",
         "John Unknown",
         "Male",
         "891912403",
         "New York"
        ],
        [
         "C0363",
         "Roy Hernandez",
         "Male",
         "893614036",
         "New York"
        ],
        [
         "C0564",
         "Dakota Jones",
         "Male",
         "893799621",
         "New York"
        ],
        [
         "C0343",
         "Matthew Berry",
         "Male",
         "894819798",
         "Ohio"
        ],
        [
         "C0815",
         "Matthew Sanchez",
         "Male",
         "896588352",
         "New York"
        ],
        [
         "C0496",
         "Sherry Mckenzie",
         "Female",
         "897440990",
         "New York"
        ],
        [
         "C0322",
         "Joseph Unknown",
         "Male",
         "897801780",
         "Texas"
        ],
        [
         "C0304",
         "Calvin Soto",
         "Male",
         "898083634",
         "New York"
        ],
        [
         "C0110",
         "Megan Miller",
         "Female",
         "898146425",
         "Ohio"
        ],
        [
         "C0360",
         "Gabriel Walker",
         "Male",
         "898877272",
         "Ohio"
        ],
        [
         "C0248",
         "Michelle Morrow",
         "Female",
         "899686937",
         "California"
        ],
        [
         "C0230",
         "Daniel Mitchell",
         "Male",
         "899869584",
         "California"
        ],
        [
         "C0492",
         "Christopher Ford",
         "Male",
         "901324128",
         "Texas"
        ],
        [
         "C0821",
         "Eddie Smith",
         "Male",
         "901694656",
         "New York"
        ],
        [
         "C0829",
         "Eric Snyder",
         "Male",
         "903113332",
         "New York"
        ],
        [
         "C0035",
         "Joshua Sullivan",
         "Male",
         "904588403",
         "Texas"
        ],
        [
         "C0426",
         "Brandon Hernandez",
         "Male",
         "904605617",
         "Unknown"
        ],
        [
         "C0157",
         "John Unknown",
         "Male",
         "905215215",
         "New York"
        ],
        [
         "C0185",
         "James Murphy",
         "Male",
         "906918733",
         "New York"
        ],
        [
         "C0056",
         "Sonia Vaughn",
         "Female",
         "906940374",
         "California"
        ],
        [
         "C0224",
         "Cesar Unknown",
         "Male",
         "907426622",
         "Texas"
        ],
        [
         "C0962",
         "Penny Unknown",
         "Female",
         "908389138",
         "Ohio"
        ],
        [
         "C0317",
         "Steven Stark",
         "Male",
         "908701469",
         "California"
        ],
        [
         "C0437",
         "Richard Williams",
         "Male",
         "908719026",
         "New York"
        ],
        [
         "C0790",
         "Bryan Unknown",
         "Male",
         "910511306",
         "Texas"
        ],
        [
         "C0113",
         "Fernando Martinez",
         "Male",
         "913039242",
         "California"
        ],
        [
         "C0280",
         "Andrew Smith",
         "Male",
         "913696910",
         "Unknown"
        ],
        [
         "C0168",
         "David Miller",
         "Male",
         "914367227",
         "California"
        ],
        [
         "C0023",
         "Grant Bartlett",
         "Male",
         "914981950",
         "Ohio"
        ],
        [
         "C0378",
         "Dennis Black",
         "Male",
         "915183314",
         "New York"
        ],
        [
         "C0029",
         "Timothy Unknown",
         "Male",
         "916674499",
         "Ohio"
        ],
        [
         "C0704",
         "Scott Watts",
         "Male",
         "918412763",
         "New York"
        ],
        [
         "C0693",
         "Julie Green",
         "Female",
         "918914982",
         "Texas"
        ],
        [
         "C0963",
         "Matthew Valentine",
         "Male",
         "920867331",
         "New York"
        ],
        [
         "C0464",
         "Jordan Powers",
         "Male",
         "922144773",
         "California"
        ],
        [
         "C0598",
         "Desiree Unknown",
         "Female",
         "924579451",
         "Ohio"
        ],
        [
         "C0588",
         "Kylie Garcia",
         "Female",
         "925104399",
         "Ohio"
        ],
        [
         "C0260",
         "Robert Anderson",
         "Male",
         "925176007",
         "New York"
        ],
        [
         "C0836",
         "Charles Trevino",
         "Male",
         "928045324",
         "New York"
        ],
        [
         "C0742",
         "Joshua Jackson",
         "Male",
         "928638658",
         "New York"
        ],
        [
         "C0026",
         "Jesse Wilkerson",
         "Male",
         "929200753",
         "New York"
        ],
        [
         "C0932",
         "Misty Unknown",
         "Female",
         "932144830",
         "California"
        ],
        [
         "C0907",
         "Bradley Parrish",
         "Male",
         "935295860",
         "Ohio"
        ],
        [
         "C0590",
         "Michael Roberts",
         "Male",
         "935562819",
         "New York"
        ],
        [
         "C0041",
         "Michael Stephens",
         "Male",
         "936931355",
         "New York"
        ],
        [
         "C0644",
         "Donald Unknown",
         "Male",
         "937279766",
         "Unknown"
        ],
        [
         "C0382",
         "Crystal Unknown",
         "Female",
         "937570993",
         "New York"
        ],
        [
         "C0495",
         "Robert Lewis",
         "Male",
         "937732844",
         "Texas"
        ],
        [
         "C0099",
         "Corey Valentine",
         "Male",
         "940177867",
         "California"
        ],
        [
         "C0279",
         "Jennifer Ferguson",
         "Female",
         "940386159",
         "New York"
        ],
        [
         "C0392",
         "Jason Unknown",
         "Male",
         "941815485",
         "California"
        ],
        [
         "C0991",
         "David Mcclure",
         "Male",
         "942227903",
         "New York"
        ],
        [
         "C0801",
         "David Wagner",
         "Male",
         "943792034",
         "New York"
        ],
        [
         "C0082",
         "Samuel Lopez",
         "Male",
         "945936644",
         "Ohio"
        ],
        [
         "C0569",
         "Heather Mueller",
         "Female",
         "947371152",
         "Ohio"
        ],
        [
         "C0706",
         "Teresa Whitehead",
         "Female",
         "947397419",
         "Ohio"
        ],
        [
         "C0004",
         "Edward Davis",
         "Male",
         "948185740",
         "Ohio"
        ],
        [
         "C0690",
         "Christopher Castro",
         "Male",
         "948801129",
         "Unknown"
        ],
        [
         "C0499",
         "Jason Watkins",
         "Male",
         "949235279",
         "California"
        ],
        [
         "C0857",
         "Austin Espinoza",
         "Male",
         "950035063",
         "New York"
        ],
        [
         "C0066",
         "Thomas Kelly",
         "Male",
         "951133429",
         "California"
        ],
        [
         "C0811",
         "Christine Allen",
         "Female",
         "951248898",
         "New York"
        ],
        [
         "C0398",
         "Laura Byrd",
         "Female",
         "953504542",
         "California"
        ],
        [
         "C0919",
         "John Sullivan",
         "Male",
         "953558475",
         "New York"
        ],
        [
         "C0781",
         "Anthony Unknown",
         "Male",
         "953579645",
         "New York"
        ],
        [
         "C0208",
         "Logan Unknown",
         "Male",
         "956297833",
         "Texas"
        ],
        [
         "C0928",
         "Roger Patrick",
         "Male",
         "956406195",
         "New York"
        ],
        [
         "C0199",
         "Maurice Unknown",
         "Male",
         "959512357",
         "New York"
        ],
        [
         "C0377",
         "Christopher Unknown",
         "Male",
         "960646196",
         "Texas"
        ],
        [
         "C0575",
         "Paula Moore",
         "Female",
         "963363067",
         "Texas"
        ],
        [
         "C0141",
         "Douglas Miller",
         "Male",
         "964338007",
         "Ohio"
        ],
        [
         "C0584",
         "Thomas Williams",
         "Male",
         "965408422",
         "New York"
        ],
        [
         "C0552",
         "Kevin Unknown",
         "Male",
         "966365553",
         "California"
        ],
        [
         "C0554",
         "Gregory Hicks",
         "Male",
         "966379552",
         "New York"
        ],
        [
         "C0898",
         "Juan Hamilton",
         "Male",
         "967722021",
         "California"
        ],
        [
         "C0839",
         "Lauren Lopez",
         "Female",
         "968013277",
         "Texas"
        ],
        [
         "C0207",
         "Brandon Unknown",
         "Male",
         "969215763",
         "Ohio"
        ],
        [
         "C0992",
         "Ann Sandoval",
         "Female",
         "969607237",
         "New York"
        ],
        [
         "C0762",
         "Jose Unknown",
         "Male",
         "970074242",
         "California"
        ],
        [
         "C0459",
         "Brittney Cook",
         "Female",
         "970613474",
         "New York"
        ],
        [
         "C0405",
         "Lee Boyd",
         "Male",
         "973121661",
         "Texas"
        ],
        [
         "C0555",
         "Alec Unknown",
         "Male",
         "973473334",
         "Texas"
        ],
        [
         "C0666",
         "Joshua Unknown",
         "Male",
         "973558529",
         "Ohio"
        ],
        [
         "C0924",
         "Albert Bolton",
         "Male",
         "975029800",
         "New York"
        ],
        [
         "C0929",
         "David Unknown",
         "Male",
         "975050802",
         "Ohio"
        ],
        [
         "C0683",
         "Gregory Stafford",
         "Male",
         "975245762",
         "Texas"
        ],
        [
         "C0486",
         "Matthew Unknown",
         "Male",
         "975572862",
         "New York"
        ],
        [
         "C0005",
         "Reginald Dawson",
         "Male",
         "975723056",
         "Texas"
        ],
        [
         "C0075",
         "Troy Garcia",
         "Male",
         "977039472",
         "New York"
        ],
        [
         "C0456",
         "Brittany Johnson",
         "Female",
         "979173836",
         "Texas"
        ],
        [
         "C0660",
         "Adam Unknown",
         "Male",
         "981536889",
         "Texas"
        ],
        [
         "C0006",
         "Virginia Bryant",
         "Female",
         "981727452",
         "Ohio"
        ],
        [
         "C0254",
         "Shannon Johnson",
         "Female",
         "982008775",
         "New York"
        ],
        [
         "C0444",
         "Jason Wagner",
         "Male",
         "982051754",
         "Ohio"
        ],
        [
         "C0935",
         "Jeffrey Rose",
         "Male",
         "982674041",
         "California"
        ],
        [
         "C0152",
         "Steven Unknown",
         "Male",
         "985715518",
         "Texas"
        ],
        [
         "C0553",
         "Miguel Fletcher",
         "Male",
         "987329480",
         "Ohio"
        ],
        [
         "C0049",
         "Jeffrey Unknown",
         "Male",
         "987358591",
         "Texas"
        ],
        [
         "C0249",
         "Robert Pena",
         "Male",
         "988134076",
         "New York"
        ],
        [
         "C0896",
         "James Williams",
         "Male",
         "989842552",
         "New York"
        ],
        [
         "C0342",
         "Robert Unknown",
         "Male",
         "990325135",
         "New York"
        ],
        [
         "C0856",
         "Thomas Unknown",
         "Male",
         "990882906",
         "California"
        ],
        [
         "C0519",
         "Barbara Ellis",
         "Female",
         "990974201",
         "California"
        ],
        [
         "C0669",
         "Kevin Dixon",
         "Male",
         "991973958",
         "Ohio"
        ],
        [
         "C0245",
         "Mary Anderson",
         "Female",
         "992002853",
         "Texas"
        ],
        [
         "C0539",
         "Wanda Clark",
         "Female",
         "992095479",
         "New York"
        ],
        [
         "C0725",
         "Andrew Glover",
         "Male",
         "993500794",
         "Texas"
        ],
        [
         "C0016",
         "Joe Barnett",
         "Male",
         "995874707",
         "Ohio"
        ],
        [
         "C0389",
         "David Unknown",
         "Male",
         "997212778",
         "New York"
        ],
        [
         "C0682",
         "Lindsey Mitchell",
         "Female",
         "997480282",
         "Texas"
        ],
        [
         "C0462",
         "Craig Walker",
         "Male",
         "998993065",
         "California"
        ]
       ],
       "datasetInfos": [],
       "dbfsResultPath": null,
       "isJsonSchema": true,
       "metadata": {},
       "overflow": false,
       "plotOptions": {
        "customPlotOptions": {},
        "displayType": "table",
        "pivotAggregation": null,
        "pivotColumns": null,
        "xColumns": null,
        "yColumns": null
       },
       "removedWidgets": [],
       "schema": [
        {
         "metadata": "{}",
         "name": "customerid",
         "type": "\"string\""
        },
        {
         "metadata": "{}",
         "name": "CustomerName",
         "type": "\"string\""
        },
        {
         "metadata": "{}",
         "name": "gender",
         "type": "\"string\""
        },
        {
         "metadata": "{}",
         "name": "ssn",
         "type": "\"string\""
        },
        {
         "metadata": "{}",
         "name": "region",
         "type": "\"string\""
        }
       ],
       "type": "table"
      }
     },
     "output_type": "display_data"
    }
   ],
   "source": [
    "from pyspark.sql.functions import concat_ws\n",
    "\n",
    "# Apply the UDFs to standardize region and gender\n",
    "df_standardized = df_filled.withColumn(\"region\", standardize_region_udf(\"region\")) \\\n",
    "                           .withColumn(\"gender\", standardize_gender_udf(\"gender\")) \\\n",
    "                           .withColumn(\"CustomerName\", concat_ws(\" \", df_filled[\"firstname\"], df_filled[\"lastname\"])) \\\n",
    "                           .drop(\"firstname\", \"lastname\") \\\n",
    "                           .select(\"customerid\", \"CustomerName\", \"gender\", \"ssn\", \"region\")\n",
    "\n",
    "display(df_standardized)"
   ]
  },
  {
   "cell_type": "code",
   "execution_count": 0,
   "metadata": {
    "application/vnd.databricks.v1+cell": {
     "cellMetadata": {
      "byteLimit": 2048000,
      "rowLimit": 10000
     },
     "inputWidgets": {},
     "nuid": "cb305537-802e-4455-991e-81ab7c4818a4",
     "showTitle": false,
     "tableResultSettingsMap": {},
     "title": ""
    }
   },
   "outputs": [
    {
     "output_type": "stream",
     "name": "stdout",
     "output_type": "stream",
     "text": [
      "Out[81]: 1000"
     ]
    }
   ],
   "source": [
    "df_standardized.count()"
   ]
  },
  {
   "cell_type": "code",
   "execution_count": 0,
   "metadata": {
    "application/vnd.databricks.v1+cell": {
     "cellMetadata": {
      "byteLimit": 2048000,
      "rowLimit": 10000
     },
     "inputWidgets": {},
     "nuid": "27026cf4-aea5-4cdf-bde2-4b44b30817a3",
     "showTitle": false,
     "tableResultSettingsMap": {},
     "title": ""
    }
   },
   "outputs": [],
   "source": [
    "df_standardized.write.format(\"delta\").mode(\"overwrite\").save(\"dbfs:/FileStore/online_retail/cleaned/customers.parquet\")"
   ]
  },
  {
   "cell_type": "markdown",
   "metadata": {
    "application/vnd.databricks.v1+cell": {
     "cellMetadata": {},
     "inputWidgets": {},
     "nuid": "34cfeccf-125b-4186-b5f5-2322ab870270",
     "showTitle": false,
     "tableResultSettingsMap": {},
     "title": ""
    }
   },
   "source": [
    "## Explore Product"
   ]
  },
  {
   "cell_type": "code",
   "execution_count": 0,
   "metadata": {
    "application/vnd.databricks.v1+cell": {
     "cellMetadata": {
      "byteLimit": 2048000,
      "rowLimit": 10000
     },
     "inputWidgets": {},
     "nuid": "8f346588-916d-4baa-847b-59ce69d1804f",
     "showTitle": false,
     "tableResultSettingsMap": {},
     "title": ""
    }
   },
   "outputs": [
    {
     "output_type": "display_data",
     "data": {
      "text/html": [
       "<style scoped>\n",
       "  .table-result-container {\n",
       "    max-height: 300px;\n",
       "    overflow: auto;\n",
       "  }\n",
       "  table, th, td {\n",
       "    border: 1px solid black;\n",
       "    border-collapse: collapse;\n",
       "  }\n",
       "  th, td {\n",
       "    padding: 5px;\n",
       "  }\n",
       "  th {\n",
       "    text-align: left;\n",
       "  }\n",
       "</style><div class='table-result-container'><table class='table-result'><thead style='background-color: white'><tr><th>ProductID</th><th>ProductName</th><th>Category</th></tr></thead><tbody><tr><td>1000</td><td>Washing Machine</td><td>Home Appliances</td></tr><tr><td>1001</td><td>Refrigerator</td><td>Home Appliances</td></tr><tr><td>1002</td><td>Blender</td><td>Home Appliances</td></tr><tr><td>1003</td><td>Microwave</td><td>Home Appliances</td></tr><tr><td>1004</td><td>Vacuum Cleaner</td><td>Home Appliances</td></tr><tr><td>1005</td><td>Sofa</td><td>Furniture</td></tr><tr><td>1006</td><td>Table</td><td>Furniture</td></tr><tr><td>1007</td><td>Chair</td><td>Furniture</td></tr><tr><td>1008</td><td>Bed</td><td>Furniture</td></tr><tr><td>1009</td><td>Cupboard</td><td>Furniture</td></tr></tbody></table></div>"
      ]
     },
     "metadata": {
      "application/vnd.databricks.v1+output": {
       "addedWidgets": {},
       "aggData": [],
       "aggError": "",
       "aggOverflow": false,
       "aggSchema": [],
       "aggSeriesLimitReached": false,
       "aggType": "",
       "arguments": {},
       "columnCustomDisplayInfos": {},
       "data": [
        [
         1000,
         "Washing Machine",
         "Home Appliances"
        ],
        [
         1001,
         "Refrigerator",
         "Home Appliances"
        ],
        [
         1002,
         "Blender",
         "Home Appliances"
        ],
        [
         1003,
         "Microwave",
         "Home Appliances"
        ],
        [
         1004,
         "Vacuum Cleaner",
         "Home Appliances"
        ],
        [
         1005,
         "Sofa",
         "Furniture"
        ],
        [
         1006,
         "Table",
         "Furniture"
        ],
        [
         1007,
         "Chair",
         "Furniture"
        ],
        [
         1008,
         "Bed",
         "Furniture"
        ],
        [
         1009,
         "Cupboard",
         "Furniture"
        ]
       ],
       "datasetInfos": [],
       "dbfsResultPath": null,
       "isJsonSchema": true,
       "metadata": {},
       "overflow": false,
       "plotOptions": {
        "customPlotOptions": {},
        "displayType": "table",
        "pivotAggregation": null,
        "pivotColumns": null,
        "xColumns": null,
        "yColumns": null
       },
       "removedWidgets": [],
       "schema": [
        {
         "metadata": "{}",
         "name": "ProductID",
         "type": "\"integer\""
        },
        {
         "metadata": "{}",
         "name": "ProductName",
         "type": "\"string\""
        },
        {
         "metadata": "{}",
         "name": "Category",
         "type": "\"string\""
        }
       ],
       "type": "table"
      }
     },
     "output_type": "display_data"
    },
    {
     "output_type": "stream",
     "name": "stdout",
     "output_type": "stream",
     "text": [
      "Out[85]: 50"
     ]
    }
   ],
   "source": [
    "df_products = spark.read.option(\"header\", \"true\").option(\"inferSchema\", \"true\").csv(\"dbfs:/FileStore/online_retail/products.csv\")\n",
    "display(df_products.limit(10))\n",
    "df_products.count()"
   ]
  },
  {
   "cell_type": "code",
   "execution_count": 0,
   "metadata": {
    "application/vnd.databricks.v1+cell": {
     "cellMetadata": {
      "byteLimit": 2048000,
      "rowLimit": 10000
     },
     "inputWidgets": {},
     "nuid": "bec10e5f-b9ff-41f2-af43-76647e0ebedc",
     "showTitle": false,
     "tableResultSettingsMap": {},
     "title": ""
    }
   },
   "outputs": [
    {
     "output_type": "display_data",
     "data": {
      "text/html": [
       "<style scoped>\n",
       "  .table-result-container {\n",
       "    max-height: 300px;\n",
       "    overflow: auto;\n",
       "  }\n",
       "  table, th, td {\n",
       "    border: 1px solid black;\n",
       "    border-collapse: collapse;\n",
       "  }\n",
       "  th, td {\n",
       "    padding: 5px;\n",
       "  }\n",
       "  th {\n",
       "    text-align: left;\n",
       "  }\n",
       "</style><div class='table-result-container'><table class='table-result'><thead style='background-color: white'><tr><th>category</th><th>count</th></tr></thead><tbody><tr><td>Electronics</td><td>20</td></tr><tr><td>Home Appliances</td><td>5</td></tr><tr><td>Furniture</td><td>5</td></tr><tr><td>Toys</td><td>20</td></tr></tbody></table></div>"
      ]
     },
     "metadata": {
      "application/vnd.databricks.v1+output": {
       "addedWidgets": {},
       "aggData": [],
       "aggError": "",
       "aggOverflow": false,
       "aggSchema": [],
       "aggSeriesLimitReached": false,
       "aggType": "",
       "arguments": {},
       "columnCustomDisplayInfos": {},
       "data": [
        [
         "Electronics",
         20
        ],
        [
         "Home Appliances",
         5
        ],
        [
         "Furniture",
         5
        ],
        [
         "Toys",
         20
        ]
       ],
       "datasetInfos": [],
       "dbfsResultPath": null,
       "isJsonSchema": true,
       "metadata": {},
       "overflow": false,
       "plotOptions": {
        "customPlotOptions": {},
        "displayType": "table",
        "pivotAggregation": null,
        "pivotColumns": null,
        "xColumns": null,
        "yColumns": null
       },
       "removedWidgets": [],
       "schema": [
        {
         "metadata": "{}",
         "name": "category",
         "type": "\"string\""
        },
        {
         "metadata": "{}",
         "name": "count",
         "type": "\"long\""
        }
       ],
       "type": "table"
      }
     },
     "output_type": "display_data"
    }
   ],
   "source": [
    "df_category_count = df_products.groupBy(\"category\").count()\n",
    "display(df_category_count)"
   ]
  },
  {
   "cell_type": "code",
   "execution_count": 0,
   "metadata": {
    "application/vnd.databricks.v1+cell": {
     "cellMetadata": {
      "byteLimit": 2048000,
      "rowLimit": 10000
     },
     "inputWidgets": {},
     "nuid": "ee36582a-5e17-480e-a956-3a6aa84cd35f",
     "showTitle": false,
     "tableResultSettingsMap": {},
     "title": ""
    }
   },
   "outputs": [],
   "source": [
    "df_products.write.format(\"delta\").mode(\"overwrite\").save(\"dbfs:/FileStore/online_retail/cleaned/products.parquet\")"
   ]
  },
  {
   "cell_type": "markdown",
   "metadata": {
    "application/vnd.databricks.v1+cell": {
     "cellMetadata": {},
     "inputWidgets": {},
     "nuid": "64fd0a07-98d4-41ca-9b9a-c78cee416102",
     "showTitle": false,
     "tableResultSettingsMap": {},
     "title": ""
    }
   },
   "source": [
    "## Explore Sales Data"
   ]
  },
  {
   "cell_type": "code",
   "execution_count": 0,
   "metadata": {
    "application/vnd.databricks.v1+cell": {
     "cellMetadata": {
      "byteLimit": 2048000,
      "rowLimit": 10000
     },
     "inputWidgets": {},
     "nuid": "38419ce4-b2c4-46db-8505-bda306109f79",
     "showTitle": false,
     "tableResultSettingsMap": {},
     "title": ""
    }
   },
   "outputs": [
    {
     "output_type": "display_data",
     "data": {
      "text/html": [
       "<style scoped>\n",
       "  .table-result-container {\n",
       "    max-height: 300px;\n",
       "    overflow: auto;\n",
       "  }\n",
       "  table, th, td {\n",
       "    border: 1px solid black;\n",
       "    border-collapse: collapse;\n",
       "  }\n",
       "  th, td {\n",
       "    padding: 5px;\n",
       "  }\n",
       "  th {\n",
       "    text-align: left;\n",
       "  }\n",
       "</style><div class='table-result-container'><table class='table-result'><thead style='background-color: white'><tr><th>SaleID</th><th>ProductID</th><th>CustomerID</th><th>SalesAmount</th><th>Quantity</th><th>Timestamp</th></tr></thead><tbody><tr><td>c0078cd1-3ddc-439a-b41d-7498e8e75e62</td><td>1020</td><td>C0460</td><td>1639.1</td><td>18</td><td>2024-08-09T20:21:00.000+0000</td></tr><tr><td>be8532af-16b7-432c-a13d-4c6e6836d12d</td><td>1029</td><td>C0198</td><td>186.11</td><td>42</td><td>2024-11-28T05:01:00.000+0000</td></tr><tr><td>8666f277-cc58-4fde-9d58-697da9e040f2</td><td>1012</td><td>C0524</td><td>1712.72</td><td>49</td><td>2024-10-13T00:36:00.000+0000</td></tr><tr><td>383e0a2b-7e00-454e-a269-b2f73ecd33f2</td><td>1016</td><td>C0285</td><td>null</td><td>50</td><td>2024-07-06T23:39:00.000+0000</td></tr><tr><td>d9a7f974-9572-48dd-aa36-3f96b280dfc7</td><td>1021</td><td>C0369</td><td>66.36</td><td>21</td><td>2024-06-08T19:58:00.000+0000</td></tr><tr><td>d71733ac-4fc4-42e6-ae48-c2150c8a92ae</td><td>1016</td><td>C0709</td><td>1705.51</td><td>31</td><td>2024-11-15T12:24:00.000+0000</td></tr><tr><td>b7475afb-27f7-46fe-8bcd-c099c178d17f</td><td>1047</td><td>C0929</td><td>1509.94</td><td>3</td><td>2024-08-28T05:43:00.000+0000</td></tr><tr><td>f5953c0c-e9bc-489a-9333-1e0c0a81d873</td><td>1027</td><td>C0019</td><td>1635.15</td><td>null</td><td>2024-08-30T19:07:00.000+0000</td></tr><tr><td>427c33bb-dff7-4332-8d29-954728c713b1</td><td>1020</td><td>C0983</td><td>1070.59</td><td>31</td><td>2024-10-22T15:17:00.000+0000</td></tr><tr><td>812ad61f-2e80-4b95-ae02-a91976bd2baa</td><td>1006</td><td>C0536</td><td>1097.0</td><td>2</td><td>2024-06-20T09:59:00.000+0000</td></tr></tbody></table></div>"
      ]
     },
     "metadata": {
      "application/vnd.databricks.v1+output": {
       "addedWidgets": {},
       "aggData": [],
       "aggError": "",
       "aggOverflow": false,
       "aggSchema": [],
       "aggSeriesLimitReached": false,
       "aggType": "",
       "arguments": {},
       "columnCustomDisplayInfos": {},
       "data": [
        [
         "c0078cd1-3ddc-439a-b41d-7498e8e75e62",
         1020,
         "C0460",
         1639.1,
         18,
         "2024-08-09T20:21:00.000+0000"
        ],
        [
         "be8532af-16b7-432c-a13d-4c6e6836d12d",
         1029,
         "C0198",
         186.11,
         42,
         "2024-11-28T05:01:00.000+0000"
        ],
        [
         "8666f277-cc58-4fde-9d58-697da9e040f2",
         1012,
         "C0524",
         1712.72,
         49,
         "2024-10-13T00:36:00.000+0000"
        ],
        [
         "383e0a2b-7e00-454e-a269-b2f73ecd33f2",
         1016,
         "C0285",
         null,
         50,
         "2024-07-06T23:39:00.000+0000"
        ],
        [
         "d9a7f974-9572-48dd-aa36-3f96b280dfc7",
         1021,
         "C0369",
         66.36,
         21,
         "2024-06-08T19:58:00.000+0000"
        ],
        [
         "d71733ac-4fc4-42e6-ae48-c2150c8a92ae",
         1016,
         "C0709",
         1705.51,
         31,
         "2024-11-15T12:24:00.000+0000"
        ],
        [
         "b7475afb-27f7-46fe-8bcd-c099c178d17f",
         1047,
         "C0929",
         1509.94,
         3,
         "2024-08-28T05:43:00.000+0000"
        ],
        [
         "f5953c0c-e9bc-489a-9333-1e0c0a81d873",
         1027,
         "C0019",
         1635.15,
         null,
         "2024-08-30T19:07:00.000+0000"
        ],
        [
         "427c33bb-dff7-4332-8d29-954728c713b1",
         1020,
         "C0983",
         1070.59,
         31,
         "2024-10-22T15:17:00.000+0000"
        ],
        [
         "812ad61f-2e80-4b95-ae02-a91976bd2baa",
         1006,
         "C0536",
         1097.0,
         2,
         "2024-06-20T09:59:00.000+0000"
        ]
       ],
       "datasetInfos": [],
       "dbfsResultPath": null,
       "isJsonSchema": true,
       "metadata": {},
       "overflow": false,
       "plotOptions": {
        "customPlotOptions": {},
        "displayType": "table",
        "pivotAggregation": null,
        "pivotColumns": null,
        "xColumns": null,
        "yColumns": null
       },
       "removedWidgets": [],
       "schema": [
        {
         "metadata": "{}",
         "name": "SaleID",
         "type": "\"string\""
        },
        {
         "metadata": "{}",
         "name": "ProductID",
         "type": "\"integer\""
        },
        {
         "metadata": "{}",
         "name": "CustomerID",
         "type": "\"string\""
        },
        {
         "metadata": "{}",
         "name": "SalesAmount",
         "type": "\"double\""
        },
        {
         "metadata": "{}",
         "name": "Quantity",
         "type": "\"integer\""
        },
        {
         "metadata": "{}",
         "name": "Timestamp",
         "type": "\"timestamp\""
        }
       ],
       "type": "table"
      }
     },
     "output_type": "display_data"
    },
    {
     "output_type": "stream",
     "name": "stdout",
     "output_type": "stream",
     "text": [
      "Out[112]: 10000"
     ]
    }
   ],
   "source": [
    "df_sales = spark.read.option(\"header\", \"true\").option(\"inferSchema\", \"true\").csv(\"dbfs:/FileStore/online_retail/sales.csv\")\n",
    "display(df_sales.limit(10))\n",
    "df_sales.count()"
   ]
  },
  {
   "cell_type": "code",
   "execution_count": 0,
   "metadata": {
    "application/vnd.databricks.v1+cell": {
     "cellMetadata": {
      "byteLimit": 2048000,
      "rowLimit": 10000
     },
     "inputWidgets": {},
     "nuid": "f2524378-7ec4-4d44-8b42-c789d4002d99",
     "showTitle": false,
     "tableResultSettingsMap": {},
     "title": ""
    }
   },
   "outputs": [
    {
     "output_type": "display_data",
     "data": {
      "text/html": [
       "<style scoped>\n",
       "  .table-result-container {\n",
       "    max-height: 300px;\n",
       "    overflow: auto;\n",
       "  }\n",
       "  table, th, td {\n",
       "    border: 1px solid black;\n",
       "    border-collapse: collapse;\n",
       "  }\n",
       "  th, td {\n",
       "    padding: 5px;\n",
       "  }\n",
       "  th {\n",
       "    text-align: left;\n",
       "  }\n",
       "</style><div class='table-result-container'><table class='table-result'><thead style='background-color: white'><tr><th>SaleID</th><th>ProductID</th><th>CustomerID</th><th>SalesAmount</th><th>Quantity</th><th>Timestamp</th></tr></thead><tbody><tr><td>0</td><td>0</td><td>0</td><td>497</td><td>113</td><td>0</td></tr></tbody></table></div>"
      ]
     },
     "metadata": {
      "application/vnd.databricks.v1+output": {
       "addedWidgets": {},
       "aggData": [],
       "aggError": "",
       "aggOverflow": false,
       "aggSchema": [],
       "aggSeriesLimitReached": false,
       "aggType": "",
       "arguments": {},
       "columnCustomDisplayInfos": {},
       "data": [
        [
         0,
         0,
         0,
         497,
         113,
         0
        ]
       ],
       "datasetInfos": [],
       "dbfsResultPath": null,
       "isJsonSchema": true,
       "metadata": {},
       "overflow": false,
       "plotOptions": {
        "customPlotOptions": {},
        "displayType": "table",
        "pivotAggregation": null,
        "pivotColumns": null,
        "xColumns": null,
        "yColumns": null
       },
       "removedWidgets": [],
       "schema": [
        {
         "metadata": "{}",
         "name": "SaleID",
         "type": "\"long\""
        },
        {
         "metadata": "{}",
         "name": "ProductID",
         "type": "\"long\""
        },
        {
         "metadata": "{}",
         "name": "CustomerID",
         "type": "\"long\""
        },
        {
         "metadata": "{}",
         "name": "SalesAmount",
         "type": "\"long\""
        },
        {
         "metadata": "{}",
         "name": "Quantity",
         "type": "\"long\""
        },
        {
         "metadata": "{}",
         "name": "Timestamp",
         "type": "\"long\""
        }
       ],
       "type": "table"
      }
     },
     "output_type": "display_data"
    }
   ],
   "source": [
    "from pyspark.sql.functions import col, sum\n",
    "\n",
    "# Calculate the number of missing values for each column\n",
    "missing_values = df_sales.select([sum(col(c).isNull().cast(\"int\")).alias(c) for c in df_sales.columns])\n",
    "display(missing_values)"
   ]
  },
  {
   "cell_type": "code",
   "execution_count": 0,
   "metadata": {
    "application/vnd.databricks.v1+cell": {
     "cellMetadata": {
      "byteLimit": 2048000,
      "rowLimit": 10000
     },
     "inputWidgets": {},
     "nuid": "f02c0c43-aad8-4afe-b8b1-f416c38b05d1",
     "showTitle": false,
     "tableResultSettingsMap": {},
     "title": ""
    }
   },
   "outputs": [],
   "source": [
    "# Drop rows with missing values\n",
    "df_sales_clean = df_sales.dropna()"
   ]
  },
  {
   "cell_type": "code",
   "execution_count": 0,
   "metadata": {
    "application/vnd.databricks.v1+cell": {
     "cellMetadata": {
      "byteLimit": 2048000,
      "rowLimit": 10000
     },
     "inputWidgets": {},
     "nuid": "413891fe-1d0a-4aee-a462-d8df8919b577",
     "showTitle": false,
     "tableResultSettingsMap": {},
     "title": ""
    }
   },
   "outputs": [
    {
     "output_type": "stream",
     "name": "stdout",
     "output_type": "stream",
     "text": [
      "Out[146]: 77"
     ]
    }
   ],
   "source": [
    "from pyspark.sql.functions import col, mean, stddev\n",
    "\n",
    "# Calculate mean and standard deviation for the salesamount column\n",
    "stats = df_sales_clean.select(mean(col(\"salesamount\")).alias(\"mean\"), stddev(col(\"salesamount\")).alias(\"stddev\")).collect()[0]\n",
    "mean_sales = stats[\"mean\"]\n",
    "stddev_sales = stats[\"stddev\"]\n",
    "\n",
    "# Define the threshold for outliers (e.g., 3 standard deviations from the mean)\n",
    "lower_bound = 0\n",
    "upper_bound = mean_sales + 3 * stddev_sales\n",
    "\n",
    "# Filter out the outliers\n",
    "outliers = df_sales_clean.filter((col(\"salesamount\") < lower_bound) | (col(\"salesamount\") > upper_bound))\n",
    "outliers.count()"
   ]
  },
  {
   "cell_type": "code",
   "execution_count": 0,
   "metadata": {
    "application/vnd.databricks.v1+cell": {
     "cellMetadata": {
      "byteLimit": 2048000,
      "rowLimit": 10000
     },
     "inputWidgets": {},
     "nuid": "09368a07-dbe5-4396-bd1a-e9557c7f8b7d",
     "showTitle": false,
     "tableResultSettingsMap": {},
     "title": ""
    }
   },
   "outputs": [
    {
     "output_type": "display_data",
     "data": {
      "text/html": [
       "<style scoped>\n",
       "  .table-result-container {\n",
       "    max-height: 300px;\n",
       "    overflow: auto;\n",
       "  }\n",
       "  table, th, td {\n",
       "    border: 1px solid black;\n",
       "    border-collapse: collapse;\n",
       "  }\n",
       "  th, td {\n",
       "    padding: 5px;\n",
       "  }\n",
       "  th {\n",
       "    text-align: left;\n",
       "  }\n",
       "</style><div class='table-result-container'><table class='table-result'><thead style='background-color: white'><tr><th>SaleID</th><th>ProductID</th><th>CustomerID</th><th>SalesAmount</th><th>Quantity</th><th>Timestamp</th></tr></thead><tbody><tr><td>c0078cd1-3ddc-439a-b41d-7498e8e75e62</td><td>1020</td><td>C0460</td><td>1639.1</td><td>18</td><td>2024-08-09T20:21:00.000+0000</td></tr><tr><td>be8532af-16b7-432c-a13d-4c6e6836d12d</td><td>1029</td><td>C0198</td><td>186.11</td><td>42</td><td>2024-11-28T05:01:00.000+0000</td></tr><tr><td>8666f277-cc58-4fde-9d58-697da9e040f2</td><td>1012</td><td>C0524</td><td>1712.72</td><td>49</td><td>2024-10-13T00:36:00.000+0000</td></tr><tr><td>d9a7f974-9572-48dd-aa36-3f96b280dfc7</td><td>1021</td><td>C0369</td><td>66.36</td><td>21</td><td>2024-06-08T19:58:00.000+0000</td></tr><tr><td>d71733ac-4fc4-42e6-ae48-c2150c8a92ae</td><td>1016</td><td>C0709</td><td>1705.51</td><td>31</td><td>2024-11-15T12:24:00.000+0000</td></tr><tr><td>b7475afb-27f7-46fe-8bcd-c099c178d17f</td><td>1047</td><td>C0929</td><td>1509.94</td><td>3</td><td>2024-08-28T05:43:00.000+0000</td></tr><tr><td>427c33bb-dff7-4332-8d29-954728c713b1</td><td>1020</td><td>C0983</td><td>1070.59</td><td>31</td><td>2024-10-22T15:17:00.000+0000</td></tr><tr><td>812ad61f-2e80-4b95-ae02-a91976bd2baa</td><td>1006</td><td>C0536</td><td>1097.0</td><td>2</td><td>2024-06-20T09:59:00.000+0000</td></tr><tr><td>a18dadb3-b2e6-476e-b2fb-b4a477721bf0</td><td>1005</td><td>C0164</td><td>683.83</td><td>38</td><td>2024-11-15T09:33:00.000+0000</td></tr><tr><td>fb7031b8-6ea9-48f1-9a00-9bc178359f8d</td><td>1017</td><td>C0955</td><td>1187.22</td><td>26</td><td>2024-07-07T00:55:00.000+0000</td></tr></tbody></table></div>"
      ]
     },
     "metadata": {
      "application/vnd.databricks.v1+output": {
       "addedWidgets": {},
       "aggData": [],
       "aggError": "",
       "aggOverflow": false,
       "aggSchema": [],
       "aggSeriesLimitReached": false,
       "aggType": "",
       "arguments": {},
       "columnCustomDisplayInfos": {},
       "data": [
        [
         "c0078cd1-3ddc-439a-b41d-7498e8e75e62",
         1020,
         "C0460",
         1639.1,
         18,
         "2024-08-09T20:21:00.000+0000"
        ],
        [
         "be8532af-16b7-432c-a13d-4c6e6836d12d",
         1029,
         "C0198",
         186.11,
         42,
         "2024-11-28T05:01:00.000+0000"
        ],
        [
         "8666f277-cc58-4fde-9d58-697da9e040f2",
         1012,
         "C0524",
         1712.72,
         49,
         "2024-10-13T00:36:00.000+0000"
        ],
        [
         "d9a7f974-9572-48dd-aa36-3f96b280dfc7",
         1021,
         "C0369",
         66.36,
         21,
         "2024-06-08T19:58:00.000+0000"
        ],
        [
         "d71733ac-4fc4-42e6-ae48-c2150c8a92ae",
         1016,
         "C0709",
         1705.51,
         31,
         "2024-11-15T12:24:00.000+0000"
        ],
        [
         "b7475afb-27f7-46fe-8bcd-c099c178d17f",
         1047,
         "C0929",
         1509.94,
         3,
         "2024-08-28T05:43:00.000+0000"
        ],
        [
         "427c33bb-dff7-4332-8d29-954728c713b1",
         1020,
         "C0983",
         1070.59,
         31,
         "2024-10-22T15:17:00.000+0000"
        ],
        [
         "812ad61f-2e80-4b95-ae02-a91976bd2baa",
         1006,
         "C0536",
         1097.0,
         2,
         "2024-06-20T09:59:00.000+0000"
        ],
        [
         "a18dadb3-b2e6-476e-b2fb-b4a477721bf0",
         1005,
         "C0164",
         683.83,
         38,
         "2024-11-15T09:33:00.000+0000"
        ],
        [
         "fb7031b8-6ea9-48f1-9a00-9bc178359f8d",
         1017,
         "C0955",
         1187.22,
         26,
         "2024-07-07T00:55:00.000+0000"
        ]
       ],
       "datasetInfos": [],
       "dbfsResultPath": null,
       "isJsonSchema": true,
       "metadata": {},
       "overflow": false,
       "plotOptions": {
        "customPlotOptions": {},
        "displayType": "table",
        "pivotAggregation": null,
        "pivotColumns": null,
        "xColumns": null,
        "yColumns": null
       },
       "removedWidgets": [],
       "schema": [
        {
         "metadata": "{}",
         "name": "SaleID",
         "type": "\"string\""
        },
        {
         "metadata": "{}",
         "name": "ProductID",
         "type": "\"integer\""
        },
        {
         "metadata": "{}",
         "name": "CustomerID",
         "type": "\"string\""
        },
        {
         "metadata": "{}",
         "name": "SalesAmount",
         "type": "\"double\""
        },
        {
         "metadata": "{}",
         "name": "Quantity",
         "type": "\"integer\""
        },
        {
         "metadata": "{}",
         "name": "Timestamp",
         "type": "\"timestamp\""
        }
       ],
       "type": "table"
      }
     },
     "output_type": "display_data"
    }
   ],
   "source": [
    "# Drop the rows with outliers\n",
    "df_sales_no_outliers = df_sales_clean.filter((col(\"salesamount\") >= lower_bound) | (col(\"salesamount\") <= upper_bound))\n",
    "display(df_sales_no_outliers.limit(10))"
   ]
  },
  {
   "cell_type": "code",
   "execution_count": 0,
   "metadata": {
    "application/vnd.databricks.v1+cell": {
     "cellMetadata": {
      "byteLimit": 2048000,
      "rowLimit": 10000
     },
     "inputWidgets": {},
     "nuid": "8be88ed8-7261-47af-9e8a-dd4d6892a704",
     "showTitle": false,
     "tableResultSettingsMap": {},
     "title": ""
    }
   },
   "outputs": [],
   "source": [
    "df_sales_no_outliers.write.format(\"delta\").mode(\"overwrite\").save(\"dbfs:/FileStore/online_retail/cleaned/orders.parquet\")"
   ]
  },
  {
   "cell_type": "markdown",
   "metadata": {
    "application/vnd.databricks.v1+cell": {
     "cellMetadata": {},
     "inputWidgets": {},
     "nuid": "d6d51cb0-5656-40a7-86b5-d15204520a79",
     "showTitle": false,
     "tableResultSettingsMap": {},
     "title": ""
    }
   },
   "source": [
    "## Explore the clean Data"
   ]
  },
  {
   "cell_type": "code",
   "execution_count": 0,
   "metadata": {
    "application/vnd.databricks.v1+cell": {
     "cellMetadata": {
      "byteLimit": 2048000,
      "rowLimit": 10000
     },
     "inputWidgets": {},
     "nuid": "df82d4fc-8c44-4957-853d-a0cfdae07dc2",
     "showTitle": false,
     "tableResultSettingsMap": {},
     "title": ""
    }
   },
   "outputs": [],
   "source": [
    "df_sales = spark.read.format(\"delta\").load(\"dbfs:/FileStore/online_retail/cleaned/orders.parquet\")\n",
    "df_products = spark.read.format(\"delta\").load(\"dbfs:/FileStore/online_retail/cleaned/products.parquet\")\n",
    "df_customers = spark.read.format(\"delta\").load(\"dbfs:/FileStore/online_retail/cleaned/customers.parquet\")"
   ]
  },
  {
   "cell_type": "code",
   "execution_count": 0,
   "metadata": {
    "application/vnd.databricks.v1+cell": {
     "cellMetadata": {
      "byteLimit": 2048000,
      "rowLimit": 10000
     },
     "inputWidgets": {},
     "nuid": "d75c5046-357c-443a-9c80-77e95534d946",
     "showTitle": false,
     "tableResultSettingsMap": {},
     "title": ""
    }
   },
   "outputs": [
    {
     "output_type": "stream",
     "name": "stdout",
     "output_type": "stream",
     "text": [
      "root\n |-- SaleID: string (nullable = true)\n |-- ProductID: integer (nullable = true)\n |-- CustomerID: string (nullable = true)\n |-- SalesAmount: double (nullable = true)\n |-- Quantity: integer (nullable = true)\n |-- Timestamp: timestamp (nullable = true)\n\n"
     ]
    }
   ],
   "source": [
    "df_sales.printSchema()"
   ]
  },
  {
   "cell_type": "code",
   "execution_count": 0,
   "metadata": {
    "application/vnd.databricks.v1+cell": {
     "cellMetadata": {
      "byteLimit": 2048000,
      "rowLimit": 10000
     },
     "inputWidgets": {},
     "nuid": "88f60653-f585-4cb5-b639-b1e1b5cc060f",
     "showTitle": false,
     "tableResultSettingsMap": {},
     "title": ""
    }
   },
   "outputs": [
    {
     "output_type": "stream",
     "name": "stdout",
     "output_type": "stream",
     "text": [
      "root\n |-- ProductID: integer (nullable = true)\n |-- ProductName: string (nullable = true)\n |-- Category: string (nullable = true)\n\n"
     ]
    }
   ],
   "source": [
    "df_products.printSchema()"
   ]
  },
  {
   "cell_type": "code",
   "execution_count": 0,
   "metadata": {
    "application/vnd.databricks.v1+cell": {
     "cellMetadata": {
      "byteLimit": 2048000,
      "rowLimit": 10000
     },
     "inputWidgets": {},
     "nuid": "63919b09-01c6-45d4-bca8-a5dcc7f71ebc",
     "showTitle": false,
     "tableResultSettingsMap": {},
     "title": ""
    }
   },
   "outputs": [
    {
     "output_type": "display_data",
     "data": {
      "text/html": [
       "<style scoped>\n",
       "  .table-result-container {\n",
       "    max-height: 300px;\n",
       "    overflow: auto;\n",
       "  }\n",
       "  table, th, td {\n",
       "    border: 1px solid black;\n",
       "    border-collapse: collapse;\n",
       "  }\n",
       "  th, td {\n",
       "    padding: 5px;\n",
       "  }\n",
       "  th {\n",
       "    text-align: left;\n",
       "  }\n",
       "</style><div class='table-result-container'><table class='table-result'><thead style='background-color: white'><tr><th>Category</th><th>total_sales</th></tr></thead><tbody><tr><td>Electronics</td><td>4999215.0699999975</td></tr><tr><td>Home Appliances</td><td>1210204.0099999998</td></tr><tr><td>Furniture</td><td>1476647.5200000014</td></tr><tr><td>Toys</td><td>5821228.920000006</td></tr></tbody></table></div>"
      ]
     },
     "metadata": {
      "application/vnd.databricks.v1+output": {
       "addedWidgets": {},
       "aggData": [],
       "aggError": "",
       "aggOverflow": false,
       "aggSchema": [],
       "aggSeriesLimitReached": false,
       "aggType": "",
       "arguments": {},
       "columnCustomDisplayInfos": {},
       "data": [
        [
         "Electronics",
         4999215.0699999975
        ],
        [
         "Home Appliances",
         1210204.0099999998
        ],
        [
         "Furniture",
         1476647.5200000014
        ],
        [
         "Toys",
         5821228.920000006
        ]
       ],
       "datasetInfos": [],
       "dbfsResultPath": null,
       "isJsonSchema": true,
       "metadata": {},
       "overflow": false,
       "plotOptions": {
        "customPlotOptions": {},
        "displayType": "table",
        "pivotAggregation": null,
        "pivotColumns": null,
        "xColumns": null,
        "yColumns": null
       },
       "removedWidgets": [],
       "schema": [
        {
         "metadata": "{}",
         "name": "Category",
         "type": "\"string\""
        },
        {
         "metadata": "{}",
         "name": "total_sales",
         "type": "\"double\""
        }
       ],
       "type": "table"
      }
     },
     "output_type": "display_data"
    },
    {
     "output_type": "display_data",
     "data": {
      "text/plain": [
       "Databricks visualization. Run in Databricks to view."
      ]
     },
     "metadata": {
      "application/vnd.databricks.v1.subcommand+json": {
       "baseErrorDetails": null,
       "bindings": {},
       "collapsed": false,
       "command": "%python\n__backend_agg_display_orig = display\n__backend_agg_dfs = []\ndef __backend_agg_display_new(df):\n    __backend_agg_df_modules = [\"pandas.core.frame\", \"databricks.koalas.frame\", \"pyspark.sql.dataframe\", \"pyspark.pandas.frame\", \"pyspark.sql.connect.dataframe\"]\n    if (type(df).__module__ in __backend_agg_df_modules and type(df).__name__ == 'DataFrame') or isinstance(df, list):\n        __backend_agg_dfs.append(df)\n\ndisplay = __backend_agg_display_new\n\ndef __backend_agg_user_code_fn():\n    import base64\n    exec(base64.standard_b64decode(\"ZGZfc2FsZXNfcHJvZHVjdHMgPSBkZl9zYWxlcy5qb2luKGRmX3Byb2R1Y3RzLCBkZl9zYWxlcy5Qcm9kdWN0SUQgPT0gZGZfcHJvZHVjdHMuUHJvZHVjdElELCAiaW5uZXIiKQpkZl9jYXRlZ29yeV9zYWxlcyA9IGRmX3NhbGVzX3Byb2R1Y3RzLmdyb3VwQnkoIkNhdGVnb3J5IikuYWdnKHsiU2FsZXNBbW91bnQiOiAic3VtIn0pLndpdGhDb2x1bW5SZW5hbWVkKCJzdW0oU2FsZXNBbW91bnQpIiwgInRvdGFsX3NhbGVzIikKZGlzcGxheShkZl9jYXRlZ29yeV9zYWxlcyk=\").decode())\n\ntry:\n    # run user code\n    __backend_agg_user_code_fn()\n\n    #reset display function\n    display = __backend_agg_display_orig\n\n    if len(__backend_agg_dfs) > 0:\n        # create a temp view\n        if type(__backend_agg_dfs[0]).__module__ == \"databricks.koalas.frame\":\n            # koalas dataframe\n            __backend_agg_dfs[0].to_spark().createOrReplaceTempView(\"DatabricksViewd769844\")\n        elif type(__backend_agg_dfs[0]).__module__ == \"pandas.core.frame\" or isinstance(__backend_agg_dfs[0], list):\n            # pandas dataframe\n            spark.createDataFrame(__backend_agg_dfs[0]).createOrReplaceTempView(\"DatabricksViewd769844\")\n        else:\n            __backend_agg_dfs[0].createOrReplaceTempView(\"DatabricksViewd769844\")\n        #run backend agg\n        display(spark.sql(\"\"\"WITH q AS (select * from DatabricksViewd769844) SELECT `Category`,SUM(`total_sales`) `column_7380009e102` FROM q GROUP BY `Category`\"\"\"))\n    else:\n        displayHTML(\"dataframe no longer exists. If you're using dataframe.display(), use display(dataframe) instead.\")\n\n\nfinally:\n    spark.sql(\"drop view if exists DatabricksViewd769844\")\n    display = __backend_agg_display_orig\n    del __backend_agg_display_new\n    del __backend_agg_display_orig\n    del __backend_agg_dfs\n    del __backend_agg_user_code_fn\n\n",
       "commandTitle": "Visualization 1",
       "commandType": "auto",
       "commandVersion": 0,
       "commentThread": [],
       "commentsVisible": false,
       "contentSha256Hex": null,
       "customPlotOptions": {
        "redashChart": [
         {
          "key": "type",
          "value": "CHART"
         },
         {
          "key": "options",
          "value": {
           "alignYAxesAtZero": true,
           "coefficient": 1,
           "columnConfigurationMap": {
            "x": {
             "column": "Category",
             "id": "column_7380009e101"
            },
            "y": [
             {
              "column": "total_sales",
              "id": "column_7380009e102",
              "transform": "SUM"
             }
            ]
           },
           "dateTimeFormat": "DD/MM/YYYY HH:mm",
           "direction": {
            "type": "counterclockwise"
           },
           "error_y": {
            "type": "data",
            "visible": true
           },
           "globalSeriesType": "pie",
           "legend": {
            "traceorder": "normal"
           },
           "missingValuesAsZero": true,
           "numberFormat": "0,0.[00000]",
           "percentFormat": "0[.]00%",
           "series": {
            "error_y": {
             "type": "data",
             "visible": true
            },
            "stacking": null
           },
           "seriesOptions": {
            "column_7380009e102": {
             "name": "total_sales",
             "type": "pie",
             "yAxis": 0
            }
           },
           "showDataLabels": true,
           "sizemode": "diameter",
           "sortX": true,
           "sortY": true,
           "swappedAxes": false,
           "textFormat": "",
           "useAggregationsUi": true,
           "valuesOptions": {},
           "version": 2,
           "xAxis": {
            "labels": {
             "enabled": true
            },
            "type": "-"
           },
           "yAxis": [
            {
             "type": "-"
            },
            {
             "opposite": true,
             "type": "-"
            }
           ]
          }
         }
        ]
       },
       "datasetPreviewNameToCmdIdMap": {},
       "diffDeletes": [],
       "diffInserts": [],
       "displayType": "redashChart",
       "error": null,
       "errorDetails": null,
       "errorSummary": null,
       "errorTraceType": null,
       "finishTime": 0,
       "globalVars": {},
       "guid": "",
       "height": "auto",
       "hideCommandCode": false,
       "hideCommandResult": false,
       "iPythonMetadata": null,
       "inputWidgets": {},
       "isLockedInExamMode": false,
       "latestUser": "a user",
       "latestUserId": null,
       "listResultMetadata": null,
       "metadata": {},
       "nuid": "ac45b93b-ffca-499a-a777-6ad0242a3438",
       "origId": 0,
       "parentHierarchy": [],
       "pivotAggregation": null,
       "pivotColumns": null,
       "position": 112.96875,
       "resultDbfsErrorMessage": null,
       "resultDbfsStatus": "INLINED_IN_TREE",
       "results": null,
       "showCommandTitle": false,
       "startTime": 0,
       "state": "input",
       "streamStates": {},
       "subcommandOptions": {
        "queryPlan": {
         "groups": [
          {
           "column": "Category",
           "type": "column"
          }
         ],
         "selects": [
          {
           "column": "Category",
           "type": "column"
          },
          {
           "alias": "column_7380009e102",
           "args": [
            {
             "column": "total_sales",
             "type": "column"
            }
           ],
           "function": "SUM",
           "type": "function"
          }
         ]
        }
       },
       "submitTime": 0,
       "subtype": "tableResultSubCmd.visualization",
       "tableResultIndex": 0,
       "tableResultSettingsMap": {},
       "useConsistentColors": false,
       "version": "CommandV1",
       "width": "auto",
       "workflows": [],
       "xColumns": null,
       "yColumns": null
      }
     },
     "output_type": "display_data"
    }
   ],
   "source": [
    "df_sales_products = df_sales.join(df_products, df_sales.ProductID == df_products.ProductID, \"inner\")\n",
    "df_category_sales = df_sales_products.groupBy(\"Category\").agg({\"SalesAmount\": \"sum\"}).withColumnRenamed(\"sum(SalesAmount)\", \"total_sales\")\n",
    "display(df_category_sales)"
   ]
  },
  {
   "cell_type": "code",
   "execution_count": 0,
   "metadata": {
    "application/vnd.databricks.v1+cell": {
     "cellMetadata": {
      "byteLimit": 2048000,
      "rowLimit": 10000
     },
     "inputWidgets": {},
     "nuid": "ad4698c7-310d-44fa-bd68-063b8c2b58d6",
     "showTitle": false,
     "tableResultSettingsMap": {},
     "title": ""
    }
   },
   "outputs": [
    {
     "output_type": "display_data",
     "data": {
      "image/png": "[encoded data removed]"
     },
     "metadata": {
      "application/vnd.databricks.v1+output": {
       "addedWidgets": {},
       "arguments": {},
       "data": "data:image/png;base64,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\n",
       "datasetInfos": [],
       "metadata": {},
       "removedWidgets": [],
       "type": "image"
      }
     },
     "output_type": "display_data"
    }
   ],
   "source": [
    "import matplotlib.pyplot as plt\n",
    "\n",
    "# Convert Spark DataFrame to Pandas DataFrame for visualization\n",
    "pdf_category_sales = df_category_sales.toPandas()\n",
    "\n",
    "# Plotting the data\n",
    "plt.figure(figsize=(10, 6))\n",
    "plt.barh(pdf_category_sales['Category'], pdf_category_sales['total_sales'], color='skyblue')\n",
    "plt.xlabel('Total Sales')\n",
    "plt.ylabel('Category')\n",
    "plt.title('Total Sales by Category')\n",
    "plt.xticks(rotation=45)\n",
    "plt.tight_layout()\n",
    "\n",
    "# Display the plot\n",
    "plt.show()"
   ]
  },
  {
   "cell_type": "markdown",
   "metadata": {
    "application/vnd.databricks.v1+cell": {
     "cellMetadata": {},
     "inputWidgets": {},
     "nuid": "618c5a27-5363-4326-99b7-a33c9eda77ea",
     "showTitle": false,
     "tableResultSettingsMap": {},
     "title": ""
    }
   },
   "source": [
    "### Category wise monthly sales"
   ]
  },
  {
   "cell_type": "code",
   "execution_count": 0,
   "metadata": {
    "application/vnd.databricks.v1+cell": {
     "cellMetadata": {
      "byteLimit": 2048000,
      "rowLimit": 10000
     },
     "inputWidgets": {},
     "nuid": "54b5709d-fe27-4c8d-a166-007c6397fb99",
     "showTitle": false,
     "tableResultSettingsMap": {},
     "title": ""
    }
   },
   "outputs": [
    {
     "output_type": "display_data",
     "data": {
      "text/html": [
       "<style scoped>\n",
       "  .table-result-container {\n",
       "    max-height: 300px;\n",
       "    overflow: auto;\n",
       "  }\n",
       "  table, th, td {\n",
       "    border: 1px solid black;\n",
       "    border-collapse: collapse;\n",
       "  }\n",
       "  th, td {\n",
       "    padding: 5px;\n",
       "  }\n",
       "  th {\n",
       "    text-align: left;\n",
       "  }\n",
       "</style><div class='table-result-container'><table class='table-result'><thead style='background-color: white'><tr><th>Category</th><th>Month</th><th>total_sales</th></tr></thead><tbody><tr><td>Electronics</td><td>6</td><td>758804.83</td></tr><tr><td>Electronics</td><td>7</td><td>722390.56</td></tr><tr><td>Electronics</td><td>8</td><td>971615.99</td></tr><tr><td>Electronics</td><td>9</td><td>1025216.52</td></tr><tr><td>Electronics</td><td>10</td><td>818045.85</td></tr><tr><td>Electronics</td><td>11</td><td>703141.32</td></tr><tr><td>Furniture</td><td>6</td><td>297048.38</td></tr><tr><td>Furniture</td><td>7</td><td>219800.62</td></tr><tr><td>Furniture</td><td>8</td><td>378544.9</td></tr><tr><td>Furniture</td><td>9</td><td>151967.23</td></tr><tr><td>Furniture</td><td>10</td><td>176924.91</td></tr><tr><td>Furniture</td><td>11</td><td>252361.48</td></tr><tr><td>Home Appliances</td><td>6</td><td>152369.11</td></tr><tr><td>Home Appliances</td><td>7</td><td>163017.54</td></tr><tr><td>Home Appliances</td><td>8</td><td>179244.99</td></tr><tr><td>Home Appliances</td><td>9</td><td>151130.2</td></tr><tr><td>Home Appliances</td><td>10</td><td>286792.74</td></tr><tr><td>Home Appliances</td><td>11</td><td>277649.43</td></tr><tr><td>Toys</td><td>6</td><td>824687.82</td></tr><tr><td>Toys</td><td>7</td><td>1092349.14</td></tr><tr><td>Toys</td><td>8</td><td>1138832.24</td></tr><tr><td>Toys</td><td>9</td><td>755595.44</td></tr><tr><td>Toys</td><td>10</td><td>997228.69</td></tr><tr><td>Toys</td><td>11</td><td>1012535.59</td></tr></tbody></table></div>"
      ]
     },
     "metadata": {
      "application/vnd.databricks.v1+output": {
       "addedWidgets": {},
       "aggData": [],
       "aggError": "",
       "aggOverflow": false,
       "aggSchema": [],
       "aggSeriesLimitReached": false,
       "aggType": "",
       "arguments": {},
       "columnCustomDisplayInfos": {},
       "data": [
        [
         "Electronics",
         6,
         758804.83
        ],
        [
         "Electronics",
         7,
         722390.56
        ],
        [
         "Electronics",
         8,
         971615.99
        ],
        [
         "Electronics",
         9,
         1025216.52
        ],
        [
         "Electronics",
         10,
         818045.85
        ],
        [
         "Electronics",
         11,
         703141.32
        ],
        [
         "Furniture",
         6,
         297048.38
        ],
        [
         "Furniture",
         7,
         219800.62
        ],
        [
         "Furniture",
         8,
         378544.9
        ],
        [
         "Furniture",
         9,
         151967.23
        ],
        [
         "Furniture",
         10,
         176924.91
        ],
        [
         "Furniture",
         11,
         252361.48
        ],
        [
         "Home Appliances",
         6,
         152369.11
        ],
        [
         "Home Appliances",
         7,
         163017.54
        ],
        [
         "Home Appliances",
         8,
         179244.99
        ],
        [
         "Home Appliances",
         9,
         151130.2
        ],
        [
         "Home Appliances",
         10,
         286792.74
        ],
        [
         "Home Appliances",
         11,
         277649.43
        ],
        [
         "Toys",
         6,
         824687.82
        ],
        [
         "Toys",
         7,
         1092349.14
        ],
        [
         "Toys",
         8,
         1138832.24
        ],
        [
         "Toys",
         9,
         755595.44
        ],
        [
         "Toys",
         10,
         997228.69
        ],
        [
         "Toys",
         11,
         1012535.59
        ]
       ],
       "datasetInfos": [],
       "dbfsResultPath": null,
       "isJsonSchema": true,
       "metadata": {},
       "overflow": false,
       "plotOptions": {
        "customPlotOptions": {},
        "displayType": "table",
        "pivotAggregation": null,
        "pivotColumns": null,
        "xColumns": null,
        "yColumns": null
       },
       "removedWidgets": [],
       "schema": [
        {
         "metadata": "{}",
         "name": "Category",
         "type": "\"string\""
        },
        {
         "metadata": "{}",
         "name": "Month",
         "type": "\"integer\""
        },
        {
         "metadata": "{}",
         "name": "total_sales",
         "type": "\"double\""
        }
       ],
       "type": "table"
      }
     },
     "output_type": "display_data"
    }
   ],
   "source": [
    "from pyspark.sql.functions import month, round\n",
    "\n",
    "df_sales_products = df_sales.join(df_products, df_sales.ProductID == df_products.ProductID, \"inner\")\n",
    "df_sales_products = df_sales_products.withColumn(\"Month\", month(df_sales_products.Timestamp))\n",
    "df_monthly_category_sales = df_sales_products.groupBy(\"Category\", \"Month\").agg({\"SalesAmount\": \"sum\"}).withColumnRenamed(\"sum(SalesAmount)\", \"total_sales\").withColumn(\"total_sales\", round(\"total_sales\", 2))\n",
    "display(df_monthly_category_sales.sort(\"Category\", \"Month\"))"
   ]
  },
  {
   "cell_type": "code",
   "execution_count": 0,
   "metadata": {
    "application/vnd.databricks.v1+cell": {
     "cellMetadata": {
      "byteLimit": 2048000,
      "rowLimit": 10000
     },
     "inputWidgets": {},
     "nuid": "dae65973-cf28-446e-9c72-0e9e136a546e",
     "showTitle": false,
     "tableResultSettingsMap": {},
     "title": ""
    }
   },
   "outputs": [
    {
     "output_type": "stream",
     "name": "stdout",
     "output_type": "stream",
     "text": [
      "root\n |-- customerid: string (nullable = true)\n |-- CustomerName: string (nullable = true)\n |-- gender: string (nullable = true)\n |-- ssn: string (nullable = true)\n |-- region: string (nullable = true)\n\n"
     ]
    }
   ],
   "source": [
    "df_customers.printSchema()"
   ]
  },
  {
   "cell_type": "code",
   "execution_count": 0,
   "metadata": {
    "application/vnd.databricks.v1+cell": {
     "cellMetadata": {
      "byteLimit": 2048000,
      "rowLimit": 10000
     },
     "inputWidgets": {},
     "nuid": "97a39045-8354-4592-8f62-21d249d6b5e2",
     "showTitle": false,
     "tableResultSettingsMap": {},
     "title": ""
    }
   },
   "outputs": [
    {
     "output_type": "stream",
     "name": "stdout",
     "output_type": "stream",
     "text": [
      "root\n |-- SaleID: string (nullable = true)\n |-- ProductID: integer (nullable = true)\n |-- CustomerID: string (nullable = true)\n |-- SalesAmount: double (nullable = true)\n |-- Quantity: integer (nullable = true)\n |-- Timestamp: timestamp (nullable = true)\n\n"
     ]
    }
   ],
   "source": [
    "df_sales.printSchema()"
   ]
  },
  {
   "cell_type": "code",
   "execution_count": 0,
   "metadata": {
    "application/vnd.databricks.v1+cell": {
     "cellMetadata": {
      "byteLimit": 2048000,
      "rowLimit": 10000
     },
     "inputWidgets": {},
     "nuid": "f35e922e-3778-424d-9164-7416cbd79d7b",
     "showTitle": false,
     "tableResultSettingsMap": {},
     "title": ""
    }
   },
   "outputs": [],
   "source": [
    "from pyspark.sql.functions import *"
   ]
  },
  {
   "cell_type": "markdown",
   "metadata": {
    "application/vnd.databricks.v1+cell": {
     "cellMetadata": {},
     "inputWidgets": {},
     "nuid": "1c450378-1a98-42a0-bed2-86561032d604",
     "showTitle": false,
     "tableResultSettingsMap": {},
     "title": ""
    }
   },
   "source": [
    "### Region wise Total Sales"
   ]
  },
  {
   "cell_type": "code",
   "execution_count": 0,
   "metadata": {
    "application/vnd.databricks.v1+cell": {
     "cellMetadata": {
      "byteLimit": 2048000,
      "rowLimit": 10000
     },
     "inputWidgets": {},
     "nuid": "9b017411-4ef2-4279-a1d4-80b4ee2c62de",
     "showTitle": false,
     "tableResultSettingsMap": {},
     "title": ""
    }
   },
   "outputs": [
    {
     "output_type": "display_data",
     "data": {
      "text/html": [
       "<style scoped>\n",
       "  .table-result-container {\n",
       "    max-height: 300px;\n",
       "    overflow: auto;\n",
       "  }\n",
       "  table, th, td {\n",
       "    border: 1px solid black;\n",
       "    border-collapse: collapse;\n",
       "  }\n",
       "  th, td {\n",
       "    padding: 5px;\n",
       "  }\n",
       "  th {\n",
       "    text-align: left;\n",
       "  }\n",
       "</style><div class='table-result-container'><table class='table-result'><thead style='background-color: white'><tr><th>region</th><th>TotalSalesAmount</th><th>TotalQuantity</th><th>TotalTransactions</th></tr></thead><tbody><tr><td>New York</td><td>5186468.49</td><td>89585</td><td>3574</td></tr><tr><td>Texas</td><td>2633863.36</td><td>44289</td><td>1759</td></tr><tr><td>Ohio</td><td>2389636.35</td><td>42325</td><td>1684</td></tr><tr><td>California</td><td>2383982.57</td><td>45413</td><td>1770</td></tr><tr><td>Unknown</td><td>913344.75</td><td>15474</td><td>610</td></tr></tbody></table></div>"
      ]
     },
     "metadata": {
      "application/vnd.databricks.v1+output": {
       "addedWidgets": {},
       "aggData": [],
       "aggError": "",
       "aggOverflow": false,
       "aggSchema": [],
       "aggSeriesLimitReached": false,
       "aggType": "",
       "arguments": {},
       "columnCustomDisplayInfos": {},
       "data": [
        [
         "New York",
         5186468.49,
         89585,
         3574
        ],
        [
         "Texas",
         2633863.36,
         44289,
         1759
        ],
        [
         "Ohio",
         2389636.35,
         42325,
         1684
        ],
        [
         "California",
         2383982.57,
         45413,
         1770
        ],
        [
         "Unknown",
         913344.75,
         15474,
         610
        ]
       ],
       "datasetInfos": [],
       "dbfsResultPath": null,
       "isJsonSchema": true,
       "metadata": {},
       "overflow": false,
       "plotOptions": {
        "customPlotOptions": {},
        "displayType": "table",
        "pivotAggregation": null,
        "pivotColumns": null,
        "xColumns": null,
        "yColumns": null
       },
       "removedWidgets": [],
       "schema": [
        {
         "metadata": "{}",
         "name": "region",
         "type": "\"string\""
        },
        {
         "metadata": "{}",
         "name": "TotalSalesAmount",
         "type": "\"double\""
        },
        {
         "metadata": "{}",
         "name": "TotalQuantity",
         "type": "\"long\""
        },
        {
         "metadata": "{}",
         "name": "TotalTransactions",
         "type": "\"long\""
        }
       ],
       "type": "table"
      }
     },
     "output_type": "display_data"
    },
    {
     "output_type": "display_data",
     "data": {
      "text/plain": [
       "Databricks visualization. Run in Databricks to view."
      ]
     },
     "metadata": {
      "application/vnd.databricks.v1.subcommand+json": {
       "baseErrorDetails": null,
       "bindings": {},
       "collapsed": false,
       "command": "%python\n__backend_agg_display_orig = display\n__backend_agg_dfs = []\ndef __backend_agg_display_new(df):\n    __backend_agg_df_modules = [\"pandas.core.frame\", \"databricks.koalas.frame\", \"pyspark.sql.dataframe\", \"pyspark.pandas.frame\", \"pyspark.sql.connect.dataframe\"]\n    if (type(df).__module__ in __backend_agg_df_modules and type(df).__name__ == 'DataFrame') or isinstance(df, list):\n        __backend_agg_dfs.append(df)\n\ndisplay = __backend_agg_display_new\n\ndef __backend_agg_user_code_fn():\n    import base64\n    exec(base64.standard_b64decode(\"IyBTYWxlcyBieSBSZWdpb24Kc2FsZXNfYnlfcmVnaW9uID0gZGZfc2FsZXMuam9pbihkZl9jdXN0b21lcnMsIGRmX3NhbGVzLkN1c3RvbWVySUQgPT0gZGZfY3VzdG9tZXJzLmN1c3RvbWVyaWQpIFwKICAgIC5ncm91cEJ5KCJyZWdpb24iKS5hZ2coCiAgICAgICAgcm91bmQoc3VtKCJTYWxlc0Ftb3VudCIpLDIpLmFsaWFzKCJUb3RhbFNhbGVzQW1vdW50IiksCiAgICAgICAgc3VtKCJRdWFudGl0eSIpLmFsaWFzKCJUb3RhbFF1YW50aXR5IiksCiAgICAgICAgY291bnQoIlNhbGVJRCIpLmFsaWFzKCJUb3RhbFRyYW5zYWN0aW9ucyIpCiAgICApLm9yZGVyQnkoIlRvdGFsU2FsZXNBbW91bnQiLCBhc2NlbmRpbmc9RmFsc2UpCiAgICAKZGlzcGxheShzYWxlc19ieV9yZWdpb24p\").decode())\n\ntry:\n    # run user code\n    __backend_agg_user_code_fn()\n\n    #reset display function\n    display = __backend_agg_display_orig\n\n    if len(__backend_agg_dfs) > 0:\n        # create a temp view\n        if type(__backend_agg_dfs[0]).__module__ == \"databricks.koalas.frame\":\n            # koalas dataframe\n            __backend_agg_dfs[0].to_spark().createOrReplaceTempView(\"DatabricksView46d2ef2\")\n        elif type(__backend_agg_dfs[0]).__module__ == \"pandas.core.frame\" or isinstance(__backend_agg_dfs[0], list):\n            # pandas dataframe\n            spark.createDataFrame(__backend_agg_dfs[0]).createOrReplaceTempView(\"DatabricksView46d2ef2\")\n        else:\n            __backend_agg_dfs[0].createOrReplaceTempView(\"DatabricksView46d2ef2\")\n        #run backend agg\n        display(spark.sql(\"\"\"WITH q AS (select * from DatabricksView46d2ef2) SELECT `region`,SUM(`TotalSalesAmount`) `column_7380009e120` FROM q GROUP BY `region`\"\"\"))\n    else:\n        displayHTML(\"dataframe no longer exists. If you're using dataframe.display(), use display(dataframe) instead.\")\n\n\nfinally:\n    spark.sql(\"drop view if exists DatabricksView46d2ef2\")\n    display = __backend_agg_display_orig\n    del __backend_agg_display_new\n    del __backend_agg_display_orig\n    del __backend_agg_dfs\n    del __backend_agg_user_code_fn\n\n",
       "commandTitle": "Visualization 1",
       "commandType": "auto",
       "commandVersion": 0,
       "commentThread": [],
       "commentsVisible": false,
       "contentSha256Hex": null,
       "customPlotOptions": {
        "redashChart": [
         {
          "key": "type",
          "value": "CHART"
         },
         {
          "key": "options",
          "value": {
           "alignYAxesAtZero": true,
           "coefficient": 1,
           "columnConfigurationMap": {
            "x": {
             "column": "region",
             "id": "column_7380009e128"
            },
            "y": [
             {
              "column": "TotalSalesAmount",
              "id": "column_7380009e130",
              "transform": "SUM"
             }
            ]
           },
           "dateTimeFormat": "DD/MM/YYYY HH:mm",
           "direction": {
            "type": "counterclockwise"
           },
           "error_y": {
            "type": "data",
            "visible": true
           },
           "globalSeriesType": "pie",
           "isAggregationOn": true,
           "legend": {
            "traceorder": "normal"
           },
           "missingValuesAsZero": false,
           "numberFormat": "0,0.[00000]",
           "percentFormat": "0[.]00%",
           "series": {
            "error_y": {
             "type": "data",
             "visible": true
            },
            "stacking": null
           },
           "seriesOptions": {
            "column_7380009e120": {
             "type": "pie",
             "yAxis": 0
            },
            "column_7380009e130": {
             "type": "pie",
             "yAxis": 0
            }
           },
           "showDataLabels": true,
           "sizemode": "diameter",
           "sortX": true,
           "sortY": true,
           "swappedAxes": false,
           "textFormat": "",
           "useAggregationsUi": true,
           "valuesOptions": {},
           "version": 2,
           "xAxis": {
            "labels": {
             "enabled": true
            },
            "type": "-"
           },
           "yAxis": [
            {
             "type": "-"
            },
            {
             "opposite": true,
             "type": "-"
            }
           ]
          }
         }
        ]
       },
       "datasetPreviewNameToCmdIdMap": {},
       "diffDeletes": [],
       "diffInserts": [],
       "displayType": "redashChart",
       "error": null,
       "errorDetails": null,
       "errorSummary": null,
       "errorTraceType": null,
       "finishTime": 0,
       "globalVars": {},
       "guid": "",
       "height": "auto",
       "hideCommandCode": false,
       "hideCommandResult": false,
       "iPythonMetadata": null,
       "inputWidgets": {},
       "isLockedInExamMode": false,
       "latestUser": "a user",
       "latestUserId": null,
       "listResultMetadata": null,
       "metadata": {},
       "nuid": "ca58b811-7c92-41da-8062-3f0dc13ffcb6",
       "origId": 0,
       "parentHierarchy": [],
       "pivotAggregation": null,
       "pivotColumns": null,
       "position": 117.71875,
       "resultDbfsErrorMessage": null,
       "resultDbfsStatus": "INLINED_IN_TREE",
       "results": null,
       "showCommandTitle": false,
       "startTime": 0,
       "state": "input",
       "streamStates": {},
       "subcommandOptions": {
        "queryPlan": {
         "groups": [
          {
           "column": "region",
           "type": "column"
          }
         ],
         "selects": [
          {
           "column": "region",
           "type": "column"
          },
          {
           "alias": "column_7380009e130",
           "args": [
            {
             "column": "TotalSalesAmount",
             "type": "column"
            }
           ],
           "function": "SUM",
           "type": "function"
          }
         ]
        }
       },
       "submitTime": 0,
       "subtype": "tableResultSubCmd.visualization",
       "tableResultIndex": 0,
       "tableResultSettingsMap": {},
       "useConsistentColors": false,
       "version": "CommandV1",
       "width": "auto",
       "workflows": [],
       "xColumns": null,
       "yColumns": null
      }
     },
     "output_type": "display_data"
    }
   ],
   "source": [
    "# Sales by Region\n",
    "sales_by_region = df_sales.join(df_customers, df_sales.CustomerID == df_customers.customerid) \\\n",
    "    .groupBy(\"region\").agg(\n",
    "        round(sum(\"SalesAmount\"),2).alias(\"TotalSalesAmount\"),\n",
    "        sum(\"Quantity\").alias(\"TotalQuantity\"),\n",
    "        count(\"SaleID\").alias(\"TotalTransactions\")\n",
    "    ).orderBy(\"TotalSalesAmount\", ascending=False)\n",
    "    \n",
    "display(sales_by_region)"
   ]
  },
  {
   "cell_type": "code",
   "execution_count": 0,
   "metadata": {
    "application/vnd.databricks.v1+cell": {
     "cellMetadata": {
      "byteLimit": 2048000,
      "rowLimit": 10000
     },
     "inputWidgets": {},
     "nuid": "5e3d7edf-efdc-42a9-87e8-bdabb5488606",
     "showTitle": false,
     "tableResultSettingsMap": {},
     "title": ""
    }
   },
   "outputs": [
    {
     "output_type": "display_data",
     "data": {
      "text/html": [
       "<style scoped>\n",
       "  .table-result-container {\n",
       "    max-height: 300px;\n",
       "    overflow: auto;\n",
       "  }\n",
       "  table, th, td {\n",
       "    border: 1px solid black;\n",
       "    border-collapse: collapse;\n",
       "  }\n",
       "  th, td {\n",
       "    padding: 5px;\n",
       "  }\n",
       "  th {\n",
       "    text-align: left;\n",
       "  }\n",
       "</style><div class='table-result-container'><table class='table-result'><thead style='background-color: white'><tr><th>gender</th><th>TotalSalesAmount</th><th>TotalQuantity</th><th>TotalTransactions</th></tr></thead><tbody><tr><td>Male</td><td>1.072211625E7</td><td>185578</td><td>7368</td></tr><tr><td>Female</td><td>2785179.27</td><td>51508</td><td>2029</td></tr></tbody></table></div>"
      ]
     },
     "metadata": {
      "application/vnd.databricks.v1+output": {
       "addedWidgets": {},
       "aggData": [],
       "aggError": "",
       "aggOverflow": false,
       "aggSchema": [],
       "aggSeriesLimitReached": false,
       "aggType": "",
       "arguments": {},
       "columnCustomDisplayInfos": {},
       "data": [
        [
         "Male",
         1.072211625E7,
         185578,
         7368
        ],
        [
         "Female",
         2785179.27,
         51508,
         2029
        ]
       ],
       "datasetInfos": [],
       "dbfsResultPath": null,
       "isJsonSchema": true,
       "metadata": {},
       "overflow": false,
       "plotOptions": {
        "customPlotOptions": {},
        "displayType": "table",
        "pivotAggregation": null,
        "pivotColumns": null,
        "xColumns": null,
        "yColumns": null
       },
       "removedWidgets": [],
       "schema": [
        {
         "metadata": "{}",
         "name": "gender",
         "type": "\"string\""
        },
        {
         "metadata": "{}",
         "name": "TotalSalesAmount",
         "type": "\"double\""
        },
        {
         "metadata": "{}",
         "name": "TotalQuantity",
         "type": "\"long\""
        },
        {
         "metadata": "{}",
         "name": "TotalTransactions",
         "type": "\"long\""
        }
       ],
       "type": "table"
      }
     },
     "output_type": "display_data"
    },
    {
     "output_type": "display_data",
     "data": {
      "text/plain": [
       "Databricks visualization. Run in Databricks to view."
      ]
     },
     "metadata": {
      "application/vnd.databricks.v1.subcommand+json": {
       "baseErrorDetails": null,
       "bindings": {},
       "collapsed": false,
       "command": "%python\n__backend_agg_display_orig = display\n__backend_agg_dfs = []\ndef __backend_agg_display_new(df):\n    __backend_agg_df_modules = [\"pandas.core.frame\", \"databricks.koalas.frame\", \"pyspark.sql.dataframe\", \"pyspark.pandas.frame\", \"pyspark.sql.connect.dataframe\"]\n    if (type(df).__module__ in __backend_agg_df_modules and type(df).__name__ == 'DataFrame') or isinstance(df, list):\n        __backend_agg_dfs.append(df)\n\ndisplay = __backend_agg_display_new\n\ndef __backend_agg_user_code_fn():\n    import base64\n    exec(base64.standard_b64decode(\"IyBTYWxlcyBieSBHZW5kZXIKc2FsZXNfYnlfZ2VuZGVyID0gZGZfc2FsZXMuam9pbihkZl9jdXN0b21lcnMsIGRmX3NhbGVzLkN1c3RvbWVySUQgPT0gZGZfY3VzdG9tZXJzLmN1c3RvbWVyaWQpIFwKICAgIC5ncm91cEJ5KCJnZW5kZXIiKS5hZ2coCiAgICAgICAgcm91bmQoc3VtKCJTYWxlc0Ftb3VudCIpLDIpLmFsaWFzKCJUb3RhbFNhbGVzQW1vdW50IiksCiAgICAgICAgc3VtKCJRdWFudGl0eSIpLmFsaWFzKCJUb3RhbFF1YW50aXR5IiksCiAgICAgICAgY291bnQoIlNhbGVJRCIpLmFsaWFzKCJUb3RhbFRyYW5zYWN0aW9ucyIpCiAgICApLm9yZGVyQnkoIlRvdGFsU2FsZXNBbW91bnQiLCBhc2NlbmRpbmc9RmFsc2UpCgpkaXNwbGF5KHNhbGVzX2J5X2dlbmRlcik=\").decode())\n\ntry:\n    # run user code\n    __backend_agg_user_code_fn()\n\n    #reset display function\n    display = __backend_agg_display_orig\n\n    if len(__backend_agg_dfs) > 0:\n        # create a temp view\n        if type(__backend_agg_dfs[0]).__module__ == \"databricks.koalas.frame\":\n            # koalas dataframe\n            __backend_agg_dfs[0].to_spark().createOrReplaceTempView(\"DatabricksViewe6b58f1\")\n        elif type(__backend_agg_dfs[0]).__module__ == \"pandas.core.frame\" or isinstance(__backend_agg_dfs[0], list):\n            # pandas dataframe\n            spark.createDataFrame(__backend_agg_dfs[0]).createOrReplaceTempView(\"DatabricksViewe6b58f1\")\n        else:\n            __backend_agg_dfs[0].createOrReplaceTempView(\"DatabricksViewe6b58f1\")\n        #run backend agg\n        display(spark.sql(\"\"\"WITH q AS (select * from DatabricksViewe6b58f1) SELECT `gender`,SUM(`TotalSalesAmount`) `column_7380009e125`,`TotalSalesAmount` FROM q GROUP BY `TotalSalesAmount`,`gender`\"\"\"))\n    else:\n        displayHTML(\"dataframe no longer exists. If you're using dataframe.display(), use display(dataframe) instead.\")\n\n\nfinally:\n    spark.sql(\"drop view if exists DatabricksViewe6b58f1\")\n    display = __backend_agg_display_orig\n    del __backend_agg_display_new\n    del __backend_agg_display_orig\n    del __backend_agg_dfs\n    del __backend_agg_user_code_fn\n\n",
       "commandTitle": "Visualization 1",
       "commandType": "auto",
       "commandVersion": 0,
       "commentThread": [],
       "commentsVisible": false,
       "contentSha256Hex": null,
       "customPlotOptions": {
        "redashChart": [
         {
          "key": "type",
          "value": "CHART"
         },
         {
          "key": "options",
          "value": {
           "alignYAxesAtZero": true,
           "coefficient": 1,
           "columnConfigurationMap": {
            "series": {
             "column": "TotalSalesAmount",
             "id": "column_7380009e123"
            },
            "x": {
             "column": "gender",
             "id": "column_7380009e122"
            },
            "y": [
             {
              "column": "TotalSalesAmount",
              "id": "column_7380009e125",
              "transform": "SUM"
             }
            ]
           },
           "dateTimeFormat": "DD/MM/YYYY HH:mm",
           "direction": {
            "type": "counterclockwise"
           },
           "error_y": {
            "type": "data",
            "visible": true
           },
           "globalSeriesType": "column",
           "isAggregationOn": true,
           "legend": {
            "traceorder": "normal"
           },
           "missingValuesAsZero": true,
           "numberFormat": "0,0.[00000]",
           "percentFormat": "0[.]00%",
           "series": {
            "error_y": {
             "type": "data",
             "visible": true
            },
            "stacking": null
           },
           "seriesOptions": {
            "column_7380009e125": {
             "type": "column",
             "yAxis": 0
            }
           },
           "showDataLabels": false,
           "sizemode": "diameter",
           "sortX": true,
           "sortY": true,
           "swappedAxes": false,
           "textFormat": "",
           "useAggregationsUi": true,
           "valuesOptions": {},
           "version": 2,
           "xAxis": {
            "labels": {
             "enabled": true
            },
            "type": "-"
           },
           "yAxis": [
            {
             "type": "-"
            },
            {
             "opposite": true,
             "type": "-"
            }
           ]
          }
         }
        ]
       },
       "datasetPreviewNameToCmdIdMap": {},
       "diffDeletes": [],
       "diffInserts": [],
       "displayType": "redashChart",
       "error": null,
       "errorDetails": null,
       "errorSummary": null,
       "errorTraceType": null,
       "finishTime": 0,
       "globalVars": {},
       "guid": "",
       "height": "auto",
       "hideCommandCode": false,
       "hideCommandResult": false,
       "iPythonMetadata": null,
       "inputWidgets": {},
       "isLockedInExamMode": false,
       "latestUser": "a user",
       "latestUserId": null,
       "listResultMetadata": null,
       "metadata": {},
       "nuid": "8cf65167-7d87-44bc-8117-57fb407e5ea4",
       "origId": 0,
       "parentHierarchy": [],
       "pivotAggregation": null,
       "pivotColumns": null,
       "position": 118.71875,
       "resultDbfsErrorMessage": null,
       "resultDbfsStatus": "INLINED_IN_TREE",
       "results": null,
       "showCommandTitle": false,
       "startTime": 0,
       "state": "input",
       "streamStates": {},
       "subcommandOptions": {
        "queryPlan": {
         "groups": [
          {
           "column": "gender",
           "type": "column"
          },
          {
           "column": "TotalSalesAmount",
           "type": "column"
          }
         ],
         "selects": [
          {
           "column": "gender",
           "type": "column"
          },
          {
           "alias": "column_7380009e125",
           "args": [
            {
             "column": "TotalSalesAmount",
             "type": "column"
            }
           ],
           "function": "SUM",
           "type": "function"
          },
          {
           "column": "TotalSalesAmount",
           "type": "column"
          }
         ]
        }
       },
       "submitTime": 0,
       "subtype": "tableResultSubCmd.visualization",
       "tableResultIndex": 0,
       "tableResultSettingsMap": {},
       "useConsistentColors": false,
       "version": "CommandV1",
       "width": "auto",
       "workflows": [],
       "xColumns": null,
       "yColumns": null
      }
     },
     "output_type": "display_data"
    }
   ],
   "source": [
    "# Sales by Gender\n",
    "sales_by_gender = df_sales.join(df_customers, df_sales.CustomerID == df_customers.customerid) \\\n",
    "    .groupBy(\"gender\").agg(\n",
    "        round(sum(\"SalesAmount\"),2).alias(\"TotalSalesAmount\"),\n",
    "        sum(\"Quantity\").alias(\"TotalQuantity\"),\n",
    "        count(\"SaleID\").alias(\"TotalTransactions\")\n",
    "    ).orderBy(\"TotalSalesAmount\", ascending=False)\n",
    "\n",
    "display(sales_by_gender)"
   ]
  },
  {
   "cell_type": "code",
   "execution_count": 0,
   "metadata": {
    "application/vnd.databricks.v1+cell": {
     "cellMetadata": {
      "byteLimit": 2048000,
      "rowLimit": 10000
     },
     "inputWidgets": {},
     "nuid": "80462d8b-9f5f-482b-b6c1-8bbb9d4786cd",
     "showTitle": false,
     "tableResultSettingsMap": {},
     "title": ""
    }
   },
   "outputs": [
    {
     "output_type": "display_data",
     "data": {
      "text/html": [
       "<style scoped>\n",
       "  .table-result-container {\n",
       "    max-height: 300px;\n",
       "    overflow: auto;\n",
       "  }\n",
       "  table, th, td {\n",
       "    border: 1px solid black;\n",
       "    border-collapse: collapse;\n",
       "  }\n",
       "  th, td {\n",
       "    padding: 5px;\n",
       "  }\n",
       "  th {\n",
       "    text-align: left;\n",
       "  }\n",
       "</style><div class='table-result-container'><table class='table-result'><thead style='background-color: white'><tr><th>ProductName</th><th>TotalQuantitySold</th></tr></thead><tbody><tr><td>Drone</td><td>5483</td></tr><tr><td>Chair</td><td>5481</td></tr><tr><td>Board Game</td><td>5395</td></tr><tr><td>Doll</td><td>5360</td></tr><tr><td>Swing</td><td>5352</td></tr><tr><td>Bicycle</td><td>5341</td></tr><tr><td>Cupboard</td><td>5327</td></tr><tr><td>Puzzle</td><td>5277</td></tr><tr><td>Smart Glasses</td><td>5202</td></tr><tr><td>Blender</td><td>5152</td></tr><tr><td>Play-Doh</td><td>5149</td></tr><tr><td>Washing Machine</td><td>4993</td></tr><tr><td>Bed</td><td>4967</td></tr><tr><td>Action Figure</td><td>4965</td></tr><tr><td>Toy Kitchen Set</td><td>4954</td></tr><tr><td>Tablet</td><td>4944</td></tr><tr><td>Toy Car</td><td>4883</td></tr><tr><td>Jigsaw Puzzle</td><td>4865</td></tr><tr><td>Table</td><td>4828</td></tr><tr><td>Educational Game</td><td>4795</td></tr><tr><td>Vacuum Cleaner</td><td>4772</td></tr><tr><td>Laptop</td><td>4726</td></tr><tr><td>Toy Train</td><td>4725</td></tr><tr><td>Camera</td><td>4710</td></tr><tr><td>Keyboard</td><td>4674</td></tr><tr><td>Refrigerator</td><td>4663</td></tr><tr><td>Stuffed Animal</td><td>4661</td></tr><tr><td>Headphones</td><td>4640</td></tr><tr><td>External Hard Drive</td><td>4631</td></tr><tr><td>Kite</td><td>4605</td></tr><tr><td>Building Blocks</td><td>4589</td></tr><tr><td>Monitor</td><td>4585</td></tr><tr><td>RC Car</td><td>4583</td></tr><tr><td>Magic Kit</td><td>4540</td></tr><tr><td>Microwave</td><td>4535</td></tr><tr><td>Smartphone</td><td>4506</td></tr><tr><td>Bluetooth Speaker</td><td>4499</td></tr><tr><td>Projector</td><td>4450</td></tr><tr><td>Marbles</td><td>4407</td></tr><tr><td>Game Console</td><td>4400</td></tr><tr><td>Smartwatch</td><td>4394</td></tr><tr><td>TV</td><td>4391</td></tr><tr><td>Barbie Doll</td><td>4284</td></tr><tr><td>VR Headset</td><td>4276</td></tr><tr><td>Webcam</td><td>4274</td></tr><tr><td>Lego Set</td><td>4243</td></tr><tr><td>Mouse</td><td>4230</td></tr><tr><td>Sofa</td><td>4214</td></tr><tr><td>Printer</td><td>4087</td></tr><tr><td>Smart Home Device</td><td>4079</td></tr></tbody></table></div>"
      ]
     },
     "metadata": {
      "application/vnd.databricks.v1+output": {
       "addedWidgets": {},
       "aggData": [],
       "aggError": "",
       "aggOverflow": false,
       "aggSchema": [],
       "aggSeriesLimitReached": false,
       "aggType": "",
       "arguments": {},
       "columnCustomDisplayInfos": {},
       "data": [
        [
         "Drone",
         5483
        ],
        [
         "Chair",
         5481
        ],
        [
         "Board Game",
         5395
        ],
        [
         "Doll",
         5360
        ],
        [
         "Swing",
         5352
        ],
        [
         "Bicycle",
         5341
        ],
        [
         "Cupboard",
         5327
        ],
        [
         "Puzzle",
         5277
        ],
        [
         "Smart Glasses",
         5202
        ],
        [
         "Blender",
         5152
        ],
        [
         "Play-Doh",
         5149
        ],
        [
         "Washing Machine",
         4993
        ],
        [
         "Bed",
         4967
        ],
        [
         "Action Figure",
         4965
        ],
        [
         "Toy Kitchen Set",
         4954
        ],
        [
         "Tablet",
         4944
        ],
        [
         "Toy Car",
         4883
        ],
        [
         "Jigsaw Puzzle",
         4865
        ],
        [
         "Table",
         4828
        ],
        [
         "Educational Game",
         4795
        ],
        [
         "Vacuum Cleaner",
         4772
        ],
        [
         "Laptop",
         4726
        ],
        [
         "Toy Train",
         4725
        ],
        [
         "Camera",
         4710
        ],
        [
         "Keyboard",
         4674
        ],
        [
         "Refrigerator",
         4663
        ],
        [
         "Stuffed Animal",
         4661
        ],
        [
         "Headphones",
         4640
        ],
        [
         "External Hard Drive",
         4631
        ],
        [
         "Kite",
         4605
        ],
        [
         "Building Blocks",
         4589
        ],
        [
         "Monitor",
         4585
        ],
        [
         "RC Car",
         4583
        ],
        [
         "Magic Kit",
         4540
        ],
        [
         "Microwave",
         4535
        ],
        [
         "Smartphone",
         4506
        ],
        [
         "Bluetooth Speaker",
         4499
        ],
        [
         "Projector",
         4450
        ],
        [
         "Marbles",
         4407
        ],
        [
         "Game Console",
         4400
        ],
        [
         "Smartwatch",
         4394
        ],
        [
         "TV",
         4391
        ],
        [
         "Barbie Doll",
         4284
        ],
        [
         "VR Headset",
         4276
        ],
        [
         "Webcam",
         4274
        ],
        [
         "Lego Set",
         4243
        ],
        [
         "Mouse",
         4230
        ],
        [
         "Sofa",
         4214
        ],
        [
         "Printer",
         4087
        ],
        [
         "Smart Home Device",
         4079
        ]
       ],
       "datasetInfos": [],
       "dbfsResultPath": null,
       "isJsonSchema": true,
       "metadata": {},
       "overflow": false,
       "plotOptions": {
        "customPlotOptions": {},
        "displayType": "table",
        "pivotAggregation": null,
        "pivotColumns": null,
        "xColumns": null,
        "yColumns": null
       },
       "removedWidgets": [],
       "schema": [
        {
         "metadata": "{}",
         "name": "ProductName",
         "type": "\"string\""
        },
        {
         "metadata": "{}",
         "name": "TotalQuantitySold",
         "type": "\"long\""
        }
       ],
       "type": "table"
      }
     },
     "output_type": "display_data"
    }
   ],
   "source": [
    "# Top Selling Products by Quantity with Product Name\n",
    "top_products_by_quantity = df_sales.groupBy(\"ProductID\").agg(\n",
    "    sum(\"Quantity\").alias(\"TotalQuantitySold\")\n",
    ").join(df_products, \"ProductID\").select(\"ProductName\", \"TotalQuantitySold\").orderBy(\"TotalQuantitySold\", ascending=False)\n",
    "\n",
    "display(top_products_by_quantity)"
   ]
  },
  {
   "cell_type": "code",
   "execution_count": 0,
   "metadata": {
    "application/vnd.databricks.v1+cell": {
     "cellMetadata": {
      "byteLimit": 2048000,
      "rowLimit": 10000
     },
     "inputWidgets": {},
     "nuid": "b2549b02-873d-47a0-8690-6bd94a050d08",
     "showTitle": false,
     "tableResultSettingsMap": {},
     "title": ""
    }
   },
   "outputs": [],
   "source": [
    "# product region-wise, category-wise monthly sales\n",
    "\n",
    "# Join df_sales with df_customers to get gender and region\n",
    "df_sales_customers = df_sales.join(df_customers, df_sales.CustomerID == df_customers.customerid, \"inner\") \\\n",
    "                             .select(\"SaleID\", \"ProductID\", df_sales.CustomerID, \"gender\", \"region\", \"Quantity\", \"SalesAmount\", \"Timestamp\")\n",
    "\n",
    "# Join with df_products to get product category\n",
    "df_full_data = df_sales_customers.join(df_products, df_sales_customers.ProductID == df_products.ProductID, \"inner\") \\\n",
    "                                 .select(\"SaleID\", df_sales_customers.ProductID, \"CustomerID\", \"gender\", \"region\", \"Quantity\", \"SalesAmount\", \"Category\", \"Timestamp\")\n",
    "\n",
    "# Extract Year and Month from Timestamp column\n",
    "df_full_data_with_date = df_full_data.withColumn(\"Year\", year(\"Timestamp\")) \\\n",
    "                                     .withColumn(\"Month\", month(\"Timestamp\"))\n",
    "\n",
    "\n"
   ]
  },
  {
   "cell_type": "markdown",
   "metadata": {
    "application/vnd.databricks.v1+cell": {
     "cellMetadata": {},
     "inputWidgets": {},
     "nuid": "9d5afa45-1a81-47ee-bfa6-999c0d9dc7ce",
     "showTitle": false,
     "tableResultSettingsMap": {},
     "title": ""
    }
   },
   "source": [
    "### Region, Category, Year, and Month, and calculate total sales and quantity"
   ]
  },
  {
   "cell_type": "code",
   "execution_count": 0,
   "metadata": {
    "application/vnd.databricks.v1+cell": {
     "cellMetadata": {
      "byteLimit": 2048000,
      "rowLimit": 10000
     },
     "inputWidgets": {},
     "nuid": "98ca55a5-6e11-430a-858c-365bf19fd1c9",
     "showTitle": false,
     "tableResultSettingsMap": {},
     "title": ""
    }
   },
   "outputs": [
    {
     "output_type": "display_data",
     "data": {
      "text/html": [
       "<style scoped>\n",
       "  .table-result-container {\n",
       "    max-height: 300px;\n",
       "    overflow: auto;\n",
       "  }\n",
       "  table, th, td {\n",
       "    border: 1px solid black;\n",
       "    border-collapse: collapse;\n",
       "  }\n",
       "  th, td {\n",
       "    padding: 5px;\n",
       "  }\n",
       "  th {\n",
       "    text-align: left;\n",
       "  }\n",
       "</style><div class='table-result-container'><table class='table-result'><thead style='background-color: white'><tr><th>region</th><th>Category</th><th>Year</th><th>Month</th><th>TotalSales</th><th>TotalQuantity</th></tr></thead><tbody><tr><td>California</td><td>Electronics</td><td>2024</td><td>6</td><td>150130.55</td><td>3749</td></tr><tr><td>California</td><td>Furniture</td><td>2024</td><td>6</td><td>32680.9</td><td>961</td></tr><tr><td>California</td><td>Home Appliances</td><td>2024</td><td>6</td><td>26960.34</td><td>805</td></tr><tr><td>California</td><td>Toys</td><td>2024</td><td>6</td><td>148703.34</td><td>3204</td></tr><tr><td>New York</td><td>Electronics</td><td>2024</td><td>6</td><td>332730.52</td><td>5590</td></tr><tr><td>New York</td><td>Furniture</td><td>2024</td><td>6</td><td>142299.28</td><td>2091</td></tr><tr><td>New York</td><td>Home Appliances</td><td>2024</td><td>6</td><td>60756.7</td><td>1501</td></tr><tr><td>New York</td><td>Toys</td><td>2024</td><td>6</td><td>334404.03</td><td>5466</td></tr><tr><td>Ohio</td><td>Electronics</td><td>2024</td><td>6</td><td>92304.06</td><td>2303</td></tr><tr><td>Ohio</td><td>Furniture</td><td>2024</td><td>6</td><td>91638.54</td><td>688</td></tr><tr><td>Ohio</td><td>Home Appliances</td><td>2024</td><td>6</td><td>24798.34</td><td>779</td></tr><tr><td>Ohio</td><td>Toys</td><td>2024</td><td>6</td><td>106811.19</td><td>2471</td></tr><tr><td>Texas</td><td>Electronics</td><td>2024</td><td>6</td><td>135576.96</td><td>2565</td></tr><tr><td>Texas</td><td>Furniture</td><td>2024</td><td>6</td><td>28427.86</td><td>924</td></tr><tr><td>Texas</td><td>Home Appliances</td><td>2024</td><td>6</td><td>35348.87</td><td>847</td></tr><tr><td>Texas</td><td>Toys</td><td>2024</td><td>6</td><td>183884.59</td><td>3052</td></tr><tr><td>Unknown</td><td>Electronics</td><td>2024</td><td>6</td><td>48062.74</td><td>1343</td></tr><tr><td>Unknown</td><td>Furniture</td><td>2024</td><td>6</td><td>2001.8</td><td>114</td></tr><tr><td>Unknown</td><td>Home Appliances</td><td>2024</td><td>6</td><td>4504.86</td><td>132</td></tr><tr><td>Unknown</td><td>Toys</td><td>2024</td><td>6</td><td>50884.67</td><td>1260</td></tr><tr><td>California</td><td>Electronics</td><td>2024</td><td>7</td><td>214715.55</td><td>3158</td></tr><tr><td>California</td><td>Furniture</td><td>2024</td><td>7</td><td>28703.03</td><td>766</td></tr><tr><td>California</td><td>Home Appliances</td><td>2024</td><td>7</td><td>30055.15</td><td>618</td></tr><tr><td>California</td><td>Toys</td><td>2024</td><td>7</td><td>152042.17</td><td>3469</td></tr><tr><td>New York</td><td>Electronics</td><td>2024</td><td>7</td><td>231423.83</td><td>5849</td></tr><tr><td>New York</td><td>Furniture</td><td>2024</td><td>7</td><td>59374.42</td><td>1613</td></tr><tr><td>New York</td><td>Home Appliances</td><td>2024</td><td>7</td><td>57041.8</td><td>1571</td></tr><tr><td>New York</td><td>Toys</td><td>2024</td><td>7</td><td>462919.21</td><td>6059</td></tr><tr><td>Ohio</td><td>Electronics</td><td>2024</td><td>7</td><td>110530.35</td><td>2557</td></tr><tr><td>Ohio</td><td>Furniture</td><td>2024</td><td>7</td><td>35057.39</td><td>737</td></tr><tr><td>Ohio</td><td>Home Appliances</td><td>2024</td><td>7</td><td>20865.57</td><td>627</td></tr><tr><td>Ohio</td><td>Toys</td><td>2024</td><td>7</td><td>264290.38</td><td>3641</td></tr><tr><td>Texas</td><td>Electronics</td><td>2024</td><td>7</td><td>112608.85</td><td>2313</td></tr><tr><td>Texas</td><td>Furniture</td><td>2024</td><td>7</td><td>83335.49</td><td>830</td></tr><tr><td>Texas</td><td>Home Appliances</td><td>2024</td><td>7</td><td>42794.51</td><td>715</td></tr><tr><td>Texas</td><td>Toys</td><td>2024</td><td>7</td><td>111279.69</td><td>3288</td></tr><tr><td>Unknown</td><td>Electronics</td><td>2024</td><td>7</td><td>53111.98</td><td>1103</td></tr><tr><td>Unknown</td><td>Furniture</td><td>2024</td><td>7</td><td>13330.29</td><td>384</td></tr><tr><td>Unknown</td><td>Home Appliances</td><td>2024</td><td>7</td><td>12260.51</td><td>290</td></tr><tr><td>Unknown</td><td>Toys</td><td>2024</td><td>7</td><td>101817.69</td><td>1189</td></tr><tr><td>California</td><td>Electronics</td><td>2024</td><td>8</td><td>299540.63</td><td>3036</td></tr><tr><td>California</td><td>Furniture</td><td>2024</td><td>8</td><td>110052.68</td><td>963</td></tr><tr><td>California</td><td>Home Appliances</td><td>2024</td><td>8</td><td>35285.95</td><td>800</td></tr><tr><td>California</td><td>Toys</td><td>2024</td><td>8</td><td>185164.73</td><td>3275</td></tr><tr><td>New York</td><td>Electronics</td><td>2024</td><td>8</td><td>405272.98</td><td>6967</td></tr><tr><td>New York</td><td>Furniture</td><td>2024</td><td>8</td><td>58288.91</td><td>1550</td></tr><tr><td>New York</td><td>Home Appliances</td><td>2024</td><td>8</td><td>69152.62</td><td>1730</td></tr><tr><td>New York</td><td>Toys</td><td>2024</td><td>8</td><td>484164.73</td><td>5684</td></tr><tr><td>Ohio</td><td>Electronics</td><td>2024</td><td>8</td><td>127525.38</td><td>2899</td></tr><tr><td>Ohio</td><td>Furniture</td><td>2024</td><td>8</td><td>88420.69</td><td>915</td></tr><tr><td>Ohio</td><td>Home Appliances</td><td>2024</td><td>8</td><td>34008.96</td><td>745</td></tr><tr><td>Ohio</td><td>Toys</td><td>2024</td><td>8</td><td>198657.71</td><td>3400</td></tr><tr><td>Texas</td><td>Electronics</td><td>2024</td><td>8</td><td>94484.08</td><td>2693</td></tr><tr><td>Texas</td><td>Furniture</td><td>2024</td><td>8</td><td>110753.26</td><td>606</td></tr><tr><td>Texas</td><td>Home Appliances</td><td>2024</td><td>8</td><td>31139.61</td><td>750</td></tr><tr><td>Texas</td><td>Toys</td><td>2024</td><td>8</td><td>232206.42</td><td>2744</td></tr><tr><td>Unknown</td><td>Electronics</td><td>2024</td><td>8</td><td>44792.92</td><td>1139</td></tr><tr><td>Unknown</td><td>Furniture</td><td>2024</td><td>8</td><td>11029.36</td><td>240</td></tr><tr><td>Unknown</td><td>Home Appliances</td><td>2024</td><td>8</td><td>9657.85</td><td>184</td></tr><tr><td>Unknown</td><td>Toys</td><td>2024</td><td>8</td><td>38638.65</td><td>889</td></tr><tr><td>California</td><td>Electronics</td><td>2024</td><td>9</td><td>136517.08</td><td>3303</td></tr><tr><td>California</td><td>Furniture</td><td>2024</td><td>9</td><td>26659.46</td><td>591</td></tr><tr><td>California</td><td>Home Appliances</td><td>2024</td><td>9</td><td>21862.66</td><td>574</td></tr><tr><td>California</td><td>Toys</td><td>2024</td><td>9</td><td>111980.91</td><td>2624</td></tr><tr><td>New York</td><td>Electronics</td><td>2024</td><td>9</td><td>493267.93</td><td>5826</td></tr><tr><td>New York</td><td>Furniture</td><td>2024</td><td>9</td><td>51972.37</td><td>1243</td></tr><tr><td>New York</td><td>Home Appliances</td><td>2024</td><td>9</td><td>59322.11</td><td>1809</td></tr><tr><td>New York</td><td>Toys</td><td>2024</td><td>9</td><td>284073.71</td><td>6418</td></tr><tr><td>Ohio</td><td>Electronics</td><td>2024</td><td>9</td><td>186430.9</td><td>3040</td></tr><tr><td>Ohio</td><td>Furniture</td><td>2024</td><td>9</td><td>42613.73</td><td>1100</td></tr><tr><td>Ohio</td><td>Home Appliances</td><td>2024</td><td>9</td><td>25228.78</td><td>870</td></tr><tr><td>Ohio</td><td>Toys</td><td>2024</td><td>9</td><td>118323.06</td><td>2323</td></tr><tr><td>Texas</td><td>Electronics</td><td>2024</td><td>9</td><td>177080.39</td><td>2978</td></tr><tr><td>Texas</td><td>Furniture</td><td>2024</td><td>9</td><td>26182.81</td><td>877</td></tr><tr><td>Texas</td><td>Home Appliances</td><td>2024</td><td>9</td><td>33207.39</td><td>784</td></tr><tr><td>Texas</td><td>Toys</td><td>2024</td><td>9</td><td>122171.86</td><td>2958</td></tr><tr><td>Unknown</td><td>Electronics</td><td>2024</td><td>9</td><td>31920.22</td><td>908</td></tr><tr><td>Unknown</td><td>Furniture</td><td>2024</td><td>9</td><td>4538.86</td><td>122</td></tr><tr><td>Unknown</td><td>Home Appliances</td><td>2024</td><td>9</td><td>11509.26</td><td>267</td></tr><tr><td>Unknown</td><td>Toys</td><td>2024</td><td>9</td><td>119045.9</td><td>1104</td></tr><tr><td>California</td><td>Electronics</td><td>2024</td><td>10</td><td>197867.97</td><td>2631</td></tr><tr><td>California</td><td>Furniture</td><td>2024</td><td>10</td><td>27960.06</td><td>790</td></tr><tr><td>California</td><td>Home Appliances</td><td>2024</td><td>10</td><td>23967.96</td><td>699</td></tr><tr><td>California</td><td>Toys</td><td>2024</td><td>10</td><td>92254.46</td><td>2528</td></tr><tr><td>New York</td><td>Electronics</td><td>2024</td><td>10</td><td>328874.59</td><td>5484</td></tr><tr><td>New York</td><td>Furniture</td><td>2024</td><td>10</td><td>65343.64</td><td>1519</td></tr><tr><td>New York</td><td>Home Appliances</td><td>2024</td><td>10</td><td>77785.2</td><td>1739</td></tr><tr><td>New York</td><td>Toys</td><td>2024</td><td>10</td><td>244449.25</td><td>6309</td></tr><tr><td>Ohio</td><td>Electronics</td><td>2024</td><td>10</td><td>109573.23</td><td>2626</td></tr><tr><td>Ohio</td><td>Furniture</td><td>2024</td><td>10</td><td>31672.7</td><td>656</td></tr><tr><td>Ohio</td><td>Home Appliances</td><td>2024</td><td>10</td><td>70061.33</td><td>917</td></tr><tr><td>Ohio</td><td>Toys</td><td>2024</td><td>10</td><td>196883.75</td><td>3404</td></tr><tr><td>Texas</td><td>Electronics</td><td>2024</td><td>10</td><td>136424.94</td><td>2954</td></tr><tr><td>Texas</td><td>Furniture</td><td>2024</td><td>10</td><td>37080.95</td><td>820</td></tr><tr><td>Texas</td><td>Home Appliances</td><td>2024</td><td>10</td><td>100365.57</td><td>772</td></tr><tr><td>Texas</td><td>Toys</td><td>2024</td><td>10</td><td>430215.85</td><td>3582</td></tr><tr><td>Unknown</td><td>Electronics</td><td>2024</td><td>10</td><td>45305.12</td><td>1121</td></tr><tr><td>Unknown</td><td>Furniture</td><td>2024</td><td>10</td><td>14867.56</td><td>384</td></tr><tr><td>Unknown</td><td>Home Appliances</td><td>2024</td><td>10</td><td>14612.68</td><td>391</td></tr><tr><td>Unknown</td><td>Toys</td><td>2024</td><td>10</td><td>33425.38</td><td>1034</td></tr><tr><td>California</td><td>Electronics</td><td>2024</td><td>11</td><td>99846.15</td><td>2604</td></tr><tr><td>California</td><td>Furniture</td><td>2024</td><td>11</td><td>87511.68</td><td>622</td></tr><tr><td>California</td><td>Home Appliances</td><td>2024</td><td>11</td><td>23928.06</td><td>542</td></tr><tr><td>California</td><td>Toys</td><td>2024</td><td>11</td><td>119591.1</td><td>3101</td></tr><tr><td>New York</td><td>Electronics</td><td>2024</td><td>11</td><td>244938.84</td><td>5332</td></tr><tr><td>New York</td><td>Furniture</td><td>2024</td><td>11</td><td>111150.37</td><td>1281</td></tr><tr><td>New York</td><td>Home Appliances</td><td>2024</td><td>11</td><td>58012.71</td><td>1276</td></tr><tr><td>New York</td><td>Toys</td><td>2024</td><td>11</td><td>469448.74</td><td>5678</td></tr><tr><td>Ohio</td><td>Electronics</td><td>2024</td><td>11</td><td>82462.09</td><td>1873</td></tr><tr><td>Ohio</td><td>Furniture</td><td>2024</td><td>11</td><td>23835.08</td><td>578</td></tr><tr><td>Ohio</td><td>Home Appliances</td><td>2024</td><td>11</td><td>100197.14</td><td>630</td></tr><tr><td>Ohio</td><td>Toys</td><td>2024</td><td>11</td><td>207446.0</td><td>2546</td></tr><tr><td>Texas</td><td>Electronics</td><td>2024</td><td>11</td><td>140775.24</td><td>2503</td></tr><tr><td>Texas</td><td>Furniture</td><td>2024</td><td>11</td><td>22455.57</td><td>684</td></tr><tr><td>Texas</td><td>Home Appliances</td><td>2024</td><td>11</td><td>25235.91</td><td>527</td></tr><tr><td>Texas</td><td>Toys</td><td>2024</td><td>11</td><td>180826.69</td><td>3523</td></tr><tr><td>Unknown</td><td>Electronics</td><td>2024</td><td>11</td><td>135119.0</td><td>734</td></tr><tr><td>Unknown</td><td>Furniture</td><td>2024</td><td>11</td><td>7408.78</td><td>168</td></tr><tr><td>Unknown</td><td>Home Appliances</td><td>2024</td><td>11</td><td>70275.61</td><td>224</td></tr><tr><td>Unknown</td><td>Toys</td><td>2024</td><td>11</td><td>35223.06</td><td>750</td></tr></tbody></table></div>"
      ]
     },
     "metadata": {
      "application/vnd.databricks.v1+output": {
       "addedWidgets": {},
       "aggData": [],
       "aggError": "",
       "aggOverflow": false,
       "aggSchema": [],
       "aggSeriesLimitReached": false,
       "aggType": "",
       "arguments": {},
       "columnCustomDisplayInfos": {},
       "data": [
        [
         "California",
         "Electronics",
         2024,
         6,
         150130.55,
         3749
        ],
        [
         "California",
         "Furniture",
         2024,
         6,
         32680.9,
         961
        ],
        [
         "California",
         "Home Appliances",
         2024,
         6,
         26960.34,
         805
        ],
        [
         "California",
         "Toys",
         2024,
         6,
         148703.34,
         3204
        ],
        [
         "New York",
         "Electronics",
         2024,
         6,
         332730.52,
         5590
        ],
        [
         "New York",
         "Furniture",
         2024,
         6,
         142299.28,
         2091
        ],
        [
         "New York",
         "Home Appliances",
         2024,
         6,
         60756.7,
         1501
        ],
        [
         "New York",
         "Toys",
         2024,
         6,
         334404.03,
         5466
        ],
        [
         "Ohio",
         "Electronics",
         2024,
         6,
         92304.06,
         2303
        ],
        [
         "Ohio",
         "Furniture",
         2024,
         6,
         91638.54,
         688
        ],
        [
         "Ohio",
         "Home Appliances",
         2024,
         6,
         24798.34,
         779
        ],
        [
         "Ohio",
         "Toys",
         2024,
         6,
         106811.19,
         2471
        ],
        [
         "Texas",
         "Electronics",
         2024,
         6,
         135576.96,
         2565
        ],
        [
         "Texas",
         "Furniture",
         2024,
         6,
         28427.86,
         924
        ],
        [
         "Texas",
         "Home Appliances",
         2024,
         6,
         35348.87,
         847
        ],
        [
         "Texas",
         "Toys",
         2024,
         6,
         183884.59,
         3052
        ],
        [
         "Unknown",
         "Electronics",
         2024,
         6,
         48062.74,
         1343
        ],
        [
         "Unknown",
         "Furniture",
         2024,
         6,
         2001.8,
         114
        ],
        [
         "Unknown",
         "Home Appliances",
         2024,
         6,
         4504.86,
         132
        ],
        [
         "Unknown",
         "Toys",
         2024,
         6,
         50884.67,
         1260
        ],
        [
         "California",
         "Electronics",
         2024,
         7,
         214715.55,
         3158
        ],
        [
         "California",
         "Furniture",
         2024,
         7,
         28703.03,
         766
        ],
        [
         "California",
         "Home Appliances",
         2024,
         7,
         30055.15,
         618
        ],
        [
         "California",
         "Toys",
         2024,
         7,
         152042.17,
         3469
        ],
        [
         "New York",
         "Electronics",
         2024,
         7,
         231423.83,
         5849
        ],
        [
         "New York",
         "Furniture",
         2024,
         7,
         59374.42,
         1613
        ],
        [
         "New York",
         "Home Appliances",
         2024,
         7,
         57041.8,
         1571
        ],
        [
         "New York",
         "Toys",
         2024,
         7,
         462919.21,
         6059
        ],
        [
         "Ohio",
         "Electronics",
         2024,
         7,
         110530.35,
         2557
        ],
        [
         "Ohio",
         "Furniture",
         2024,
         7,
         35057.39,
         737
        ],
        [
         "Ohio",
         "Home Appliances",
         2024,
         7,
         20865.57,
         627
        ],
        [
         "Ohio",
         "Toys",
         2024,
         7,
         264290.38,
         3641
        ],
        [
         "Texas",
         "Electronics",
         2024,
         7,
         112608.85,
         2313
        ],
        [
         "Texas",
         "Furniture",
         2024,
         7,
         83335.49,
         830
        ],
        [
         "Texas",
         "Home Appliances",
         2024,
         7,
         42794.51,
         715
        ],
        [
         "Texas",
         "Toys",
         2024,
         7,
         111279.69,
         3288
        ],
        [
         "Unknown",
         "Electronics",
         2024,
         7,
         53111.98,
         1103
        ],
        [
         "Unknown",
         "Furniture",
         2024,
         7,
         13330.29,
         384
        ],
        [
         "Unknown",
         "Home Appliances",
         2024,
         7,
         12260.51,
         290
        ],
        [
         "Unknown",
         "Toys",
         2024,
         7,
         101817.69,
         1189
        ],
        [
         "California",
         "Electronics",
         2024,
         8,
         299540.63,
         3036
        ],
        [
         "California",
         "Furniture",
         2024,
         8,
         110052.68,
         963
        ],
        [
         "California",
         "Home Appliances",
         2024,
         8,
         35285.95,
         800
        ],
        [
         "California",
         "Toys",
         2024,
         8,
         185164.73,
         3275
        ],
        [
         "New York",
         "Electronics",
         2024,
         8,
         405272.98,
         6967
        ],
        [
         "New York",
         "Furniture",
         2024,
         8,
         58288.91,
         1550
        ],
        [
         "New York",
         "Home Appliances",
         2024,
         8,
         69152.62,
         1730
        ],
        [
         "New York",
         "Toys",
         2024,
         8,
         484164.73,
         5684
        ],
        [
         "Ohio",
         "Electronics",
         2024,
         8,
         127525.38,
         2899
        ],
        [
         "Ohio",
         "Furniture",
         2024,
         8,
         88420.69,
         915
        ],
        [
         "Ohio",
         "Home Appliances",
         2024,
         8,
         34008.96,
         745
        ],
        [
         "Ohio",
         "Toys",
         2024,
         8,
         198657.71,
         3400
        ],
        [
         "Texas",
         "Electronics",
         2024,
         8,
         94484.08,
         2693
        ],
        [
         "Texas",
         "Furniture",
         2024,
         8,
         110753.26,
         606
        ],
        [
         "Texas",
         "Home Appliances",
         2024,
         8,
         31139.61,
         750
        ],
        [
         "Texas",
         "Toys",
         2024,
         8,
         232206.42,
         2744
        ],
        [
         "Unknown",
         "Electronics",
         2024,
         8,
         44792.92,
         1139
        ],
        [
         "Unknown",
         "Furniture",
         2024,
         8,
         11029.36,
         240
        ],
        [
         "Unknown",
         "Home Appliances",
         2024,
         8,
         9657.85,
         184
        ],
        [
         "Unknown",
         "Toys",
         2024,
         8,
         38638.65,
         889
        ],
        [
         "California",
         "Electronics",
         2024,
         9,
         136517.08,
         3303
        ],
        [
         "California",
         "Furniture",
         2024,
         9,
         26659.46,
         591
        ],
        [
         "California",
         "Home Appliances",
         2024,
         9,
         21862.66,
         574
        ],
        [
         "California",
         "Toys",
         2024,
         9,
         111980.91,
         2624
        ],
        [
         "New York",
         "Electronics",
         2024,
         9,
         493267.93,
         5826
        ],
        [
         "New York",
         "Furniture",
         2024,
         9,
         51972.37,
         1243
        ],
        [
         "New York",
         "Home Appliances",
         2024,
         9,
         59322.11,
         1809
        ],
        [
         "New York",
         "Toys",
         2024,
         9,
         284073.71,
         6418
        ],
        [
         "Ohio",
         "Electronics",
         2024,
         9,
         186430.9,
         3040
        ],
        [
         "Ohio",
         "Furniture",
         2024,
         9,
         42613.73,
         1100
        ],
        [
         "Ohio",
         "Home Appliances",
         2024,
         9,
         25228.78,
         870
        ],
        [
         "Ohio",
         "Toys",
         2024,
         9,
         118323.06,
         2323
        ],
        [
         "Texas",
         "Electronics",
         2024,
         9,
         177080.39,
         2978
        ],
        [
         "Texas",
         "Furniture",
         2024,
         9,
         26182.81,
         877
        ],
        [
         "Texas",
         "Home Appliances",
         2024,
         9,
         33207.39,
         784
        ],
        [
         "Texas",
         "Toys",
         2024,
         9,
         122171.86,
         2958
        ],
        [
         "Unknown",
         "Electronics",
         2024,
         9,
         31920.22,
         908
        ],
        [
         "Unknown",
         "Furniture",
         2024,
         9,
         4538.86,
         122
        ],
        [
         "Unknown",
         "Home Appliances",
         2024,
         9,
         11509.26,
         267
        ],
        [
         "Unknown",
         "Toys",
         2024,
         9,
         119045.9,
         1104
        ],
        [
         "California",
         "Electronics",
         2024,
         10,
         197867.97,
         2631
        ],
        [
         "California",
         "Furniture",
         2024,
         10,
         27960.06,
         790
        ],
        [
         "California",
         "Home Appliances",
         2024,
         10,
         23967.96,
         699
        ],
        [
         "California",
         "Toys",
         2024,
         10,
         92254.46,
         2528
        ],
        [
         "New York",
         "Electronics",
         2024,
         10,
         328874.59,
         5484
        ],
        [
         "New York",
         "Furniture",
         2024,
         10,
         65343.64,
         1519
        ],
        [
         "New York",
         "Home Appliances",
         2024,
         10,
         77785.2,
         1739
        ],
        [
         "New York",
         "Toys",
         2024,
         10,
         244449.25,
         6309
        ],
        [
         "Ohio",
         "Electronics",
         2024,
         10,
         109573.23,
         2626
        ],
        [
         "Ohio",
         "Furniture",
         2024,
         10,
         31672.7,
         656
        ],
        [
         "Ohio",
         "Home Appliances",
         2024,
         10,
         70061.33,
         917
        ],
        [
         "Ohio",
         "Toys",
         2024,
         10,
         196883.75,
         3404
        ],
        [
         "Texas",
         "Electronics",
         2024,
         10,
         136424.94,
         2954
        ],
        [
         "Texas",
         "Furniture",
         2024,
         10,
         37080.95,
         820
        ],
        [
         "Texas",
         "Home Appliances",
         2024,
         10,
         100365.57,
         772
        ],
        [
         "Texas",
         "Toys",
         2024,
         10,
         430215.85,
         3582
        ],
        [
         "Unknown",
         "Electronics",
         2024,
         10,
         45305.12,
         1121
        ],
        [
         "Unknown",
         "Furniture",
         2024,
         10,
         14867.56,
         384
        ],
        [
         "Unknown",
         "Home Appliances",
         2024,
         10,
         14612.68,
         391
        ],
        [
         "Unknown",
         "Toys",
         2024,
         10,
         33425.38,
         1034
        ],
        [
         "California",
         "Electronics",
         2024,
         11,
         99846.15,
         2604
        ],
        [
         "California",
         "Furniture",
         2024,
         11,
         87511.68,
         622
        ],
        [
         "California",
         "Home Appliances",
         2024,
         11,
         23928.06,
         542
        ],
        [
         "California",
         "Toys",
         2024,
         11,
         119591.1,
         3101
        ],
        [
         "New York",
         "Electronics",
         2024,
         11,
         244938.84,
         5332
        ],
        [
         "New York",
         "Furniture",
         2024,
         11,
         111150.37,
         1281
        ],
        [
         "New York",
         "Home Appliances",
         2024,
         11,
         58012.71,
         1276
        ],
        [
         "New York",
         "Toys",
         2024,
         11,
         469448.74,
         5678
        ],
        [
         "Ohio",
         "Electronics",
         2024,
         11,
         82462.09,
         1873
        ],
        [
         "Ohio",
         "Furniture",
         2024,
         11,
         23835.08,
         578
        ],
        [
         "Ohio",
         "Home Appliances",
         2024,
         11,
         100197.14,
         630
        ],
        [
         "Ohio",
         "Toys",
         2024,
         11,
         207446.0,
         2546
        ],
        [
         "Texas",
         "Electronics",
         2024,
         11,
         140775.24,
         2503
        ],
        [
         "Texas",
         "Furniture",
         2024,
         11,
         22455.57,
         684
        ],
        [
         "Texas",
         "Home Appliances",
         2024,
         11,
         25235.91,
         527
        ],
        [
         "Texas",
         "Toys",
         2024,
         11,
         180826.69,
         3523
        ],
        [
         "Unknown",
         "Electronics",
         2024,
         11,
         135119.0,
         734
        ],
        [
         "Unknown",
         "Furniture",
         2024,
         11,
         7408.78,
         168
        ],
        [
         "Unknown",
         "Home Appliances",
         2024,
         11,
         70275.61,
         224
        ],
        [
         "Unknown",
         "Toys",
         2024,
         11,
         35223.06,
         750
        ]
       ],
       "datasetInfos": [],
       "dbfsResultPath": null,
       "isJsonSchema": true,
       "metadata": {},
       "overflow": false,
       "plotOptions": {
        "customPlotOptions": {},
        "displayType": "table",
        "pivotAggregation": null,
        "pivotColumns": null,
        "xColumns": null,
        "yColumns": null
       },
       "removedWidgets": [],
       "schema": [
        {
         "metadata": "{}",
         "name": "region",
         "type": "\"string\""
        },
        {
         "metadata": "{}",
         "name": "Category",
         "type": "\"string\""
        },
        {
         "metadata": "{}",
         "name": "Year",
         "type": "\"integer\""
        },
        {
         "metadata": "{}",
         "name": "Month",
         "type": "\"integer\""
        },
        {
         "metadata": "{}",
         "name": "TotalSales",
         "type": "\"double\""
        },
        {
         "metadata": "{}",
         "name": "TotalQuantity",
         "type": "\"long\""
        }
       ],
       "type": "table"
      }
     },
     "output_type": "display_data"
    }
   ],
   "source": [
    "# Group by Region, Category, Year, and Month, and calculate total sales and quantity\n",
    "df_monthly_sales_region_category = df_full_data_with_date.groupBy(\"region\", \"Category\", \"Year\", \"Month\").agg(\n",
    "    round(sum(\"SalesAmount\"), 2).alias(\"TotalSales\"),\n",
    "    sum(\"Quantity\").alias(\"TotalQuantity\")\n",
    ").orderBy(\"Year\", \"Month\", \"region\", \"Category\")\n",
    "\n",
    "# Display the results\n",
    "display(df_monthly_sales_region_category)"
   ]
  }
 ],
 "metadata": {
  "application/vnd.databricks.v1+notebook": {
   "computePreferences": null,
   "dashboards": [],
   "environmentMetadata": {
    "base_environment": "",
    "client": "1"
   },
   "language": "python",
   "notebookMetadata": {
    "pythonIndentUnit": 4
   },
   "notebookName": "Process Data",
   "widgets": {}
  },
  "language_info": {
   "name": "python"
  }
 },
 "nbformat": 4,
 "nbformat_minor": 0
}